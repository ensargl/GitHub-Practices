{
 "cells": [
  {
   "cell_type": "markdown",
   "id": "306913fc-52b7-42b7-8000-e5699efa4fec",
   "metadata": {},
   "source": [
    "**Soru-1 :** \n",
    "    \n",
    "    Bir NumPy dizisi oluşturun ve elemanlarını ekrana yazdırın."
   ]
  },
  {
   "cell_type": "code",
   "execution_count": 7,
   "id": "c43f29d4-63a6-442b-a061-cdb374c8f74e",
   "metadata": {},
   "outputs": [],
   "source": [
    "import numpy as np"
   ]
  },
  {
   "cell_type": "code",
   "execution_count": 9,
   "id": "b32d3a84-75d3-49f3-9b3f-d8e19658eb75",
   "metadata": {},
   "outputs": [],
   "source": [
    "nump_arr = np.array([0.0,1.0,2,3,4,5])"
   ]
  },
  {
   "cell_type": "code",
   "execution_count": 11,
   "id": "53dac784-9154-478f-bad1-163fc1f727cb",
   "metadata": {},
   "outputs": [
    {
     "data": {
      "text/plain": [
       "array([0., 1., 2., 3., 4., 5.])"
      ]
     },
     "execution_count": 11,
     "metadata": {},
     "output_type": "execute_result"
    }
   ],
   "source": [
    "nump_arr"
   ]
  },
  {
   "cell_type": "code",
   "execution_count": 13,
   "id": "80336025-f78d-4815-a96c-4d4f0c38b7e7",
   "metadata": {},
   "outputs": [
    {
     "data": {
      "text/plain": [
       "(6,)"
      ]
     },
     "execution_count": 13,
     "metadata": {},
     "output_type": "execute_result"
    }
   ],
   "source": [
    "nump_arr.shape"
   ]
  },
  {
   "cell_type": "code",
   "execution_count": null,
   "id": "752b6f0f-7795-4414-bdd9-dbcd5941ee9f",
   "metadata": {},
   "outputs": [],
   "source": []
  },
  {
   "cell_type": "markdown",
   "id": "8b2aacd9-0356-4690-a522-5e4c150d1a3b",
   "metadata": {},
   "source": [
    "**Soru-2 :** \n",
    "\n",
    "    Bir dizi oluşturun ve veri tipini kontrol edin.\n"
   ]
  },
  {
   "cell_type": "code",
   "execution_count": 22,
   "id": "cd4b5a15-8bb7-42d9-8279-adf54cb67b44",
   "metadata": {},
   "outputs": [],
   "source": [
    "nump_arr1 = np.logspace(1,3,5)"
   ]
  },
  {
   "cell_type": "code",
   "execution_count": 24,
   "id": "0ec05d1c-37f0-4126-93c8-415e7d9f1b50",
   "metadata": {},
   "outputs": [
    {
     "data": {
      "text/plain": [
       "array([  10.        ,   31.6227766 ,  100.        ,  316.22776602,\n",
       "       1000.        ])"
      ]
     },
     "execution_count": 24,
     "metadata": {},
     "output_type": "execute_result"
    }
   ],
   "source": [
    "nump_arr1"
   ]
  },
  {
   "cell_type": "code",
   "execution_count": 46,
   "id": "c1dcc53f-e78a-458c-a4ab-931def0c5f46",
   "metadata": {},
   "outputs": [
    {
     "data": {
      "text/plain": [
       "dtype('float64')"
      ]
     },
     "execution_count": 46,
     "metadata": {},
     "output_type": "execute_result"
    }
   ],
   "source": [
    "nump_arr1.dtype"
   ]
  },
  {
   "cell_type": "code",
   "execution_count": null,
   "id": "a55b9b30-1a57-468c-93db-5415435cfeb7",
   "metadata": {},
   "outputs": [],
   "source": []
  },
  {
   "cell_type": "markdown",
   "id": "1d02a4f3-756d-4e4c-8cfc-be0967aa6819",
   "metadata": {},
   "source": [
    "**Soru-3 :** \n",
    "\n",
    "    0'dan 10'a kadar 5 eşit aralıklı sayı içeren bir dizi oluşturun."
   ]
  },
  {
   "cell_type": "code",
   "execution_count": 30,
   "id": "d5e938d5-3a2e-42bf-a708-b4f66501fce7",
   "metadata": {},
   "outputs": [],
   "source": [
    "nump_arr3 = np.linspace(0,10,5)"
   ]
  },
  {
   "cell_type": "code",
   "execution_count": 52,
   "id": "2ef33805-1ff0-4d86-98eb-2975d9831964",
   "metadata": {},
   "outputs": [
    {
     "data": {
      "text/plain": [
       "array([ 0. ,  2.5,  5. ,  7.5, 10. ])"
      ]
     },
     "execution_count": 52,
     "metadata": {},
     "output_type": "execute_result"
    }
   ],
   "source": [
    "nump_arr3"
   ]
  },
  {
   "cell_type": "code",
   "execution_count": null,
   "id": "f64f10ee-a897-4432-9837-ad6eebf83c69",
   "metadata": {},
   "outputs": [],
   "source": []
  },
  {
   "cell_type": "markdown",
   "id": "3481ec39-f1ac-4c4d-8853-2f7822474840",
   "metadata": {},
   "source": [
    "**Soru-4 :**\n",
    "\n",
    "    5x5 boyutunda sadece 1'lerden oluşan bir matris oluşturun."
   ]
  },
  {
   "cell_type": "code",
   "execution_count": 75,
   "id": "3f45d70f-ea16-4626-9cfa-5798a9be51f2",
   "metadata": {},
   "outputs": [],
   "source": [
    "nump_arr4 = np.ones([5,5])"
   ]
  },
  {
   "cell_type": "code",
   "execution_count": 77,
   "id": "863ddb6b-4826-4dbc-b64a-93320f241641",
   "metadata": {},
   "outputs": [
    {
     "data": {
      "text/plain": [
       "array([[1., 1., 1., 1., 1.],\n",
       "       [1., 1., 1., 1., 1.],\n",
       "       [1., 1., 1., 1., 1.],\n",
       "       [1., 1., 1., 1., 1.],\n",
       "       [1., 1., 1., 1., 1.]])"
      ]
     },
     "execution_count": 77,
     "metadata": {},
     "output_type": "execute_result"
    }
   ],
   "source": [
    "nump_arr4"
   ]
  },
  {
   "cell_type": "code",
   "execution_count": null,
   "id": "83530c6e-3ae7-45b0-908b-5a278fece919",
   "metadata": {},
   "outputs": [],
   "source": []
  },
  {
   "cell_type": "code",
   "execution_count": null,
   "id": "cbb22047-a220-4e8e-a963-adeea59ac5b2",
   "metadata": {},
   "outputs": [],
   "source": []
  },
  {
   "cell_type": "markdown",
   "id": "a5ada948-1bba-4227-85f3-bed2f850722d",
   "metadata": {},
   "source": [
    "**Soru-5 :** \n",
    "\n",
    "    0 ile 1 arasında rastgele sayılardan oluşan bir dizi oluşturun."
   ]
  },
  {
   "cell_type": "code",
   "execution_count": 73,
   "id": "030496cb-e8ae-4efc-94f1-b0ece8764691",
   "metadata": {},
   "outputs": [],
   "source": [
    "pass"
   ]
  },
  {
   "cell_type": "code",
   "execution_count": null,
   "id": "95dd8e29-71ed-4822-a279-cf7f17293b8f",
   "metadata": {},
   "outputs": [],
   "source": []
  },
  {
   "cell_type": "markdown",
   "id": "f8df5031-075d-48d2-8465-a57de5b70c6a",
   "metadata": {},
   "source": [
    "**Soru-6 :**\n",
    "\n",
    "    Bir dizinin maksimum, minimum ve ortalama değerlerini bulun."
   ]
  },
  {
   "cell_type": "code",
   "execution_count": 83,
   "id": "194dd045-89d1-44bf-9d83-8b6304c1f54c",
   "metadata": {},
   "outputs": [],
   "source": [
    "nump_arr6 = np.arange(1,100,5)"
   ]
  },
  {
   "cell_type": "code",
   "execution_count": 87,
   "id": "d41fff46-763c-4709-8940-6992fb234588",
   "metadata": {},
   "outputs": [
    {
     "data": {
      "text/plain": [
       "array([ 1,  6, 11, 16, 21, 26, 31, 36, 41, 46, 51, 56, 61, 66, 71, 76, 81,\n",
       "       86, 91, 96])"
      ]
     },
     "execution_count": 87,
     "metadata": {},
     "output_type": "execute_result"
    }
   ],
   "source": [
    "nump_arr6"
   ]
  },
  {
   "cell_type": "code",
   "execution_count": 99,
   "id": "a1246309-6cb6-454a-898b-a3daeb265fe6",
   "metadata": {},
   "outputs": [
    {
     "data": {
      "text/plain": [
       "np.int64(96)"
      ]
     },
     "execution_count": 99,
     "metadata": {},
     "output_type": "execute_result"
    }
   ],
   "source": [
    "nump_arr6.max() # Maximum Değer"
   ]
  },
  {
   "cell_type": "code",
   "execution_count": 101,
   "id": "40754399-7618-4293-a594-c41741ef5909",
   "metadata": {},
   "outputs": [
    {
     "data": {
      "text/plain": [
       "np.int64(1)"
      ]
     },
     "execution_count": 101,
     "metadata": {},
     "output_type": "execute_result"
    }
   ],
   "source": [
    "nump_arr6.min() # Minimum Değer"
   ]
  },
  {
   "cell_type": "code",
   "execution_count": 103,
   "id": "027b950c-c4a5-4f34-a3d5-47beafba7c77",
   "metadata": {},
   "outputs": [
    {
     "data": {
      "text/plain": [
       "np.float64(48.5)"
      ]
     },
     "execution_count": 103,
     "metadata": {},
     "output_type": "execute_result"
    }
   ],
   "source": [
    "nump_arr6.mean() # Ortalama Değer"
   ]
  },
  {
   "cell_type": "code",
   "execution_count": null,
   "id": "69d1e781-2368-49ac-94ee-59d8f6c05bef",
   "metadata": {},
   "outputs": [],
   "source": []
  },
  {
   "cell_type": "code",
   "execution_count": null,
   "id": "c0b0a29e-2b55-451b-88f5-49a1202b081c",
   "metadata": {},
   "outputs": [],
   "source": []
  },
  {
   "cell_type": "markdown",
   "id": "8f7f58c2-85d0-44fd-824e-ed34ef9e0af5",
   "metadata": {},
   "source": [
    "**Soru-7 :**\n",
    "\n",
    "    Bir diziyi yeniden şekillendirin (reshape)."
   ]
  },
  {
   "cell_type": "code",
   "execution_count": 112,
   "id": "db9ce866-e34e-4d25-8d81-23bfcb0f9b3a",
   "metadata": {},
   "outputs": [],
   "source": [
    "nump_arr7 = np.zeros([10,10])"
   ]
  },
  {
   "cell_type": "code",
   "execution_count": 114,
   "id": "3f2406b7-8fb6-4f5f-870f-2cfddc98ae1e",
   "metadata": {},
   "outputs": [
    {
     "data": {
      "text/plain": [
       "array([[0., 0., 0., 0., 0., 0., 0., 0., 0., 0.],\n",
       "       [0., 0., 0., 0., 0., 0., 0., 0., 0., 0.],\n",
       "       [0., 0., 0., 0., 0., 0., 0., 0., 0., 0.],\n",
       "       [0., 0., 0., 0., 0., 0., 0., 0., 0., 0.],\n",
       "       [0., 0., 0., 0., 0., 0., 0., 0., 0., 0.],\n",
       "       [0., 0., 0., 0., 0., 0., 0., 0., 0., 0.],\n",
       "       [0., 0., 0., 0., 0., 0., 0., 0., 0., 0.],\n",
       "       [0., 0., 0., 0., 0., 0., 0., 0., 0., 0.],\n",
       "       [0., 0., 0., 0., 0., 0., 0., 0., 0., 0.],\n",
       "       [0., 0., 0., 0., 0., 0., 0., 0., 0., 0.]])"
      ]
     },
     "execution_count": 114,
     "metadata": {},
     "output_type": "execute_result"
    }
   ],
   "source": [
    "nump_arr7"
   ]
  },
  {
   "cell_type": "code",
   "execution_count": 306,
   "id": "2e9c80c7-c831-4308-b7cf-8a34c914e21d",
   "metadata": {},
   "outputs": [
    {
     "data": {
      "text/plain": [
       "array([[[0., 0., 0., 0., 0.],\n",
       "        [0., 0., 0., 0., 0.],\n",
       "        [0., 0., 0., 0., 0.],\n",
       "        [0., 0., 0., 0., 0.],\n",
       "        [0., 0., 0., 0., 0.]],\n",
       "\n",
       "       [[0., 0., 0., 0., 0.],\n",
       "        [0., 0., 0., 0., 0.],\n",
       "        [0., 0., 0., 0., 0.],\n",
       "        [0., 0., 0., 0., 0.],\n",
       "        [0., 0., 0., 0., 0.]],\n",
       "\n",
       "       [[0., 0., 0., 0., 0.],\n",
       "        [0., 0., 0., 0., 0.],\n",
       "        [0., 0., 0., 0., 0.],\n",
       "        [0., 0., 0., 0., 0.],\n",
       "        [0., 0., 0., 0., 0.]],\n",
       "\n",
       "       [[0., 0., 0., 0., 0.],\n",
       "        [0., 0., 0., 0., 0.],\n",
       "        [0., 0., 0., 0., 0.],\n",
       "        [0., 0., 0., 0., 0.],\n",
       "        [0., 0., 0., 0., 0.]]])"
      ]
     },
     "execution_count": 306,
     "metadata": {},
     "output_type": "execute_result"
    }
   ],
   "source": [
    "nump_arr7.reshape(4,5,5) # Derinliği 4, row(satır) sayısı 5 olan ve 5 column(sütun) dan oluşan bir reshape() kullanımı..."
   ]
  },
  {
   "cell_type": "code",
   "execution_count": null,
   "id": "fe8469c4-e380-4391-b418-92e3d737f7bd",
   "metadata": {},
   "outputs": [],
   "source": []
  },
  {
   "cell_type": "code",
   "execution_count": 126,
   "id": "2940a110-59c1-4d53-ba8b-68916467bc6f",
   "metadata": {},
   "outputs": [
    {
     "data": {
      "text/plain": [
       "array([[0., 0., 0., 0., 0.],\n",
       "       [0., 0., 0., 0., 0.],\n",
       "       [0., 0., 0., 0., 0.],\n",
       "       [0., 0., 0., 0., 0.],\n",
       "       [0., 0., 0., 0., 0.],\n",
       "       [0., 0., 0., 0., 0.],\n",
       "       [0., 0., 0., 0., 0.],\n",
       "       [0., 0., 0., 0., 0.],\n",
       "       [0., 0., 0., 0., 0.],\n",
       "       [0., 0., 0., 0., 0.],\n",
       "       [0., 0., 0., 0., 0.],\n",
       "       [0., 0., 0., 0., 0.],\n",
       "       [0., 0., 0., 0., 0.],\n",
       "       [0., 0., 0., 0., 0.],\n",
       "       [0., 0., 0., 0., 0.],\n",
       "       [0., 0., 0., 0., 0.],\n",
       "       [0., 0., 0., 0., 0.],\n",
       "       [0., 0., 0., 0., 0.],\n",
       "       [0., 0., 0., 0., 0.],\n",
       "       [0., 0., 0., 0., 0.]])"
      ]
     },
     "execution_count": 126,
     "metadata": {},
     "output_type": "execute_result"
    }
   ],
   "source": [
    "nump_arr7.reshape(-1,5)"
   ]
  },
  {
   "cell_type": "markdown",
   "id": "17048d84-8c4b-49ce-9823-4b83e993d6e9",
   "metadata": {},
   "source": [
    "**Not :**\n",
    "\n",
    "    Parant.içerisinde ilk parametre değerine yazılan -1 ile oluşturulmak istenen şey ; ifade 5 column(sütun)  dan oluşsun ve row(satır) sayısını sen kendin oluştur demiş olduk."
   ]
  },
  {
   "cell_type": "code",
   "execution_count": null,
   "id": "f693b5a1-1404-4f80-b419-f67b2a77d6ae",
   "metadata": {},
   "outputs": [],
   "source": []
  },
  {
   "cell_type": "code",
   "execution_count": 131,
   "id": "c9a1759c-6af9-49a9-a83d-e9d0566e7111",
   "metadata": {},
   "outputs": [
    {
     "data": {
      "text/plain": [
       "array([[0., 0., 0., 0., 0., 0., 0., 0., 0., 0., 0., 0., 0., 0., 0., 0.,\n",
       "        0., 0., 0., 0., 0., 0., 0., 0., 0.],\n",
       "       [0., 0., 0., 0., 0., 0., 0., 0., 0., 0., 0., 0., 0., 0., 0., 0.,\n",
       "        0., 0., 0., 0., 0., 0., 0., 0., 0.],\n",
       "       [0., 0., 0., 0., 0., 0., 0., 0., 0., 0., 0., 0., 0., 0., 0., 0.,\n",
       "        0., 0., 0., 0., 0., 0., 0., 0., 0.],\n",
       "       [0., 0., 0., 0., 0., 0., 0., 0., 0., 0., 0., 0., 0., 0., 0., 0.,\n",
       "        0., 0., 0., 0., 0., 0., 0., 0., 0.]])"
      ]
     },
     "execution_count": 131,
     "metadata": {},
     "output_type": "execute_result"
    }
   ],
   "source": [
    "nump_arr7.reshape(4,-1)"
   ]
  },
  {
   "cell_type": "markdown",
   "id": "2217adda-4059-45b6-9dce-8419db7fdfad",
   "metadata": {},
   "source": [
    "**Not :**\n",
    "\n",
    "    Parantez içerisine yazılan 4 ile ifadenenin 4 row(satır) dan oluşturulmasını istedik.Ardından yazılan -1 değeri ile column(sütun) sayısının otomatik olarak eleman sayısına uygun olacak şekilde sistem tarafından oluşturulmasını istedik"
   ]
  },
  {
   "cell_type": "code",
   "execution_count": null,
   "id": "0290140f-38c9-4e18-a84d-b6fdb8799b94",
   "metadata": {},
   "outputs": [],
   "source": []
  },
  {
   "cell_type": "markdown",
   "id": "45143a44-0997-46a8-9b34-14e7f4b571db",
   "metadata": {},
   "source": [
    "**Soru-8 :**\n",
    "\n",
    "    Belirli bir değerle bir dizi oluşturun (full)."
   ]
  },
  {
   "cell_type": "code",
   "execution_count": 388,
   "id": "3966c084-3b1a-4aa8-a294-d0dcfaefea7c",
   "metadata": {},
   "outputs": [
    {
     "ename": "TypeError",
     "evalue": "ones() got an unexpected keyword argument 'ndmin'",
     "output_type": "error",
     "traceback": [
      "\u001b[1;31m---------------------------------------------------------------------------\u001b[0m",
      "\u001b[1;31mTypeError\u001b[0m                                 Traceback (most recent call last)",
      "Cell \u001b[1;32mIn[388], line 1\u001b[0m\n\u001b[1;32m----> 1\u001b[0m nump_arr8 \u001b[38;5;241m=\u001b[39m np\u001b[38;5;241m.\u001b[39mones((\u001b[38;5;241m100\u001b[39m,), ndmin\u001b[38;5;241m=\u001b[39m\u001b[38;5;241m3\u001b[39m) \u001b[38;5;241m*\u001b[39m \u001b[38;5;241m100\u001b[39m\n",
      "\u001b[1;31mTypeError\u001b[0m: ones() got an unexpected keyword argument 'ndmin'"
     ]
    }
   ],
   "source": [
    "nump_arr8 = np.ones((100,), ndmin=3) * 100"
   ]
  },
  {
   "cell_type": "code",
   "execution_count": null,
   "id": "d69e895c-8f6d-4a1e-aa71-125eab05fe4a",
   "metadata": {},
   "outputs": [],
   "source": []
  },
  {
   "cell_type": "markdown",
   "id": "55d6b61f-daab-4387-a20a-6981ee9fecef",
   "metadata": {},
   "source": [
    "**Hata Açıklama :**\n",
    "\n",
    "    np.ones fonksiyonu ndmin argümanını kabul etmiyor. Eğer ndmin argümanını kullanmak istiyorsanız, np.array fonksiyonunu kullanabilirsiniz. İşte doğru şekilde nasıl yapabileceğinizi gösteren örnek:"
   ]
  },
  {
   "cell_type": "code",
   "execution_count": null,
   "id": "b8683060-10da-4a1b-a0db-37b4d4f34246",
   "metadata": {},
   "outputs": [],
   "source": []
  },
  {
   "cell_type": "code",
   "execution_count": 422,
   "id": "6b539395-84e4-4723-ba42-d26615895e66",
   "metadata": {},
   "outputs": [],
   "source": [
    "nump_arr8 = np.array(np.ones(100)*100,ndmin=3)"
   ]
  },
  {
   "cell_type": "code",
   "execution_count": null,
   "id": "04577a38-bc2d-4b44-b52d-15b02fb2573f",
   "metadata": {},
   "outputs": [],
   "source": []
  },
  {
   "cell_type": "markdown",
   "id": "02252a83-7d12-4acf-b8e4-7b66bd2bf417",
   "metadata": {
    "scrolled": true
   },
   "source": [
    "**Soru-9 :**\n",
    "\n",
    "    np.linspace() fonksiyonunu kullanarak bir dizi oluşturun.\n",
    "    Bu dizinin veri tipini kontrol edin.\n",
    "    Sonrasında dizinin veri tipini orijinal veri tipinden daha alt bir tipi olacak şekilde yeniden tanımlayınız."
   ]
  },
  {
   "cell_type": "code",
   "execution_count": null,
   "id": "6dacc8a3-3eeb-43f5-983b-1669390753a2",
   "metadata": {},
   "outputs": [],
   "source": []
  },
  {
   "cell_type": "code",
   "execution_count": 428,
   "id": "c9c6e363-ab51-441b-b215-f31f5d96ded0",
   "metadata": {},
   "outputs": [],
   "source": [
    "nump_arr9 = np.linspace(1,5,num=10)"
   ]
  },
  {
   "cell_type": "code",
   "execution_count": 430,
   "id": "139b2a99-c3e8-4a25-ad0f-f7f0ffcf43cf",
   "metadata": {},
   "outputs": [
    {
     "data": {
      "text/plain": [
       "array([1.        , 1.44444444, 1.88888889, 2.33333333, 2.77777778,\n",
       "       3.22222222, 3.66666667, 4.11111111, 4.55555556, 5.        ])"
      ]
     },
     "execution_count": 430,
     "metadata": {},
     "output_type": "execute_result"
    }
   ],
   "source": [
    "nump_arr9"
   ]
  },
  {
   "cell_type": "code",
   "execution_count": 432,
   "id": "e1eab6f4-6503-42a7-b1d9-88efe673178a",
   "metadata": {},
   "outputs": [
    {
     "data": {
      "text/plain": [
       "dtype('float64')"
      ]
     },
     "execution_count": 432,
     "metadata": {},
     "output_type": "execute_result"
    }
   ],
   "source": [
    "nump_arr9.dtype"
   ]
  },
  {
   "cell_type": "code",
   "execution_count": 436,
   "id": "19a15b8c-33b8-4d3f-9a5f-547e77ac6406",
   "metadata": {},
   "outputs": [
    {
     "data": {
      "text/plain": [
       "array([1.   , 1.444, 1.889, 2.334, 2.777, 3.223, 3.666, 4.11 , 4.555,\n",
       "       5.   ], dtype=float16)"
      ]
     },
     "execution_count": 436,
     "metadata": {},
     "output_type": "execute_result"
    }
   ],
   "source": [
    "np.array(nump_arr9,dtype=\"float16\")"
   ]
  },
  {
   "cell_type": "code",
   "execution_count": null,
   "id": "3b8c16fa-cf00-45b8-a571-3bfeda0aa725",
   "metadata": {},
   "outputs": [],
   "source": []
  },
  {
   "cell_type": "code",
   "execution_count": null,
   "id": "11bbaf54-6675-4eea-a6f3-052ad4bb99ac",
   "metadata": {},
   "outputs": [],
   "source": []
  },
  {
   "cell_type": "markdown",
   "id": "ae1f883a-3572-4541-a2a0-538be2460195",
   "metadata": {},
   "source": [
    "**Soru-10 :**\n",
    "\n",
    "    Bir Numpy array i oluşturun.Oluşturduğunuz bu array in veri tipini kontrol edin.\n",
    "    Sonrasında bu array in dtype ını kısayoldan değiştirerek yeni bir array e assign edin."
   ]
  },
  {
   "cell_type": "code",
   "execution_count": null,
   "id": "2629fafc-c50c-44f9-800e-24de942122a6",
   "metadata": {},
   "outputs": [],
   "source": []
  },
  {
   "cell_type": "code",
   "execution_count": 446,
   "id": "acef9ff9-652f-4ec8-a104-ea5d6ff843ee",
   "metadata": {},
   "outputs": [],
   "source": [
    "nump_arr10 = np.array(np.logspace(1,3,10))"
   ]
  },
  {
   "cell_type": "code",
   "execution_count": 448,
   "id": "73d5b9bd-8e05-4547-8cb6-1d79f511f7d3",
   "metadata": {},
   "outputs": [
    {
     "data": {
      "text/plain": [
       "array([  10.        ,   16.68100537,   27.82559402,   46.41588834,\n",
       "         77.42636827,  129.1549665 ,  215.443469  ,  359.38136638,\n",
       "        599.48425032, 1000.        ])"
      ]
     },
     "execution_count": 448,
     "metadata": {},
     "output_type": "execute_result"
    }
   ],
   "source": [
    "nump_arr10"
   ]
  },
  {
   "cell_type": "code",
   "execution_count": 452,
   "id": "b3ee4715-bbf1-4e94-bb01-22d2f55b2a52",
   "metadata": {},
   "outputs": [
    {
     "data": {
      "text/plain": [
       "dtype('float64')"
      ]
     },
     "execution_count": 452,
     "metadata": {},
     "output_type": "execute_result"
    }
   ],
   "source": [
    "nump_arr10.dtype"
   ]
  },
  {
   "cell_type": "code",
   "execution_count": null,
   "id": "beb94f4f-b60a-41b0-855f-5a4eaf2573fa",
   "metadata": {},
   "outputs": [],
   "source": []
  },
  {
   "cell_type": "code",
   "execution_count": 458,
   "id": "35aee3f7-d7a1-4e88-acb9-17992b316f6a",
   "metadata": {},
   "outputs": [],
   "source": [
    "as_nump_arr10 = nump_arr10.astype(\"int16\")"
   ]
  },
  {
   "cell_type": "code",
   "execution_count": 460,
   "id": "7dfc42cd-7d21-485e-a433-e68ea2996c80",
   "metadata": {},
   "outputs": [
    {
     "data": {
      "text/plain": [
       "array([  10,   16,   27,   46,   77,  129,  215,  359,  599, 1000],\n",
       "      dtype=int16)"
      ]
     },
     "execution_count": 460,
     "metadata": {},
     "output_type": "execute_result"
    }
   ],
   "source": [
    "as_nump_arr10"
   ]
  },
  {
   "cell_type": "code",
   "execution_count": null,
   "id": "96a70d83-f210-4f6f-b59a-700dc4f56f1f",
   "metadata": {},
   "outputs": [],
   "source": []
  },
  {
   "cell_type": "markdown",
   "id": "e58fa3cc-e3e7-485c-be83-cb07cd117b72",
   "metadata": {},
   "source": [
    "**Soru-11 :**\n",
    "\n",
    "    Elemanları arasındaki fark lineer olarak artan,10 ile 15 arasındaki sayılardan oluşan 10 elemanlı bir Numpy dizisi oluşturun.Oluşturduğunuz bu dizinin hem şeklini hem de boyutunu dizinin eleman sayısına bakmaksızın değiştirip yeni dizinin hem şekil-boyut bilgisini hem de veri tipini yazdırınız."
   ]
  },
  {
   "cell_type": "code",
   "execution_count": null,
   "id": "4e2a3022-595e-408d-a1a1-ff5c778e9697",
   "metadata": {},
   "outputs": [],
   "source": []
  },
  {
   "cell_type": "code",
   "execution_count": 544,
   "id": "fdf1a59a-ba91-40d2-bc28-18044024ffe5",
   "metadata": {},
   "outputs": [],
   "source": [
    "nump_arr11 = np.linspace(10,15,10,retstep=True) "
   ]
  },
  {
   "cell_type": "code",
   "execution_count": 546,
   "id": "2838647b-1003-4801-8c4d-64cb3448d783",
   "metadata": {},
   "outputs": [
    {
     "data": {
      "text/plain": [
       "(array([10.        , 10.55555556, 11.11111111, 11.66666667, 12.22222222,\n",
       "        12.77777778, 13.33333333, 13.88888889, 14.44444444, 15.        ]),\n",
       " np.float64(0.5555555555555556))"
      ]
     },
     "execution_count": 546,
     "metadata": {},
     "output_type": "execute_result"
    }
   ],
   "source": [
    "nump_arr11"
   ]
  },
  {
   "cell_type": "code",
   "execution_count": null,
   "id": "e0d7200f-b4c2-4191-90f7-e5bf61b910e4",
   "metadata": {},
   "outputs": [],
   "source": []
  },
  {
   "cell_type": "markdown",
   "id": "67d46afd-1887-4108-91e5-608408ead9e7",
   "metadata": {},
   "source": [
    "### Not : \n",
    "Parantez içerisine yazılan **retstep=True** parametresinin **default değeri retstep=False** olup ifade içerisinde gizlidir.Ancak parametreyi parantez içerisinde **retstep=True** olarak yazılması durumunda bize sayılar arasındaki artış miktarını da dizi ile birlikte return eder."
   ]
  },
  {
   "cell_type": "code",
   "execution_count": 481,
   "id": "1fbcd381-f658-4bbc-8afb-187f7f7d3811",
   "metadata": {},
   "outputs": [
    {
     "data": {
      "text/plain": [
       "array([[[10.        , 10.55555556, 11.11111111, 11.66666667,\n",
       "         12.22222222],\n",
       "        [12.77777778, 13.33333333, 13.88888889, 14.44444444,\n",
       "         15.        ],\n",
       "        [10.        , 10.55555556, 11.11111111, 11.66666667,\n",
       "         12.22222222],\n",
       "        [12.77777778, 13.33333333, 13.88888889, 14.44444444,\n",
       "         15.        ],\n",
       "        [10.        , 10.55555556, 11.11111111, 11.66666667,\n",
       "         12.22222222]],\n",
       "\n",
       "       [[12.77777778, 13.33333333, 13.88888889, 14.44444444,\n",
       "         15.        ],\n",
       "        [10.        , 10.55555556, 11.11111111, 11.66666667,\n",
       "         12.22222222],\n",
       "        [12.77777778, 13.33333333, 13.88888889, 14.44444444,\n",
       "         15.        ],\n",
       "        [10.        , 10.55555556, 11.11111111, 11.66666667,\n",
       "         12.22222222],\n",
       "        [12.77777778, 13.33333333, 13.88888889, 14.44444444,\n",
       "         15.        ]],\n",
       "\n",
       "       [[10.        , 10.55555556, 11.11111111, 11.66666667,\n",
       "         12.22222222],\n",
       "        [12.77777778, 13.33333333, 13.88888889, 14.44444444,\n",
       "         15.        ],\n",
       "        [10.        , 10.55555556, 11.11111111, 11.66666667,\n",
       "         12.22222222],\n",
       "        [12.77777778, 13.33333333, 13.88888889, 14.44444444,\n",
       "         15.        ],\n",
       "        [10.        , 10.55555556, 11.11111111, 11.66666667,\n",
       "         12.22222222]]])"
      ]
     },
     "execution_count": 481,
     "metadata": {},
     "output_type": "execute_result"
    }
   ],
   "source": [
    "np.resize(nump_arr11,(3,5,5))"
   ]
  },
  {
   "cell_type": "code",
   "execution_count": 483,
   "id": "3cc74d18-2da1-4403-9e47-1ddf25c61fb9",
   "metadata": {},
   "outputs": [
    {
     "data": {
      "text/plain": [
       "(3, 5, 5)"
      ]
     },
     "execution_count": 483,
     "metadata": {},
     "output_type": "execute_result"
    }
   ],
   "source": [
    "np.resize(nump_arr11,(3,5,5)).shape"
   ]
  },
  {
   "cell_type": "code",
   "execution_count": 485,
   "id": "05f81a0b-a4a8-43f2-94bc-d8853ab7b537",
   "metadata": {},
   "outputs": [
    {
     "data": {
      "text/plain": [
       "dtype('float64')"
      ]
     },
     "execution_count": 485,
     "metadata": {},
     "output_type": "execute_result"
    }
   ],
   "source": [
    "np.resize(nump_arr11,(3,5,5)).dtype"
   ]
  },
  {
   "cell_type": "code",
   "execution_count": null,
   "id": "b6e2f60e-e6c6-4be1-ad92-6e3253d412c0",
   "metadata": {},
   "outputs": [],
   "source": []
  },
  {
   "cell_type": "markdown",
   "id": "c19c5d75-3582-4fe5-9219-87a3725fff14",
   "metadata": {},
   "source": [
    "**Soru-12 :**\n",
    "\n",
    "    Elemanları 0-20 arasında olacak şekilde 20 den başlayıp 0 a kadar 2 şer 2 şer azalan elemanlardan oluşan bir numpy dizisini uygun metodu kullanarak oluşturunuz.\n",
    "    Ardından dizi içerisinde yer alan elemanlardan 10-0 arasındaki çift sayıları slicingleyerek başka bir dizinin elemanları olarak atayınız.\n",
    "    En son oluşturduğunuz dizinin tüm elemanlarını da -100 olarak değiştiriniz.\n",
    "    Not: Yeni oluşturulan dizide yapılacak işlemler eski diziyi etkilemeyecek şekilde olmalıdır.\n",
    "    "
   ]
  },
  {
   "cell_type": "code",
   "execution_count": null,
   "id": "e78fd867-f02c-4582-9079-46a75064f722",
   "metadata": {},
   "outputs": [],
   "source": []
  },
  {
   "cell_type": "code",
   "execution_count": 492,
   "id": "4ea005ed-5fce-41a4-9e5d-70f737ef92ae",
   "metadata": {},
   "outputs": [],
   "source": [
    "nump_arr12 = np.arange(20,0,-2)"
   ]
  },
  {
   "cell_type": "code",
   "execution_count": 498,
   "id": "efced98d-5747-4bd1-8e82-5b9743979fb6",
   "metadata": {},
   "outputs": [],
   "source": [
    "copy_nump_arr12 = nump_arr12.copy()"
   ]
  },
  {
   "cell_type": "code",
   "execution_count": 514,
   "id": "45a6c841-9f03-4489-8bac-bfe13d2c5d57",
   "metadata": {},
   "outputs": [
    {
     "data": {
      "text/plain": [
       "array([20, 18, 16, 14, 12, 10,  8,  6,  4,  2])"
      ]
     },
     "execution_count": 514,
     "metadata": {},
     "output_type": "execute_result"
    }
   ],
   "source": [
    "copy_nump_arr12"
   ]
  },
  {
   "cell_type": "code",
   "execution_count": 524,
   "id": "71edda7f-c332-45f4-b1f6-f82a3c62c052",
   "metadata": {},
   "outputs": [
    {
     "data": {
      "text/plain": [
       "array([ 2,  4,  6,  8, 10])"
      ]
     },
     "execution_count": 524,
     "metadata": {},
     "output_type": "execute_result"
    }
   ],
   "source": [
    "copy_nump_arr12[:4:-1]"
   ]
  },
  {
   "cell_type": "code",
   "execution_count": 526,
   "id": "e0d64ebe-ef6e-4bc5-a466-a041c1a7a475",
   "metadata": {},
   "outputs": [],
   "source": [
    "slicing_copy_num_arr12 = copy_nump_arr12[:4:-1]"
   ]
  },
  {
   "cell_type": "code",
   "execution_count": 533,
   "id": "202c7270-68cb-48a2-8fb8-44bb7203ab61",
   "metadata": {},
   "outputs": [],
   "source": [
    "slicing_copy_num_arr12[::] = -100"
   ]
  },
  {
   "cell_type": "code",
   "execution_count": 535,
   "id": "b3e11439-1d8e-4d3c-b7a6-fed907b7b5e6",
   "metadata": {},
   "outputs": [
    {
     "data": {
      "text/plain": [
       "array([-100, -100, -100, -100, -100])"
      ]
     },
     "execution_count": 535,
     "metadata": {},
     "output_type": "execute_result"
    }
   ],
   "source": [
    "slicing_copy_num_arr12"
   ]
  },
  {
   "cell_type": "code",
   "execution_count": null,
   "id": "6e8e27db-1867-4955-9cc5-f42238cf66b5",
   "metadata": {},
   "outputs": [],
   "source": []
  },
  {
   "cell_type": "code",
   "execution_count": 537,
   "id": "7af99dc6-e9e1-4865-b4a2-ddf9432d8746",
   "metadata": {},
   "outputs": [
    {
     "data": {
      "text/plain": [
       "array([  20,   18,   16,   14,   12, -100, -100, -100, -100, -100])"
      ]
     },
     "execution_count": 537,
     "metadata": {},
     "output_type": "execute_result"
    }
   ],
   "source": [
    "copy_nump_arr12"
   ]
  },
  {
   "cell_type": "code",
   "execution_count": 539,
   "id": "31ca62b2-afc0-4360-8086-67bfe5ae2159",
   "metadata": {},
   "outputs": [
    {
     "data": {
      "text/plain": [
       "array([20, 18, 16, 14, 12, 10,  8,  6,  4,  2])"
      ]
     },
     "execution_count": 539,
     "metadata": {},
     "output_type": "execute_result"
    }
   ],
   "source": [
    "nump_arr12"
   ]
  },
  {
   "cell_type": "code",
   "execution_count": null,
   "id": "a337c90f-9514-46c3-8250-ad38ea5b2811",
   "metadata": {},
   "outputs": [],
   "source": []
  },
  {
   "cell_type": "markdown",
   "id": "872f8b2c-5551-4659-a929-56a65ece778c",
   "metadata": {},
   "source": [
    "**Soru-13 :**\n",
    "\n",
    "    log10_2 ile log10_3 arasında yer alan ve logaritmik olarak 5 elemanlı bir dizi oluşturunuz."
   ]
  },
  {
   "cell_type": "code",
   "execution_count": 575,
   "id": "61bdab96-4418-446b-8957-3cfba3ab5014",
   "metadata": {},
   "outputs": [],
   "source": [
    "nump_arr13 = np.logspace(2,3,5)\n"
   ]
  },
  {
   "cell_type": "code",
   "execution_count": 577,
   "id": "e3da2f94-37bc-4306-a657-e82785d7b306",
   "metadata": {},
   "outputs": [
    {
     "data": {
      "text/plain": [
       "array([ 100.        ,  177.827941  ,  316.22776602,  562.34132519,\n",
       "       1000.        ])"
      ]
     },
     "execution_count": 577,
     "metadata": {},
     "output_type": "execute_result"
    }
   ],
   "source": [
    "nump_arr13"
   ]
  },
  {
   "cell_type": "code",
   "execution_count": null,
   "id": "3a237ac7-8d68-43eb-a870-a2b43587d189",
   "metadata": {},
   "outputs": [],
   "source": []
  },
  {
   "cell_type": "markdown",
   "id": "22c47037-af73-4ca5-a5bc-dcbeca2c7d68",
   "metadata": {},
   "source": [
    "**Soru-14 :**\n",
    "\n",
    "    Elemanları 1 lerden oluşan 3 derinlikli 10 row ve 10 column a sahip bir numpy dizisi oluşturunuz. >>> np.ones()"
   ]
  },
  {
   "cell_type": "code",
   "execution_count": 585,
   "id": "fd92c85a-03c8-426b-be04-d34d8ee741d4",
   "metadata": {},
   "outputs": [
    {
     "data": {
      "text/plain": [
       "array([[[1., 1., 1., 1., 1., 1., 1., 1., 1., 1.],\n",
       "        [1., 1., 1., 1., 1., 1., 1., 1., 1., 1.],\n",
       "        [1., 1., 1., 1., 1., 1., 1., 1., 1., 1.],\n",
       "        [1., 1., 1., 1., 1., 1., 1., 1., 1., 1.],\n",
       "        [1., 1., 1., 1., 1., 1., 1., 1., 1., 1.],\n",
       "        [1., 1., 1., 1., 1., 1., 1., 1., 1., 1.],\n",
       "        [1., 1., 1., 1., 1., 1., 1., 1., 1., 1.],\n",
       "        [1., 1., 1., 1., 1., 1., 1., 1., 1., 1.],\n",
       "        [1., 1., 1., 1., 1., 1., 1., 1., 1., 1.],\n",
       "        [1., 1., 1., 1., 1., 1., 1., 1., 1., 1.]],\n",
       "\n",
       "       [[1., 1., 1., 1., 1., 1., 1., 1., 1., 1.],\n",
       "        [1., 1., 1., 1., 1., 1., 1., 1., 1., 1.],\n",
       "        [1., 1., 1., 1., 1., 1., 1., 1., 1., 1.],\n",
       "        [1., 1., 1., 1., 1., 1., 1., 1., 1., 1.],\n",
       "        [1., 1., 1., 1., 1., 1., 1., 1., 1., 1.],\n",
       "        [1., 1., 1., 1., 1., 1., 1., 1., 1., 1.],\n",
       "        [1., 1., 1., 1., 1., 1., 1., 1., 1., 1.],\n",
       "        [1., 1., 1., 1., 1., 1., 1., 1., 1., 1.],\n",
       "        [1., 1., 1., 1., 1., 1., 1., 1., 1., 1.],\n",
       "        [1., 1., 1., 1., 1., 1., 1., 1., 1., 1.]],\n",
       "\n",
       "       [[1., 1., 1., 1., 1., 1., 1., 1., 1., 1.],\n",
       "        [1., 1., 1., 1., 1., 1., 1., 1., 1., 1.],\n",
       "        [1., 1., 1., 1., 1., 1., 1., 1., 1., 1.],\n",
       "        [1., 1., 1., 1., 1., 1., 1., 1., 1., 1.],\n",
       "        [1., 1., 1., 1., 1., 1., 1., 1., 1., 1.],\n",
       "        [1., 1., 1., 1., 1., 1., 1., 1., 1., 1.],\n",
       "        [1., 1., 1., 1., 1., 1., 1., 1., 1., 1.],\n",
       "        [1., 1., 1., 1., 1., 1., 1., 1., 1., 1.],\n",
       "        [1., 1., 1., 1., 1., 1., 1., 1., 1., 1.],\n",
       "        [1., 1., 1., 1., 1., 1., 1., 1., 1., 1.]]])"
      ]
     },
     "execution_count": 585,
     "metadata": {},
     "output_type": "execute_result"
    }
   ],
   "source": [
    "np.ones((3,10,10))"
   ]
  },
  {
   "cell_type": "code",
   "execution_count": null,
   "id": "bee76830-0c72-4119-8faf-55d8ffebac7f",
   "metadata": {},
   "outputs": [],
   "source": []
  },
  {
   "cell_type": "markdown",
   "id": "471eee16-500d-4530-ab98-71bd3f3975a8",
   "metadata": {},
   "source": [
    "**Soru-15 :**\n",
    "\n",
    "    Elemanları 0 ile 100 arasında 30 elemanlı;3 derinlik,5 satır(row) ve 2 sütun(column) a sahip bir numpy dizisi oluşturup ardından bu diziyle aynı derinlik satır ve sütun değerine sahip olan,ancak elemanları sadece 1 lerden oluşan bir numpy dizisi oluşturunuz."
   ]
  },
  {
   "cell_type": "code",
   "execution_count": null,
   "id": "80257fcb-bcfb-458f-8436-941f1011da41",
   "metadata": {},
   "outputs": [],
   "source": []
  },
  {
   "cell_type": "code",
   "execution_count": 609,
   "id": "d39ffca2-7deb-403b-8d42-784f6650ed7e",
   "metadata": {},
   "outputs": [],
   "source": [
    "nump_arr15 = np.linspace(0,100,30,dtype=\"int16\")"
   ]
  },
  {
   "cell_type": "code",
   "execution_count": 613,
   "id": "fdad792b-5dc4-4cbf-afd5-8a22f2414dd7",
   "metadata": {},
   "outputs": [],
   "source": [
    "nump_arr15.resize(3,5,2)"
   ]
  },
  {
   "cell_type": "code",
   "execution_count": 615,
   "id": "e259a695-3cc5-42a4-9ad8-6b36e221a642",
   "metadata": {},
   "outputs": [
    {
     "data": {
      "text/plain": [
       "array([[[  0,   3],\n",
       "        [  6,  10],\n",
       "        [ 13,  17],\n",
       "        [ 20,  24],\n",
       "        [ 27,  31]],\n",
       "\n",
       "       [[ 34,  37],\n",
       "        [ 41,  44],\n",
       "        [ 48,  51],\n",
       "        [ 55,  58],\n",
       "        [ 62,  65]],\n",
       "\n",
       "       [[ 68,  72],\n",
       "        [ 75,  79],\n",
       "        [ 82,  86],\n",
       "        [ 89,  93],\n",
       "        [ 96, 100]]], dtype=int16)"
      ]
     },
     "execution_count": 615,
     "metadata": {},
     "output_type": "execute_result"
    }
   ],
   "source": [
    "nump_arr15"
   ]
  },
  {
   "cell_type": "code",
   "execution_count": 619,
   "id": "4f869725-adbd-49e1-905d-87dc1383ca92",
   "metadata": {},
   "outputs": [
    {
     "data": {
      "text/plain": [
       "(3, 5, 2)"
      ]
     },
     "execution_count": 619,
     "metadata": {},
     "output_type": "execute_result"
    }
   ],
   "source": [
    "nump_arr15.shape"
   ]
  },
  {
   "cell_type": "code",
   "execution_count": 621,
   "id": "b11ca95e-f6db-4319-b160-fd9cae97e306",
   "metadata": {},
   "outputs": [
    {
     "data": {
      "text/plain": [
       "array([[[1, 1],\n",
       "        [1, 1],\n",
       "        [1, 1],\n",
       "        [1, 1],\n",
       "        [1, 1]],\n",
       "\n",
       "       [[1, 1],\n",
       "        [1, 1],\n",
       "        [1, 1],\n",
       "        [1, 1],\n",
       "        [1, 1]],\n",
       "\n",
       "       [[1, 1],\n",
       "        [1, 1],\n",
       "        [1, 1],\n",
       "        [1, 1],\n",
       "        [1, 1]]], dtype=int16)"
      ]
     },
     "execution_count": 621,
     "metadata": {},
     "output_type": "execute_result"
    }
   ],
   "source": [
    "np.ones_like(nump_arr15)"
   ]
  },
  {
   "cell_type": "code",
   "execution_count": 631,
   "id": "c1b90087-443a-433f-ae38-738104012668",
   "metadata": {},
   "outputs": [
    {
     "data": {
      "text/plain": [
       "(3, 5, 2)"
      ]
     },
     "execution_count": 631,
     "metadata": {},
     "output_type": "execute_result"
    }
   ],
   "source": [
    "np.ones_like(nump_arr15).shape"
   ]
  },
  {
   "cell_type": "code",
   "execution_count": null,
   "id": "bd48025e-ce6f-4ede-b350-4ff42fb70982",
   "metadata": {},
   "outputs": [],
   "source": []
  },
  {
   "cell_type": "markdown",
   "id": "83a5ef7c-8def-4651-b254-5d88d5ea5742",
   "metadata": {},
   "source": [
    "**Soru-16 :**\n",
    "\n",
    "    Elemanları 0 ile 20 arasında ve lineer olarak artan 27 elemanlı;9 derinlik,1 satır(row) ve 3 sütun(column) a sahip bir lineer dizi oluşturup ardından bu diziyle aynı derinlik satır ve sütun değerine sahip olan,ancak elemanları sadece 0 larden oluşan bir numpy dizisi oluşturunuz."
   ]
  },
  {
   "cell_type": "code",
   "execution_count": 650,
   "id": "440f0d3d-f058-43c4-b351-588057a5c6df",
   "metadata": {},
   "outputs": [],
   "source": [
    "nump_arr16 = np.linspace(0,20,27)"
   ]
  },
  {
   "cell_type": "code",
   "execution_count": 652,
   "id": "d125357c-7fa5-49e6-b2c1-7e480efaaca9",
   "metadata": {},
   "outputs": [],
   "source": [
    "nump_arr16.resize(9,1,3)"
   ]
  },
  {
   "cell_type": "code",
   "execution_count": 654,
   "id": "6df0456e-25e3-4839-8eba-dc8a654d8a32",
   "metadata": {},
   "outputs": [
    {
     "data": {
      "text/plain": [
       "array([[[ 0.        ,  0.76923077,  1.53846154]],\n",
       "\n",
       "       [[ 2.30769231,  3.07692308,  3.84615385]],\n",
       "\n",
       "       [[ 4.61538462,  5.38461538,  6.15384615]],\n",
       "\n",
       "       [[ 6.92307692,  7.69230769,  8.46153846]],\n",
       "\n",
       "       [[ 9.23076923, 10.        , 10.76923077]],\n",
       "\n",
       "       [[11.53846154, 12.30769231, 13.07692308]],\n",
       "\n",
       "       [[13.84615385, 14.61538462, 15.38461538]],\n",
       "\n",
       "       [[16.15384615, 16.92307692, 17.69230769]],\n",
       "\n",
       "       [[18.46153846, 19.23076923, 20.        ]]])"
      ]
     },
     "execution_count": 654,
     "metadata": {},
     "output_type": "execute_result"
    }
   ],
   "source": [
    "nump_arr16"
   ]
  },
  {
   "cell_type": "code",
   "execution_count": 656,
   "id": "b48a2dba-10f3-4efd-91fa-e34a3d5aacf4",
   "metadata": {},
   "outputs": [
    {
     "data": {
      "text/plain": [
       "(9, 1, 3)"
      ]
     },
     "execution_count": 656,
     "metadata": {},
     "output_type": "execute_result"
    }
   ],
   "source": [
    "nump_arr16.shape"
   ]
  },
  {
   "cell_type": "code",
   "execution_count": null,
   "id": "91c6947c-56e4-4c87-b11e-91bfc6850d09",
   "metadata": {},
   "outputs": [],
   "source": []
  },
  {
   "cell_type": "code",
   "execution_count": 659,
   "id": "a50dfdb6-ed5f-4ee8-8d5c-a7bdc718a31f",
   "metadata": {},
   "outputs": [
    {
     "data": {
      "text/plain": [
       "array([[[0., 0., 0.]],\n",
       "\n",
       "       [[0., 0., 0.]],\n",
       "\n",
       "       [[0., 0., 0.]],\n",
       "\n",
       "       [[0., 0., 0.]],\n",
       "\n",
       "       [[0., 0., 0.]],\n",
       "\n",
       "       [[0., 0., 0.]],\n",
       "\n",
       "       [[0., 0., 0.]],\n",
       "\n",
       "       [[0., 0., 0.]],\n",
       "\n",
       "       [[0., 0., 0.]]])"
      ]
     },
     "execution_count": 659,
     "metadata": {},
     "output_type": "execute_result"
    }
   ],
   "source": [
    "np.zeros_like(nump_array16)"
   ]
  },
  {
   "cell_type": "code",
   "execution_count": 661,
   "id": "6d00642f-8821-478b-b2ec-0b8b62de8379",
   "metadata": {},
   "outputs": [
    {
     "data": {
      "text/plain": [
       "(9, 1, 3)"
      ]
     },
     "execution_count": 661,
     "metadata": {},
     "output_type": "execute_result"
    }
   ],
   "source": [
    "np.zeros_like(nump_array16).shape"
   ]
  },
  {
   "cell_type": "code",
   "execution_count": null,
   "id": "3dd79e2e-bf94-4d28-94a5-58dec7e7a573",
   "metadata": {},
   "outputs": [],
   "source": []
  },
  {
   "cell_type": "markdown",
   "id": "f259d37b-12a0-41f4-b63d-aab2fe70ea6a",
   "metadata": {},
   "source": [
    "**Soru-17:**\n",
    "\n",
    "    Ana köşegenlerinden bir sonraki elemanları 1 lerden oluşan ve diğer tüm elemanları 0 olan 3 satır(row) ve 3 sütun(column) a sahip bir matris oluşturunuz."
   ]
  },
  {
   "cell_type": "code",
   "execution_count": null,
   "id": "d688e817-5853-4ea1-9dcf-0c4a328f0489",
   "metadata": {},
   "outputs": [],
   "source": []
  },
  {
   "cell_type": "code",
   "execution_count": 670,
   "id": "cbd6523b-efe1-4158-89b3-b1a84d6fa34a",
   "metadata": {},
   "outputs": [
    {
     "data": {
      "text/plain": [
       "array([[0., 1., 0.],\n",
       "       [0., 0., 1.],\n",
       "       [0., 0., 0.]])"
      ]
     },
     "execution_count": 670,
     "metadata": {},
     "output_type": "execute_result"
    }
   ],
   "source": [
    "np.eye(3,3,k=1)"
   ]
  },
  {
   "cell_type": "code",
   "execution_count": null,
   "id": "700aa387-7a7e-4ff3-8322-b3c2a34bf90e",
   "metadata": {},
   "outputs": [],
   "source": []
  },
  {
   "cell_type": "markdown",
   "id": "9344d921-94f4-42f9-b199-295f0901d065",
   "metadata": {},
   "source": [
    "**Soru-18 :**\n",
    "\n",
    "    Verilen bir dizinin şekli ve türüne sahip, ancak 5 değeri ile doldurulmuş bir dizi oluşturunuz."
   ]
  },
  {
   "cell_type": "code",
   "execution_count": null,
   "id": "c450817b-a22d-41a0-b009-0770a8f1741a",
   "metadata": {},
   "outputs": [],
   "source": []
  },
  {
   "cell_type": "code",
   "execution_count": 712,
   "id": "76b8817a-52ed-4b5f-ac57-63b2dd7c11c3",
   "metadata": {},
   "outputs": [
    {
     "data": {
      "text/plain": [
       "array([15, 15, 15, 15, 15, 15, 15])"
      ]
     },
     "execution_count": 712,
     "metadata": {},
     "output_type": "execute_result"
    }
   ],
   "source": [
    "np.full(7,15)"
   ]
  },
  {
   "cell_type": "code",
   "execution_count": 718,
   "id": "166f7591-0602-4ff3-b5db-784d429a9f11",
   "metadata": {},
   "outputs": [
    {
     "data": {
      "text/plain": [
       "array([33, 33, 33, 33, 33, 33, 33])"
      ]
     },
     "execution_count": 718,
     "metadata": {},
     "output_type": "execute_result"
    }
   ],
   "source": [
    "np.full_like(np.full(7,15),33)"
   ]
  },
  {
   "cell_type": "code",
   "execution_count": null,
   "id": "742221b3-b046-450e-8d73-ffd226bc8dd7",
   "metadata": {},
   "outputs": [],
   "source": []
  },
  {
   "cell_type": "code",
   "execution_count": null,
   "id": "efbbd53b-0d13-4708-8b3f-848b0c9adb35",
   "metadata": {},
   "outputs": [],
   "source": []
  },
  {
   "cell_type": "code",
   "execution_count": null,
   "id": "03e47e44-9481-4357-b373-155f67a59ad2",
   "metadata": {},
   "outputs": [],
   "source": []
  },
  {
   "cell_type": "code",
   "execution_count": null,
   "id": "b5fc186d-97b2-4ad8-8c94-aa11eb003e9a",
   "metadata": {},
   "outputs": [],
   "source": []
  }
 ],
 "metadata": {
  "kernelspec": {
   "display_name": "Python 3 (ipykernel)",
   "language": "python",
   "name": "python3"
  },
  "language_info": {
   "codemirror_mode": {
    "name": "ipython",
    "version": 3
   },
   "file_extension": ".py",
   "mimetype": "text/x-python",
   "name": "python",
   "nbconvert_exporter": "python",
   "pygments_lexer": "ipython3",
   "version": "3.12.7"
  }
 },
 "nbformat": 4,
 "nbformat_minor": 5
}
