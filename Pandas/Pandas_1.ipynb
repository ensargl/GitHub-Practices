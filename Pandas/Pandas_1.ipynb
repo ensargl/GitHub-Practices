{
 "cells": [
  {
   "cell_type": "markdown",
   "id": "57afcf6c-a70f-44a3-a814-3f7b5bdcda1b",
   "metadata": {},
   "source": [
    "# pd.Series()"
   ]
  },
  {
   "cell_type": "code",
   "execution_count": 5,
   "id": "6969317b-3411-4389-8a74-30fa44f3141d",
   "metadata": {},
   "outputs": [],
   "source": [
    "import numpy as np\n",
    "import pandas as pd"
   ]
  },
  {
   "cell_type": "code",
   "execution_count": null,
   "id": "174732f8-bd55-450c-8323-997ea1b0e293",
   "metadata": {},
   "outputs": [],
   "source": []
  },
  {
   "cell_type": "markdown",
   "id": "a4cf9d85-e3cd-45f3-abb4-db8c5a105f8e",
   "metadata": {},
   "source": [
    "### Liste ile Series Oluşturma"
   ]
  },
  {
   "cell_type": "code",
   "execution_count": 8,
   "id": "9a7e35b4-7841-4994-add4-32d6423af443",
   "metadata": {},
   "outputs": [
    {
     "data": {
      "text/plain": [
       "0    10\n",
       "1    20\n",
       "2    30\n",
       "3    40\n",
       "4    50\n",
       "dtype: int64"
      ]
     },
     "execution_count": 8,
     "metadata": {},
     "output_type": "execute_result"
    }
   ],
   "source": [
    "pd.Series([10,20,30,40,50])"
   ]
  },
  {
   "cell_type": "code",
   "execution_count": 10,
   "id": "8ab5dfce-9932-4b9e-9e57-e9d52c48ed84",
   "metadata": {},
   "outputs": [
    {
     "data": {
      "text/plain": [
       "0    10\n",
       "1    20\n",
       "2    30\n",
       "3    40\n",
       "4    50\n",
       "dtype: int32"
      ]
     },
     "execution_count": 10,
     "metadata": {},
     "output_type": "execute_result"
    }
   ],
   "source": [
    "pd.Series(np.arange(10,51,10))"
   ]
  },
  {
   "cell_type": "code",
   "execution_count": null,
   "id": "b46c0ae4-e6d7-4b5f-a1aa-61b4d38a5024",
   "metadata": {},
   "outputs": [],
   "source": []
  },
  {
   "cell_type": "code",
   "execution_count": 13,
   "id": "f9d5091b-eaa6-48fc-b6fd-54b8dcbb56e8",
   "metadata": {},
   "outputs": [],
   "source": [
    "# YÖNTEM-1 :\n",
    "list_data = [10,20,30,40,50]\n",
    "list_index = [\"a\",\"b\",\"c\",\"d\",\"e\"]"
   ]
  },
  {
   "cell_type": "code",
   "execution_count": 15,
   "id": "3a191831-3de0-492e-9791-c3fbaa0151a8",
   "metadata": {},
   "outputs": [],
   "source": [
    "variable = pd.Series(data=list_data,index=list_index,dtype=float)"
   ]
  },
  {
   "cell_type": "code",
   "execution_count": 17,
   "id": "fc51f7fe-80fa-4d62-a84a-b632aa14b9c1",
   "metadata": {},
   "outputs": [
    {
     "data": {
      "text/plain": [
       "a    10.0\n",
       "b    20.0\n",
       "c    30.0\n",
       "d    40.0\n",
       "e    50.0\n",
       "dtype: float64"
      ]
     },
     "execution_count": 17,
     "metadata": {},
     "output_type": "execute_result"
    }
   ],
   "source": [
    "variable"
   ]
  },
  {
   "cell_type": "code",
   "execution_count": null,
   "id": "3334d683-b6aa-4b1d-b9c3-c9a01a90354a",
   "metadata": {},
   "outputs": [],
   "source": []
  },
  {
   "cell_type": "code",
   "execution_count": 20,
   "id": "3a0c684e-d054-41e6-9383-06e3d82ff339",
   "metadata": {},
   "outputs": [],
   "source": [
    "# YÖNTEM-2 :\n",
    "list_data_2 = np.arange(10,51,10)\n",
    "list_index_2 = np.array([\"a\",\"b\",\"c\",\"d\",\"e\"])"
   ]
  },
  {
   "cell_type": "code",
   "execution_count": 22,
   "id": "697895dc-34a4-4bc2-b91d-3425ac2c992c",
   "metadata": {},
   "outputs": [],
   "source": [
    "variable_2 = pd.Series(list_data_2,list_index_2).astype(\"int16\")"
   ]
  },
  {
   "cell_type": "code",
   "execution_count": 24,
   "id": "425a155e-da09-4978-8be8-d2267df56a75",
   "metadata": {},
   "outputs": [
    {
     "data": {
      "text/plain": [
       "a    10\n",
       "b    20\n",
       "c    30\n",
       "d    40\n",
       "e    50\n",
       "dtype: int16"
      ]
     },
     "execution_count": 24,
     "metadata": {},
     "output_type": "execute_result"
    }
   ],
   "source": [
    "variable_2"
   ]
  },
  {
   "cell_type": "code",
   "execution_count": null,
   "id": "9bc780b3-bb7c-404e-ab72-6a1c6deb2cb6",
   "metadata": {},
   "outputs": [],
   "source": []
  },
  {
   "cell_type": "code",
   "execution_count": null,
   "id": "90baee94-db11-40b0-ad2d-a3b9585f379d",
   "metadata": {},
   "outputs": [],
   "source": []
  },
  {
   "cell_type": "markdown",
   "id": "5fa3de5f-fd04-43fb-bd4f-f63721b4e1e2",
   "metadata": {},
   "source": [
    "### Dictionary ile Series Oluşturma"
   ]
  },
  {
   "cell_type": "code",
   "execution_count": 77,
   "id": "78bd3fdc-8b02-4a8d-8f33-f64037123e53",
   "metadata": {},
   "outputs": [],
   "source": [
    "dictionary = {\"ferrari\":434.7,\"porsche\":377.7,\"lamborghini\":477.7}"
   ]
  },
  {
   "cell_type": "code",
   "execution_count": 63,
   "id": "b3d6a815-e0ce-4397-8f0e-dc280d8361bb",
   "metadata": {},
   "outputs": [],
   "source": [
    "seri_1 = pd.Series(data = dictionary)"
   ]
  },
  {
   "cell_type": "code",
   "execution_count": 65,
   "id": "c02ae981-40d2-4e53-ac91-5630f871770b",
   "metadata": {},
   "outputs": [
    {
     "data": {
      "text/plain": [
       "ferrari        434.7\n",
       "porsche        377.7\n",
       "lamborghini    477.7\n",
       "dtype: float64"
      ]
     },
     "execution_count": 65,
     "metadata": {},
     "output_type": "execute_result"
    }
   ],
   "source": [
    "seri_1 # Dict.in key değerleri indeks,value ları ise indekslere karşılık gelen değerler oldu."
   ]
  },
  {
   "cell_type": "code",
   "execution_count": 61,
   "id": "c464c9b8-20ee-4c29-8a81-302c01cbb631",
   "metadata": {},
   "outputs": [],
   "source": []
  },
  {
   "cell_type": "code",
   "execution_count": 71,
   "id": "68fb20c1-29cd-4630-b44b-4cf6cc265eee",
   "metadata": {},
   "outputs": [],
   "source": [
    "seri_2 = pd.Series(data=dictionary,index=[\"lamborghini\",\"bugatti\",\"ferrari\"]) # Dictionary içerisinde yer alan key, ve onlara karşılık gelen value değerleri buldu ve return etti\n",
    "                                                                              # Ancak oluşturduğumuz dict.te, sonradan eklenen \"bugatti\" indeksine karşılık gelen value değeri olmadığı için NaN return etti."
   ]
  },
  {
   "cell_type": "code",
   "execution_count": 69,
   "id": "a0a5f8de-e66e-4852-9367-606a0e5573d3",
   "metadata": {},
   "outputs": [
    {
     "data": {
      "text/plain": [
       "lamborghini    477.7\n",
       "bugatti          NaN\n",
       "ferrari        434.7\n",
       "dtype: float64"
      ]
     },
     "execution_count": 69,
     "metadata": {},
     "output_type": "execute_result"
    }
   ],
   "source": [
    "seri_2"
   ]
  },
  {
   "cell_type": "markdown",
   "id": "23c5eabf-a08a-4b01-b126-0fa49e47551a",
   "metadata": {},
   "source": []
  },
  {
   "cell_type": "markdown",
   "id": "8c43cbd1-0eed-4799-a014-2a7eb8a88315",
   "metadata": {},
   "source": [
    "### NumPy Array Kullanarak Seri Oluşturma"
   ]
  },
  {
   "cell_type": "code",
   "execution_count": 108,
   "id": "4f81f50d-51fc-42cb-a7d2-96003f38fe5b",
   "metadata": {},
   "outputs": [],
   "source": [
    "np_data = np.array(np.arange(10,51,10))"
   ]
  },
  {
   "cell_type": "code",
   "execution_count": 110,
   "id": "30cb0121-382c-430d-8f41-9452324c05d5",
   "metadata": {},
   "outputs": [
    {
     "data": {
      "text/plain": [
       "array([10, 20, 30, 40, 50])"
      ]
     },
     "execution_count": 110,
     "metadata": {},
     "output_type": "execute_result"
    }
   ],
   "source": [
    "np_data"
   ]
  },
  {
   "cell_type": "code",
   "execution_count": 112,
   "id": "23702f44-4c76-44ba-9b5f-4f5e5a1d33d1",
   "metadata": {},
   "outputs": [],
   "source": [
    "np_index = np.array([\"a\",\"b\",\"c\",\"d\",\"e\"])"
   ]
  },
  {
   "cell_type": "code",
   "execution_count": 114,
   "id": "d4a4b58e-1a5b-4c94-923a-07de3a6b99f9",
   "metadata": {},
   "outputs": [
    {
     "data": {
      "text/plain": [
       "a    10\n",
       "b    20\n",
       "c    30\n",
       "d    40\n",
       "e    50\n",
       "dtype: int32"
      ]
     },
     "execution_count": 114,
     "metadata": {},
     "output_type": "execute_result"
    }
   ],
   "source": [
    "pd.Series(data=np_data, index=np_index)"
   ]
  },
  {
   "cell_type": "code",
   "execution_count": null,
   "id": "05701f95-a71d-4789-81ca-1636633a853c",
   "metadata": {},
   "outputs": [],
   "source": []
  },
  {
   "cell_type": "markdown",
   "id": "e527b377-e0c0-4d9c-bcb6-3db9f9fac849",
   "metadata": {},
   "source": [
    "### Seri İçerisindeki Nesne Türleri"
   ]
  },
  {
   "cell_type": "code",
   "execution_count": null,
   "id": "a1b78e7a-972c-48c5-89dc-6ac32cae441b",
   "metadata": {},
   "outputs": [],
   "source": []
  },
  {
   "cell_type": "code",
   "execution_count": 117,
   "id": "3d9cc001-5f2b-42f0-8125-afd60592de56",
   "metadata": {},
   "outputs": [
    {
     "data": {
      "text/plain": [
       "0      hi\n",
       "1     100\n",
       "2    True\n",
       "3    3.14\n",
       "dtype: object"
      ]
     },
     "execution_count": 117,
     "metadata": {},
     "output_type": "execute_result"
    }
   ],
   "source": [
    "pd.Series(data=[\"hi\",100,True,3.14])"
   ]
  },
  {
   "cell_type": "code",
   "execution_count": 119,
   "id": "2a27f858-8fd4-4787-92db-ca62a2f73771",
   "metadata": {},
   "outputs": [],
   "source": [
    "mix_seri = pd.Series(data=[\"hi\",100,True,3.14])"
   ]
  },
  {
   "cell_type": "code",
   "execution_count": 135,
   "id": "c3f38536-85ee-411c-9d6b-57dce6c14222",
   "metadata": {},
   "outputs": [
    {
     "data": {
      "text/plain": [
       "pandas.core.series.Series"
      ]
     },
     "execution_count": 135,
     "metadata": {},
     "output_type": "execute_result"
    }
   ],
   "source": [
    "type(mix_seri)"
   ]
  },
  {
   "cell_type": "code",
   "execution_count": 137,
   "id": "f0940e51-c0ed-44f7-ae12-07b9c074d94c",
   "metadata": {},
   "outputs": [
    {
     "name": "stdout",
     "output_type": "stream",
     "text": [
      "<class 'int'>\n",
      "<class 'bool'>\n",
      "<class 'float'>\n"
     ]
    }
   ],
   "source": [
    "print(type(mix_seri[1]))\n",
    "print(type(mix_seri[2]))\n",
    "print(type(mix_seri[3]))"
   ]
  },
  {
   "cell_type": "code",
   "execution_count": null,
   "id": "0b9f8913-bc21-4c25-be24-1b54bb0adc96",
   "metadata": {},
   "outputs": [],
   "source": []
  },
  {
   "cell_type": "code",
   "execution_count": 139,
   "id": "a0b37ef5-4cc0-4aaf-ac96-6240647346e1",
   "metadata": {},
   "outputs": [
    {
     "data": {
      "text/plain": [
       "0      <built-in function sum>\n",
       "1    <built-in function print>\n",
       "dtype: object"
      ]
     },
     "execution_count": 139,
     "metadata": {},
     "output_type": "execute_result"
    }
   ],
   "source": [
    "pd.Series([sum,print])"
   ]
  },
  {
   "cell_type": "code",
   "execution_count": null,
   "id": "c2b89480-141a-4c48-b88a-c7d0aac4969c",
   "metadata": {},
   "outputs": [],
   "source": []
  },
  {
   "cell_type": "markdown",
   "id": "5ecdea1d-1ff2-479c-a00c-728135c658e2",
   "metadata": {},
   "source": [
    "### Pandas Serilerinin Temel Özelliklerini İnceleme"
   ]
  },
  {
   "cell_type": "code",
   "execution_count": 152,
   "id": "38a72a8b-7c57-4fbe-8e39-aeb7b8c36e39",
   "metadata": {},
   "outputs": [],
   "source": [
    "example = pd.Series([10,20,30,40,50,60,70])"
   ]
  },
  {
   "cell_type": "code",
   "execution_count": 154,
   "id": "b1b43144-5369-4d80-a4fc-96c3edd06301",
   "metadata": {},
   "outputs": [
    {
     "data": {
      "text/plain": [
       "0    10\n",
       "1    20\n",
       "2    30\n",
       "3    40\n",
       "4    50\n",
       "5    60\n",
       "6    70\n",
       "dtype: int64"
      ]
     },
     "execution_count": 154,
     "metadata": {},
     "output_type": "execute_result"
    }
   ],
   "source": [
    "example"
   ]
  },
  {
   "cell_type": "code",
   "execution_count": null,
   "id": "2cadab55-bd2b-4229-bf6f-54d5190b088f",
   "metadata": {},
   "outputs": [],
   "source": []
  },
  {
   "cell_type": "code",
   "execution_count": 156,
   "id": "83d477a7-a760-4765-a45c-a007f7c1f36c",
   "metadata": {},
   "outputs": [
    {
     "data": {
      "text/plain": [
       "[RangeIndex(start=0, stop=7, step=1)]"
      ]
     },
     "execution_count": 156,
     "metadata": {},
     "output_type": "execute_result"
    }
   ],
   "source": [
    "example.axes # Serinin indeks bilgilerini yazdıran metottur."
   ]
  },
  {
   "cell_type": "code",
   "execution_count": null,
   "id": "9048cd6f-ac03-4ef3-9fb6-c462e74b7801",
   "metadata": {},
   "outputs": [],
   "source": []
  },
  {
   "cell_type": "code",
   "execution_count": 166,
   "id": "12b1c42f-ae81-4bf0-9830-70607f0a5467",
   "metadata": {},
   "outputs": [
    {
     "data": {
      "text/plain": [
       "dtype('int64')"
      ]
     },
     "execution_count": 166,
     "metadata": {},
     "output_type": "execute_result"
    }
   ],
   "source": [
    "example.dtype # Serinin veri tipini gösteren metottur."
   ]
  },
  {
   "cell_type": "code",
   "execution_count": null,
   "id": "66cecb07-4179-47a3-8090-65067704b986",
   "metadata": {},
   "outputs": [],
   "source": []
  },
  {
   "cell_type": "code",
   "execution_count": 168,
   "id": "1db02e5f-1a19-4ceb-8b3a-a26e6fb8f879",
   "metadata": {},
   "outputs": [
    {
     "data": {
      "text/plain": [
       "7"
      ]
     },
     "execution_count": 168,
     "metadata": {},
     "output_type": "execute_result"
    }
   ],
   "source": [
    "example.size"
   ]
  },
  {
   "cell_type": "code",
   "execution_count": null,
   "id": "667220f2-3b5c-43bd-a109-5b8c4d83d7c6",
   "metadata": {},
   "outputs": [],
   "source": []
  },
  {
   "cell_type": "code",
   "execution_count": 170,
   "id": "8945d175-8927-4b8b-975b-fb6622bab5d2",
   "metadata": {},
   "outputs": [
    {
     "data": {
      "text/plain": [
       "1"
      ]
     },
     "execution_count": 170,
     "metadata": {},
     "output_type": "execute_result"
    }
   ],
   "source": [
    "example.ndim # Boyut bilgisini gösteren metottur."
   ]
  },
  {
   "cell_type": "code",
   "execution_count": null,
   "id": "20fcce86-a63e-4cef-a83d-c6af13921901",
   "metadata": {},
   "outputs": [],
   "source": []
  },
  {
   "cell_type": "code",
   "execution_count": 199,
   "id": "03575da9-c2b9-4c3a-a279-eb9486ea4bea",
   "metadata": {},
   "outputs": [
    {
     "data": {
      "text/plain": [
       "0    10\n",
       "1    20\n",
       "2    30\n",
       "3    40\n",
       "4    50\n",
       "dtype: int64"
      ]
     },
     "execution_count": 199,
     "metadata": {},
     "output_type": "execute_result"
    }
   ],
   "source": [
    "example.head() # Seri içerisindeki ilk 5 değeri gösteren metottur."
   ]
  },
  {
   "cell_type": "code",
   "execution_count": null,
   "id": "76d8ff37-d1d6-42ed-a401-40a2602a1a69",
   "metadata": {},
   "outputs": [],
   "source": []
  },
  {
   "cell_type": "code",
   "execution_count": 215,
   "id": "ff7ee6ea-2d2a-4f3d-a511-21b1244ff60c",
   "metadata": {},
   "outputs": [
    {
     "data": {
      "text/plain": [
       "0    10\n",
       "1    20\n",
       "2    30\n",
       "dtype: int64"
      ]
     },
     "execution_count": 215,
     "metadata": {},
     "output_type": "execute_result"
    }
   ],
   "source": [
    "example.head(3) # Default değer yerine istenilen değer girilebilir."
   ]
  },
  {
   "cell_type": "code",
   "execution_count": null,
   "id": "bf53a303-0c36-483e-9a7c-2afa5463a88b",
   "metadata": {},
   "outputs": [],
   "source": []
  },
  {
   "cell_type": "code",
   "execution_count": 218,
   "id": "ade6f875-d084-4cd8-9fad-e32a50e354fd",
   "metadata": {},
   "outputs": [
    {
     "data": {
      "text/plain": [
       "2    30\n",
       "3    40\n",
       "4    50\n",
       "5    60\n",
       "6    70\n",
       "dtype: int64"
      ]
     },
     "execution_count": 218,
     "metadata": {},
     "output_type": "execute_result"
    }
   ],
   "source": [
    "example.tail() # Seri içerisindeki son 5 değeri gösteren metottur."
   ]
  },
  {
   "cell_type": "code",
   "execution_count": 220,
   "id": "f482c514-26e6-4336-8a5a-3e1a3e1b358a",
   "metadata": {},
   "outputs": [
    {
     "data": {
      "text/plain": [
       "4    50\n",
       "5    60\n",
       "6    70\n",
       "dtype: int64"
      ]
     },
     "execution_count": 220,
     "metadata": {},
     "output_type": "execute_result"
    }
   ],
   "source": [
    "example.tail(3) # Default değer yerine istenilen değer girilebilir."
   ]
  },
  {
   "cell_type": "code",
   "execution_count": null,
   "id": "5b8a2b1e-0417-4207-a6f6-ac4d1a92910a",
   "metadata": {},
   "outputs": [],
   "source": []
  },
  {
   "cell_type": "code",
   "execution_count": null,
   "id": "236f08d2-5f14-42e9-a482-1d56103ef271",
   "metadata": {},
   "outputs": [],
   "source": []
  },
  {
   "cell_type": "markdown",
   "id": "0cf6c069-a61d-48f3-acc0-b57b8b7ba230",
   "metadata": {},
   "source": [
    "### Pandas Serileri Üzerine En Sık Uygulanan Metodlar"
   ]
  },
  {
   "cell_type": "code",
   "execution_count": 258,
   "id": "aa1e799d-608c-412e-8f9a-44b4cde567f1",
   "metadata": {},
   "outputs": [],
   "source": [
    "seri_3 = pd.Series(data=[3, 7, 5, 1, 11, 9],\n",
    "                   index=[\"b\",\"d\",\"e\",\"f\",\"c\",\"a\"])"
   ]
  },
  {
   "cell_type": "code",
   "execution_count": 260,
   "id": "584fb33f-33d9-406f-ba19-82c74a4a608e",
   "metadata": {},
   "outputs": [
    {
     "data": {
      "text/plain": [
       "b     3\n",
       "d     7\n",
       "e     5\n",
       "f     1\n",
       "c    11\n",
       "a     9\n",
       "dtype: int64"
      ]
     },
     "execution_count": 260,
     "metadata": {},
     "output_type": "execute_result"
    }
   ],
   "source": [
    "seri_3"
   ]
  },
  {
   "cell_type": "code",
   "execution_count": null,
   "id": "04a33ed0-221d-4663-ba7e-b9151764c56d",
   "metadata": {},
   "outputs": [],
   "source": []
  },
  {
   "cell_type": "code",
   "execution_count": 262,
   "id": "bcbbf9a8-ce26-4bf1-a5c0-2dd58f0de94b",
   "metadata": {},
   "outputs": [
    {
     "data": {
      "text/plain": [
       "a     9\n",
       "b     3\n",
       "c    11\n",
       "d     7\n",
       "e     5\n",
       "f     1\n",
       "dtype: int64"
      ]
     },
     "execution_count": 262,
     "metadata": {},
     "output_type": "execute_result"
    }
   ],
   "source": [
    "seri_3.sort_index() # Serinin indeksleri üzerinde sıralama yapmamızı sağlayan metottur."
   ]
  },
  {
   "cell_type": "code",
   "execution_count": 331,
   "id": "f021d137-9dce-45c5-aaa0-c85a5c07ecb4",
   "metadata": {},
   "outputs": [],
   "source": [
    "seri_3.sort_index(inplace=True) # sort_index(inplace=True) metot parametrelerinden inplace=True yazarak işlemi kalıcı hale getirmiş olduk."
   ]
  },
  {
   "cell_type": "code",
   "execution_count": 333,
   "id": "a2616c3f-f828-4bfa-9027-c62632664371",
   "metadata": {},
   "outputs": [
    {
     "data": {
      "text/plain": [
       "a     9\n",
       "b     3\n",
       "c    11\n",
       "d     7\n",
       "e     5\n",
       "f     1\n",
       "dtype: int64"
      ]
     },
     "execution_count": 333,
     "metadata": {},
     "output_type": "execute_result"
    }
   ],
   "source": [
    "seri_3"
   ]
  },
  {
   "cell_type": "code",
   "execution_count": 327,
   "id": "63957e8b-413f-4214-a993-8965f4be959d",
   "metadata": {},
   "outputs": [],
   "source": [
    "seri_3.sort_values(inplace=True) # Serinin değerleri üzerinde sıralama yapmamızı sağlayan metottur."
   ]
  },
  {
   "cell_type": "code",
   "execution_count": 329,
   "id": "f50f09c5-3d69-4499-828d-10e01e30ad61",
   "metadata": {},
   "outputs": [
    {
     "data": {
      "text/plain": [
       "f     1\n",
       "b     3\n",
       "e     5\n",
       "d     7\n",
       "a     9\n",
       "c    11\n",
       "dtype: int64"
      ]
     },
     "execution_count": 329,
     "metadata": {},
     "output_type": "execute_result"
    }
   ],
   "source": [
    "seri_3"
   ]
  },
  {
   "cell_type": "code",
   "execution_count": 291,
   "id": "78fe4ba7-f0f9-46f7-b9ed-a6e889f1639d",
   "metadata": {},
   "outputs": [
    {
     "data": {
      "text/plain": [
       "a    False\n",
       "b    False\n",
       "c    False\n",
       "d     True\n",
       "e    False\n",
       "f     True\n",
       "dtype: bool"
      ]
     },
     "execution_count": 291,
     "metadata": {},
     "output_type": "execute_result"
    }
   ],
   "source": [
    "seri_3.isin([1,7]) # isin() metodu, ifade içerisinde aradığımız herhangi bir değerin olup olmadığını kontrol eder.\n",
    "                   # Her satır için boolean bir değer return eder."
   ]
  },
  {
   "cell_type": "code",
   "execution_count": 295,
   "id": "2c776004-e49b-4d0b-b008-0fd95c677947",
   "metadata": {},
   "outputs": [
    {
     "data": {
      "text/plain": [
       "d    7\n",
       "f    1\n",
       "dtype: int64"
      ]
     },
     "execution_count": 295,
     "metadata": {},
     "output_type": "execute_result"
    }
   ],
   "source": [
    "seri_3[seri_3.isin([1,7])] # seri_3[] içerisine yazdığımız seri_3.isin([1,7]) ile, aradığımız değerlerin hangi satırlarda yer aldığını direkt olarak görebiliriz."
   ]
  },
  {
   "cell_type": "code",
   "execution_count": null,
   "id": "b0bf80fa-8974-4b00-88dc-e994e26cded2",
   "metadata": {},
   "outputs": [],
   "source": []
  },
  {
   "cell_type": "code",
   "execution_count": 307,
   "id": "64c2e19a-3da8-4e3a-a6fd-e1345260fee9",
   "metadata": {},
   "outputs": [
    {
     "data": {
      "text/plain": [
       "array([ 9,  3, 11,  7,  5,  1], dtype=int64)"
      ]
     },
     "execution_count": 307,
     "metadata": {},
     "output_type": "execute_result"
    }
   ],
   "source": [
    "seri_3.values # .values metodu, seri içerisinde yer alan değerlere ulaşmamızı sağlayar."
   ]
  },
  {
   "cell_type": "code",
   "execution_count": null,
   "id": "263acea8-6b34-44bc-a27e-d73da9fdd41d",
   "metadata": {},
   "outputs": [],
   "source": []
  },
  {
   "cell_type": "code",
   "execution_count": 309,
   "id": "4772649b-5b9b-495a-a512-ae593cf2a125",
   "metadata": {},
   "outputs": [
    {
     "data": {
      "text/plain": [
       "[9, 3, 11, 7, 5, 1]"
      ]
     },
     "execution_count": 309,
     "metadata": {},
     "output_type": "execute_result"
    }
   ],
   "source": [
    "[element for element in seri_3.values] # for loop ile seri_3 üzerindeki değerlere tek tek ulaştık."
   ]
  },
  {
   "cell_type": "code",
   "execution_count": null,
   "id": "959b6663-0206-4731-979d-c3fcc2c9693d",
   "metadata": {},
   "outputs": [],
   "source": []
  },
  {
   "cell_type": "code",
   "execution_count": 311,
   "id": "b02dbf69-3d15-4def-a783-f8d398de13fe",
   "metadata": {},
   "outputs": [
    {
     "data": {
      "text/plain": [
       "Index(['a', 'b', 'c', 'd', 'e', 'f'], dtype='object')"
      ]
     },
     "execution_count": 311,
     "metadata": {},
     "output_type": "execute_result"
    }
   ],
   "source": [
    "seri_3.index # .index metodu ile, seri içerisinde yer alan indekslere ulaştık."
   ]
  },
  {
   "cell_type": "code",
   "execution_count": 315,
   "id": "5c894177-c584-475d-991c-778835e52b1f",
   "metadata": {},
   "outputs": [
    {
     "data": {
      "text/plain": [
       "['a', 'b', 'c', 'd', 'e', 'f']"
      ]
     },
     "execution_count": 315,
     "metadata": {},
     "output_type": "execute_result"
    }
   ],
   "source": [
    "[element for element in seri_3.index] # for loop ile seri_3 üzerindeki indekslere tek tek ulaştık."
   ]
  },
  {
   "cell_type": "code",
   "execution_count": null,
   "id": "a396f45b-dab0-4622-a979-62a7c60895f4",
   "metadata": {},
   "outputs": [],
   "source": []
  },
  {
   "cell_type": "code",
   "execution_count": 335,
   "id": "3f20ebfe-5ce3-43bd-80a6-412a5f77cf79",
   "metadata": {},
   "outputs": [
    {
     "data": {
      "text/plain": [
       "<bound method Series.items of a     9\n",
       "b     3\n",
       "c    11\n",
       "d     7\n",
       "e     5\n",
       "f     1\n",
       "dtype: int64>"
      ]
     },
     "execution_count": 335,
     "metadata": {},
     "output_type": "execute_result"
    }
   ],
   "source": [
    "seri_3.items"
   ]
  },
  {
   "cell_type": "code",
   "execution_count": null,
   "id": "b6385dd8-9a10-4b21-b571-42cf76c4e59e",
   "metadata": {},
   "outputs": [],
   "source": []
  },
  {
   "cell_type": "code",
   "execution_count": 338,
   "id": "b54e746d-03a3-44a9-b5d9-24b8607ba3b6",
   "metadata": {},
   "outputs": [
    {
     "data": {
      "text/plain": [
       "<zip at 0x1c786ef53c0>"
      ]
     },
     "execution_count": 338,
     "metadata": {},
     "output_type": "execute_result"
    }
   ],
   "source": [
    "seri_3.items()"
   ]
  },
  {
   "cell_type": "code",
   "execution_count": null,
   "id": "a22ce188-dd96-400e-bd58-196a89d3d8b8",
   "metadata": {},
   "outputs": [],
   "source": []
  },
  {
   "cell_type": "code",
   "execution_count": 341,
   "id": "fe08c8c9-d828-4ffe-be3e-155b1774cb1e",
   "metadata": {},
   "outputs": [
    {
     "data": {
      "text/plain": [
       "[('a', 9), ('b', 3), ('c', 11), ('d', 7), ('e', 5), ('f', 1)]"
      ]
     },
     "execution_count": 341,
     "metadata": {},
     "output_type": "execute_result"
    }
   ],
   "source": [
    "list(seri_3.items())"
   ]
  },
  {
   "cell_type": "code",
   "execution_count": null,
   "id": "c10403a7-129f-4053-a0c7-44fa0b212fda",
   "metadata": {},
   "outputs": [],
   "source": []
  },
  {
   "cell_type": "code",
   "execution_count": 346,
   "id": "c38536f5-6022-464c-bf86-e9589dcd22a7",
   "metadata": {},
   "outputs": [
    {
     "name": "stdout",
     "output_type": "stream",
     "text": [
      "a - 9\n",
      "b - 3\n",
      "c - 11\n",
      "d - 7\n",
      "e - 5\n",
      "f - 1\n"
     ]
    }
   ],
   "source": [
    "for ix,key in seri_3.items():\n",
    "    print(ix,\"-\",key)"
   ]
  },
  {
   "cell_type": "code",
   "execution_count": null,
   "id": "9f63a9f6-1609-4d15-a403-7c40ec15f54d",
   "metadata": {},
   "outputs": [],
   "source": []
  },
  {
   "cell_type": "code",
   "execution_count": null,
   "id": "7ce4f368-2235-488a-9cf3-613e7e18b06f",
   "metadata": {},
   "outputs": [],
   "source": []
  },
  {
   "cell_type": "markdown",
   "id": "336fda7b-384e-4724-953f-3acd8c7d7e3f",
   "metadata": {},
   "source": [
    "### Pandas Serilerini İndexleme ve Dilimleme"
   ]
  },
  {
   "cell_type": "code",
   "execution_count": 5,
   "id": "38e9ecbd-331c-4205-9d7a-476a23c889cd",
   "metadata": {},
   "outputs": [],
   "source": [
    "import numpy as np\n",
    "import pandas as pd"
   ]
  },
  {
   "cell_type": "code",
   "execution_count": 7,
   "id": "d22aff47-7d59-40e4-b658-2283badf0f15",
   "metadata": {},
   "outputs": [],
   "source": [
    "country_code = pd.Series(data=[\"Turkiye\",\"Germany\",\"France\",\"USA\",\"UK\"],index=[\"+90\",\"+49\",\"+33\",\"+1\",\"+44\"])"
   ]
  },
  {
   "cell_type": "code",
   "execution_count": 9,
   "id": "f402ae0a-f1ef-429a-bb66-ec8922d5cce2",
   "metadata": {},
   "outputs": [
    {
     "data": {
      "text/plain": [
       "+90    Turkiye\n",
       "+49    Germany\n",
       "+33     France\n",
       "+1         USA\n",
       "+44         UK\n",
       "dtype: object"
      ]
     },
     "execution_count": 9,
     "metadata": {},
     "output_type": "execute_result"
    }
   ],
   "source": [
    "country_code"
   ]
  },
  {
   "cell_type": "code",
   "execution_count": null,
   "id": "1cc3afad-8712-4d82-a4ef-54721da2965d",
   "metadata": {},
   "outputs": [],
   "source": []
  },
  {
   "cell_type": "code",
   "execution_count": 11,
   "id": "882395b4-1b95-476f-bf8f-0058d3059fa8",
   "metadata": {},
   "outputs": [
    {
     "data": {
      "text/plain": [
       "Index(['+90', '+49', '+33', '+1', '+44'], dtype='object')"
      ]
     },
     "execution_count": 11,
     "metadata": {},
     "output_type": "execute_result"
    }
   ],
   "source": [
    "country_code.index # .index metodu ile serinin indekslerine eriştik."
   ]
  },
  {
   "cell_type": "code",
   "execution_count": null,
   "id": "d48241ec-b981-49f1-a324-3e0214722926",
   "metadata": {},
   "outputs": [],
   "source": []
  },
  {
   "cell_type": "code",
   "execution_count": 13,
   "id": "6db2a062-e167-437b-a13c-fb7d4ca1a4c5",
   "metadata": {},
   "outputs": [
    {
     "data": {
      "text/plain": [
       "array(['Turkiye', 'Germany', 'France', 'USA', 'UK'], dtype=object)"
      ]
     },
     "execution_count": 13,
     "metadata": {},
     "output_type": "execute_result"
    }
   ],
   "source": [
    "country_code.values # .values metodu ile serinin değerlerine eriştik."
   ]
  },
  {
   "cell_type": "code",
   "execution_count": null,
   "id": "3bc27c57-0e11-4b76-9c4c-4e60631d7dd3",
   "metadata": {},
   "outputs": [],
   "source": []
  },
  {
   "cell_type": "code",
   "execution_count": null,
   "id": "69d0f4f4-f6f9-4b88-af9d-5d936b4ea49c",
   "metadata": {},
   "outputs": [],
   "source": []
  },
  {
   "cell_type": "code",
   "execution_count": 36,
   "id": "b4d183c2-c53b-47f8-8482-25c367858a5d",
   "metadata": {},
   "outputs": [
    {
     "data": {
      "text/plain": [
       "Index(['+90', '+49', '+33', '+1', '+44'], dtype='object')"
      ]
     },
     "execution_count": 36,
     "metadata": {},
     "output_type": "execute_result"
    }
   ],
   "source": [
    "country_code.index # Serinin indekslerine .index metodu ile eriştik"
   ]
  },
  {
   "cell_type": "code",
   "execution_count": 40,
   "id": "09e9d59c-74cc-4870-8935-10c1bd50c30e",
   "metadata": {},
   "outputs": [
    {
     "data": {
      "text/plain": [
       "['+90', '+49', '+33', '+1', '+44']"
      ]
     },
     "execution_count": 40,
     "metadata": {},
     "output_type": "execute_result"
    }
   ],
   "source": [
    "[x for x in country_code.index] # Sonrasında list comprehension yapısı içerisinde for loop kullanarak indeksleri, liste içerisinde yazdırdık."
   ]
  },
  {
   "cell_type": "code",
   "execution_count": null,
   "id": "d884e318-dcef-4ffd-8073-e760f41c39b6",
   "metadata": {},
   "outputs": [],
   "source": []
  },
  {
   "cell_type": "code",
   "execution_count": null,
   "id": "ae2d1709-e24e-45d1-a384-4ba108c2ec40",
   "metadata": {},
   "outputs": [],
   "source": []
  },
  {
   "cell_type": "code",
   "execution_count": 42,
   "id": "ebb412d0-934f-41a0-82da-eefcb19f3201",
   "metadata": {},
   "outputs": [
    {
     "data": {
      "text/plain": [
       "array(['Turkiye', 'Germany', 'France', 'USA', 'UK'], dtype=object)"
      ]
     },
     "execution_count": 42,
     "metadata": {},
     "output_type": "execute_result"
    }
   ],
   "source": [
    "country_code.values # Serinin value larına .values metodu ile eriştik."
   ]
  },
  {
   "cell_type": "code",
   "execution_count": 70,
   "id": "a81e8a72-ecef-422c-85b4-fd2349e8a91a",
   "metadata": {},
   "outputs": [
    {
     "data": {
      "text/plain": [
       "['Turkiye', 'Germany', 'France', 'USA', 'UK']"
      ]
     },
     "execution_count": 70,
     "metadata": {},
     "output_type": "execute_result"
    }
   ],
   "source": [
    "[element for element in country_code.values] # Sonrasında list comp. yapısı içeresinde for loop kullanrak serinin value larını liste içerisinde yazdırdık."
   ]
  },
  {
   "cell_type": "code",
   "execution_count": null,
   "id": "4be1fcdd-daf6-468a-9287-58b5fb9e6ed5",
   "metadata": {},
   "outputs": [],
   "source": []
  },
  {
   "cell_type": "code",
   "execution_count": null,
   "id": "c9ee495c-387c-4c9d-ac50-eed14e608bd7",
   "metadata": {},
   "outputs": [],
   "source": []
  },
  {
   "cell_type": "code",
   "execution_count": 48,
   "id": "8d92a2fe-412d-4d83-883a-9bd9b7b717cd",
   "metadata": {},
   "outputs": [
    {
     "data": {
      "text/plain": [
       "<bound method Series.items of +90    Turkiye\n",
       "+49    Germany\n",
       "+33     France\n",
       "+1         USA\n",
       "+44         UK\n",
       "dtype: object>"
      ]
     },
     "execution_count": 48,
     "metadata": {},
     "output_type": "execute_result"
    }
   ],
   "source": [
    "country_code.items # Serinin index ve value larına .items() fonksiyonunu kullarak eriştik."
   ]
  },
  {
   "cell_type": "code",
   "execution_count": 72,
   "id": "be81bd5d-1513-4d62-8ba5-bce05319789c",
   "metadata": {},
   "outputs": [
    {
     "name": "stdout",
     "output_type": "stream",
     "text": [
      "+90 - Turkiye\n",
      "+49 - Germany\n",
      "+33 - France\n",
      "+1 - USA\n",
      "+44 - UK\n"
     ]
    }
   ],
   "source": [
    "for xi,ix in country_code.items(): # Ardından for loop kullanarak hem indeksleri hem de valueları aralarında \"-\" işareti olacak şekilde yazdırdık.\n",
    "    print(xi,\"-\",ix)"
   ]
  },
  {
   "cell_type": "code",
   "execution_count": null,
   "id": "695ecd21-16cd-4bc1-b046-142787c1c70b",
   "metadata": {},
   "outputs": [],
   "source": []
  },
  {
   "cell_type": "code",
   "execution_count": null,
   "id": "f8faac8e-08dd-477f-97c5-2ee75518f875",
   "metadata": {},
   "outputs": [],
   "source": []
  },
  {
   "cell_type": "code",
   "execution_count": 15,
   "id": "8a095c4e-8b9f-44fc-859e-e15f3748d8fa",
   "metadata": {},
   "outputs": [
    {
     "data": {
      "text/plain": [
       "+90    Turkiye\n",
       "+49    Germany\n",
       "+33     France\n",
       "+1         USA\n",
       "dtype: object"
      ]
     },
     "execution_count": 15,
     "metadata": {},
     "output_type": "execute_result"
    }
   ],
   "source": [
    "country_code[\"+90\":\"+1\"] # Seri üzerinde direkt olarak indeks isimlerini yazarak indeksleme işlemi yaptık.\n",
    "                         # İndeks isimleri ile indeksleme işleminde endpoint noktası da dahildir."
   ]
  },
  {
   "cell_type": "code",
   "execution_count": 74,
   "id": "2ec98267-6b36-462d-8559-04a31216c54a",
   "metadata": {},
   "outputs": [
    {
     "data": {
      "text/plain": [
       "+90    Turkiye\n",
       "+49    Germany\n",
       "+33     France\n",
       "+1         USA\n",
       "dtype: object"
      ]
     },
     "execution_count": 74,
     "metadata": {},
     "output_type": "execute_result"
    }
   ],
   "source": [
    "country_code[0:4] # Seri üzerinde indeks numaralarını kullanarak indeksleme işlemi yaptık.\n",
    "                  # İndeks numaraları ile indeksleme işleminde endpoint dahil değildir."
   ]
  },
  {
   "cell_type": "code",
   "execution_count": null,
   "id": "061b4f37-8542-475c-990d-c8741c363b16",
   "metadata": {},
   "outputs": [],
   "source": []
  },
  {
   "cell_type": "code",
   "execution_count": 23,
   "id": "cdff7d36-e944-4159-b41e-3f9346674b8c",
   "metadata": {},
   "outputs": [
    {
     "data": {
      "text/plain": [
       "+90    Turkiye\n",
       "+49    Germany\n",
       "+33     France\n",
       "+1         USA\n",
       "dtype: object"
      ]
     },
     "execution_count": 23,
     "metadata": {},
     "output_type": "execute_result"
    }
   ],
   "source": [
    "country_code[[\"+90\",\"+49\",\"+33\",\"+1\"]] # Fancy İndexing ile indeks isimlerini yazarak nokta atışı indeksleme işlemi yaptık."
   ]
  },
  {
   "cell_type": "code",
   "execution_count": null,
   "id": "10387ced-cb06-438c-a55d-9dbd724c2bd9",
   "metadata": {},
   "outputs": [],
   "source": []
  },
  {
   "cell_type": "code",
   "execution_count": 25,
   "id": "40402c81-e1c3-436a-8e3f-b0a96037076c",
   "metadata": {},
   "outputs": [
    {
     "name": "stderr",
     "output_type": "stream",
     "text": [
      "C:\\Users\\ASUS ROG STRIX\\AppData\\Local\\Temp\\ipykernel_18928\\884243419.py:1: FutureWarning: Series.__getitem__ treating keys as positions is deprecated. In a future version, integer keys will always be treated as labels (consistent with DataFrame behavior). To access a value by position, use `ser.iloc[pos]`\n",
      "  country_code[[0,1,2,3]]\n"
     ]
    },
    {
     "data": {
      "text/plain": [
       "+90    Turkiye\n",
       "+49    Germany\n",
       "+33     France\n",
       "+1         USA\n",
       "dtype: object"
      ]
     },
     "execution_count": 25,
     "metadata": {},
     "output_type": "execute_result"
    }
   ],
   "source": [
    "country_code[[0,1,2,3]] # Fancy Indexing ile indeks numaralarını yazarak nokta atışı indeksleme işlemi yaptık."
   ]
  },
  {
   "cell_type": "code",
   "execution_count": null,
   "id": "53056211-c69e-4c41-8634-a9da3b24723b",
   "metadata": {},
   "outputs": [],
   "source": []
  },
  {
   "cell_type": "code",
   "execution_count": null,
   "id": "e24377c4-82ab-4dbc-b831-22678bbf3aa2",
   "metadata": {},
   "outputs": [],
   "source": []
  },
  {
   "cell_type": "markdown",
   "id": "30fa599d-ac00-4481-85b4-100712ce8265",
   "metadata": {},
   "source": [
    "###  loc[] ve iloc[] ile İndexleme ve Dilimleme"
   ]
  },
  {
   "cell_type": "code",
   "execution_count": null,
   "id": "1e55dca9-b44e-4e3d-8497-7a726dd7e6a6",
   "metadata": {},
   "outputs": [],
   "source": []
  },
  {
   "cell_type": "code",
   "execution_count": 27,
   "id": "fe627e67-61ef-4d3b-9f89-ab160f10c1d6",
   "metadata": {},
   "outputs": [
    {
     "data": {
      "text/plain": [
       "+90    Turkiye\n",
       "+49    Germany\n",
       "+33     France\n",
       "+1         USA\n",
       "dtype: object"
      ]
     },
     "execution_count": 27,
     "metadata": {},
     "output_type": "execute_result"
    }
   ],
   "source": [
    "country_code.iloc[[0,1,2,3]] # iloc[] yapısını kullanarak \"Fancy Indexing\" ile indeks numaralarını girerek indeksleme işlemi yaptık."
   ]
  },
  {
   "cell_type": "code",
   "execution_count": 29,
   "id": "38f04fef-613f-420d-be18-97931dce7116",
   "metadata": {},
   "outputs": [
    {
     "data": {
      "text/plain": [
       "+90    Turkiye\n",
       "+49    Germany\n",
       "+33     France\n",
       "+1         USA\n",
       "dtype: object"
      ]
     },
     "execution_count": 29,
     "metadata": {},
     "output_type": "execute_result"
    }
   ],
   "source": [
    "country_code.loc[[\"+90\",\"+49\",\"+33\",\"+1\"]] # loc[] yapısını kullanarak \"Fancy Indexing\" ile indeks isimlerini girerek indeksleme işlemi yaptık."
   ]
  },
  {
   "cell_type": "code",
   "execution_count": null,
   "id": "1271b858-6ff1-43f5-9beb-ec4b11cfa541",
   "metadata": {},
   "outputs": [],
   "source": []
  },
  {
   "cell_type": "code",
   "execution_count": null,
   "id": "236e94f6-b025-4adf-92f5-921358dda588",
   "metadata": {},
   "outputs": [],
   "source": []
  },
  {
   "cell_type": "code",
   "execution_count": null,
   "id": "bae91e73-2888-42a5-89c8-9904f16bef61",
   "metadata": {},
   "outputs": [],
   "source": []
  },
  {
   "cell_type": "code",
   "execution_count": null,
   "id": "1577526c-c4b5-4e10-b286-d33cd2aa32f6",
   "metadata": {},
   "outputs": [],
   "source": []
  }
 ],
 "metadata": {
  "kernelspec": {
   "display_name": "Python 3 (ipykernel)",
   "language": "python",
   "name": "python3"
  },
  "language_info": {
   "codemirror_mode": {
    "name": "ipython",
    "version": 3
   },
   "file_extension": ".py",
   "mimetype": "text/x-python",
   "name": "python",
   "nbconvert_exporter": "python",
   "pygments_lexer": "ipython3",
   "version": "3.12.7"
  }
 },
 "nbformat": 4,
 "nbformat_minor": 5
}
