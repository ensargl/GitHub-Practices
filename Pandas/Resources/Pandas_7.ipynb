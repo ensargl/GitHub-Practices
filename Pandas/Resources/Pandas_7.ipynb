{
 "cells": [
  {
   "cell_type": "markdown",
   "id": "e9a38ea2-9fbb-4a85-8195-7be99677e628",
   "metadata": {},
   "source": [
    "# Pandas Kütüphanesine Dış Kaynaklı Veri Girişi"
   ]
  },
  {
   "cell_type": "markdown",
   "id": "d0be412f-b90e-4097-9e2d-4eb0edf8dcff",
   "metadata": {},
   "source": [
    "### CSV ve TXT Dosyaları İle Veri Girişi"
   ]
  },
  {
   "cell_type": "code",
   "execution_count": 1,
   "id": "d2422388-cd95-4a3e-8ddd-de8dd0678e48",
   "metadata": {},
   "outputs": [],
   "source": [
    "import pandas as pd"
   ]
  },
  {
   "cell_type": "code",
   "execution_count": 11,
   "id": "515db95d-2233-4543-99c4-985b55c75014",
   "metadata": {},
   "outputs": [
    {
     "data": {
      "text/html": [
       "<div>\n",
       "<style scoped>\n",
       "    .dataframe tbody tr th:only-of-type {\n",
       "        vertical-align: middle;\n",
       "    }\n",
       "\n",
       "    .dataframe tbody tr th {\n",
       "        vertical-align: top;\n",
       "    }\n",
       "\n",
       "    .dataframe thead th {\n",
       "        text-align: right;\n",
       "    }\n",
       "</style>\n",
       "<table border=\"1\" class=\"dataframe\">\n",
       "  <thead>\n",
       "    <tr style=\"text-align: right;\">\n",
       "      <th></th>\n",
       "      <th>VAL1</th>\n",
       "      <th>VAL2</th>\n",
       "      <th>VAL3</th>\n",
       "      <th>VAL4</th>\n",
       "      <th>VAL5</th>\n",
       "    </tr>\n",
       "  </thead>\n",
       "  <tbody>\n",
       "    <tr>\n",
       "      <th>0</th>\n",
       "      <td>2.706850</td>\n",
       "      <td>0.628133</td>\n",
       "      <td>0.907969</td>\n",
       "      <td>0.503826</td>\n",
       "      <td>0.651118</td>\n",
       "    </tr>\n",
       "    <tr>\n",
       "      <th>1</th>\n",
       "      <td>-0.319318</td>\n",
       "      <td>-0.848077</td>\n",
       "      <td>0.605965</td>\n",
       "      <td>-2.018168</td>\n",
       "      <td>0.740122</td>\n",
       "    </tr>\n",
       "    <tr>\n",
       "      <th>2</th>\n",
       "      <td>0.528813</td>\n",
       "      <td>-0.589001</td>\n",
       "      <td>0.188695</td>\n",
       "      <td>-0.758872</td>\n",
       "      <td>-0.933237</td>\n",
       "    </tr>\n",
       "    <tr>\n",
       "      <th>3</th>\n",
       "      <td>0.955057</td>\n",
       "      <td>0.190794</td>\n",
       "      <td>1.978757</td>\n",
       "      <td>2.605967</td>\n",
       "      <td>0.683509</td>\n",
       "    </tr>\n",
       "    <tr>\n",
       "      <th>4</th>\n",
       "      <td>0.302665</td>\n",
       "      <td>1.693723</td>\n",
       "      <td>-1.706086</td>\n",
       "      <td>-1.159119</td>\n",
       "      <td>-0.134841</td>\n",
       "    </tr>\n",
       "    <tr>\n",
       "      <th>5</th>\n",
       "      <td>0.390528</td>\n",
       "      <td>0.166905</td>\n",
       "      <td>0.184502</td>\n",
       "      <td>0.807706</td>\n",
       "      <td>0.072960</td>\n",
       "    </tr>\n",
       "  </tbody>\n",
       "</table>\n",
       "</div>"
      ],
      "text/plain": [
       "       VAL1      VAL2      VAL3      VAL4      VAL5\n",
       "0  2.706850  0.628133  0.907969  0.503826  0.651118\n",
       "1 -0.319318 -0.848077  0.605965 -2.018168  0.740122\n",
       "2  0.528813 -0.589001  0.188695 -0.758872 -0.933237\n",
       "3  0.955057  0.190794  1.978757  2.605967  0.683509\n",
       "4  0.302665  1.693723 -1.706086 -1.159119 -0.134841\n",
       "5  0.390528  0.166905  0.184502  0.807706  0.072960"
      ]
     },
     "execution_count": 11,
     "metadata": {},
     "output_type": "execute_result"
    }
   ],
   "source": [
    "pd.read_csv(\"csv_example_data.csv\")"
   ]
  },
  {
   "cell_type": "code",
   "execution_count": null,
   "id": "9fe4aae3-ce36-4173-8918-378113fd953f",
   "metadata": {},
   "outputs": [],
   "source": []
  },
  {
   "cell_type": "code",
   "execution_count": null,
   "id": "cb47240a-23c6-4fb9-8acd-f4e72b0a4109",
   "metadata": {},
   "outputs": [],
   "source": []
  },
  {
   "cell_type": "markdown",
   "id": "d02ecf7e-758b-4085-a505-93307177b1ed",
   "metadata": {},
   "source": [
    "### Hata-1:"
   ]
  },
  {
   "cell_type": "raw",
   "id": "58e42e9b-0779-4645-85b8-8ca1d78b4076",
   "metadata": {},
   "source": [
    "# read_csv'de sep=\",\" parametresi öntanım olarak virgüldür.Öntanımlı olarak csv dosyası içerisinde değerler virgül ile \",\" ayrılması gerekirken noktalı virgül ile \";\" ayrıldığı için direkt olarak DF yapısında dosyayı açarken bu şekilde hatalı bir gösterimle karşı karşıya geliriz."
   ]
  },
  {
   "cell_type": "code",
   "execution_count": 48,
   "id": "9515fb4b-36f7-433f-9a48-38b04112dc0a",
   "metadata": {},
   "outputs": [
    {
     "data": {
      "text/html": [
       "<div>\n",
       "<style scoped>\n",
       "    .dataframe tbody tr th:only-of-type {\n",
       "        vertical-align: middle;\n",
       "    }\n",
       "\n",
       "    .dataframe tbody tr th {\n",
       "        vertical-align: top;\n",
       "    }\n",
       "\n",
       "    .dataframe thead th {\n",
       "        text-align: right;\n",
       "    }\n",
       "</style>\n",
       "<table border=\"1\" class=\"dataframe\">\n",
       "  <thead>\n",
       "    <tr style=\"text-align: right;\">\n",
       "      <th></th>\n",
       "      <th>employee;department;Year</th>\n",
       "    </tr>\n",
       "  </thead>\n",
       "  <tbody>\n",
       "    <tr>\n",
       "      <th>0</th>\n",
       "      <td>Julia;Data Science;2005</td>\n",
       "    </tr>\n",
       "    <tr>\n",
       "      <th>1</th>\n",
       "      <td>Marie;Web Development;2008</td>\n",
       "    </tr>\n",
       "    <tr>\n",
       "      <th>2</th>\n",
       "      <td>Adam;Data Science;2011</td>\n",
       "    </tr>\n",
       "    <tr>\n",
       "      <th>3</th>\n",
       "      <td>Nicole;Cyber Security;2002</td>\n",
       "    </tr>\n",
       "    <tr>\n",
       "      <th>4</th>\n",
       "      <td>Joseph;App Developer;2007</td>\n",
       "    </tr>\n",
       "    <tr>\n",
       "      <th>5</th>\n",
       "      <td>Kayra;Data Science;2008</td>\n",
       "    </tr>\n",
       "  </tbody>\n",
       "</table>\n",
       "</div>"
      ],
      "text/plain": [
       "     employee;department;Year\n",
       "0     Julia;Data Science;2005\n",
       "1  Marie;Web Development;2008\n",
       "2      Adam;Data Science;2011\n",
       "3  Nicole;Cyber Security;2002\n",
       "4   Joseph;App Developer;2007\n",
       "5     Kayra;Data Science;2008"
      ]
     },
     "execution_count": 48,
     "metadata": {},
     "output_type": "execute_result"
    }
   ],
   "source": [
    "pd.read_csv(\"csv_example_data_2.csv\") "
   ]
  },
  {
   "cell_type": "code",
   "execution_count": null,
   "id": "812c2ac9-5adb-487a-b778-7ef11a086ddf",
   "metadata": {},
   "outputs": [],
   "source": []
  },
  {
   "cell_type": "code",
   "execution_count": null,
   "id": "473409b8-5b8d-4db2-be4f-5b05ed926382",
   "metadata": {},
   "outputs": [],
   "source": []
  },
  {
   "cell_type": "raw",
   "id": "4b202a78-f450-4dc0-bd13-5edd43c67dea",
   "metadata": {},
   "source": [
    "# Yukarıdaki kod satırında belirttiğimiz hatayı almamak için sep=\";\" parametresi içerisine csv dosyasında değerler hangi özel işaret ile ayrılmışsa onu yazdık.Ve hatalı gösterim düzeldi."
   ]
  },
  {
   "cell_type": "code",
   "execution_count": 21,
   "id": "fc7f3cb7-3d06-4800-a3bb-ce2edcb43ac1",
   "metadata": {},
   "outputs": [
    {
     "data": {
      "text/html": [
       "<div>\n",
       "<style scoped>\n",
       "    .dataframe tbody tr th:only-of-type {\n",
       "        vertical-align: middle;\n",
       "    }\n",
       "\n",
       "    .dataframe tbody tr th {\n",
       "        vertical-align: top;\n",
       "    }\n",
       "\n",
       "    .dataframe thead th {\n",
       "        text-align: right;\n",
       "    }\n",
       "</style>\n",
       "<table border=\"1\" class=\"dataframe\">\n",
       "  <thead>\n",
       "    <tr style=\"text-align: right;\">\n",
       "      <th></th>\n",
       "      <th>employee</th>\n",
       "      <th>department</th>\n",
       "      <th>Year</th>\n",
       "    </tr>\n",
       "  </thead>\n",
       "  <tbody>\n",
       "    <tr>\n",
       "      <th>0</th>\n",
       "      <td>Julia</td>\n",
       "      <td>Data Science</td>\n",
       "      <td>2005</td>\n",
       "    </tr>\n",
       "    <tr>\n",
       "      <th>1</th>\n",
       "      <td>Marie</td>\n",
       "      <td>Web Development</td>\n",
       "      <td>2008</td>\n",
       "    </tr>\n",
       "    <tr>\n",
       "      <th>2</th>\n",
       "      <td>Adam</td>\n",
       "      <td>Data Science</td>\n",
       "      <td>2011</td>\n",
       "    </tr>\n",
       "    <tr>\n",
       "      <th>3</th>\n",
       "      <td>Nicole</td>\n",
       "      <td>Cyber Security</td>\n",
       "      <td>2002</td>\n",
       "    </tr>\n",
       "    <tr>\n",
       "      <th>4</th>\n",
       "      <td>Joseph</td>\n",
       "      <td>App Developer</td>\n",
       "      <td>2007</td>\n",
       "    </tr>\n",
       "    <tr>\n",
       "      <th>5</th>\n",
       "      <td>Kayra</td>\n",
       "      <td>Data Science</td>\n",
       "      <td>2008</td>\n",
       "    </tr>\n",
       "  </tbody>\n",
       "</table>\n",
       "</div>"
      ],
      "text/plain": [
       "  employee       department  Year\n",
       "0    Julia     Data Science  2005\n",
       "1    Marie  Web Development  2008\n",
       "2     Adam     Data Science  2011\n",
       "3   Nicole   Cyber Security  2002\n",
       "4   Joseph    App Developer  2007\n",
       "5    Kayra     Data Science  2008"
      ]
     },
     "execution_count": 21,
     "metadata": {},
     "output_type": "execute_result"
    }
   ],
   "source": [
    "pd.read_csv(\"csv_example_data_2.csv\", sep=\";\")"
   ]
  },
  {
   "cell_type": "code",
   "execution_count": null,
   "id": "01d2b421-8891-4323-84e5-56dc9a4716ed",
   "metadata": {},
   "outputs": [],
   "source": []
  },
  {
   "cell_type": "raw",
   "id": "a8307f42-a285-47ed-8159-bcb10382ebfd",
   "metadata": {},
   "source": [
    "# sep=\"\" parametresi yerine delimiter=\"\" parametresi de alternatif olarak kullanılabilir."
   ]
  },
  {
   "cell_type": "code",
   "execution_count": 29,
   "id": "a2629516-7a57-4873-b1d1-ac666c13395a",
   "metadata": {},
   "outputs": [
    {
     "data": {
      "text/html": [
       "<div>\n",
       "<style scoped>\n",
       "    .dataframe tbody tr th:only-of-type {\n",
       "        vertical-align: middle;\n",
       "    }\n",
       "\n",
       "    .dataframe tbody tr th {\n",
       "        vertical-align: top;\n",
       "    }\n",
       "\n",
       "    .dataframe thead th {\n",
       "        text-align: right;\n",
       "    }\n",
       "</style>\n",
       "<table border=\"1\" class=\"dataframe\">\n",
       "  <thead>\n",
       "    <tr style=\"text-align: right;\">\n",
       "      <th></th>\n",
       "      <th>employee</th>\n",
       "      <th>department</th>\n",
       "      <th>Year</th>\n",
       "    </tr>\n",
       "  </thead>\n",
       "  <tbody>\n",
       "    <tr>\n",
       "      <th>0</th>\n",
       "      <td>Julia</td>\n",
       "      <td>Data Science</td>\n",
       "      <td>2005</td>\n",
       "    </tr>\n",
       "    <tr>\n",
       "      <th>1</th>\n",
       "      <td>Marie</td>\n",
       "      <td>Web Development</td>\n",
       "      <td>2008</td>\n",
       "    </tr>\n",
       "    <tr>\n",
       "      <th>2</th>\n",
       "      <td>Adam</td>\n",
       "      <td>Data Science</td>\n",
       "      <td>2011</td>\n",
       "    </tr>\n",
       "    <tr>\n",
       "      <th>3</th>\n",
       "      <td>Nicole</td>\n",
       "      <td>Cyber Security</td>\n",
       "      <td>2002</td>\n",
       "    </tr>\n",
       "    <tr>\n",
       "      <th>4</th>\n",
       "      <td>Joseph</td>\n",
       "      <td>App Developer</td>\n",
       "      <td>2007</td>\n",
       "    </tr>\n",
       "    <tr>\n",
       "      <th>5</th>\n",
       "      <td>Kayra</td>\n",
       "      <td>Data Science</td>\n",
       "      <td>2008</td>\n",
       "    </tr>\n",
       "  </tbody>\n",
       "</table>\n",
       "</div>"
      ],
      "text/plain": [
       "  employee       department  Year\n",
       "0    Julia     Data Science  2005\n",
       "1    Marie  Web Development  2008\n",
       "2     Adam     Data Science  2011\n",
       "3   Nicole   Cyber Security  2002\n",
       "4   Joseph    App Developer  2007\n",
       "5    Kayra     Data Science  2008"
      ]
     },
     "execution_count": 29,
     "metadata": {},
     "output_type": "execute_result"
    }
   ],
   "source": [
    "pd.read_csv(\"csv_example_data_2.csv\", delimiter=\";\")"
   ]
  },
  {
   "cell_type": "code",
   "execution_count": null,
   "id": "d820ba2d-ddd8-4030-b513-8f8f6f04b521",
   "metadata": {},
   "outputs": [],
   "source": []
  },
  {
   "cell_type": "code",
   "execution_count": null,
   "id": "ca8472d6-edd1-4f8d-9df6-0e7275349c3d",
   "metadata": {},
   "outputs": [],
   "source": []
  },
  {
   "cell_type": "markdown",
   "id": "4a5ddfe7-3a7f-44f6-82d9-a94a40ff81fe",
   "metadata": {},
   "source": [
    "### Hata-2:"
   ]
  },
  {
   "cell_type": "code",
   "execution_count": 17,
   "id": "7b2066cc-8a56-4f70-a573-fa6f8b8ee10e",
   "metadata": {},
   "outputs": [
    {
     "data": {
      "text/html": [
       "<div>\n",
       "<style scoped>\n",
       "    .dataframe tbody tr th:only-of-type {\n",
       "        vertical-align: middle;\n",
       "    }\n",
       "\n",
       "    .dataframe tbody tr th {\n",
       "        vertical-align: top;\n",
       "    }\n",
       "\n",
       "    .dataframe thead th {\n",
       "        text-align: right;\n",
       "    }\n",
       "</style>\n",
       "<table border=\"1\" class=\"dataframe\">\n",
       "  <thead>\n",
       "    <tr style=\"text-align: right;\">\n",
       "      <th></th>\n",
       "      <th>Unnamed: 0</th>\n",
       "      <th>employee</th>\n",
       "      <th>department</th>\n",
       "      <th>Year</th>\n",
       "    </tr>\n",
       "  </thead>\n",
       "  <tbody>\n",
       "    <tr>\n",
       "      <th>0</th>\n",
       "      <td>0</td>\n",
       "      <td>Julia</td>\n",
       "      <td>Data Science</td>\n",
       "      <td>2005</td>\n",
       "    </tr>\n",
       "    <tr>\n",
       "      <th>1</th>\n",
       "      <td>1</td>\n",
       "      <td>Marie</td>\n",
       "      <td>Web Development</td>\n",
       "      <td>2008</td>\n",
       "    </tr>\n",
       "    <tr>\n",
       "      <th>2</th>\n",
       "      <td>2</td>\n",
       "      <td>Adam</td>\n",
       "      <td>Data Science</td>\n",
       "      <td>2011</td>\n",
       "    </tr>\n",
       "    <tr>\n",
       "      <th>3</th>\n",
       "      <td>3</td>\n",
       "      <td>Nicole</td>\n",
       "      <td>Cyber Security</td>\n",
       "      <td>2002</td>\n",
       "    </tr>\n",
       "    <tr>\n",
       "      <th>4</th>\n",
       "      <td>4</td>\n",
       "      <td>Joseph</td>\n",
       "      <td>App Developer</td>\n",
       "      <td>2007</td>\n",
       "    </tr>\n",
       "    <tr>\n",
       "      <th>5</th>\n",
       "      <td>5</td>\n",
       "      <td>Kayra</td>\n",
       "      <td>Data Science</td>\n",
       "      <td>2008</td>\n",
       "    </tr>\n",
       "  </tbody>\n",
       "</table>\n",
       "</div>"
      ],
      "text/plain": [
       "   Unnamed: 0 employee       department  Year\n",
       "0           0    Julia     Data Science  2005\n",
       "1           1    Marie  Web Development  2008\n",
       "2           2     Adam     Data Science  2011\n",
       "3           3   Nicole   Cyber Security  2002\n",
       "4           4   Joseph    App Developer  2007\n",
       "5           5    Kayra     Data Science  2008"
      ]
     },
     "execution_count": 17,
     "metadata": {},
     "output_type": "execute_result"
    }
   ],
   "source": [
    "pd.read_csv(\"csv_example_data_3.csv\")"
   ]
  },
  {
   "cell_type": "code",
   "execution_count": null,
   "id": "fb22359a-02da-42a9-a5ae-eea24b85cda6",
   "metadata": {},
   "outputs": [],
   "source": []
  },
  {
   "cell_type": "raw",
   "id": "f35646c2-bfad-47e4-9327-9c84377bf139",
   "metadata": {},
   "source": [
    "# index_col=0 parametresini kullanarak 0.indekste yer alan sütunu DF'in indeksi olarak atamış olduk."
   ]
  },
  {
   "cell_type": "code",
   "execution_count": 57,
   "id": "610e4c7f-6063-4f68-a0ee-ddcb8209f4fd",
   "metadata": {},
   "outputs": [
    {
     "data": {
      "text/html": [
       "<div>\n",
       "<style scoped>\n",
       "    .dataframe tbody tr th:only-of-type {\n",
       "        vertical-align: middle;\n",
       "    }\n",
       "\n",
       "    .dataframe tbody tr th {\n",
       "        vertical-align: top;\n",
       "    }\n",
       "\n",
       "    .dataframe thead th {\n",
       "        text-align: right;\n",
       "    }\n",
       "</style>\n",
       "<table border=\"1\" class=\"dataframe\">\n",
       "  <thead>\n",
       "    <tr style=\"text-align: right;\">\n",
       "      <th></th>\n",
       "      <th>employee</th>\n",
       "      <th>department</th>\n",
       "      <th>Year</th>\n",
       "    </tr>\n",
       "  </thead>\n",
       "  <tbody>\n",
       "    <tr>\n",
       "      <th>0</th>\n",
       "      <td>Julia</td>\n",
       "      <td>Data Science</td>\n",
       "      <td>2005</td>\n",
       "    </tr>\n",
       "    <tr>\n",
       "      <th>1</th>\n",
       "      <td>Marie</td>\n",
       "      <td>Web Development</td>\n",
       "      <td>2008</td>\n",
       "    </tr>\n",
       "    <tr>\n",
       "      <th>2</th>\n",
       "      <td>Adam</td>\n",
       "      <td>Data Science</td>\n",
       "      <td>2011</td>\n",
       "    </tr>\n",
       "    <tr>\n",
       "      <th>3</th>\n",
       "      <td>Nicole</td>\n",
       "      <td>Cyber Security</td>\n",
       "      <td>2002</td>\n",
       "    </tr>\n",
       "    <tr>\n",
       "      <th>4</th>\n",
       "      <td>Joseph</td>\n",
       "      <td>App Developer</td>\n",
       "      <td>2007</td>\n",
       "    </tr>\n",
       "    <tr>\n",
       "      <th>5</th>\n",
       "      <td>Kayra</td>\n",
       "      <td>Data Science</td>\n",
       "      <td>2008</td>\n",
       "    </tr>\n",
       "  </tbody>\n",
       "</table>\n",
       "</div>"
      ],
      "text/plain": [
       "  employee       department  Year\n",
       "0    Julia     Data Science  2005\n",
       "1    Marie  Web Development  2008\n",
       "2     Adam     Data Science  2011\n",
       "3   Nicole   Cyber Security  2002\n",
       "4   Joseph    App Developer  2007\n",
       "5    Kayra     Data Science  2008"
      ]
     },
     "execution_count": 57,
     "metadata": {},
     "output_type": "execute_result"
    }
   ],
   "source": [
    "pd.read_csv(\"csv_example_data_3.csv\", index_col=0)"
   ]
  },
  {
   "cell_type": "code",
   "execution_count": null,
   "id": "51c3e0aa-ca9f-45cb-8506-2cdf140f32d2",
   "metadata": {},
   "outputs": [],
   "source": []
  },
  {
   "cell_type": "code",
   "execution_count": null,
   "id": "e272751f-4513-425f-b647-383913ceecee",
   "metadata": {},
   "outputs": [],
   "source": []
  },
  {
   "cell_type": "markdown",
   "id": "8d7be27f-0ea0-44bb-9af2-26b34c124ce5",
   "metadata": {},
   "source": [
    "### Hata-3:"
   ]
  },
  {
   "cell_type": "raw",
   "id": "3e0c3b82-5e7b-4922-ac09-0e589150418f",
   "metadata": {},
   "source": [
    "# txt dosyası içerisinde yer alan değerler virgülle ayrılması gerekirken aralarında boşluk karakteri kullanılarak ayrılmış.Bu yüzden ifadeyi read_csv() fonksiyonu ile DF yapsında görmeye çalışırken aşağıdaki şekilde hatalı bir gösterimle karşı karşıya gelmiş oluruz."
   ]
  },
  {
   "cell_type": "code",
   "execution_count": 90,
   "id": "4c477083-2c0d-4214-8914-a3ebd14d8901",
   "metadata": {},
   "outputs": [],
   "source": [
    "df3 = pd.read_csv(\"example_text_data.txt\")"
   ]
  },
  {
   "cell_type": "code",
   "execution_count": 92,
   "id": "67491838-d689-4921-8a70-742579feac01",
   "metadata": {},
   "outputs": [
    {
     "data": {
      "text/html": [
       "<div>\n",
       "<style scoped>\n",
       "    .dataframe tbody tr th:only-of-type {\n",
       "        vertical-align: middle;\n",
       "    }\n",
       "\n",
       "    .dataframe tbody tr th {\n",
       "        vertical-align: top;\n",
       "    }\n",
       "\n",
       "    .dataframe thead th {\n",
       "        text-align: right;\n",
       "    }\n",
       "</style>\n",
       "<table border=\"1\" class=\"dataframe\">\n",
       "  <thead>\n",
       "    <tr style=\"text-align: right;\">\n",
       "      <th></th>\n",
       "      <th>VAL1 VAL2</th>\n",
       "    </tr>\n",
       "  </thead>\n",
       "  <tbody>\n",
       "    <tr>\n",
       "      <th>0</th>\n",
       "      <td>10 100</td>\n",
       "    </tr>\n",
       "    <tr>\n",
       "      <th>1</th>\n",
       "      <td>25 250</td>\n",
       "    </tr>\n",
       "    <tr>\n",
       "      <th>2</th>\n",
       "      <td>30 300</td>\n",
       "    </tr>\n",
       "    <tr>\n",
       "      <th>3</th>\n",
       "      <td>5 50</td>\n",
       "    </tr>\n",
       "    <tr>\n",
       "      <th>4</th>\n",
       "      <td>8 80</td>\n",
       "    </tr>\n",
       "    <tr>\n",
       "      <th>5</th>\n",
       "      <td>3 30</td>\n",
       "    </tr>\n",
       "    <tr>\n",
       "      <th>6</th>\n",
       "      <td>15 150</td>\n",
       "    </tr>\n",
       "    <tr>\n",
       "      <th>7</th>\n",
       "      <td>7 70</td>\n",
       "    </tr>\n",
       "    <tr>\n",
       "      <th>8</th>\n",
       "      <td>6 60</td>\n",
       "    </tr>\n",
       "  </tbody>\n",
       "</table>\n",
       "</div>"
      ],
      "text/plain": [
       "  VAL1 VAL2\n",
       "0    10 100\n",
       "1    25 250\n",
       "2    30 300\n",
       "3      5 50\n",
       "4      8 80\n",
       "5      3 30\n",
       "6    15 150\n",
       "7      7 70\n",
       "8      6 60"
      ]
     },
     "execution_count": 92,
     "metadata": {},
     "output_type": "execute_result"
    }
   ],
   "source": [
    "df3"
   ]
  },
  {
   "cell_type": "code",
   "execution_count": null,
   "id": "30540ff1-12cd-4f39-a083-53ee00da8766",
   "metadata": {},
   "outputs": [],
   "source": []
  },
  {
   "cell_type": "raw",
   "id": "93d5f880-4eba-48ec-8917-8ba22a3b92cb",
   "metadata": {},
   "source": [
    "# Bildiğimiz üzere bu hatayı gidermek için öntanımlı değeri virgül \",\" olan sep=\"\" parametresini, txt dosyası içerisinde yer alan değerler hangi karakter ile ayrılmışsa onu sep=\"\" parametresi içerisine yazarız ve hatayı gidermiş oluruz."
   ]
  },
  {
   "cell_type": "code",
   "execution_count": 87,
   "id": "882efbdb-ac7c-4937-b6c9-6ad2893ef73a",
   "metadata": {},
   "outputs": [
    {
     "data": {
      "text/html": [
       "<div>\n",
       "<style scoped>\n",
       "    .dataframe tbody tr th:only-of-type {\n",
       "        vertical-align: middle;\n",
       "    }\n",
       "\n",
       "    .dataframe tbody tr th {\n",
       "        vertical-align: top;\n",
       "    }\n",
       "\n",
       "    .dataframe thead th {\n",
       "        text-align: right;\n",
       "    }\n",
       "</style>\n",
       "<table border=\"1\" class=\"dataframe\">\n",
       "  <thead>\n",
       "    <tr style=\"text-align: right;\">\n",
       "      <th></th>\n",
       "      <th>VAL1</th>\n",
       "      <th>VAL2</th>\n",
       "    </tr>\n",
       "  </thead>\n",
       "  <tbody>\n",
       "    <tr>\n",
       "      <th>0</th>\n",
       "      <td>10</td>\n",
       "      <td>100</td>\n",
       "    </tr>\n",
       "    <tr>\n",
       "      <th>1</th>\n",
       "      <td>25</td>\n",
       "      <td>250</td>\n",
       "    </tr>\n",
       "    <tr>\n",
       "      <th>2</th>\n",
       "      <td>30</td>\n",
       "      <td>300</td>\n",
       "    </tr>\n",
       "    <tr>\n",
       "      <th>3</th>\n",
       "      <td>5</td>\n",
       "      <td>50</td>\n",
       "    </tr>\n",
       "    <tr>\n",
       "      <th>4</th>\n",
       "      <td>8</td>\n",
       "      <td>80</td>\n",
       "    </tr>\n",
       "    <tr>\n",
       "      <th>5</th>\n",
       "      <td>3</td>\n",
       "      <td>30</td>\n",
       "    </tr>\n",
       "    <tr>\n",
       "      <th>6</th>\n",
       "      <td>15</td>\n",
       "      <td>150</td>\n",
       "    </tr>\n",
       "    <tr>\n",
       "      <th>7</th>\n",
       "      <td>7</td>\n",
       "      <td>70</td>\n",
       "    </tr>\n",
       "    <tr>\n",
       "      <th>8</th>\n",
       "      <td>6</td>\n",
       "      <td>60</td>\n",
       "    </tr>\n",
       "  </tbody>\n",
       "</table>\n",
       "</div>"
      ],
      "text/plain": [
       "   VAL1  VAL2\n",
       "0    10   100\n",
       "1    25   250\n",
       "2    30   300\n",
       "3     5    50\n",
       "4     8    80\n",
       "5     3    30\n",
       "6    15   150\n",
       "7     7    70\n",
       "8     6    60"
      ]
     },
     "execution_count": 87,
     "metadata": {},
     "output_type": "execute_result"
    }
   ],
   "source": [
    "df3 = pd.read_csv(\"example_text_data.txt\", sep = \" \")\n",
    "df3"
   ]
  },
  {
   "cell_type": "code",
   "execution_count": null,
   "id": "0f5d6657-3ce5-477f-a07a-e18c4fa124d2",
   "metadata": {},
   "outputs": [],
   "source": []
  },
  {
   "cell_type": "raw",
   "id": "b5a7af16-fa7a-43ff-91b2-6b67630de51c",
   "metadata": {},
   "source": [
    "# Aynı işlemi delimiter parametresini kullanarak da yapabiliriz."
   ]
  },
  {
   "cell_type": "code",
   "execution_count": 99,
   "id": "4d9556f1-1f64-42a6-bbb6-91238f1793d5",
   "metadata": {},
   "outputs": [
    {
     "data": {
      "text/html": [
       "<div>\n",
       "<style scoped>\n",
       "    .dataframe tbody tr th:only-of-type {\n",
       "        vertical-align: middle;\n",
       "    }\n",
       "\n",
       "    .dataframe tbody tr th {\n",
       "        vertical-align: top;\n",
       "    }\n",
       "\n",
       "    .dataframe thead th {\n",
       "        text-align: right;\n",
       "    }\n",
       "</style>\n",
       "<table border=\"1\" class=\"dataframe\">\n",
       "  <thead>\n",
       "    <tr style=\"text-align: right;\">\n",
       "      <th></th>\n",
       "      <th>VAL1</th>\n",
       "      <th>VAL2</th>\n",
       "    </tr>\n",
       "  </thead>\n",
       "  <tbody>\n",
       "    <tr>\n",
       "      <th>0</th>\n",
       "      <td>10</td>\n",
       "      <td>100</td>\n",
       "    </tr>\n",
       "    <tr>\n",
       "      <th>1</th>\n",
       "      <td>25</td>\n",
       "      <td>250</td>\n",
       "    </tr>\n",
       "    <tr>\n",
       "      <th>2</th>\n",
       "      <td>30</td>\n",
       "      <td>300</td>\n",
       "    </tr>\n",
       "    <tr>\n",
       "      <th>3</th>\n",
       "      <td>5</td>\n",
       "      <td>50</td>\n",
       "    </tr>\n",
       "    <tr>\n",
       "      <th>4</th>\n",
       "      <td>8</td>\n",
       "      <td>80</td>\n",
       "    </tr>\n",
       "    <tr>\n",
       "      <th>5</th>\n",
       "      <td>3</td>\n",
       "      <td>30</td>\n",
       "    </tr>\n",
       "    <tr>\n",
       "      <th>6</th>\n",
       "      <td>15</td>\n",
       "      <td>150</td>\n",
       "    </tr>\n",
       "    <tr>\n",
       "      <th>7</th>\n",
       "      <td>7</td>\n",
       "      <td>70</td>\n",
       "    </tr>\n",
       "    <tr>\n",
       "      <th>8</th>\n",
       "      <td>6</td>\n",
       "      <td>60</td>\n",
       "    </tr>\n",
       "  </tbody>\n",
       "</table>\n",
       "</div>"
      ],
      "text/plain": [
       "   VAL1  VAL2\n",
       "0    10   100\n",
       "1    25   250\n",
       "2    30   300\n",
       "3     5    50\n",
       "4     8    80\n",
       "5     3    30\n",
       "6    15   150\n",
       "7     7    70\n",
       "8     6    60"
      ]
     },
     "execution_count": 99,
     "metadata": {},
     "output_type": "execute_result"
    }
   ],
   "source": [
    "df4 = pd.read_csv(\"example_text_data.txt\", delimiter = \" \")\n",
    "df4"
   ]
  },
  {
   "cell_type": "code",
   "execution_count": null,
   "id": "ce37d90f-a020-4fed-a322-565a4d129316",
   "metadata": {},
   "outputs": [],
   "source": []
  },
  {
   "cell_type": "code",
   "execution_count": null,
   "id": "d3a3b2c5-322a-4522-9c8e-e9513a8daf24",
   "metadata": {},
   "outputs": [],
   "source": []
  },
  {
   "cell_type": "markdown",
   "id": "c4391ca7-e3b9-462c-84b0-485a028c5eb9",
   "metadata": {},
   "source": [
    "## Excel Dosyaları İle Veri Girişi"
   ]
  },
  {
   "cell_type": "code",
   "execution_count": 103,
   "id": "fb13d252-2b9d-4996-b920-3873d6bebc6a",
   "metadata": {},
   "outputs": [],
   "source": [
    "import pandas as pd"
   ]
  },
  {
   "cell_type": "code",
   "execution_count": null,
   "id": "3604d18d-7a12-4123-a238-11edb4814c17",
   "metadata": {},
   "outputs": [],
   "source": []
  },
  {
   "cell_type": "code",
   "execution_count": 105,
   "id": "d6190e71-0274-4ebf-89f4-748aae1e3c3d",
   "metadata": {},
   "outputs": [],
   "source": [
    "df_excel1 = pd.read_excel(\"excel_example_data.xlsx\")"
   ]
  },
  {
   "cell_type": "code",
   "execution_count": 107,
   "id": "bf95f68a-a3d5-4fa3-bc1d-c7501ff45134",
   "metadata": {},
   "outputs": [
    {
     "data": {
      "text/html": [
       "<div>\n",
       "<style scoped>\n",
       "    .dataframe tbody tr th:only-of-type {\n",
       "        vertical-align: middle;\n",
       "    }\n",
       "\n",
       "    .dataframe tbody tr th {\n",
       "        vertical-align: top;\n",
       "    }\n",
       "\n",
       "    .dataframe thead th {\n",
       "        text-align: right;\n",
       "    }\n",
       "</style>\n",
       "<table border=\"1\" class=\"dataframe\">\n",
       "  <thead>\n",
       "    <tr style=\"text-align: right;\">\n",
       "      <th></th>\n",
       "      <th>employee</th>\n",
       "      <th>department</th>\n",
       "      <th>Year</th>\n",
       "    </tr>\n",
       "  </thead>\n",
       "  <tbody>\n",
       "    <tr>\n",
       "      <th>0</th>\n",
       "      <td>Julia</td>\n",
       "      <td>Data Science</td>\n",
       "      <td>2005</td>\n",
       "    </tr>\n",
       "    <tr>\n",
       "      <th>1</th>\n",
       "      <td>Marie</td>\n",
       "      <td>Web Development</td>\n",
       "      <td>2008</td>\n",
       "    </tr>\n",
       "    <tr>\n",
       "      <th>2</th>\n",
       "      <td>Adam</td>\n",
       "      <td>Data Science</td>\n",
       "      <td>2011</td>\n",
       "    </tr>\n",
       "    <tr>\n",
       "      <th>3</th>\n",
       "      <td>Nicole</td>\n",
       "      <td>Cyber Security</td>\n",
       "      <td>2002</td>\n",
       "    </tr>\n",
       "    <tr>\n",
       "      <th>4</th>\n",
       "      <td>Joseph</td>\n",
       "      <td>App Developer</td>\n",
       "      <td>2007</td>\n",
       "    </tr>\n",
       "    <tr>\n",
       "      <th>5</th>\n",
       "      <td>Kayra</td>\n",
       "      <td>Data Science</td>\n",
       "      <td>2008</td>\n",
       "    </tr>\n",
       "  </tbody>\n",
       "</table>\n",
       "</div>"
      ],
      "text/plain": [
       "  employee       department  Year\n",
       "0    Julia     Data Science  2005\n",
       "1    Marie  Web Development  2008\n",
       "2     Adam     Data Science  2011\n",
       "3   Nicole   Cyber Security  2002\n",
       "4   Joseph    App Developer  2007\n",
       "5    Kayra     Data Science  2008"
      ]
     },
     "execution_count": 107,
     "metadata": {},
     "output_type": "execute_result"
    }
   ],
   "source": [
    "df_excel1"
   ]
  },
  {
   "cell_type": "code",
   "execution_count": null,
   "id": "408b6454-0733-4e07-a6d2-7f9ce2fac0f8",
   "metadata": {},
   "outputs": [],
   "source": []
  },
  {
   "cell_type": "code",
   "execution_count": null,
   "id": "8c5dd1d3-2d16-4451-8095-8c245367e745",
   "metadata": {},
   "outputs": [],
   "source": []
  },
  {
   "cell_type": "raw",
   "id": "4e5fe055-a36d-4a05-9db9-30c438b10d7b",
   "metadata": {},
   "source": [
    "# read_excel() fonksiyonu içerisine yazarak içe aktaracağımız excel dosyasının çoklu sayfalardan oluşması halinde, sheet_name=\"\" parametresi içerisine hangi excel sayfasını içe aktarmak istiyorsak o sayfanın Excel'deki ismini yazarız ve sonrasında gerekli dönüşüm ve işlemleri yapabiliriz."
   ]
  },
  {
   "cell_type": "code",
   "execution_count": 112,
   "id": "75dcde4c-85e5-4810-ab89-3d88b79de51d",
   "metadata": {},
   "outputs": [],
   "source": [
    "df_excel2 = pd.read_excel(\"excel_example_data.xlsx\", sheet_name=\"Sheet2\")"
   ]
  },
  {
   "cell_type": "code",
   "execution_count": 114,
   "id": "85f7fbdc-0bcb-42d8-8958-23c7b1443855",
   "metadata": {},
   "outputs": [
    {
     "data": {
      "text/html": [
       "<div>\n",
       "<style scoped>\n",
       "    .dataframe tbody tr th:only-of-type {\n",
       "        vertical-align: middle;\n",
       "    }\n",
       "\n",
       "    .dataframe tbody tr th {\n",
       "        vertical-align: top;\n",
       "    }\n",
       "\n",
       "    .dataframe thead th {\n",
       "        text-align: right;\n",
       "    }\n",
       "</style>\n",
       "<table border=\"1\" class=\"dataframe\">\n",
       "  <thead>\n",
       "    <tr style=\"text-align: right;\">\n",
       "      <th></th>\n",
       "      <th>employee</th>\n",
       "      <th>age</th>\n",
       "    </tr>\n",
       "  </thead>\n",
       "  <tbody>\n",
       "    <tr>\n",
       "      <th>0</th>\n",
       "      <td>Julia</td>\n",
       "      <td>35</td>\n",
       "    </tr>\n",
       "    <tr>\n",
       "      <th>1</th>\n",
       "      <td>Marie</td>\n",
       "      <td>40</td>\n",
       "    </tr>\n",
       "    <tr>\n",
       "      <th>2</th>\n",
       "      <td>Adam</td>\n",
       "      <td>38</td>\n",
       "    </tr>\n",
       "    <tr>\n",
       "      <th>3</th>\n",
       "      <td>Nicole</td>\n",
       "      <td>33</td>\n",
       "    </tr>\n",
       "    <tr>\n",
       "      <th>4</th>\n",
       "      <td>Joseph</td>\n",
       "      <td>29</td>\n",
       "    </tr>\n",
       "    <tr>\n",
       "      <th>5</th>\n",
       "      <td>Kayra</td>\n",
       "      <td>27</td>\n",
       "    </tr>\n",
       "  </tbody>\n",
       "</table>\n",
       "</div>"
      ],
      "text/plain": [
       "  employee  age\n",
       "0    Julia   35\n",
       "1    Marie   40\n",
       "2     Adam   38\n",
       "3   Nicole   33\n",
       "4   Joseph   29\n",
       "5    Kayra   27"
      ]
     },
     "execution_count": 114,
     "metadata": {},
     "output_type": "execute_result"
    }
   ],
   "source": [
    "df_excel2"
   ]
  },
  {
   "cell_type": "code",
   "execution_count": null,
   "id": "69742c93-b18b-425d-95a2-6b22f55b83a0",
   "metadata": {},
   "outputs": [],
   "source": []
  },
  {
   "cell_type": "code",
   "execution_count": null,
   "id": "fa003862-9d21-4b28-a995-d054b25dbf0b",
   "metadata": {},
   "outputs": [],
   "source": []
  },
  {
   "cell_type": "raw",
   "id": "ffa4996f-93a5-4df6-ae20-78d46a7bdaf7",
   "metadata": {},
   "source": [
    "# Her iki DF içerisinde de ortak sütun bulunduğu için bu ayrı DF'leri pd.merge() fonksiyonunu kullanarak ortak sütunları üzerinden birleştirmiş olduk."
   ]
  },
  {
   "cell_type": "code",
   "execution_count": 128,
   "id": "c303c50a-389d-4757-8b6a-1c9c505d2c05",
   "metadata": {},
   "outputs": [],
   "source": [
    "df_excel_merge = pd.merge(df_excel1, df_excel2, how = \"inner\")"
   ]
  },
  {
   "cell_type": "code",
   "execution_count": 130,
   "id": "7701218b-8819-4714-ac21-2bffc0bfe979",
   "metadata": {},
   "outputs": [
    {
     "data": {
      "text/html": [
       "<div>\n",
       "<style scoped>\n",
       "    .dataframe tbody tr th:only-of-type {\n",
       "        vertical-align: middle;\n",
       "    }\n",
       "\n",
       "    .dataframe tbody tr th {\n",
       "        vertical-align: top;\n",
       "    }\n",
       "\n",
       "    .dataframe thead th {\n",
       "        text-align: right;\n",
       "    }\n",
       "</style>\n",
       "<table border=\"1\" class=\"dataframe\">\n",
       "  <thead>\n",
       "    <tr style=\"text-align: right;\">\n",
       "      <th></th>\n",
       "      <th>employee</th>\n",
       "      <th>department</th>\n",
       "      <th>Year</th>\n",
       "      <th>age</th>\n",
       "    </tr>\n",
       "  </thead>\n",
       "  <tbody>\n",
       "    <tr>\n",
       "      <th>0</th>\n",
       "      <td>Julia</td>\n",
       "      <td>Data Science</td>\n",
       "      <td>2005</td>\n",
       "      <td>35</td>\n",
       "    </tr>\n",
       "    <tr>\n",
       "      <th>1</th>\n",
       "      <td>Marie</td>\n",
       "      <td>Web Development</td>\n",
       "      <td>2008</td>\n",
       "      <td>40</td>\n",
       "    </tr>\n",
       "    <tr>\n",
       "      <th>2</th>\n",
       "      <td>Adam</td>\n",
       "      <td>Data Science</td>\n",
       "      <td>2011</td>\n",
       "      <td>38</td>\n",
       "    </tr>\n",
       "    <tr>\n",
       "      <th>3</th>\n",
       "      <td>Nicole</td>\n",
       "      <td>Cyber Security</td>\n",
       "      <td>2002</td>\n",
       "      <td>33</td>\n",
       "    </tr>\n",
       "    <tr>\n",
       "      <th>4</th>\n",
       "      <td>Joseph</td>\n",
       "      <td>App Developer</td>\n",
       "      <td>2007</td>\n",
       "      <td>29</td>\n",
       "    </tr>\n",
       "    <tr>\n",
       "      <th>5</th>\n",
       "      <td>Kayra</td>\n",
       "      <td>Data Science</td>\n",
       "      <td>2008</td>\n",
       "      <td>27</td>\n",
       "    </tr>\n",
       "  </tbody>\n",
       "</table>\n",
       "</div>"
      ],
      "text/plain": [
       "  employee       department  Year  age\n",
       "0    Julia     Data Science  2005   35\n",
       "1    Marie  Web Development  2008   40\n",
       "2     Adam     Data Science  2011   38\n",
       "3   Nicole   Cyber Security  2002   33\n",
       "4   Joseph    App Developer  2007   29\n",
       "5    Kayra     Data Science  2008   27"
      ]
     },
     "execution_count": 130,
     "metadata": {},
     "output_type": "execute_result"
    }
   ],
   "source": [
    "df_excel_merge"
   ]
  },
  {
   "cell_type": "code",
   "execution_count": null,
   "id": "9e1b8b92-b245-4c23-a143-ef7168cbb0d5",
   "metadata": {},
   "outputs": [],
   "source": []
  },
  {
   "cell_type": "code",
   "execution_count": null,
   "id": "86c31521-1611-4698-b451-44f9d5e5d1b1",
   "metadata": {},
   "outputs": [],
   "source": []
  },
  {
   "cell_type": "markdown",
   "id": "cef3d830-02c1-49b2-801b-e53b5bf61545",
   "metadata": {},
   "source": [
    "## Pandas Kütüphanesi İle Veri Çıkışı"
   ]
  },
  {
   "cell_type": "markdown",
   "id": "80cf4e2b-b091-4b3f-980a-dde2614e2014",
   "metadata": {},
   "source": [
    "### CSV Uzantılı Dosya Çıktısı Alma"
   ]
  },
  {
   "cell_type": "code",
   "execution_count": 144,
   "id": "6b4c0ecc-d28e-438f-aada-16b475367ea6",
   "metadata": {},
   "outputs": [],
   "source": [
    "import pandas as pd"
   ]
  },
  {
   "cell_type": "code",
   "execution_count": null,
   "id": "a58fb5f3-f6d8-498b-8318-62108f88e824",
   "metadata": {},
   "outputs": [],
   "source": []
  },
  {
   "cell_type": "code",
   "execution_count": 147,
   "id": "69e1e309-97f4-4883-a0ff-3bfb64b2338d",
   "metadata": {},
   "outputs": [],
   "source": [
    "df1 = pd.DataFrame({'employee': ['Julia', 'Marie', 'Adam', 'Nicole'],\n",
    "                     'department': ['Data Science', 'Web Development', 'Data Science', 'Cyber Security'],\n",
    "                     'Year': ['2005', '2008', '2011', '2002']})\n",
    "   \n",
    "df2 = pd.DataFrame({'employee': ['Nicole', 'Adam', 'Julia', 'Marie'],\n",
    "                          'country': ['Canada', 'England', 'USA', 'Germany'],\n",
    "                          'salary': ['22000', '16000', '20000', '17500']})  "
   ]
  },
  {
   "cell_type": "code",
   "execution_count": null,
   "id": "c12a6a4c-87eb-4a7a-a085-6051a22c28a2",
   "metadata": {},
   "outputs": [],
   "source": []
  },
  {
   "cell_type": "code",
   "execution_count": 149,
   "id": "f0acc5f0-5bee-4aae-8434-6393a3169ab3",
   "metadata": {},
   "outputs": [
    {
     "data": {
      "text/html": [
       "<div>\n",
       "<style scoped>\n",
       "    .dataframe tbody tr th:only-of-type {\n",
       "        vertical-align: middle;\n",
       "    }\n",
       "\n",
       "    .dataframe tbody tr th {\n",
       "        vertical-align: top;\n",
       "    }\n",
       "\n",
       "    .dataframe thead th {\n",
       "        text-align: right;\n",
       "    }\n",
       "</style>\n",
       "<table border=\"1\" class=\"dataframe\">\n",
       "  <thead>\n",
       "    <tr style=\"text-align: right;\">\n",
       "      <th></th>\n",
       "      <th>employee</th>\n",
       "      <th>department</th>\n",
       "      <th>Year</th>\n",
       "    </tr>\n",
       "  </thead>\n",
       "  <tbody>\n",
       "    <tr>\n",
       "      <th>0</th>\n",
       "      <td>Julia</td>\n",
       "      <td>Data Science</td>\n",
       "      <td>2005</td>\n",
       "    </tr>\n",
       "    <tr>\n",
       "      <th>1</th>\n",
       "      <td>Marie</td>\n",
       "      <td>Web Development</td>\n",
       "      <td>2008</td>\n",
       "    </tr>\n",
       "    <tr>\n",
       "      <th>2</th>\n",
       "      <td>Adam</td>\n",
       "      <td>Data Science</td>\n",
       "      <td>2011</td>\n",
       "    </tr>\n",
       "    <tr>\n",
       "      <th>3</th>\n",
       "      <td>Nicole</td>\n",
       "      <td>Cyber Security</td>\n",
       "      <td>2002</td>\n",
       "    </tr>\n",
       "  </tbody>\n",
       "</table>\n",
       "</div>"
      ],
      "text/plain": [
       "  employee       department  Year\n",
       "0    Julia     Data Science  2005\n",
       "1    Marie  Web Development  2008\n",
       "2     Adam     Data Science  2011\n",
       "3   Nicole   Cyber Security  2002"
      ]
     },
     "execution_count": 149,
     "metadata": {},
     "output_type": "execute_result"
    }
   ],
   "source": [
    "df1"
   ]
  },
  {
   "cell_type": "code",
   "execution_count": 151,
   "id": "bc430f66-b2cc-455e-8a0c-22f0f9dd0890",
   "metadata": {},
   "outputs": [
    {
     "data": {
      "text/html": [
       "<div>\n",
       "<style scoped>\n",
       "    .dataframe tbody tr th:only-of-type {\n",
       "        vertical-align: middle;\n",
       "    }\n",
       "\n",
       "    .dataframe tbody tr th {\n",
       "        vertical-align: top;\n",
       "    }\n",
       "\n",
       "    .dataframe thead th {\n",
       "        text-align: right;\n",
       "    }\n",
       "</style>\n",
       "<table border=\"1\" class=\"dataframe\">\n",
       "  <thead>\n",
       "    <tr style=\"text-align: right;\">\n",
       "      <th></th>\n",
       "      <th>employee</th>\n",
       "      <th>country</th>\n",
       "      <th>salary</th>\n",
       "    </tr>\n",
       "  </thead>\n",
       "  <tbody>\n",
       "    <tr>\n",
       "      <th>0</th>\n",
       "      <td>Nicole</td>\n",
       "      <td>Canada</td>\n",
       "      <td>22000</td>\n",
       "    </tr>\n",
       "    <tr>\n",
       "      <th>1</th>\n",
       "      <td>Adam</td>\n",
       "      <td>England</td>\n",
       "      <td>16000</td>\n",
       "    </tr>\n",
       "    <tr>\n",
       "      <th>2</th>\n",
       "      <td>Julia</td>\n",
       "      <td>USA</td>\n",
       "      <td>20000</td>\n",
       "    </tr>\n",
       "    <tr>\n",
       "      <th>3</th>\n",
       "      <td>Marie</td>\n",
       "      <td>Germany</td>\n",
       "      <td>17500</td>\n",
       "    </tr>\n",
       "  </tbody>\n",
       "</table>\n",
       "</div>"
      ],
      "text/plain": [
       "  employee  country salary\n",
       "0   Nicole   Canada  22000\n",
       "1     Adam  England  16000\n",
       "2    Julia      USA  20000\n",
       "3    Marie  Germany  17500"
      ]
     },
     "execution_count": 151,
     "metadata": {},
     "output_type": "execute_result"
    }
   ],
   "source": [
    "df2"
   ]
  },
  {
   "cell_type": "code",
   "execution_count": null,
   "id": "25af0015-9a44-48b9-89b1-dae43ed9327c",
   "metadata": {},
   "outputs": [],
   "source": []
  },
  {
   "cell_type": "code",
   "execution_count": 153,
   "id": "f783190c-4cd1-4f42-aef8-9d4f14029880",
   "metadata": {},
   "outputs": [],
   "source": [
    "df3 = pd.merge(df1, df2)"
   ]
  },
  {
   "cell_type": "code",
   "execution_count": 155,
   "id": "69cd56ab-6396-4e88-a4fd-84ac84172f61",
   "metadata": {},
   "outputs": [
    {
     "data": {
      "text/html": [
       "<div>\n",
       "<style scoped>\n",
       "    .dataframe tbody tr th:only-of-type {\n",
       "        vertical-align: middle;\n",
       "    }\n",
       "\n",
       "    .dataframe tbody tr th {\n",
       "        vertical-align: top;\n",
       "    }\n",
       "\n",
       "    .dataframe thead th {\n",
       "        text-align: right;\n",
       "    }\n",
       "</style>\n",
       "<table border=\"1\" class=\"dataframe\">\n",
       "  <thead>\n",
       "    <tr style=\"text-align: right;\">\n",
       "      <th></th>\n",
       "      <th>employee</th>\n",
       "      <th>department</th>\n",
       "      <th>Year</th>\n",
       "      <th>country</th>\n",
       "      <th>salary</th>\n",
       "    </tr>\n",
       "  </thead>\n",
       "  <tbody>\n",
       "    <tr>\n",
       "      <th>0</th>\n",
       "      <td>Julia</td>\n",
       "      <td>Data Science</td>\n",
       "      <td>2005</td>\n",
       "      <td>USA</td>\n",
       "      <td>20000</td>\n",
       "    </tr>\n",
       "    <tr>\n",
       "      <th>1</th>\n",
       "      <td>Marie</td>\n",
       "      <td>Web Development</td>\n",
       "      <td>2008</td>\n",
       "      <td>Germany</td>\n",
       "      <td>17500</td>\n",
       "    </tr>\n",
       "    <tr>\n",
       "      <th>2</th>\n",
       "      <td>Adam</td>\n",
       "      <td>Data Science</td>\n",
       "      <td>2011</td>\n",
       "      <td>England</td>\n",
       "      <td>16000</td>\n",
       "    </tr>\n",
       "    <tr>\n",
       "      <th>3</th>\n",
       "      <td>Nicole</td>\n",
       "      <td>Cyber Security</td>\n",
       "      <td>2002</td>\n",
       "      <td>Canada</td>\n",
       "      <td>22000</td>\n",
       "    </tr>\n",
       "  </tbody>\n",
       "</table>\n",
       "</div>"
      ],
      "text/plain": [
       "  employee       department  Year  country salary\n",
       "0    Julia     Data Science  2005      USA  20000\n",
       "1    Marie  Web Development  2008  Germany  17500\n",
       "2     Adam     Data Science  2011  England  16000\n",
       "3   Nicole   Cyber Security  2002   Canada  22000"
      ]
     },
     "execution_count": 155,
     "metadata": {},
     "output_type": "execute_result"
    }
   ],
   "source": [
    "df3"
   ]
  },
  {
   "cell_type": "code",
   "execution_count": null,
   "id": "f4b264f3-b112-4e7d-9808-760e4e37026d",
   "metadata": {},
   "outputs": [],
   "source": []
  },
  {
   "cell_type": "code",
   "execution_count": null,
   "id": "2cd85a67-b647-4a65-8020-a9605d918a9c",
   "metadata": {},
   "outputs": [],
   "source": []
  },
  {
   "cell_type": "markdown",
   "id": "a22a3a33-386e-4403-8088-5efc26ac10dd",
   "metadata": {},
   "source": [
    "### to_csv()"
   ]
  },
  {
   "cell_type": "raw",
   "id": "b85e516c-9304-476d-b32b-d758d53814e3",
   "metadata": {},
   "source": [
    "# to_csv() fonksiyonu ile DF yapısını csv dosyasına dönüştürme işlemi yapabiliriz."
   ]
  },
  {
   "cell_type": "code",
   "execution_count": 158,
   "id": "e032fb57-50c9-4f3d-8db8-ee7b49dba862",
   "metadata": {},
   "outputs": [],
   "source": [
    "df3.to_csv(\"new_data_merge.csv\") "
   ]
  },
  {
   "cell_type": "code",
   "execution_count": null,
   "id": "75d39397-f48f-4a2f-b6b8-4eb8e20ec2e7",
   "metadata": {},
   "outputs": [],
   "source": []
  },
  {
   "cell_type": "code",
   "execution_count": 165,
   "id": "2f4f91ec-e7dd-4a80-9b1b-8a75ddb8665c",
   "metadata": {},
   "outputs": [
    {
     "data": {
      "text/html": [
       "<div>\n",
       "<style scoped>\n",
       "    .dataframe tbody tr th:only-of-type {\n",
       "        vertical-align: middle;\n",
       "    }\n",
       "\n",
       "    .dataframe tbody tr th {\n",
       "        vertical-align: top;\n",
       "    }\n",
       "\n",
       "    .dataframe thead th {\n",
       "        text-align: right;\n",
       "    }\n",
       "</style>\n",
       "<table border=\"1\" class=\"dataframe\">\n",
       "  <thead>\n",
       "    <tr style=\"text-align: right;\">\n",
       "      <th></th>\n",
       "      <th>Unnamed: 0</th>\n",
       "      <th>employee</th>\n",
       "      <th>department</th>\n",
       "      <th>Year</th>\n",
       "      <th>country</th>\n",
       "      <th>salary</th>\n",
       "    </tr>\n",
       "  </thead>\n",
       "  <tbody>\n",
       "    <tr>\n",
       "      <th>0</th>\n",
       "      <td>0</td>\n",
       "      <td>Julia</td>\n",
       "      <td>Data Science</td>\n",
       "      <td>2005</td>\n",
       "      <td>USA</td>\n",
       "      <td>20000</td>\n",
       "    </tr>\n",
       "    <tr>\n",
       "      <th>1</th>\n",
       "      <td>1</td>\n",
       "      <td>Marie</td>\n",
       "      <td>Web Development</td>\n",
       "      <td>2008</td>\n",
       "      <td>Germany</td>\n",
       "      <td>17500</td>\n",
       "    </tr>\n",
       "    <tr>\n",
       "      <th>2</th>\n",
       "      <td>2</td>\n",
       "      <td>Adam</td>\n",
       "      <td>Data Science</td>\n",
       "      <td>2011</td>\n",
       "      <td>England</td>\n",
       "      <td>16000</td>\n",
       "    </tr>\n",
       "    <tr>\n",
       "      <th>3</th>\n",
       "      <td>3</td>\n",
       "      <td>Nicole</td>\n",
       "      <td>Cyber Security</td>\n",
       "      <td>2002</td>\n",
       "      <td>Canada</td>\n",
       "      <td>22000</td>\n",
       "    </tr>\n",
       "  </tbody>\n",
       "</table>\n",
       "</div>"
      ],
      "text/plain": [
       "   Unnamed: 0 employee       department  Year  country  salary\n",
       "0           0    Julia     Data Science  2005      USA   20000\n",
       "1           1    Marie  Web Development  2008  Germany   17500\n",
       "2           2     Adam     Data Science  2011  England   16000\n",
       "3           3   Nicole   Cyber Security  2002   Canada   22000"
      ]
     },
     "execution_count": 165,
     "metadata": {},
     "output_type": "execute_result"
    }
   ],
   "source": [
    "df_csv = pd.read_csv(\"new_data_merge.csv\")\n",
    "df_csv"
   ]
  },
  {
   "cell_type": "code",
   "execution_count": null,
   "id": "cb517140-de94-45a9-ae70-2f801e01cb33",
   "metadata": {},
   "outputs": [],
   "source": []
  },
  {
   "cell_type": "code",
   "execution_count": null,
   "id": "5e187af6-5c64-4e65-a571-f09f7228944d",
   "metadata": {},
   "outputs": [],
   "source": []
  },
  {
   "cell_type": "raw",
   "id": "fdceefdf-9759-491f-b8e6-72448b803b95",
   "metadata": {},
   "source": [
    "# Yukarıdaki kod blokunda görüldüğü üzere \"Unnamed:0\" isminde oluşan hatalı gösterimden kurturlmak için index_col parametresini kullanarak istenilen sütunu indeks olarak atamış olduk."
   ]
  },
  {
   "cell_type": "code",
   "execution_count": 167,
   "id": "774c8445-c12c-44ba-b3b6-1fa0fcde6e63",
   "metadata": {},
   "outputs": [
    {
     "data": {
      "text/html": [
       "<div>\n",
       "<style scoped>\n",
       "    .dataframe tbody tr th:only-of-type {\n",
       "        vertical-align: middle;\n",
       "    }\n",
       "\n",
       "    .dataframe tbody tr th {\n",
       "        vertical-align: top;\n",
       "    }\n",
       "\n",
       "    .dataframe thead th {\n",
       "        text-align: right;\n",
       "    }\n",
       "</style>\n",
       "<table border=\"1\" class=\"dataframe\">\n",
       "  <thead>\n",
       "    <tr style=\"text-align: right;\">\n",
       "      <th></th>\n",
       "      <th>employee</th>\n",
       "      <th>department</th>\n",
       "      <th>Year</th>\n",
       "      <th>country</th>\n",
       "      <th>salary</th>\n",
       "    </tr>\n",
       "  </thead>\n",
       "  <tbody>\n",
       "    <tr>\n",
       "      <th>0</th>\n",
       "      <td>Julia</td>\n",
       "      <td>Data Science</td>\n",
       "      <td>2005</td>\n",
       "      <td>USA</td>\n",
       "      <td>20000</td>\n",
       "    </tr>\n",
       "    <tr>\n",
       "      <th>1</th>\n",
       "      <td>Marie</td>\n",
       "      <td>Web Development</td>\n",
       "      <td>2008</td>\n",
       "      <td>Germany</td>\n",
       "      <td>17500</td>\n",
       "    </tr>\n",
       "    <tr>\n",
       "      <th>2</th>\n",
       "      <td>Adam</td>\n",
       "      <td>Data Science</td>\n",
       "      <td>2011</td>\n",
       "      <td>England</td>\n",
       "      <td>16000</td>\n",
       "    </tr>\n",
       "    <tr>\n",
       "      <th>3</th>\n",
       "      <td>Nicole</td>\n",
       "      <td>Cyber Security</td>\n",
       "      <td>2002</td>\n",
       "      <td>Canada</td>\n",
       "      <td>22000</td>\n",
       "    </tr>\n",
       "  </tbody>\n",
       "</table>\n",
       "</div>"
      ],
      "text/plain": [
       "  employee       department  Year  country  salary\n",
       "0    Julia     Data Science  2005      USA   20000\n",
       "1    Marie  Web Development  2008  Germany   17500\n",
       "2     Adam     Data Science  2011  England   16000\n",
       "3   Nicole   Cyber Security  2002   Canada   22000"
      ]
     },
     "execution_count": 167,
     "metadata": {},
     "output_type": "execute_result"
    }
   ],
   "source": [
    "df_csv = pd.read_csv(\"new_data_merge.csv\", index_col = 0) \n",
    "df_csv"
   ]
  },
  {
   "cell_type": "code",
   "execution_count": null,
   "id": "4b628283-de22-44d4-89e9-1f8165643074",
   "metadata": {},
   "outputs": [],
   "source": []
  },
  {
   "cell_type": "code",
   "execution_count": null,
   "id": "a7f0c1a3-54f4-4966-a6f0-14ba3c4c6ddf",
   "metadata": {},
   "outputs": [],
   "source": []
  },
  {
   "cell_type": "markdown",
   "id": "eea65fd3-8bf8-4a7e-aaee-3e32347701b5",
   "metadata": {},
   "source": [
    "#### **Not:** \n",
    "    Yukarıda to_csv() fonksiyonunu kullanarak csv dosyası oluşturduk ve oluşturduğumuz bu dosyasısı tekrar read_csv() fonksiyonunu kullanarak içe aktardık ve DF olarak görüntüledik.Ancak burada Unnamed:0 isminde istenmeyen bir sütun değeri oluştuğunu gördük ve bu hatalı gösterimden kurtulmak için read_csv() fonksiyonu içerisinde yer alan index_col parametresini kullanarak istediğimiz sütun değerini indeks olarak atadık.\n",
    "    \n",
    "    Bu hata ile hiç karşılaşmamak için to_csv() fonksiyonu içerisinde csv dosya ismini tanımladıktan sonra index=True olarak öntanımlı olan parametreyi index=False olarak yazıp Python'a csv dosyası oluştururken indeks atama işini iptal et demiş oluruz ve bu şekilde hata giderilmiş olur."
   ]
  },
  {
   "cell_type": "code",
   "execution_count": null,
   "id": "21e07797-1581-4f84-baa7-833bb30c0e03",
   "metadata": {},
   "outputs": [],
   "source": []
  },
  {
   "cell_type": "code",
   "execution_count": null,
   "id": "4df8995c-e439-4754-ac2d-ff2801ae964f",
   "metadata": {},
   "outputs": [],
   "source": []
  },
  {
   "cell_type": "code",
   "execution_count": 176,
   "id": "becafa8e-f32f-438f-8ee6-47c3033659c5",
   "metadata": {},
   "outputs": [],
   "source": [
    "df3.to_csv(\"no_index_data_merge.csv\", index=False)"
   ]
  },
  {
   "cell_type": "code",
   "execution_count": 178,
   "id": "28fdac06-2667-46d9-ae84-25e1488f97ab",
   "metadata": {},
   "outputs": [],
   "source": [
    "df_csv_index_false = pd.read_csv(\"no_index_data_merge.csv\")"
   ]
  },
  {
   "cell_type": "code",
   "execution_count": 182,
   "id": "b0ff9f68-7242-4583-96f5-066e7a767ae6",
   "metadata": {},
   "outputs": [
    {
     "data": {
      "text/html": [
       "<div>\n",
       "<style scoped>\n",
       "    .dataframe tbody tr th:only-of-type {\n",
       "        vertical-align: middle;\n",
       "    }\n",
       "\n",
       "    .dataframe tbody tr th {\n",
       "        vertical-align: top;\n",
       "    }\n",
       "\n",
       "    .dataframe thead th {\n",
       "        text-align: right;\n",
       "    }\n",
       "</style>\n",
       "<table border=\"1\" class=\"dataframe\">\n",
       "  <thead>\n",
       "    <tr style=\"text-align: right;\">\n",
       "      <th></th>\n",
       "      <th>employee</th>\n",
       "      <th>department</th>\n",
       "      <th>Year</th>\n",
       "      <th>country</th>\n",
       "      <th>salary</th>\n",
       "    </tr>\n",
       "  </thead>\n",
       "  <tbody>\n",
       "    <tr>\n",
       "      <th>0</th>\n",
       "      <td>Julia</td>\n",
       "      <td>Data Science</td>\n",
       "      <td>2005</td>\n",
       "      <td>USA</td>\n",
       "      <td>20000</td>\n",
       "    </tr>\n",
       "    <tr>\n",
       "      <th>1</th>\n",
       "      <td>Marie</td>\n",
       "      <td>Web Development</td>\n",
       "      <td>2008</td>\n",
       "      <td>Germany</td>\n",
       "      <td>17500</td>\n",
       "    </tr>\n",
       "    <tr>\n",
       "      <th>2</th>\n",
       "      <td>Adam</td>\n",
       "      <td>Data Science</td>\n",
       "      <td>2011</td>\n",
       "      <td>England</td>\n",
       "      <td>16000</td>\n",
       "    </tr>\n",
       "    <tr>\n",
       "      <th>3</th>\n",
       "      <td>Nicole</td>\n",
       "      <td>Cyber Security</td>\n",
       "      <td>2002</td>\n",
       "      <td>Canada</td>\n",
       "      <td>22000</td>\n",
       "    </tr>\n",
       "  </tbody>\n",
       "</table>\n",
       "</div>"
      ],
      "text/plain": [
       "  employee       department  Year  country  salary\n",
       "0    Julia     Data Science  2005      USA   20000\n",
       "1    Marie  Web Development  2008  Germany   17500\n",
       "2     Adam     Data Science  2011  England   16000\n",
       "3   Nicole   Cyber Security  2002   Canada   22000"
      ]
     },
     "execution_count": 182,
     "metadata": {},
     "output_type": "execute_result"
    }
   ],
   "source": [
    "df_csv_index_false # Görüldüğü üzere indeks hatası ile karşılaşmadık."
   ]
  },
  {
   "cell_type": "code",
   "execution_count": null,
   "id": "10ec5e45-907f-470f-bdf5-c800706ee99e",
   "metadata": {},
   "outputs": [],
   "source": []
  },
  {
   "cell_type": "code",
   "execution_count": null,
   "id": "5f8e4fc6-2088-4818-bac2-f580a013c143",
   "metadata": {},
   "outputs": [],
   "source": []
  },
  {
   "cell_type": "markdown",
   "id": "b234fe31-4fa7-4e1e-aa88-da7b62012734",
   "metadata": {},
   "source": [
    "## Pandas Kütüphanesi İle Veri Çıkışı"
   ]
  },
  {
   "cell_type": "markdown",
   "id": "6dcf8c2e-d3a7-4c8b-8d98-64ce11ec2448",
   "metadata": {},
   "source": [
    "### Excel Dosyası Olarak Çıktı Alma"
   ]
  },
  {
   "cell_type": "code",
   "execution_count": null,
   "id": "d0fb20d7-4b14-4878-a465-1cd2a3f54f9b",
   "metadata": {},
   "outputs": [],
   "source": []
  },
  {
   "cell_type": "code",
   "execution_count": 188,
   "id": "d2f954b6-dd08-45d1-b0e3-ca9d4c6985df",
   "metadata": {},
   "outputs": [],
   "source": [
    "import pandas as pd"
   ]
  },
  {
   "cell_type": "code",
   "execution_count": 190,
   "id": "7bc738d8-b1c2-43e1-be23-fdb097235022",
   "metadata": {},
   "outputs": [],
   "source": [
    "df1 = pd.DataFrame({'employee': ['Julia', 'Marie', 'Adam', 'Nicole'],\n",
    "                     'department': ['Data Science', 'Web Development', 'Data Science', 'Cyber Security'],\n",
    "                     'Year': ['2005', '2008', '2011', '2002']})\n",
    "   \n",
    "df2 = pd.DataFrame({'employee': ['Nicole', 'Adam', 'Julia', 'Marie'],\n",
    "                          'country': ['Canada', 'England', 'USA', 'Germany'],\n",
    "                          'salary': ['22000', '16000', '20000', '17500']})  "
   ]
  },
  {
   "cell_type": "code",
   "execution_count": null,
   "id": "af937232-6cb7-4e84-a519-983dd618382e",
   "metadata": {},
   "outputs": [],
   "source": []
  },
  {
   "cell_type": "code",
   "execution_count": 192,
   "id": "9045f363-f6c9-43e1-b281-cf530004897d",
   "metadata": {},
   "outputs": [],
   "source": [
    "df3 = pd.merge(df1, df2)"
   ]
  },
  {
   "cell_type": "code",
   "execution_count": 194,
   "id": "c7a0e3ed-5f00-46ce-9071-bf0865c494a4",
   "metadata": {},
   "outputs": [
    {
     "data": {
      "text/html": [
       "<div>\n",
       "<style scoped>\n",
       "    .dataframe tbody tr th:only-of-type {\n",
       "        vertical-align: middle;\n",
       "    }\n",
       "\n",
       "    .dataframe tbody tr th {\n",
       "        vertical-align: top;\n",
       "    }\n",
       "\n",
       "    .dataframe thead th {\n",
       "        text-align: right;\n",
       "    }\n",
       "</style>\n",
       "<table border=\"1\" class=\"dataframe\">\n",
       "  <thead>\n",
       "    <tr style=\"text-align: right;\">\n",
       "      <th></th>\n",
       "      <th>employee</th>\n",
       "      <th>department</th>\n",
       "      <th>Year</th>\n",
       "      <th>country</th>\n",
       "      <th>salary</th>\n",
       "    </tr>\n",
       "  </thead>\n",
       "  <tbody>\n",
       "    <tr>\n",
       "      <th>0</th>\n",
       "      <td>Julia</td>\n",
       "      <td>Data Science</td>\n",
       "      <td>2005</td>\n",
       "      <td>USA</td>\n",
       "      <td>20000</td>\n",
       "    </tr>\n",
       "    <tr>\n",
       "      <th>1</th>\n",
       "      <td>Marie</td>\n",
       "      <td>Web Development</td>\n",
       "      <td>2008</td>\n",
       "      <td>Germany</td>\n",
       "      <td>17500</td>\n",
       "    </tr>\n",
       "    <tr>\n",
       "      <th>2</th>\n",
       "      <td>Adam</td>\n",
       "      <td>Data Science</td>\n",
       "      <td>2011</td>\n",
       "      <td>England</td>\n",
       "      <td>16000</td>\n",
       "    </tr>\n",
       "    <tr>\n",
       "      <th>3</th>\n",
       "      <td>Nicole</td>\n",
       "      <td>Cyber Security</td>\n",
       "      <td>2002</td>\n",
       "      <td>Canada</td>\n",
       "      <td>22000</td>\n",
       "    </tr>\n",
       "  </tbody>\n",
       "</table>\n",
       "</div>"
      ],
      "text/plain": [
       "  employee       department  Year  country salary\n",
       "0    Julia     Data Science  2005      USA  20000\n",
       "1    Marie  Web Development  2008  Germany  17500\n",
       "2     Adam     Data Science  2011  England  16000\n",
       "3   Nicole   Cyber Security  2002   Canada  22000"
      ]
     },
     "execution_count": 194,
     "metadata": {},
     "output_type": "execute_result"
    }
   ],
   "source": [
    "df3"
   ]
  },
  {
   "cell_type": "code",
   "execution_count": null,
   "id": "f818e409-9170-47dd-ab02-c6aad5b9704a",
   "metadata": {},
   "outputs": [],
   "source": []
  },
  {
   "cell_type": "code",
   "execution_count": null,
   "id": "77c2d18a-f3e9-46e2-ad23-2b25a01b9454",
   "metadata": {},
   "outputs": [],
   "source": []
  },
  {
   "cell_type": "code",
   "execution_count": 199,
   "id": "13aa56b0-3d44-47b9-93ad-8c66d2297334",
   "metadata": {},
   "outputs": [],
   "source": [
    "df3.to_excel(\"excel_sample.xlsx\", sheet_name=\"Sheet1\", index = False)"
   ]
  },
  {
   "cell_type": "code",
   "execution_count": 201,
   "id": "b7e67c45-e7d9-4b6a-8593-96b5aeb609f6",
   "metadata": {},
   "outputs": [],
   "source": [
    "df_excel3 = pd.read_excel(\"excel_sample.xlsx\")"
   ]
  },
  {
   "cell_type": "code",
   "execution_count": 203,
   "id": "4f17c201-bccc-4270-9e65-16ddab5926fe",
   "metadata": {},
   "outputs": [
    {
     "data": {
      "text/html": [
       "<div>\n",
       "<style scoped>\n",
       "    .dataframe tbody tr th:only-of-type {\n",
       "        vertical-align: middle;\n",
       "    }\n",
       "\n",
       "    .dataframe tbody tr th {\n",
       "        vertical-align: top;\n",
       "    }\n",
       "\n",
       "    .dataframe thead th {\n",
       "        text-align: right;\n",
       "    }\n",
       "</style>\n",
       "<table border=\"1\" class=\"dataframe\">\n",
       "  <thead>\n",
       "    <tr style=\"text-align: right;\">\n",
       "      <th></th>\n",
       "      <th>employee</th>\n",
       "      <th>department</th>\n",
       "      <th>Year</th>\n",
       "      <th>country</th>\n",
       "      <th>salary</th>\n",
       "    </tr>\n",
       "  </thead>\n",
       "  <tbody>\n",
       "    <tr>\n",
       "      <th>0</th>\n",
       "      <td>Julia</td>\n",
       "      <td>Data Science</td>\n",
       "      <td>2005</td>\n",
       "      <td>USA</td>\n",
       "      <td>20000</td>\n",
       "    </tr>\n",
       "    <tr>\n",
       "      <th>1</th>\n",
       "      <td>Marie</td>\n",
       "      <td>Web Development</td>\n",
       "      <td>2008</td>\n",
       "      <td>Germany</td>\n",
       "      <td>17500</td>\n",
       "    </tr>\n",
       "    <tr>\n",
       "      <th>2</th>\n",
       "      <td>Adam</td>\n",
       "      <td>Data Science</td>\n",
       "      <td>2011</td>\n",
       "      <td>England</td>\n",
       "      <td>16000</td>\n",
       "    </tr>\n",
       "    <tr>\n",
       "      <th>3</th>\n",
       "      <td>Nicole</td>\n",
       "      <td>Cyber Security</td>\n",
       "      <td>2002</td>\n",
       "      <td>Canada</td>\n",
       "      <td>22000</td>\n",
       "    </tr>\n",
       "  </tbody>\n",
       "</table>\n",
       "</div>"
      ],
      "text/plain": [
       "  employee       department  Year  country  salary\n",
       "0    Julia     Data Science  2005      USA   20000\n",
       "1    Marie  Web Development  2008  Germany   17500\n",
       "2     Adam     Data Science  2011  England   16000\n",
       "3   Nicole   Cyber Security  2002   Canada   22000"
      ]
     },
     "execution_count": 203,
     "metadata": {},
     "output_type": "execute_result"
    }
   ],
   "source": [
    "df_excel3"
   ]
  },
  {
   "cell_type": "code",
   "execution_count": null,
   "id": "5c0b3536-a055-4277-a9ee-4a31f7428948",
   "metadata": {},
   "outputs": [],
   "source": []
  },
  {
   "cell_type": "code",
   "execution_count": null,
   "id": "6f8f302e-9e59-462b-8725-4c69813957ac",
   "metadata": {},
   "outputs": [],
   "source": []
  },
  {
   "cell_type": "code",
   "execution_count": null,
   "id": "f7ff92fe-8581-4b06-af1a-f8b948896496",
   "metadata": {},
   "outputs": [],
   "source": []
  },
  {
   "cell_type": "code",
   "execution_count": null,
   "id": "f6acf864-a83e-42d0-935d-1d5ea8300b67",
   "metadata": {},
   "outputs": [],
   "source": []
  }
 ],
 "metadata": {
  "kernelspec": {
   "display_name": "Python 3 (ipykernel)",
   "language": "python",
   "name": "python3"
  },
  "language_info": {
   "codemirror_mode": {
    "name": "ipython",
    "version": 3
   },
   "file_extension": ".py",
   "mimetype": "text/x-python",
   "name": "python",
   "nbconvert_exporter": "python",
   "pygments_lexer": "ipython3",
   "version": "3.12.7"
  }
 },
 "nbformat": 4,
 "nbformat_minor": 5
}
