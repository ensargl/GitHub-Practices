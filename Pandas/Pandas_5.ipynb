{
 "cells": [
  {
   "cell_type": "markdown",
   "id": "93be7133-2fb5-4e37-b175-ad94acd0fc65",
   "metadata": {},
   "source": [
    "# Pandas DataFrame’lerinde Multi-İndex Ve İndex Hiyerarşisi"
   ]
  },
  {
   "cell_type": "code",
   "execution_count": 3,
   "id": "9b6cfaee-87c8-47ca-a941-cdc83d5b7e17",
   "metadata": {},
   "outputs": [],
   "source": [
    "import numpy as np\n",
    "import pandas as pd"
   ]
  },
  {
   "cell_type": "code",
   "execution_count": null,
   "id": "c7ccb3e3-d813-45cc-a1cf-b82d3291d075",
   "metadata": {},
   "outputs": [],
   "source": []
  },
  {
   "cell_type": "code",
   "execution_count": 5,
   "id": "72741446-bd82-47ed-851d-58a79bb1f7ec",
   "metadata": {},
   "outputs": [],
   "source": [
    "inside = [\"class-A\",\"class-B\",\"class-C\",\"class-A\",\"class-B\",\"class-C\"]"
   ]
  },
  {
   "cell_type": "code",
   "execution_count": 7,
   "id": "bf188cee-9cb0-4dd6-bdb3-541b927318d2",
   "metadata": {},
   "outputs": [],
   "source": [
    "outside = [\"School-1\",\"School-1\",\"School-1\",\"School-2\",\"School-2\",\"School-2\"]"
   ]
  },
  {
   "cell_type": "code",
   "execution_count": 8,
   "id": "da3e8a3b-9513-4cd5-b2e4-18c614f1f135",
   "metadata": {},
   "outputs": [
    {
     "data": {
      "text/plain": [
       "<zip at 0x1943ab763c0>"
      ]
     },
     "execution_count": 8,
     "metadata": {},
     "output_type": "execute_result"
    }
   ],
   "source": [
    "zip(outside, inside)"
   ]
  },
  {
   "cell_type": "code",
   "execution_count": 10,
   "id": "a873c661-d5ff-4bf7-9f61-1ad100266797",
   "metadata": {},
   "outputs": [
    {
     "data": {
      "text/plain": [
       "[('School-1', 'class-A'),\n",
       " ('School-1', 'class-B'),\n",
       " ('School-1', 'class-C'),\n",
       " ('School-2', 'class-A'),\n",
       " ('School-2', 'class-B'),\n",
       " ('School-2', 'class-C')]"
      ]
     },
     "execution_count": 10,
     "metadata": {},
     "output_type": "execute_result"
    }
   ],
   "source": [
    "zipped_list = list(zip(outside, inside))\n",
    "zipped_list"
   ]
  },
  {
   "cell_type": "code",
   "execution_count": 11,
   "id": "6f242d88-b4d9-433a-892a-8612da3fd201",
   "metadata": {},
   "outputs": [],
   "source": [
    "multi_index = pd.MultiIndex.from_tuples(zipped_list)"
   ]
  },
  {
   "cell_type": "code",
   "execution_count": 13,
   "id": "ca633eae-43da-4a6a-94a8-e86a5711ec76",
   "metadata": {
    "editable": true,
    "slideshow": {
     "slide_type": ""
    },
    "tags": []
   },
   "outputs": [],
   "source": [
    "np.random.seed(101)\n",
    "df_notes = pd.DataFrame(data=np.random.randint(50,100, size=(6,2)), columns=[\"1st_semester 2st_semester\".split()], index=multi_index)"
   ]
  },
  {
   "cell_type": "code",
   "execution_count": 14,
   "id": "f11bbc70-17ea-420f-8e55-f41f1216b15e",
   "metadata": {},
   "outputs": [
    {
     "data": {
      "text/html": [
       "<div>\n",
       "<style scoped>\n",
       "    .dataframe tbody tr th:only-of-type {\n",
       "        vertical-align: middle;\n",
       "    }\n",
       "\n",
       "    .dataframe tbody tr th {\n",
       "        vertical-align: top;\n",
       "    }\n",
       "\n",
       "    .dataframe thead tr th {\n",
       "        text-align: left;\n",
       "    }\n",
       "</style>\n",
       "<table border=\"1\" class=\"dataframe\">\n",
       "  <thead>\n",
       "    <tr>\n",
       "      <th></th>\n",
       "      <th></th>\n",
       "      <th>1st_semester</th>\n",
       "      <th>2st_semester</th>\n",
       "    </tr>\n",
       "  </thead>\n",
       "  <tbody>\n",
       "    <tr>\n",
       "      <th rowspan=\"3\" valign=\"top\">School-1</th>\n",
       "      <th>class-A</th>\n",
       "      <td>81</td>\n",
       "      <td>61</td>\n",
       "    </tr>\n",
       "    <tr>\n",
       "      <th>class-B</th>\n",
       "      <td>67</td>\n",
       "      <td>56</td>\n",
       "    </tr>\n",
       "    <tr>\n",
       "      <th>class-C</th>\n",
       "      <td>73</td>\n",
       "      <td>61</td>\n",
       "    </tr>\n",
       "    <tr>\n",
       "      <th rowspan=\"3\" valign=\"top\">School-2</th>\n",
       "      <th>class-A</th>\n",
       "      <td>97</td>\n",
       "      <td>59</td>\n",
       "    </tr>\n",
       "    <tr>\n",
       "      <th>class-B</th>\n",
       "      <td>63</td>\n",
       "      <td>90</td>\n",
       "    </tr>\n",
       "    <tr>\n",
       "      <th>class-C</th>\n",
       "      <td>54</td>\n",
       "      <td>90</td>\n",
       "    </tr>\n",
       "  </tbody>\n",
       "</table>\n",
       "</div>"
      ],
      "text/plain": [
       "                 1st_semester 2st_semester\n",
       "School-1 class-A           81           61\n",
       "         class-B           67           56\n",
       "         class-C           73           61\n",
       "School-2 class-A           97           59\n",
       "         class-B           63           90\n",
       "         class-C           54           90"
      ]
     },
     "execution_count": 14,
     "metadata": {},
     "output_type": "execute_result"
    }
   ],
   "source": [
    "df_notes"
   ]
  },
  {
   "cell_type": "code",
   "execution_count": null,
   "id": "f5da073d-8724-458a-b48b-4a96f2d0d7d3",
   "metadata": {},
   "outputs": [],
   "source": []
  },
  {
   "cell_type": "code",
   "execution_count": null,
   "id": "accb0a97-3831-4c29-b423-ccc3e34ee9fc",
   "metadata": {},
   "outputs": [],
   "source": []
  },
  {
   "cell_type": "code",
   "execution_count": 21,
   "id": "1840d016-f3e3-4dbc-9631-527472eb97b7",
   "metadata": {},
   "outputs": [],
   "source": [
    "# Örnek-2:"
   ]
  },
  {
   "cell_type": "code",
   "execution_count": 22,
   "id": "534c72df-2dde-47f6-b2bd-340201e00702",
   "metadata": {},
   "outputs": [],
   "source": [
    "brand = [\"AUDI A7\",\"BMW 525 XDrive\",\"WW Passat\",\"Toyota Corolla\",\"Land Rover Discovery\",\"Chevrolet Captiva\",\"TOGG T10X\",\"Chery Tiggo8 Pro Max\"]"
   ]
  },
  {
   "cell_type": "code",
   "execution_count": 23,
   "id": "cc128c56-4522-4d67-b5dc-24e06e42784d",
   "metadata": {},
   "outputs": [],
   "source": [
    "types = [\"Automobile\",\"Automobile\",\"Automobile\",\"Automobile\",\"SUV\",\"SUV\",\"SUV\",\"SUV\"]"
   ]
  },
  {
   "cell_type": "code",
   "execution_count": 24,
   "id": "e20627ca-3e0a-4da2-a5b5-f3b5e8b0d2de",
   "metadata": {},
   "outputs": [
    {
     "data": {
      "text/plain": [
       "<zip at 0x1943bafe400>"
      ]
     },
     "execution_count": 24,
     "metadata": {},
     "output_type": "execute_result"
    }
   ],
   "source": [
    "zip(types, brand)"
   ]
  },
  {
   "cell_type": "code",
   "execution_count": 25,
   "id": "17d35cd2-407e-456b-a6d3-486fc75d7ec1",
   "metadata": {},
   "outputs": [],
   "source": [
    "multi_car = list(zip(types, brand))"
   ]
  },
  {
   "cell_type": "code",
   "execution_count": 26,
   "id": "71bca50d-f392-405d-829e-5a8cdaad76dc",
   "metadata": {},
   "outputs": [],
   "source": [
    "multicar_index = pd.MultiIndex.from_tuples(multi_car)"
   ]
  },
  {
   "cell_type": "code",
   "execution_count": 27,
   "id": "49d99e77-e11a-40d9-aae6-cc21140e50df",
   "metadata": {},
   "outputs": [],
   "source": [
    "df_carspeeds = pd.DataFrame(data=np.random.randint(260,330, size=(8,2)), columns=[\"Max_Speed\",\"Price\"], index=multicar_index)"
   ]
  },
  {
   "cell_type": "code",
   "execution_count": 28,
   "id": "55e2cffb-0164-4f4b-8269-920d81dad60c",
   "metadata": {},
   "outputs": [
    {
     "data": {
      "text/html": [
       "<div>\n",
       "<style scoped>\n",
       "    .dataframe tbody tr th:only-of-type {\n",
       "        vertical-align: middle;\n",
       "    }\n",
       "\n",
       "    .dataframe tbody tr th {\n",
       "        vertical-align: top;\n",
       "    }\n",
       "\n",
       "    .dataframe thead th {\n",
       "        text-align: right;\n",
       "    }\n",
       "</style>\n",
       "<table border=\"1\" class=\"dataframe\">\n",
       "  <thead>\n",
       "    <tr style=\"text-align: right;\">\n",
       "      <th></th>\n",
       "      <th></th>\n",
       "      <th>Max_Speed</th>\n",
       "      <th>Price</th>\n",
       "    </tr>\n",
       "  </thead>\n",
       "  <tbody>\n",
       "    <tr>\n",
       "      <th rowspan=\"4\" valign=\"top\">Automobile</th>\n",
       "      <th>AUDI A7</th>\n",
       "      <td>320</td>\n",
       "      <td>324</td>\n",
       "    </tr>\n",
       "    <tr>\n",
       "      <th>BMW 525 XDrive</th>\n",
       "      <td>265</td>\n",
       "      <td>272</td>\n",
       "    </tr>\n",
       "    <tr>\n",
       "      <th>WW Passat</th>\n",
       "      <td>300</td>\n",
       "      <td>309</td>\n",
       "    </tr>\n",
       "    <tr>\n",
       "      <th>Toyota Corolla</th>\n",
       "      <td>268</td>\n",
       "      <td>289</td>\n",
       "    </tr>\n",
       "    <tr>\n",
       "      <th rowspan=\"4\" valign=\"top\">SUV</th>\n",
       "      <th>Land Rover Discovery</th>\n",
       "      <td>319</td>\n",
       "      <td>294</td>\n",
       "    </tr>\n",
       "    <tr>\n",
       "      <th>Chevrolet Captiva</th>\n",
       "      <td>304</td>\n",
       "      <td>279</td>\n",
       "    </tr>\n",
       "    <tr>\n",
       "      <th>TOGG T10X</th>\n",
       "      <td>270</td>\n",
       "      <td>260</td>\n",
       "    </tr>\n",
       "    <tr>\n",
       "      <th>Chery Tiggo8 Pro Max</th>\n",
       "      <td>268</td>\n",
       "      <td>322</td>\n",
       "    </tr>\n",
       "  </tbody>\n",
       "</table>\n",
       "</div>"
      ],
      "text/plain": [
       "                                 Max_Speed  Price\n",
       "Automobile AUDI A7                     320    324\n",
       "           BMW 525 XDrive              265    272\n",
       "           WW Passat                   300    309\n",
       "           Toyota Corolla              268    289\n",
       "SUV        Land Rover Discovery        319    294\n",
       "           Chevrolet Captiva           304    279\n",
       "           TOGG T10X                   270    260\n",
       "           Chery Tiggo8 Pro Max        268    322"
      ]
     },
     "execution_count": 28,
     "metadata": {},
     "output_type": "execute_result"
    }
   ],
   "source": [
    "df_carspeeds"
   ]
  },
  {
   "cell_type": "code",
   "execution_count": 29,
   "id": "5116e9e4-d349-42be-bb39-c3a4073d7ba7",
   "metadata": {},
   "outputs": [
    {
     "data": {
      "text/html": [
       "<div>\n",
       "<style scoped>\n",
       "    .dataframe tbody tr th:only-of-type {\n",
       "        vertical-align: middle;\n",
       "    }\n",
       "\n",
       "    .dataframe tbody tr th {\n",
       "        vertical-align: top;\n",
       "    }\n",
       "\n",
       "    .dataframe thead th {\n",
       "        text-align: right;\n",
       "    }\n",
       "</style>\n",
       "<table border=\"1\" class=\"dataframe\">\n",
       "  <thead>\n",
       "    <tr style=\"text-align: right;\">\n",
       "      <th></th>\n",
       "      <th></th>\n",
       "      <th>Max_Speed</th>\n",
       "      <th>Price</th>\n",
       "    </tr>\n",
       "  </thead>\n",
       "  <tbody>\n",
       "    <tr>\n",
       "      <th rowspan=\"4\" valign=\"top\">Automobile</th>\n",
       "      <th>AUDI A7</th>\n",
       "      <td>320</td>\n",
       "      <td>324</td>\n",
       "    </tr>\n",
       "    <tr>\n",
       "      <th>BMW 525 XDrive</th>\n",
       "      <td>265</td>\n",
       "      <td>272</td>\n",
       "    </tr>\n",
       "    <tr>\n",
       "      <th>WW Passat</th>\n",
       "      <td>300</td>\n",
       "      <td>309</td>\n",
       "    </tr>\n",
       "    <tr>\n",
       "      <th>Toyota Corolla</th>\n",
       "      <td>268</td>\n",
       "      <td>289</td>\n",
       "    </tr>\n",
       "    <tr>\n",
       "      <th rowspan=\"4\" valign=\"top\">SUV</th>\n",
       "      <th>Land Rover Discovery</th>\n",
       "      <td>319</td>\n",
       "      <td>294</td>\n",
       "    </tr>\n",
       "    <tr>\n",
       "      <th>Chevrolet Captiva</th>\n",
       "      <td>304</td>\n",
       "      <td>279</td>\n",
       "    </tr>\n",
       "    <tr>\n",
       "      <th>TOGG T10X</th>\n",
       "      <td>270</td>\n",
       "      <td>260</td>\n",
       "    </tr>\n",
       "    <tr>\n",
       "      <th>Chery Tiggo8 Pro Max</th>\n",
       "      <td>268</td>\n",
       "      <td>322</td>\n",
       "    </tr>\n",
       "  </tbody>\n",
       "</table>\n",
       "</div>"
      ],
      "text/plain": [
       "                                 Max_Speed  Price\n",
       "Automobile AUDI A7                     320    324\n",
       "           BMW 525 XDrive              265    272\n",
       "           WW Passat                   300    309\n",
       "           Toyota Corolla              268    289\n",
       "SUV        Land Rover Discovery        319    294\n",
       "           Chevrolet Captiva           304    279\n",
       "           TOGG T10X                   270    260\n",
       "           Chery Tiggo8 Pro Max        268    322"
      ]
     },
     "execution_count": 29,
     "metadata": {},
     "output_type": "execute_result"
    }
   ],
   "source": [
    "df_carspeeds"
   ]
  },
  {
   "cell_type": "code",
   "execution_count": 30,
   "id": "9ba1502c-dc75-4bcd-9caf-4828c57bae73",
   "metadata": {},
   "outputs": [
    {
     "data": {
      "text/plain": [
       "Automobile  WW Passat    309\n",
       "Name: Price, dtype: int32"
      ]
     },
     "execution_count": 30,
     "metadata": {},
     "output_type": "execute_result"
    }
   ],
   "source": [
    "df_carspeeds.Price.iloc[[2]]"
   ]
  },
  {
   "cell_type": "code",
   "execution_count": 31,
   "id": "5576d420-84bc-4580-8d4b-9651c63ecf90",
   "metadata": {},
   "outputs": [
    {
     "data": {
      "text/plain": [
       "Land Rover Discovery    319\n",
       "Chevrolet Captiva       304\n",
       "TOGG T10X               270\n",
       "Chery Tiggo8 Pro Max    268\n",
       "Name: Max_Speed, dtype: int32"
      ]
     },
     "execution_count": 31,
     "metadata": {},
     "output_type": "execute_result"
    }
   ],
   "source": [
    "df_carspeeds[\"Max_Speed\"].loc[\"SUV\"]"
   ]
  },
  {
   "cell_type": "code",
   "execution_count": null,
   "id": "d953632e-db33-40c8-a78b-9bdca499a0a1",
   "metadata": {},
   "outputs": [],
   "source": []
  },
  {
   "cell_type": "code",
   "execution_count": null,
   "id": "9a92254b-cf19-4c9a-bad0-ffa25b2ef3a8",
   "metadata": {},
   "outputs": [],
   "source": []
  },
  {
   "cell_type": "code",
   "execution_count": null,
   "id": "7ed61a4a-e399-420d-b29b-af335fe9c088",
   "metadata": {},
   "outputs": [],
   "source": []
  },
  {
   "cell_type": "markdown",
   "id": "46b3e510-da67-4792-aab0-09306e3df38c",
   "metadata": {},
   "source": [
    "### Multi-İndex'li Pandas DataFrame'lerde Eleman Seçme İşlemi"
   ]
  },
  {
   "cell_type": "code",
   "execution_count": 36,
   "id": "a5dabd34-95aa-4bdd-8a42-2ce2782037bd",
   "metadata": {},
   "outputs": [
    {
     "data": {
      "text/html": [
       "<div>\n",
       "<style scoped>\n",
       "    .dataframe tbody tr th:only-of-type {\n",
       "        vertical-align: middle;\n",
       "    }\n",
       "\n",
       "    .dataframe tbody tr th {\n",
       "        vertical-align: top;\n",
       "    }\n",
       "\n",
       "    .dataframe thead tr th {\n",
       "        text-align: left;\n",
       "    }\n",
       "</style>\n",
       "<table border=\"1\" class=\"dataframe\">\n",
       "  <thead>\n",
       "    <tr>\n",
       "      <th></th>\n",
       "      <th></th>\n",
       "      <th>1st_semester</th>\n",
       "      <th>2st_semester</th>\n",
       "    </tr>\n",
       "  </thead>\n",
       "  <tbody>\n",
       "    <tr>\n",
       "      <th rowspan=\"3\" valign=\"top\">School-1</th>\n",
       "      <th>class-A</th>\n",
       "      <td>81</td>\n",
       "      <td>61</td>\n",
       "    </tr>\n",
       "    <tr>\n",
       "      <th>class-B</th>\n",
       "      <td>67</td>\n",
       "      <td>56</td>\n",
       "    </tr>\n",
       "    <tr>\n",
       "      <th>class-C</th>\n",
       "      <td>73</td>\n",
       "      <td>61</td>\n",
       "    </tr>\n",
       "    <tr>\n",
       "      <th rowspan=\"3\" valign=\"top\">School-2</th>\n",
       "      <th>class-A</th>\n",
       "      <td>97</td>\n",
       "      <td>59</td>\n",
       "    </tr>\n",
       "    <tr>\n",
       "      <th>class-B</th>\n",
       "      <td>63</td>\n",
       "      <td>90</td>\n",
       "    </tr>\n",
       "    <tr>\n",
       "      <th>class-C</th>\n",
       "      <td>54</td>\n",
       "      <td>90</td>\n",
       "    </tr>\n",
       "  </tbody>\n",
       "</table>\n",
       "</div>"
      ],
      "text/plain": [
       "                 1st_semester 2st_semester\n",
       "School-1 class-A           81           61\n",
       "         class-B           67           56\n",
       "         class-C           73           61\n",
       "School-2 class-A           97           59\n",
       "         class-B           63           90\n",
       "         class-C           54           90"
      ]
     },
     "execution_count": 36,
     "metadata": {},
     "output_type": "execute_result"
    }
   ],
   "source": [
    "df_notes"
   ]
  },
  {
   "cell_type": "code",
   "execution_count": 37,
   "id": "f2756f49-ef2c-4564-a866-28e93fe98b81",
   "metadata": {},
   "outputs": [
    {
     "data": {
      "text/html": [
       "<div>\n",
       "<style scoped>\n",
       "    .dataframe tbody tr th:only-of-type {\n",
       "        vertical-align: middle;\n",
       "    }\n",
       "\n",
       "    .dataframe tbody tr th {\n",
       "        vertical-align: top;\n",
       "    }\n",
       "\n",
       "    .dataframe thead tr th {\n",
       "        text-align: left;\n",
       "    }\n",
       "</style>\n",
       "<table border=\"1\" class=\"dataframe\">\n",
       "  <thead>\n",
       "    <tr>\n",
       "      <th></th>\n",
       "      <th></th>\n",
       "      <th>1st_semester</th>\n",
       "    </tr>\n",
       "  </thead>\n",
       "  <tbody>\n",
       "    <tr>\n",
       "      <th rowspan=\"3\" valign=\"top\">School-1</th>\n",
       "      <th>class-A</th>\n",
       "      <td>81</td>\n",
       "    </tr>\n",
       "    <tr>\n",
       "      <th>class-B</th>\n",
       "      <td>67</td>\n",
       "    </tr>\n",
       "    <tr>\n",
       "      <th>class-C</th>\n",
       "      <td>73</td>\n",
       "    </tr>\n",
       "    <tr>\n",
       "      <th rowspan=\"3\" valign=\"top\">School-2</th>\n",
       "      <th>class-A</th>\n",
       "      <td>97</td>\n",
       "    </tr>\n",
       "    <tr>\n",
       "      <th>class-B</th>\n",
       "      <td>63</td>\n",
       "    </tr>\n",
       "    <tr>\n",
       "      <th>class-C</th>\n",
       "      <td>54</td>\n",
       "    </tr>\n",
       "  </tbody>\n",
       "</table>\n",
       "</div>"
      ],
      "text/plain": [
       "                 1st_semester\n",
       "School-1 class-A           81\n",
       "         class-B           67\n",
       "         class-C           73\n",
       "School-2 class-A           97\n",
       "         class-B           63\n",
       "         class-C           54"
      ]
     },
     "execution_count": 37,
     "metadata": {},
     "output_type": "execute_result"
    }
   ],
   "source": [
    "df_notes[\"1st_semester\"]"
   ]
  },
  {
   "cell_type": "code",
   "execution_count": 38,
   "id": "cf429271-f2c2-4231-b76f-39c75e278b6f",
   "metadata": {},
   "outputs": [
    {
     "data": {
      "text/html": [
       "<div>\n",
       "<style scoped>\n",
       "    .dataframe tbody tr th:only-of-type {\n",
       "        vertical-align: middle;\n",
       "    }\n",
       "\n",
       "    .dataframe tbody tr th {\n",
       "        vertical-align: top;\n",
       "    }\n",
       "\n",
       "    .dataframe thead tr th {\n",
       "        text-align: left;\n",
       "    }\n",
       "</style>\n",
       "<table border=\"1\" class=\"dataframe\">\n",
       "  <thead>\n",
       "    <tr>\n",
       "      <th></th>\n",
       "      <th>1st_semester</th>\n",
       "    </tr>\n",
       "  </thead>\n",
       "  <tbody>\n",
       "    <tr>\n",
       "      <th>class-A</th>\n",
       "      <td>81</td>\n",
       "    </tr>\n",
       "    <tr>\n",
       "      <th>class-B</th>\n",
       "      <td>67</td>\n",
       "    </tr>\n",
       "    <tr>\n",
       "      <th>class-C</th>\n",
       "      <td>73</td>\n",
       "    </tr>\n",
       "  </tbody>\n",
       "</table>\n",
       "</div>"
      ],
      "text/plain": [
       "        1st_semester\n",
       "class-A           81\n",
       "class-B           67\n",
       "class-C           73"
      ]
     },
     "execution_count": 38,
     "metadata": {},
     "output_type": "execute_result"
    }
   ],
   "source": [
    "df_notes[\"1st_semester\"].loc[\"School-1\"]"
   ]
  },
  {
   "cell_type": "code",
   "execution_count": 39,
   "id": "9eb8b691-56f1-416d-8bb5-3726f7bec756",
   "metadata": {},
   "outputs": [
    {
     "data": {
      "text/html": [
       "<div>\n",
       "<style scoped>\n",
       "    .dataframe tbody tr th:only-of-type {\n",
       "        vertical-align: middle;\n",
       "    }\n",
       "\n",
       "    .dataframe tbody tr th {\n",
       "        vertical-align: top;\n",
       "    }\n",
       "\n",
       "    .dataframe thead tr th {\n",
       "        text-align: left;\n",
       "    }\n",
       "</style>\n",
       "<table border=\"1\" class=\"dataframe\">\n",
       "  <thead>\n",
       "    <tr>\n",
       "      <th></th>\n",
       "      <th>1st_semester</th>\n",
       "    </tr>\n",
       "  </thead>\n",
       "  <tbody>\n",
       "    <tr>\n",
       "      <th>class-A</th>\n",
       "      <td>81</td>\n",
       "    </tr>\n",
       "    <tr>\n",
       "      <th>class-B</th>\n",
       "      <td>67</td>\n",
       "    </tr>\n",
       "  </tbody>\n",
       "</table>\n",
       "</div>"
      ],
      "text/plain": [
       "        1st_semester\n",
       "class-A           81\n",
       "class-B           67"
      ]
     },
     "execution_count": 39,
     "metadata": {},
     "output_type": "execute_result"
    }
   ],
   "source": [
    "df_notes[\"1st_semester\"].loc[\"School-1\"].loc[\"class-A\":\"class-B\"]"
   ]
  },
  {
   "cell_type": "code",
   "execution_count": null,
   "id": "df49e9a5-32a7-4d48-8135-ae761edde66c",
   "metadata": {},
   "outputs": [],
   "source": []
  },
  {
   "cell_type": "code",
   "execution_count": 41,
   "id": "101703b2-6587-4fd4-8524-4e12652d093e",
   "metadata": {},
   "outputs": [
    {
     "data": {
      "text/html": [
       "<div>\n",
       "<style scoped>\n",
       "    .dataframe tbody tr th:only-of-type {\n",
       "        vertical-align: middle;\n",
       "    }\n",
       "\n",
       "    .dataframe tbody tr th {\n",
       "        vertical-align: top;\n",
       "    }\n",
       "\n",
       "    .dataframe thead tr th {\n",
       "        text-align: left;\n",
       "    }\n",
       "</style>\n",
       "<table border=\"1\" class=\"dataframe\">\n",
       "  <thead>\n",
       "    <tr>\n",
       "      <th></th>\n",
       "      <th>2st_semester</th>\n",
       "    </tr>\n",
       "  </thead>\n",
       "  <tbody>\n",
       "    <tr>\n",
       "      <th>class-A</th>\n",
       "      <td>61</td>\n",
       "    </tr>\n",
       "    <tr>\n",
       "      <th>class-B</th>\n",
       "      <td>56</td>\n",
       "    </tr>\n",
       "  </tbody>\n",
       "</table>\n",
       "</div>"
      ],
      "text/plain": [
       "        2st_semester\n",
       "class-A           61\n",
       "class-B           56"
      ]
     },
     "execution_count": 41,
     "metadata": {},
     "output_type": "execute_result"
    }
   ],
   "source": [
    "df_notes.loc[\"School-1\"].loc[\"class-A\":\"class-B\"].iloc[:,[1]]"
   ]
  },
  {
   "cell_type": "code",
   "execution_count": null,
   "id": "d5c15706-a909-4e6b-bda1-b62d8f63522e",
   "metadata": {},
   "outputs": [],
   "source": []
  },
  {
   "cell_type": "code",
   "execution_count": null,
   "id": "b7319c0d-113f-41fc-b92a-63bd26c0eaf7",
   "metadata": {},
   "outputs": [],
   "source": []
  },
  {
   "cell_type": "code",
   "execution_count": 61,
   "id": "026245b5-5c18-4475-abaa-76f3a817d520",
   "metadata": {},
   "outputs": [
    {
     "data": {
      "text/plain": [
       "MultiIndex([('School-1', 'class-A'),\n",
       "            ('School-1', 'class-B'),\n",
       "            ('School-1', 'class-C'),\n",
       "            ('School-2', 'class-A'),\n",
       "            ('School-2', 'class-B'),\n",
       "            ('School-2', 'class-C')],\n",
       "           )"
      ]
     },
     "execution_count": 61,
     "metadata": {},
     "output_type": "execute_result"
    }
   ],
   "source": [
    "df_notes.index"
   ]
  },
  {
   "cell_type": "code",
   "execution_count": 62,
   "id": "900569c3-29e3-4498-916a-ffbf36c1df25",
   "metadata": {},
   "outputs": [
    {
     "data": {
      "text/plain": [
       "FrozenList([None, None])"
      ]
     },
     "execution_count": 62,
     "metadata": {},
     "output_type": "execute_result"
    }
   ],
   "source": [
    "df_notes.index.names"
   ]
  },
  {
   "cell_type": "code",
   "execution_count": 63,
   "id": "ea0d1c2f-7cf9-40e1-b793-8d1b79dec072",
   "metadata": {},
   "outputs": [],
   "source": [
    "df_notes.index.names = [\"Schools\",\"Classes\"]"
   ]
  },
  {
   "cell_type": "code",
   "execution_count": 64,
   "id": "e4a7cf43-8b2b-41c1-9946-259cf2f068f1",
   "metadata": {},
   "outputs": [
    {
     "data": {
      "text/html": [
       "<div>\n",
       "<style scoped>\n",
       "    .dataframe tbody tr th:only-of-type {\n",
       "        vertical-align: middle;\n",
       "    }\n",
       "\n",
       "    .dataframe tbody tr th {\n",
       "        vertical-align: top;\n",
       "    }\n",
       "\n",
       "    .dataframe thead tr th {\n",
       "        text-align: left;\n",
       "    }\n",
       "\n",
       "    .dataframe thead tr:last-of-type th {\n",
       "        text-align: right;\n",
       "    }\n",
       "</style>\n",
       "<table border=\"1\" class=\"dataframe\">\n",
       "  <thead>\n",
       "    <tr>\n",
       "      <th></th>\n",
       "      <th></th>\n",
       "      <th>1st_semester</th>\n",
       "      <th>2st_semester</th>\n",
       "    </tr>\n",
       "    <tr>\n",
       "      <th>Schools</th>\n",
       "      <th>Classes</th>\n",
       "      <th></th>\n",
       "      <th></th>\n",
       "    </tr>\n",
       "  </thead>\n",
       "  <tbody>\n",
       "    <tr>\n",
       "      <th rowspan=\"3\" valign=\"top\">School-1</th>\n",
       "      <th>class-A</th>\n",
       "      <td>81</td>\n",
       "      <td>61</td>\n",
       "    </tr>\n",
       "    <tr>\n",
       "      <th>class-B</th>\n",
       "      <td>67</td>\n",
       "      <td>56</td>\n",
       "    </tr>\n",
       "    <tr>\n",
       "      <th>class-C</th>\n",
       "      <td>73</td>\n",
       "      <td>61</td>\n",
       "    </tr>\n",
       "    <tr>\n",
       "      <th rowspan=\"3\" valign=\"top\">School-2</th>\n",
       "      <th>class-A</th>\n",
       "      <td>97</td>\n",
       "      <td>59</td>\n",
       "    </tr>\n",
       "    <tr>\n",
       "      <th>class-B</th>\n",
       "      <td>63</td>\n",
       "      <td>90</td>\n",
       "    </tr>\n",
       "    <tr>\n",
       "      <th>class-C</th>\n",
       "      <td>54</td>\n",
       "      <td>90</td>\n",
       "    </tr>\n",
       "  </tbody>\n",
       "</table>\n",
       "</div>"
      ],
      "text/plain": [
       "                 1st_semester 2st_semester\n",
       "Schools  Classes                          \n",
       "School-1 class-A           81           61\n",
       "         class-B           67           56\n",
       "         class-C           73           61\n",
       "School-2 class-A           97           59\n",
       "         class-B           63           90\n",
       "         class-C           54           90"
      ]
     },
     "execution_count": 64,
     "metadata": {},
     "output_type": "execute_result"
    }
   ],
   "source": [
    "df_notes"
   ]
  },
  {
   "cell_type": "code",
   "execution_count": null,
   "id": "b2a983b1-31ea-403d-b068-bcf0692daac9",
   "metadata": {},
   "outputs": [],
   "source": []
  },
  {
   "cell_type": "code",
   "execution_count": null,
   "id": "6761790b-cd08-45fd-80e2-65a985376a78",
   "metadata": {},
   "outputs": [],
   "source": []
  },
  {
   "cell_type": "markdown",
   "id": "338f58dc-ca64-43cd-a243-37f438d779a2",
   "metadata": {},
   "source": [
    "## **xs() Fonksiyonu**"
   ]
  },
  {
   "cell_type": "markdown",
   "id": "5c4de533-2c5d-41cf-85bd-1f8501e86f19",
   "metadata": {},
   "source": [
    "\n",
    "    xs() fonksiyonu, Pandas DataFrame'lerinden belirli bir \"kesit\" almak için kullanılır.\n",
    "    Özellikle multi-level; yani çoklu indeks yapılarında çok kullanışlıdır.\n",
    "\n",
    "    Multi-Index yapılarda indeksleme işlemi yapılırken çıktının DF formatında görülmesi için, xs() fonksiyonu parametresi olan level=0 ilk indeksi; level=1 ile de ikinci indeksi belirterek sonucu DF formatında almamız sağlanır."
   ]
  },
  {
   "cell_type": "code",
   "execution_count": null,
   "id": "036b6c13-c750-40d6-b327-bb88abfb2664",
   "metadata": {},
   "outputs": [],
   "source": []
  },
  {
   "cell_type": "code",
   "execution_count": 78,
   "id": "61767d57-c01b-4505-84bf-52504979f11a",
   "metadata": {},
   "outputs": [
    {
     "data": {
      "text/html": [
       "<div>\n",
       "<style scoped>\n",
       "    .dataframe tbody tr th:only-of-type {\n",
       "        vertical-align: middle;\n",
       "    }\n",
       "\n",
       "    .dataframe tbody tr th {\n",
       "        vertical-align: top;\n",
       "    }\n",
       "\n",
       "    .dataframe thead tr th {\n",
       "        text-align: left;\n",
       "    }\n",
       "\n",
       "    .dataframe thead tr:last-of-type th {\n",
       "        text-align: right;\n",
       "    }\n",
       "</style>\n",
       "<table border=\"1\" class=\"dataframe\">\n",
       "  <thead>\n",
       "    <tr>\n",
       "      <th></th>\n",
       "      <th></th>\n",
       "      <th>1st_semester</th>\n",
       "      <th>2st_semester</th>\n",
       "    </tr>\n",
       "    <tr>\n",
       "      <th>Schools</th>\n",
       "      <th>Classes</th>\n",
       "      <th></th>\n",
       "      <th></th>\n",
       "    </tr>\n",
       "  </thead>\n",
       "  <tbody>\n",
       "    <tr>\n",
       "      <th rowspan=\"3\" valign=\"top\">School-1</th>\n",
       "      <th>class-A</th>\n",
       "      <td>81</td>\n",
       "      <td>61</td>\n",
       "    </tr>\n",
       "    <tr>\n",
       "      <th>class-B</th>\n",
       "      <td>67</td>\n",
       "      <td>56</td>\n",
       "    </tr>\n",
       "    <tr>\n",
       "      <th>class-C</th>\n",
       "      <td>73</td>\n",
       "      <td>61</td>\n",
       "    </tr>\n",
       "    <tr>\n",
       "      <th rowspan=\"3\" valign=\"top\">School-2</th>\n",
       "      <th>class-A</th>\n",
       "      <td>97</td>\n",
       "      <td>59</td>\n",
       "    </tr>\n",
       "    <tr>\n",
       "      <th>class-B</th>\n",
       "      <td>63</td>\n",
       "      <td>90</td>\n",
       "    </tr>\n",
       "    <tr>\n",
       "      <th>class-C</th>\n",
       "      <td>54</td>\n",
       "      <td>90</td>\n",
       "    </tr>\n",
       "  </tbody>\n",
       "</table>\n",
       "</div>"
      ],
      "text/plain": [
       "                 1st_semester 2st_semester\n",
       "Schools  Classes                          \n",
       "School-1 class-A           81           61\n",
       "         class-B           67           56\n",
       "         class-C           73           61\n",
       "School-2 class-A           97           59\n",
       "         class-B           63           90\n",
       "         class-C           54           90"
      ]
     },
     "execution_count": 78,
     "metadata": {},
     "output_type": "execute_result"
    }
   ],
   "source": [
    "df_notes"
   ]
  },
  {
   "cell_type": "code",
   "execution_count": 80,
   "id": "4876c918-0982-4c69-897c-4443697e6568",
   "metadata": {},
   "outputs": [
    {
     "data": {
      "text/plain": [
       "1st_semester    73\n",
       "2st_semester    61\n",
       "Name: (School-1, class-C), dtype: int32"
      ]
     },
     "execution_count": 80,
     "metadata": {},
     "output_type": "execute_result"
    }
   ],
   "source": [
    "df_notes.xs((\"School-1\",\"class-C\")) # Sonucu Seri formatında aldık."
   ]
  },
  {
   "cell_type": "code",
   "execution_count": null,
   "id": "64c562a5-5130-44d5-a74e-382f1433f2c1",
   "metadata": {},
   "outputs": [],
   "source": []
  },
  {
   "cell_type": "code",
   "execution_count": 83,
   "id": "891fe34f-8cb0-49e7-adb4-fbddc1815ec0",
   "metadata": {},
   "outputs": [
    {
     "data": {
      "text/html": [
       "<div>\n",
       "<style scoped>\n",
       "    .dataframe tbody tr th:only-of-type {\n",
       "        vertical-align: middle;\n",
       "    }\n",
       "\n",
       "    .dataframe tbody tr th {\n",
       "        vertical-align: top;\n",
       "    }\n",
       "\n",
       "    .dataframe thead tr th {\n",
       "        text-align: left;\n",
       "    }\n",
       "\n",
       "    .dataframe thead tr:last-of-type th {\n",
       "        text-align: right;\n",
       "    }\n",
       "</style>\n",
       "<table border=\"1\" class=\"dataframe\">\n",
       "  <thead>\n",
       "    <tr>\n",
       "      <th></th>\n",
       "      <th></th>\n",
       "      <th>1st_semester</th>\n",
       "      <th>2st_semester</th>\n",
       "    </tr>\n",
       "    <tr>\n",
       "      <th>Schools</th>\n",
       "      <th>Classes</th>\n",
       "      <th></th>\n",
       "      <th></th>\n",
       "    </tr>\n",
       "  </thead>\n",
       "  <tbody>\n",
       "    <tr>\n",
       "      <th>School-1</th>\n",
       "      <th>class-C</th>\n",
       "      <td>73</td>\n",
       "      <td>61</td>\n",
       "    </tr>\n",
       "  </tbody>\n",
       "</table>\n",
       "</div>"
      ],
      "text/plain": [
       "                 1st_semester 2st_semester\n",
       "Schools  Classes                          \n",
       "School-1 class-C           73           61"
      ]
     },
     "execution_count": 83,
     "metadata": {},
     "output_type": "execute_result"
    }
   ],
   "source": [
    "df_notes.xs((\"School-1\",\"class-C\"),level=[0,1]) # Eğer sonucu DF formatında almak istersek burada olduğu gibi level=[] parametresini kullanmamız gerekir."
   ]
  },
  {
   "cell_type": "code",
   "execution_count": null,
   "id": "7ee2a43b-1b08-4bd9-a049-e18f500efc48",
   "metadata": {},
   "outputs": [],
   "source": []
  },
  {
   "cell_type": "code",
   "execution_count": 86,
   "id": "c03e1bc7-3a62-4089-9e58-fef83e7588e0",
   "metadata": {},
   "outputs": [
    {
     "data": {
      "text/html": [
       "<div>\n",
       "<style scoped>\n",
       "    .dataframe tbody tr th:only-of-type {\n",
       "        vertical-align: middle;\n",
       "    }\n",
       "\n",
       "    .dataframe tbody tr th {\n",
       "        vertical-align: top;\n",
       "    }\n",
       "\n",
       "    .dataframe thead tr th {\n",
       "        text-align: left;\n",
       "    }\n",
       "\n",
       "    .dataframe thead tr:last-of-type th {\n",
       "        text-align: right;\n",
       "    }\n",
       "</style>\n",
       "<table border=\"1\" class=\"dataframe\">\n",
       "  <thead>\n",
       "    <tr>\n",
       "      <th></th>\n",
       "      <th>1st_semester</th>\n",
       "      <th>2st_semester</th>\n",
       "    </tr>\n",
       "    <tr>\n",
       "      <th>Schools</th>\n",
       "      <th></th>\n",
       "      <th></th>\n",
       "    </tr>\n",
       "  </thead>\n",
       "  <tbody>\n",
       "    <tr>\n",
       "      <th>School-1</th>\n",
       "      <td>81</td>\n",
       "      <td>61</td>\n",
       "    </tr>\n",
       "    <tr>\n",
       "      <th>School-2</th>\n",
       "      <td>97</td>\n",
       "      <td>59</td>\n",
       "    </tr>\n",
       "  </tbody>\n",
       "</table>\n",
       "</div>"
      ],
      "text/plain": [
       "         1st_semester 2st_semester\n",
       "Schools                           \n",
       "School-1           81           61\n",
       "School-2           97           59"
      ]
     },
     "execution_count": 86,
     "metadata": {},
     "output_type": "execute_result"
    }
   ],
   "source": [
    "df_notes.xs(\"class-A\", level=1)"
   ]
  },
  {
   "cell_type": "code",
   "execution_count": 88,
   "id": "44cde6f9-b11c-4d37-8e2f-d2e6b8ee40ad",
   "metadata": {},
   "outputs": [
    {
     "data": {
      "text/html": [
       "<div>\n",
       "<style scoped>\n",
       "    .dataframe tbody tr th:only-of-type {\n",
       "        vertical-align: middle;\n",
       "    }\n",
       "\n",
       "    .dataframe tbody tr th {\n",
       "        vertical-align: top;\n",
       "    }\n",
       "\n",
       "    .dataframe thead tr th {\n",
       "        text-align: left;\n",
       "    }\n",
       "\n",
       "    .dataframe thead tr:last-of-type th {\n",
       "        text-align: right;\n",
       "    }\n",
       "</style>\n",
       "<table border=\"1\" class=\"dataframe\">\n",
       "  <thead>\n",
       "    <tr>\n",
       "      <th></th>\n",
       "      <th>1st_semester</th>\n",
       "      <th>2st_semester</th>\n",
       "    </tr>\n",
       "    <tr>\n",
       "      <th>Schools</th>\n",
       "      <th></th>\n",
       "      <th></th>\n",
       "    </tr>\n",
       "  </thead>\n",
       "  <tbody>\n",
       "    <tr>\n",
       "      <th>School-1</th>\n",
       "      <td>81</td>\n",
       "      <td>61</td>\n",
       "    </tr>\n",
       "    <tr>\n",
       "      <th>School-2</th>\n",
       "      <td>97</td>\n",
       "      <td>59</td>\n",
       "    </tr>\n",
       "  </tbody>\n",
       "</table>\n",
       "</div>"
      ],
      "text/plain": [
       "         1st_semester 2st_semester\n",
       "Schools                           \n",
       "School-1           81           61\n",
       "School-2           97           59"
      ]
     },
     "execution_count": 88,
     "metadata": {},
     "output_type": "execute_result"
    }
   ],
   "source": [
    "df_notes.xs(\"class-A\", level= \"Classes\")"
   ]
  },
  {
   "cell_type": "code",
   "execution_count": null,
   "id": "c7f33901-e4bd-477e-8b69-87982b5b5983",
   "metadata": {},
   "outputs": [],
   "source": []
  },
  {
   "cell_type": "code",
   "execution_count": null,
   "id": "a5cf89d7-db55-40ff-b758-d8e08c9c7069",
   "metadata": {},
   "outputs": [],
   "source": []
  },
  {
   "cell_type": "markdown",
   "id": "917a9ffc-ac70-4f2e-af51-6efbb6cf87eb",
   "metadata": {
    "editable": true,
    "slideshow": {
     "slide_type": ""
    },
    "tags": []
   },
   "source": [
    "# Pandas Dataframe’lerini Birleştirme: Concat() Fonksiyonu"
   ]
  },
  {
   "cell_type": "code",
   "execution_count": 182,
   "id": "6859434b-f202-4d19-835d-63db8bc3eae9",
   "metadata": {},
   "outputs": [],
   "source": [
    "df1 = pd.DataFrame({\"A\":[\"A0\",\"A1\",\"A2\",\"A3\"],\n",
    "                    \"B\":[\"B0\",\"B1\",\"B2\",\"B3\"],\n",
    "                    \"C\":[\"C0\",\"C1\",\"C2\",\"C3\"],\n",
    "                    \"D\":[\"D0\",\"D1\",\"D2\",\"D3\"]\n",
    "                    }\n",
    "                   )"
   ]
  },
  {
   "cell_type": "code",
   "execution_count": 184,
   "id": "8ac4c13a-30c6-4cf4-8509-238a86f54db8",
   "metadata": {},
   "outputs": [],
   "source": [
    "df2 = pd.DataFrame({\"A\":[\"A4\",\"A5\",\"A6\",\"A7\"],\n",
    "                    \"B\":[\"B4\",\"B5\",\"B6\",\"B7\"],\n",
    "                    \"C\":[\"C4\",\"C5\",\"C6\",\"C7\"],\n",
    "                    \"D\":[\"D4\",\"D5\",\"D6\",\"D7\"]\n",
    "                    }\n",
    "                   )"
   ]
  },
  {
   "cell_type": "code",
   "execution_count": 186,
   "id": "c426c78f-4ab5-46cd-995e-6ec9314e3584",
   "metadata": {},
   "outputs": [],
   "source": [
    "df3 = pd.DataFrame({\"A\":[\"A8\",\"A9\",\"A10\",\"A11\"],\n",
    "                    \"B\":[\"B8\",\"B9\",\"B10\",\"B11\"],\n",
    "                    \"C\":[\"C8\",\"C9\",\"C10\",\"C11\"],\n",
    "                    \"D\":[\"D8\",\"D9\",\"D10\",\"D11\"]\n",
    "                    }\n",
    "                   )"
   ]
  },
  {
   "cell_type": "code",
   "execution_count": 188,
   "id": "ba54c920-de17-45a9-b5c8-1b9c790e9e93",
   "metadata": {},
   "outputs": [],
   "source": [
    "df4 = pd.DataFrame({\"A\":[\"A12\",\"A13\",\"A14\",\"A15\"],\n",
    "                    \"B\":[\"B12\",\"B13\",\"B14\",\"B15\"],\n",
    "                    \"X\":[\"X12\",\"X13\",\"X14\",\"X15\"],\n",
    "                    \"Y\":[\"Y12\",\"Y13\",\"Y14\",\"Y15\"]\n",
    "                    }\n",
    "                   )"
   ]
  },
  {
   "cell_type": "code",
   "execution_count": null,
   "id": "4742e2c6-107e-4297-a995-b024e7d1e99d",
   "metadata": {},
   "outputs": [],
   "source": []
  },
  {
   "cell_type": "code",
   "execution_count": null,
   "id": "6a20b6fe-1989-4eca-a4d0-97aa41826390",
   "metadata": {},
   "outputs": [],
   "source": []
  },
  {
   "cell_type": "code",
   "execution_count": 192,
   "id": "a896ce00-8cbd-4d4f-bcff-0bb588f5ceb5",
   "metadata": {},
   "outputs": [
    {
     "data": {
      "text/html": [
       "<div>\n",
       "<style scoped>\n",
       "    .dataframe tbody tr th:only-of-type {\n",
       "        vertical-align: middle;\n",
       "    }\n",
       "\n",
       "    .dataframe tbody tr th {\n",
       "        vertical-align: top;\n",
       "    }\n",
       "\n",
       "    .dataframe thead th {\n",
       "        text-align: right;\n",
       "    }\n",
       "</style>\n",
       "<table border=\"1\" class=\"dataframe\">\n",
       "  <thead>\n",
       "    <tr style=\"text-align: right;\">\n",
       "      <th></th>\n",
       "      <th>A</th>\n",
       "      <th>B</th>\n",
       "      <th>C</th>\n",
       "      <th>D</th>\n",
       "    </tr>\n",
       "  </thead>\n",
       "  <tbody>\n",
       "    <tr>\n",
       "      <th>0</th>\n",
       "      <td>A0</td>\n",
       "      <td>B0</td>\n",
       "      <td>C0</td>\n",
       "      <td>D0</td>\n",
       "    </tr>\n",
       "    <tr>\n",
       "      <th>1</th>\n",
       "      <td>A1</td>\n",
       "      <td>B1</td>\n",
       "      <td>C1</td>\n",
       "      <td>D1</td>\n",
       "    </tr>\n",
       "    <tr>\n",
       "      <th>2</th>\n",
       "      <td>A2</td>\n",
       "      <td>B2</td>\n",
       "      <td>C2</td>\n",
       "      <td>D2</td>\n",
       "    </tr>\n",
       "    <tr>\n",
       "      <th>3</th>\n",
       "      <td>A3</td>\n",
       "      <td>B3</td>\n",
       "      <td>C3</td>\n",
       "      <td>D3</td>\n",
       "    </tr>\n",
       "    <tr>\n",
       "      <th>4</th>\n",
       "      <td>A4</td>\n",
       "      <td>B4</td>\n",
       "      <td>C4</td>\n",
       "      <td>D4</td>\n",
       "    </tr>\n",
       "    <tr>\n",
       "      <th>5</th>\n",
       "      <td>A5</td>\n",
       "      <td>B5</td>\n",
       "      <td>C5</td>\n",
       "      <td>D5</td>\n",
       "    </tr>\n",
       "    <tr>\n",
       "      <th>6</th>\n",
       "      <td>A6</td>\n",
       "      <td>B6</td>\n",
       "      <td>C6</td>\n",
       "      <td>D6</td>\n",
       "    </tr>\n",
       "    <tr>\n",
       "      <th>7</th>\n",
       "      <td>A7</td>\n",
       "      <td>B7</td>\n",
       "      <td>C7</td>\n",
       "      <td>D7</td>\n",
       "    </tr>\n",
       "    <tr>\n",
       "      <th>8</th>\n",
       "      <td>A8</td>\n",
       "      <td>B8</td>\n",
       "      <td>C8</td>\n",
       "      <td>D8</td>\n",
       "    </tr>\n",
       "    <tr>\n",
       "      <th>9</th>\n",
       "      <td>A9</td>\n",
       "      <td>B9</td>\n",
       "      <td>C9</td>\n",
       "      <td>D9</td>\n",
       "    </tr>\n",
       "    <tr>\n",
       "      <th>10</th>\n",
       "      <td>A10</td>\n",
       "      <td>B10</td>\n",
       "      <td>C10</td>\n",
       "      <td>D10</td>\n",
       "    </tr>\n",
       "    <tr>\n",
       "      <th>11</th>\n",
       "      <td>A11</td>\n",
       "      <td>B11</td>\n",
       "      <td>C11</td>\n",
       "      <td>D11</td>\n",
       "    </tr>\n",
       "  </tbody>\n",
       "</table>\n",
       "</div>"
      ],
      "text/plain": [
       "      A    B    C    D\n",
       "0    A0   B0   C0   D0\n",
       "1    A1   B1   C1   D1\n",
       "2    A2   B2   C2   D2\n",
       "3    A3   B3   C3   D3\n",
       "4    A4   B4   C4   D4\n",
       "5    A5   B5   C5   D5\n",
       "6    A6   B6   C6   D6\n",
       "7    A7   B7   C7   D7\n",
       "8    A8   B8   C8   D8\n",
       "9    A9   B9   C9   D9\n",
       "10  A10  B10  C10  D10\n",
       "11  A11  B11  C11  D11"
      ]
     },
     "execution_count": 192,
     "metadata": {},
     "output_type": "execute_result"
    }
   ],
   "source": [
    "pd.concat([df1, df2, df3], ignore_index=True, join=\"inner\", axis=0)"
   ]
  },
  {
   "cell_type": "code",
   "execution_count": null,
   "id": "abff5264-9d94-45fb-8617-4b5ae052cb3f",
   "metadata": {},
   "outputs": [],
   "source": []
  },
  {
   "cell_type": "code",
   "execution_count": 195,
   "id": "cc4e269b-571b-415d-a25b-48fb05f317d5",
   "metadata": {},
   "outputs": [
    {
     "data": {
      "text/html": [
       "<div>\n",
       "<style scoped>\n",
       "    .dataframe tbody tr th:only-of-type {\n",
       "        vertical-align: middle;\n",
       "    }\n",
       "\n",
       "    .dataframe tbody tr th {\n",
       "        vertical-align: top;\n",
       "    }\n",
       "\n",
       "    .dataframe thead th {\n",
       "        text-align: right;\n",
       "    }\n",
       "</style>\n",
       "<table border=\"1\" class=\"dataframe\">\n",
       "  <thead>\n",
       "    <tr style=\"text-align: right;\">\n",
       "      <th></th>\n",
       "      <th>A</th>\n",
       "      <th>B</th>\n",
       "    </tr>\n",
       "  </thead>\n",
       "  <tbody>\n",
       "    <tr>\n",
       "      <th>0</th>\n",
       "      <td>A0</td>\n",
       "      <td>B0</td>\n",
       "    </tr>\n",
       "    <tr>\n",
       "      <th>1</th>\n",
       "      <td>A1</td>\n",
       "      <td>B1</td>\n",
       "    </tr>\n",
       "    <tr>\n",
       "      <th>2</th>\n",
       "      <td>A2</td>\n",
       "      <td>B2</td>\n",
       "    </tr>\n",
       "    <tr>\n",
       "      <th>3</th>\n",
       "      <td>A3</td>\n",
       "      <td>B3</td>\n",
       "    </tr>\n",
       "    <tr>\n",
       "      <th>4</th>\n",
       "      <td>A12</td>\n",
       "      <td>B12</td>\n",
       "    </tr>\n",
       "    <tr>\n",
       "      <th>5</th>\n",
       "      <td>A13</td>\n",
       "      <td>B13</td>\n",
       "    </tr>\n",
       "    <tr>\n",
       "      <th>6</th>\n",
       "      <td>A14</td>\n",
       "      <td>B14</td>\n",
       "    </tr>\n",
       "    <tr>\n",
       "      <th>7</th>\n",
       "      <td>A15</td>\n",
       "      <td>B15</td>\n",
       "    </tr>\n",
       "  </tbody>\n",
       "</table>\n",
       "</div>"
      ],
      "text/plain": [
       "     A    B\n",
       "0   A0   B0\n",
       "1   A1   B1\n",
       "2   A2   B2\n",
       "3   A3   B3\n",
       "4  A12  B12\n",
       "5  A13  B13\n",
       "6  A14  B14\n",
       "7  A15  B15"
      ]
     },
     "execution_count": 195,
     "metadata": {},
     "output_type": "execute_result"
    }
   ],
   "source": [
    "pd.concat([df1, df4], ignore_index=True, join=\"inner\") # df1 ve df4 için concat işleminde join=\"inner\" parametresi ile sadece ortak sütunlardan (kesişim) alt atla birleştirme işlemi yaptık."
   ]
  },
  {
   "cell_type": "code",
   "execution_count": null,
   "id": "810fbf38-af69-48fe-b208-ef053efe28e5",
   "metadata": {},
   "outputs": [],
   "source": []
  },
  {
   "cell_type": "code",
   "execution_count": 218,
   "id": "fb84a9d3-7675-4914-a52d-0e436358e823",
   "metadata": {},
   "outputs": [
    {
     "data": {
      "text/html": [
       "<div>\n",
       "<style scoped>\n",
       "    .dataframe tbody tr th:only-of-type {\n",
       "        vertical-align: middle;\n",
       "    }\n",
       "\n",
       "    .dataframe tbody tr th {\n",
       "        vertical-align: top;\n",
       "    }\n",
       "\n",
       "    .dataframe thead th {\n",
       "        text-align: right;\n",
       "    }\n",
       "</style>\n",
       "<table border=\"1\" class=\"dataframe\">\n",
       "  <thead>\n",
       "    <tr style=\"text-align: right;\">\n",
       "      <th></th>\n",
       "      <th>A</th>\n",
       "      <th>B</th>\n",
       "      <th>C</th>\n",
       "      <th>D</th>\n",
       "      <th>X</th>\n",
       "      <th>Y</th>\n",
       "    </tr>\n",
       "  </thead>\n",
       "  <tbody>\n",
       "    <tr>\n",
       "      <th>0</th>\n",
       "      <td>A0</td>\n",
       "      <td>B0</td>\n",
       "      <td>C0</td>\n",
       "      <td>D0</td>\n",
       "      <td>NaN</td>\n",
       "      <td>NaN</td>\n",
       "    </tr>\n",
       "    <tr>\n",
       "      <th>1</th>\n",
       "      <td>A1</td>\n",
       "      <td>B1</td>\n",
       "      <td>C1</td>\n",
       "      <td>D1</td>\n",
       "      <td>NaN</td>\n",
       "      <td>NaN</td>\n",
       "    </tr>\n",
       "    <tr>\n",
       "      <th>2</th>\n",
       "      <td>A2</td>\n",
       "      <td>B2</td>\n",
       "      <td>C2</td>\n",
       "      <td>D2</td>\n",
       "      <td>NaN</td>\n",
       "      <td>NaN</td>\n",
       "    </tr>\n",
       "    <tr>\n",
       "      <th>3</th>\n",
       "      <td>A3</td>\n",
       "      <td>B3</td>\n",
       "      <td>C3</td>\n",
       "      <td>D3</td>\n",
       "      <td>NaN</td>\n",
       "      <td>NaN</td>\n",
       "    </tr>\n",
       "    <tr>\n",
       "      <th>0</th>\n",
       "      <td>A12</td>\n",
       "      <td>B12</td>\n",
       "      <td>NaN</td>\n",
       "      <td>NaN</td>\n",
       "      <td>X12</td>\n",
       "      <td>Y12</td>\n",
       "    </tr>\n",
       "    <tr>\n",
       "      <th>1</th>\n",
       "      <td>A13</td>\n",
       "      <td>B13</td>\n",
       "      <td>NaN</td>\n",
       "      <td>NaN</td>\n",
       "      <td>X13</td>\n",
       "      <td>Y13</td>\n",
       "    </tr>\n",
       "    <tr>\n",
       "      <th>2</th>\n",
       "      <td>A14</td>\n",
       "      <td>B14</td>\n",
       "      <td>NaN</td>\n",
       "      <td>NaN</td>\n",
       "      <td>X14</td>\n",
       "      <td>Y14</td>\n",
       "    </tr>\n",
       "    <tr>\n",
       "      <th>3</th>\n",
       "      <td>A15</td>\n",
       "      <td>B15</td>\n",
       "      <td>NaN</td>\n",
       "      <td>NaN</td>\n",
       "      <td>X15</td>\n",
       "      <td>Y15</td>\n",
       "    </tr>\n",
       "  </tbody>\n",
       "</table>\n",
       "</div>"
      ],
      "text/plain": [
       "     A    B    C    D    X    Y\n",
       "0   A0   B0   C0   D0  NaN  NaN\n",
       "1   A1   B1   C1   D1  NaN  NaN\n",
       "2   A2   B2   C2   D2  NaN  NaN\n",
       "3   A3   B3   C3   D3  NaN  NaN\n",
       "0  A12  B12  NaN  NaN  X12  Y12\n",
       "1  A13  B13  NaN  NaN  X13  Y13\n",
       "2  A14  B14  NaN  NaN  X14  Y14\n",
       "3  A15  B15  NaN  NaN  X15  Y15"
      ]
     },
     "execution_count": 218,
     "metadata": {},
     "output_type": "execute_result"
    }
   ],
   "source": [
    "pd.concat([df1,df4], join=\"outer\")"
   ]
  },
  {
   "cell_type": "code",
   "execution_count": 220,
   "id": "b1a7ca79-4d7c-4996-bca4-5306dbe6feec",
   "metadata": {},
   "outputs": [
    {
     "data": {
      "text/html": [
       "<div>\n",
       "<style scoped>\n",
       "    .dataframe tbody tr th:only-of-type {\n",
       "        vertical-align: middle;\n",
       "    }\n",
       "\n",
       "    .dataframe tbody tr th {\n",
       "        vertical-align: top;\n",
       "    }\n",
       "\n",
       "    .dataframe thead th {\n",
       "        text-align: right;\n",
       "    }\n",
       "</style>\n",
       "<table border=\"1\" class=\"dataframe\">\n",
       "  <thead>\n",
       "    <tr style=\"text-align: right;\">\n",
       "      <th></th>\n",
       "      <th>A</th>\n",
       "      <th>B</th>\n",
       "      <th>C</th>\n",
       "      <th>D</th>\n",
       "      <th>A</th>\n",
       "      <th>B</th>\n",
       "      <th>X</th>\n",
       "      <th>Y</th>\n",
       "    </tr>\n",
       "  </thead>\n",
       "  <tbody>\n",
       "    <tr>\n",
       "      <th>0</th>\n",
       "      <td>A0</td>\n",
       "      <td>B0</td>\n",
       "      <td>C0</td>\n",
       "      <td>D0</td>\n",
       "      <td>A12</td>\n",
       "      <td>B12</td>\n",
       "      <td>X12</td>\n",
       "      <td>Y12</td>\n",
       "    </tr>\n",
       "    <tr>\n",
       "      <th>1</th>\n",
       "      <td>A1</td>\n",
       "      <td>B1</td>\n",
       "      <td>C1</td>\n",
       "      <td>D1</td>\n",
       "      <td>A13</td>\n",
       "      <td>B13</td>\n",
       "      <td>X13</td>\n",
       "      <td>Y13</td>\n",
       "    </tr>\n",
       "    <tr>\n",
       "      <th>2</th>\n",
       "      <td>A2</td>\n",
       "      <td>B2</td>\n",
       "      <td>C2</td>\n",
       "      <td>D2</td>\n",
       "      <td>A14</td>\n",
       "      <td>B14</td>\n",
       "      <td>X14</td>\n",
       "      <td>Y14</td>\n",
       "    </tr>\n",
       "    <tr>\n",
       "      <th>3</th>\n",
       "      <td>A3</td>\n",
       "      <td>B3</td>\n",
       "      <td>C3</td>\n",
       "      <td>D3</td>\n",
       "      <td>A15</td>\n",
       "      <td>B15</td>\n",
       "      <td>X15</td>\n",
       "      <td>Y15</td>\n",
       "    </tr>\n",
       "  </tbody>\n",
       "</table>\n",
       "</div>"
      ],
      "text/plain": [
       "    A   B   C   D    A    B    X    Y\n",
       "0  A0  B0  C0  D0  A12  B12  X12  Y12\n",
       "1  A1  B1  C1  D1  A13  B13  X13  Y13\n",
       "2  A2  B2  C2  D2  A14  B14  X14  Y14\n",
       "3  A3  B3  C3  D3  A15  B15  X15  Y15"
      ]
     },
     "execution_count": 220,
     "metadata": {},
     "output_type": "execute_result"
    }
   ],
   "source": [
    "pd.concat([df1,df4], axis=1, join=\"outer\")"
   ]
  },
  {
   "cell_type": "code",
   "execution_count": null,
   "id": "17f8b8dc-0f93-491c-8182-6e7c370812d1",
   "metadata": {},
   "outputs": [],
   "source": []
  },
  {
   "cell_type": "code",
   "execution_count": null,
   "id": "f9813b64-f9da-4943-ba0c-9fd0941c2e76",
   "metadata": {},
   "outputs": [],
   "source": []
  },
  {
   "cell_type": "markdown",
   "id": "8ee08dd4-7267-43cb-acd8-5fd05fdee0a0",
   "metadata": {},
   "source": [
    "## Pandas Dataframe’lerini Birleştirme: Merge() Fonksiyonu 1"
   ]
  },
  {
   "cell_type": "code",
   "execution_count": 225,
   "id": "e03a19e3-e909-41df-8cf4-6e46f60625b7",
   "metadata": {},
   "outputs": [],
   "source": [
    "df1 = pd.DataFrame({'employee': ['Julia', 'Marie', 'Adam', 'Nicole'],\n",
    "                     'department': ['Data Science', 'Web Development', 'Data Science', 'Cyber Security'],\n",
    "                     'Year': ['2005', '2008', '2011', '2002']})\n",
    "   \n",
    "df2 = pd.DataFrame({'employee': ['Nicole', 'Adam', 'Julia', 'Marie'],\n",
    "                          'country': ['Canada', 'England', 'USA', 'Germany'],\n",
    "                          'salary': ['22000', '16000', '20000', '17500']})  "
   ]
  },
  {
   "cell_type": "code",
   "execution_count": 232,
   "id": "3fbe22c1-cb1b-4313-8618-258136530965",
   "metadata": {},
   "outputs": [
    {
     "data": {
      "text/html": [
       "<div>\n",
       "<style scoped>\n",
       "    .dataframe tbody tr th:only-of-type {\n",
       "        vertical-align: middle;\n",
       "    }\n",
       "\n",
       "    .dataframe tbody tr th {\n",
       "        vertical-align: top;\n",
       "    }\n",
       "\n",
       "    .dataframe thead th {\n",
       "        text-align: right;\n",
       "    }\n",
       "</style>\n",
       "<table border=\"1\" class=\"dataframe\">\n",
       "  <thead>\n",
       "    <tr style=\"text-align: right;\">\n",
       "      <th></th>\n",
       "      <th>employee</th>\n",
       "      <th>department</th>\n",
       "      <th>Year</th>\n",
       "    </tr>\n",
       "  </thead>\n",
       "  <tbody>\n",
       "    <tr>\n",
       "      <th>0</th>\n",
       "      <td>Julia</td>\n",
       "      <td>Data Science</td>\n",
       "      <td>2005</td>\n",
       "    </tr>\n",
       "    <tr>\n",
       "      <th>1</th>\n",
       "      <td>Marie</td>\n",
       "      <td>Web Development</td>\n",
       "      <td>2008</td>\n",
       "    </tr>\n",
       "    <tr>\n",
       "      <th>2</th>\n",
       "      <td>Adam</td>\n",
       "      <td>Data Science</td>\n",
       "      <td>2011</td>\n",
       "    </tr>\n",
       "    <tr>\n",
       "      <th>3</th>\n",
       "      <td>Nicole</td>\n",
       "      <td>Cyber Security</td>\n",
       "      <td>2002</td>\n",
       "    </tr>\n",
       "  </tbody>\n",
       "</table>\n",
       "</div>"
      ],
      "text/plain": [
       "  employee       department  Year\n",
       "0    Julia     Data Science  2005\n",
       "1    Marie  Web Development  2008\n",
       "2     Adam     Data Science  2011\n",
       "3   Nicole   Cyber Security  2002"
      ]
     },
     "execution_count": 232,
     "metadata": {},
     "output_type": "execute_result"
    }
   ],
   "source": [
    "df1"
   ]
  },
  {
   "cell_type": "code",
   "execution_count": 234,
   "id": "7fa14f3b-cab1-4f89-8447-da4960e80247",
   "metadata": {},
   "outputs": [
    {
     "data": {
      "text/html": [
       "<div>\n",
       "<style scoped>\n",
       "    .dataframe tbody tr th:only-of-type {\n",
       "        vertical-align: middle;\n",
       "    }\n",
       "\n",
       "    .dataframe tbody tr th {\n",
       "        vertical-align: top;\n",
       "    }\n",
       "\n",
       "    .dataframe thead th {\n",
       "        text-align: right;\n",
       "    }\n",
       "</style>\n",
       "<table border=\"1\" class=\"dataframe\">\n",
       "  <thead>\n",
       "    <tr style=\"text-align: right;\">\n",
       "      <th></th>\n",
       "      <th>employee</th>\n",
       "      <th>country</th>\n",
       "      <th>salary</th>\n",
       "    </tr>\n",
       "  </thead>\n",
       "  <tbody>\n",
       "    <tr>\n",
       "      <th>0</th>\n",
       "      <td>Nicole</td>\n",
       "      <td>Canada</td>\n",
       "      <td>22000</td>\n",
       "    </tr>\n",
       "    <tr>\n",
       "      <th>1</th>\n",
       "      <td>Adam</td>\n",
       "      <td>England</td>\n",
       "      <td>16000</td>\n",
       "    </tr>\n",
       "    <tr>\n",
       "      <th>2</th>\n",
       "      <td>Julia</td>\n",
       "      <td>USA</td>\n",
       "      <td>20000</td>\n",
       "    </tr>\n",
       "    <tr>\n",
       "      <th>3</th>\n",
       "      <td>Marie</td>\n",
       "      <td>Germany</td>\n",
       "      <td>17500</td>\n",
       "    </tr>\n",
       "  </tbody>\n",
       "</table>\n",
       "</div>"
      ],
      "text/plain": [
       "  employee  country salary\n",
       "0   Nicole   Canada  22000\n",
       "1     Adam  England  16000\n",
       "2    Julia      USA  20000\n",
       "3    Marie  Germany  17500"
      ]
     },
     "execution_count": 234,
     "metadata": {},
     "output_type": "execute_result"
    }
   ],
   "source": [
    "df2"
   ]
  },
  {
   "cell_type": "code",
   "execution_count": null,
   "id": "b122b847-00cd-4d09-87f6-fbab2207505f",
   "metadata": {},
   "outputs": [],
   "source": []
  },
  {
   "cell_type": "code",
   "execution_count": null,
   "id": "aa10cd5b-bbda-46c4-b3bf-54f79c1f48d6",
   "metadata": {},
   "outputs": [],
   "source": []
  },
  {
   "cell_type": "code",
   "execution_count": 242,
   "id": "9fae1762-a4a5-4bae-821d-df14411137bb",
   "metadata": {},
   "outputs": [
    {
     "data": {
      "text/html": [
       "<div>\n",
       "<style scoped>\n",
       "    .dataframe tbody tr th:only-of-type {\n",
       "        vertical-align: middle;\n",
       "    }\n",
       "\n",
       "    .dataframe tbody tr th {\n",
       "        vertical-align: top;\n",
       "    }\n",
       "\n",
       "    .dataframe thead th {\n",
       "        text-align: right;\n",
       "    }\n",
       "</style>\n",
       "<table border=\"1\" class=\"dataframe\">\n",
       "  <thead>\n",
       "    <tr style=\"text-align: right;\">\n",
       "      <th></th>\n",
       "      <th>employee</th>\n",
       "      <th>department</th>\n",
       "      <th>Year</th>\n",
       "      <th>country</th>\n",
       "      <th>salary</th>\n",
       "    </tr>\n",
       "  </thead>\n",
       "  <tbody>\n",
       "    <tr>\n",
       "      <th>0</th>\n",
       "      <td>Julia</td>\n",
       "      <td>Data Science</td>\n",
       "      <td>2005</td>\n",
       "      <td>USA</td>\n",
       "      <td>20000</td>\n",
       "    </tr>\n",
       "    <tr>\n",
       "      <th>1</th>\n",
       "      <td>Marie</td>\n",
       "      <td>Web Development</td>\n",
       "      <td>2008</td>\n",
       "      <td>Germany</td>\n",
       "      <td>17500</td>\n",
       "    </tr>\n",
       "    <tr>\n",
       "      <th>2</th>\n",
       "      <td>Adam</td>\n",
       "      <td>Data Science</td>\n",
       "      <td>2011</td>\n",
       "      <td>England</td>\n",
       "      <td>16000</td>\n",
       "    </tr>\n",
       "    <tr>\n",
       "      <th>3</th>\n",
       "      <td>Nicole</td>\n",
       "      <td>Cyber Security</td>\n",
       "      <td>2002</td>\n",
       "      <td>Canada</td>\n",
       "      <td>22000</td>\n",
       "    </tr>\n",
       "  </tbody>\n",
       "</table>\n",
       "</div>"
      ],
      "text/plain": [
       "  employee       department  Year  country salary\n",
       "0    Julia     Data Science  2005      USA  20000\n",
       "1    Marie  Web Development  2008  Germany  17500\n",
       "2     Adam     Data Science  2011  England  16000\n",
       "3   Nicole   Cyber Security  2002   Canada  22000"
      ]
     },
     "execution_count": 242,
     "metadata": {},
     "output_type": "execute_result"
    }
   ],
   "source": [
    "pd.merge(df1, df2) # pd.merge() fonksiyonu, df1 ve df2 arasında yer alan ortak sütun ve sütun değerlerini otomatik olarak algılayarak daha profesyonel bir şekilde birleştirme işlemi yaptı.\n",
    "                   # pd.merge() fonksiyonu, birleştirme işlemlerinde birleştirmenin hangi değere göre nasıl yapılacağını otomatik olarak algılamaktadır."
   ]
  },
  {
   "cell_type": "code",
   "execution_count": null,
   "id": "92d5c910-b000-431e-a283-7b1b6a9dcc86",
   "metadata": {},
   "outputs": [],
   "source": []
  },
  {
   "cell_type": "code",
   "execution_count": null,
   "id": "1aa28050-b04e-4628-8f8c-7f0004ae7241",
   "metadata": {},
   "outputs": [],
   "source": []
  },
  {
   "cell_type": "markdown",
   "id": "96493f1c-b7a8-4aae-bccc-37f5e652d855",
   "metadata": {},
   "source": [
    "### **NOT:**\n",
    "\n",
    "    # pd.merge() fonksiyonu ile df1 ve df2 nin birleştirilme işleminde fonksiyon parametresi olan on=\"employee\" ile ifadeler içerisinde yer alan ortak sütunu seçerek birleştirme işlemini yapmış olduk.Buradaki DF yapılarında sadece bir tane ortak sütun olduğu için on=\"employee\" parametresini yazmasak da zaten ortak olan tek sütun \"employee\" olduğu için kendisi default olarak birleştirme işlemini bu ortak sütuna göre yapacaktı.Ancak DF ler içerisinde birden fazla ortak sütun varsa, on=\"\" parametresi bize ortak sütunlardan spesifik olarak hangisi ile birleştirme işlemini seçme şansı sunar.\n",
    "\n",
    "    how=\"\" parametresi ise pd.merge() fonksiyonu içerisine yazılan DF yapılarından hangisini baza alarak birleştirme işlemi yapacağımızı bize seçme imkanı verir.\n",
    "    Eğer how=\"right\" şeklinde parametre değerini tanımlarsak pd.merge() içerisine yazılan ve sağ tarafta kalan DF i baza alarak birleştirme işlemi yapacaktır.Eğer how=\"left\" şeklinde parametre değerini tanımlarsak pd.merge() içerisine yazılan ve sol tarafta kalan DF i baza alarak birleştirme işlemi yapacaktır.\n",
    "\n",
    "    Aşağıdaki pd.merge(df1, df2, on=\"employee\", how=\"right\") şeklindeki fonksiyon tanımlaması ile df1 ve df2 arasında df2 yi baza alarak ortak sütun olan \"employee\" üzerinden bir birleştirme işlemi yapmış olduk."
   ]
  },
  {
   "cell_type": "code",
   "execution_count": 245,
   "id": "10c0d7bc-372a-433b-8fe5-b69e00cfd1ec",
   "metadata": {},
   "outputs": [
    {
     "data": {
      "text/html": [
       "<div>\n",
       "<style scoped>\n",
       "    .dataframe tbody tr th:only-of-type {\n",
       "        vertical-align: middle;\n",
       "    }\n",
       "\n",
       "    .dataframe tbody tr th {\n",
       "        vertical-align: top;\n",
       "    }\n",
       "\n",
       "    .dataframe thead th {\n",
       "        text-align: right;\n",
       "    }\n",
       "</style>\n",
       "<table border=\"1\" class=\"dataframe\">\n",
       "  <thead>\n",
       "    <tr style=\"text-align: right;\">\n",
       "      <th></th>\n",
       "      <th>employee</th>\n",
       "      <th>department</th>\n",
       "      <th>Year</th>\n",
       "      <th>country</th>\n",
       "      <th>salary</th>\n",
       "    </tr>\n",
       "  </thead>\n",
       "  <tbody>\n",
       "    <tr>\n",
       "      <th>0</th>\n",
       "      <td>Nicole</td>\n",
       "      <td>Cyber Security</td>\n",
       "      <td>2002</td>\n",
       "      <td>Canada</td>\n",
       "      <td>22000</td>\n",
       "    </tr>\n",
       "    <tr>\n",
       "      <th>1</th>\n",
       "      <td>Adam</td>\n",
       "      <td>Data Science</td>\n",
       "      <td>2011</td>\n",
       "      <td>England</td>\n",
       "      <td>16000</td>\n",
       "    </tr>\n",
       "    <tr>\n",
       "      <th>2</th>\n",
       "      <td>Julia</td>\n",
       "      <td>Data Science</td>\n",
       "      <td>2005</td>\n",
       "      <td>USA</td>\n",
       "      <td>20000</td>\n",
       "    </tr>\n",
       "    <tr>\n",
       "      <th>3</th>\n",
       "      <td>Marie</td>\n",
       "      <td>Web Development</td>\n",
       "      <td>2008</td>\n",
       "      <td>Germany</td>\n",
       "      <td>17500</td>\n",
       "    </tr>\n",
       "  </tbody>\n",
       "</table>\n",
       "</div>"
      ],
      "text/plain": [
       "  employee       department  Year  country salary\n",
       "0   Nicole   Cyber Security  2002   Canada  22000\n",
       "1     Adam     Data Science  2011  England  16000\n",
       "2    Julia     Data Science  2005      USA  20000\n",
       "3    Marie  Web Development  2008  Germany  17500"
      ]
     },
     "execution_count": 245,
     "metadata": {},
     "output_type": "execute_result"
    }
   ],
   "source": [
    "pd.merge(df1, df2, on=\"employee\", how=\"right\") "
   ]
  },
  {
   "cell_type": "code",
   "execution_count": null,
   "id": "2b7389e7-658f-42b8-8351-3290decaf9c9",
   "metadata": {},
   "outputs": [],
   "source": []
  },
  {
   "cell_type": "code",
   "execution_count": null,
   "id": "fbe168fc-eec6-4eb2-8bf2-2089ef93807a",
   "metadata": {},
   "outputs": [],
   "source": []
  },
  {
   "cell_type": "markdown",
   "id": "7eaf8406-ca47-4cb4-8a0c-3550306fccf6",
   "metadata": {},
   "source": [
    "## Pandas Dataframe’lerini Birleştirme: Merge() Fonksiyonu 2"
   ]
  },
  {
   "cell_type": "code",
   "execution_count": 260,
   "id": "da49264d-126b-4e23-9eee-d72d9e5dbdf2",
   "metadata": {},
   "outputs": [],
   "source": [
    "df1 = pd.DataFrame({'employee': ['Julia', 'Marie', 'Adam', 'Nicole'],\n",
    "                     'department': ['Data Science', 'Web Development', 'Data Science', 'Cyber Security'],\n",
    "                     'Year': ['2005', '2008', '2011', '2002']})\n",
    "   \n",
    "df2 = pd.DataFrame({'employee': ['Nicole', 'Adam', 'Julia', 'Marie'],\n",
    "                          'country': ['Canada', 'England', 'USA', 'Germany'],\n",
    "                          'salary': ['22000', '16000', '20000', '17500']})  "
   ]
  },
  {
   "cell_type": "code",
   "execution_count": 263,
   "id": "e83c0725-6698-4601-8d99-b9d472805a5f",
   "metadata": {},
   "outputs": [],
   "source": [
    "df3 = pd.DataFrame({'manager': ['Abraham', \"Joseph\", \"Kayra\"],\n",
    "                     'department': ['Web Development','Cyber Security', 'Data Science']})"
   ]
  },
  {
   "cell_type": "code",
   "execution_count": null,
   "id": "e392f2eb-d79c-4600-833c-ed717f84752f",
   "metadata": {},
   "outputs": [],
   "source": []
  },
  {
   "cell_type": "code",
   "execution_count": 265,
   "id": "f375ac74-8dbd-4110-a193-0e9b82db47fd",
   "metadata": {},
   "outputs": [
    {
     "data": {
      "text/html": [
       "<div>\n",
       "<style scoped>\n",
       "    .dataframe tbody tr th:only-of-type {\n",
       "        vertical-align: middle;\n",
       "    }\n",
       "\n",
       "    .dataframe tbody tr th {\n",
       "        vertical-align: top;\n",
       "    }\n",
       "\n",
       "    .dataframe thead th {\n",
       "        text-align: right;\n",
       "    }\n",
       "</style>\n",
       "<table border=\"1\" class=\"dataframe\">\n",
       "  <thead>\n",
       "    <tr style=\"text-align: right;\">\n",
       "      <th></th>\n",
       "      <th>manager</th>\n",
       "      <th>department</th>\n",
       "    </tr>\n",
       "  </thead>\n",
       "  <tbody>\n",
       "    <tr>\n",
       "      <th>0</th>\n",
       "      <td>Abraham</td>\n",
       "      <td>Web Development</td>\n",
       "    </tr>\n",
       "    <tr>\n",
       "      <th>1</th>\n",
       "      <td>Joseph</td>\n",
       "      <td>Cyber Security</td>\n",
       "    </tr>\n",
       "    <tr>\n",
       "      <th>2</th>\n",
       "      <td>Kayra</td>\n",
       "      <td>Data Science</td>\n",
       "    </tr>\n",
       "  </tbody>\n",
       "</table>\n",
       "</div>"
      ],
      "text/plain": [
       "   manager       department\n",
       "0  Abraham  Web Development\n",
       "1   Joseph   Cyber Security\n",
       "2    Kayra     Data Science"
      ]
     },
     "execution_count": 265,
     "metadata": {},
     "output_type": "execute_result"
    }
   ],
   "source": [
    "df3"
   ]
  },
  {
   "cell_type": "code",
   "execution_count": 272,
   "id": "85bebd03-e537-4b50-96a4-0b6b96a02e1e",
   "metadata": {},
   "outputs": [],
   "source": [
    "df4 = pd.merge(df1, df2)"
   ]
  },
  {
   "cell_type": "code",
   "execution_count": 274,
   "id": "c1772fcf-cc84-48a0-9b2a-beaa01440ef9",
   "metadata": {},
   "outputs": [
    {
     "data": {
      "text/html": [
       "<div>\n",
       "<style scoped>\n",
       "    .dataframe tbody tr th:only-of-type {\n",
       "        vertical-align: middle;\n",
       "    }\n",
       "\n",
       "    .dataframe tbody tr th {\n",
       "        vertical-align: top;\n",
       "    }\n",
       "\n",
       "    .dataframe thead th {\n",
       "        text-align: right;\n",
       "    }\n",
       "</style>\n",
       "<table border=\"1\" class=\"dataframe\">\n",
       "  <thead>\n",
       "    <tr style=\"text-align: right;\">\n",
       "      <th></th>\n",
       "      <th>employee</th>\n",
       "      <th>department</th>\n",
       "      <th>Year</th>\n",
       "      <th>country</th>\n",
       "      <th>salary</th>\n",
       "    </tr>\n",
       "  </thead>\n",
       "  <tbody>\n",
       "    <tr>\n",
       "      <th>0</th>\n",
       "      <td>Julia</td>\n",
       "      <td>Data Science</td>\n",
       "      <td>2005</td>\n",
       "      <td>USA</td>\n",
       "      <td>20000</td>\n",
       "    </tr>\n",
       "    <tr>\n",
       "      <th>1</th>\n",
       "      <td>Marie</td>\n",
       "      <td>Web Development</td>\n",
       "      <td>2008</td>\n",
       "      <td>Germany</td>\n",
       "      <td>17500</td>\n",
       "    </tr>\n",
       "    <tr>\n",
       "      <th>2</th>\n",
       "      <td>Adam</td>\n",
       "      <td>Data Science</td>\n",
       "      <td>2011</td>\n",
       "      <td>England</td>\n",
       "      <td>16000</td>\n",
       "    </tr>\n",
       "    <tr>\n",
       "      <th>3</th>\n",
       "      <td>Nicole</td>\n",
       "      <td>Cyber Security</td>\n",
       "      <td>2002</td>\n",
       "      <td>Canada</td>\n",
       "      <td>22000</td>\n",
       "    </tr>\n",
       "  </tbody>\n",
       "</table>\n",
       "</div>"
      ],
      "text/plain": [
       "  employee       department  Year  country salary\n",
       "0    Julia     Data Science  2005      USA  20000\n",
       "1    Marie  Web Development  2008  Germany  17500\n",
       "2     Adam     Data Science  2011  England  16000\n",
       "3   Nicole   Cyber Security  2002   Canada  22000"
      ]
     },
     "execution_count": 274,
     "metadata": {},
     "output_type": "execute_result"
    }
   ],
   "source": [
    "df4"
   ]
  },
  {
   "cell_type": "code",
   "execution_count": null,
   "id": "312ba90b-7c96-4cea-8761-756a47867801",
   "metadata": {},
   "outputs": [],
   "source": []
  },
  {
   "cell_type": "code",
   "execution_count": 289,
   "id": "3445feba-6397-40dc-9859-901551c0dfe6",
   "metadata": {},
   "outputs": [
    {
     "data": {
      "text/html": [
       "<div>\n",
       "<style scoped>\n",
       "    .dataframe tbody tr th:only-of-type {\n",
       "        vertical-align: middle;\n",
       "    }\n",
       "\n",
       "    .dataframe tbody tr th {\n",
       "        vertical-align: top;\n",
       "    }\n",
       "\n",
       "    .dataframe thead th {\n",
       "        text-align: right;\n",
       "    }\n",
       "</style>\n",
       "<table border=\"1\" class=\"dataframe\">\n",
       "  <thead>\n",
       "    <tr style=\"text-align: right;\">\n",
       "      <th></th>\n",
       "      <th>manager</th>\n",
       "      <th>department</th>\n",
       "      <th>employee</th>\n",
       "      <th>Year</th>\n",
       "      <th>country</th>\n",
       "      <th>salary</th>\n",
       "    </tr>\n",
       "  </thead>\n",
       "  <tbody>\n",
       "    <tr>\n",
       "      <th>0</th>\n",
       "      <td>Kayra</td>\n",
       "      <td>Data Science</td>\n",
       "      <td>Julia</td>\n",
       "      <td>2005</td>\n",
       "      <td>USA</td>\n",
       "      <td>20000</td>\n",
       "    </tr>\n",
       "    <tr>\n",
       "      <th>1</th>\n",
       "      <td>Abraham</td>\n",
       "      <td>Web Development</td>\n",
       "      <td>Marie</td>\n",
       "      <td>2008</td>\n",
       "      <td>Germany</td>\n",
       "      <td>17500</td>\n",
       "    </tr>\n",
       "    <tr>\n",
       "      <th>2</th>\n",
       "      <td>Kayra</td>\n",
       "      <td>Data Science</td>\n",
       "      <td>Adam</td>\n",
       "      <td>2011</td>\n",
       "      <td>England</td>\n",
       "      <td>16000</td>\n",
       "    </tr>\n",
       "    <tr>\n",
       "      <th>3</th>\n",
       "      <td>Joseph</td>\n",
       "      <td>Cyber Security</td>\n",
       "      <td>Nicole</td>\n",
       "      <td>2002</td>\n",
       "      <td>Canada</td>\n",
       "      <td>22000</td>\n",
       "    </tr>\n",
       "  </tbody>\n",
       "</table>\n",
       "</div>"
      ],
      "text/plain": [
       "   manager       department employee  Year  country salary\n",
       "0    Kayra     Data Science    Julia  2005      USA  20000\n",
       "1  Abraham  Web Development    Marie  2008  Germany  17500\n",
       "2    Kayra     Data Science     Adam  2011  England  16000\n",
       "3   Joseph   Cyber Security   Nicole  2002   Canada  22000"
      ]
     },
     "execution_count": 289,
     "metadata": {},
     "output_type": "execute_result"
    }
   ],
   "source": [
    "pd.merge(df3, df4, on=\"department\", how=\"right\")"
   ]
  },
  {
   "cell_type": "code",
   "execution_count": null,
   "id": "8a9d39b5-f23b-4bdf-b57b-541766980bc2",
   "metadata": {},
   "outputs": [],
   "source": []
  },
  {
   "cell_type": "code",
   "execution_count": 291,
   "id": "1d12bf8a-f511-4592-ae32-eb37b0abe024",
   "metadata": {},
   "outputs": [
    {
     "data": {
      "text/html": [
       "<div>\n",
       "<style scoped>\n",
       "    .dataframe tbody tr th:only-of-type {\n",
       "        vertical-align: middle;\n",
       "    }\n",
       "\n",
       "    .dataframe tbody tr th {\n",
       "        vertical-align: top;\n",
       "    }\n",
       "\n",
       "    .dataframe thead th {\n",
       "        text-align: right;\n",
       "    }\n",
       "</style>\n",
       "<table border=\"1\" class=\"dataframe\">\n",
       "  <thead>\n",
       "    <tr style=\"text-align: right;\">\n",
       "      <th></th>\n",
       "      <th>employee</th>\n",
       "      <th>department</th>\n",
       "      <th>Year</th>\n",
       "      <th>country</th>\n",
       "      <th>salary</th>\n",
       "      <th>manager</th>\n",
       "    </tr>\n",
       "  </thead>\n",
       "  <tbody>\n",
       "    <tr>\n",
       "      <th>0</th>\n",
       "      <td>Marie</td>\n",
       "      <td>Web Development</td>\n",
       "      <td>2008</td>\n",
       "      <td>Germany</td>\n",
       "      <td>17500</td>\n",
       "      <td>Abraham</td>\n",
       "    </tr>\n",
       "    <tr>\n",
       "      <th>1</th>\n",
       "      <td>Nicole</td>\n",
       "      <td>Cyber Security</td>\n",
       "      <td>2002</td>\n",
       "      <td>Canada</td>\n",
       "      <td>22000</td>\n",
       "      <td>Joseph</td>\n",
       "    </tr>\n",
       "    <tr>\n",
       "      <th>2</th>\n",
       "      <td>Julia</td>\n",
       "      <td>Data Science</td>\n",
       "      <td>2005</td>\n",
       "      <td>USA</td>\n",
       "      <td>20000</td>\n",
       "      <td>Kayra</td>\n",
       "    </tr>\n",
       "    <tr>\n",
       "      <th>3</th>\n",
       "      <td>Adam</td>\n",
       "      <td>Data Science</td>\n",
       "      <td>2011</td>\n",
       "      <td>England</td>\n",
       "      <td>16000</td>\n",
       "      <td>Kayra</td>\n",
       "    </tr>\n",
       "  </tbody>\n",
       "</table>\n",
       "</div>"
      ],
      "text/plain": [
       "  employee       department  Year  country salary  manager\n",
       "0    Marie  Web Development  2008  Germany  17500  Abraham\n",
       "1   Nicole   Cyber Security  2002   Canada  22000   Joseph\n",
       "2    Julia     Data Science  2005      USA  20000    Kayra\n",
       "3     Adam     Data Science  2011  England  16000    Kayra"
      ]
     },
     "execution_count": 291,
     "metadata": {},
     "output_type": "execute_result"
    }
   ],
   "source": [
    "pd.merge(df4, df3, on=\"department\", how=\"right\")"
   ]
  },
  {
   "cell_type": "code",
   "execution_count": null,
   "id": "11fefd76-66b3-4bc5-94c7-2500c25a3c4f",
   "metadata": {},
   "outputs": [],
   "source": []
  },
  {
   "cell_type": "code",
   "execution_count": null,
   "id": "3144a220-55fd-4236-982c-1b6fce8847b2",
   "metadata": {},
   "outputs": [],
   "source": []
  },
  {
   "cell_type": "code",
   "execution_count": 293,
   "id": "58ff5c5a-3819-4427-b827-3b9be27ef6da",
   "metadata": {},
   "outputs": [],
   "source": [
    "df5 = pd.merge(df4, df3, on=\"department\", how=\"right\")"
   ]
  },
  {
   "cell_type": "code",
   "execution_count": 296,
   "id": "48d7a978-199e-4e6e-ad78-e1694b818afb",
   "metadata": {},
   "outputs": [],
   "source": [
    "df6 = pd.DataFrame({'department': ['Web Development','Web Development', 'Cyber Security', 'Cyber Security',\n",
    "                                         'Data Science','Data Science'],\n",
    "                          'prog_lang': ['HTML', 'CSS', 'C++', 'SQL', 'PYTHON', \"R\"],})"
   ]
  },
  {
   "cell_type": "code",
   "execution_count": null,
   "id": "8e5f37fd-e10b-4bd4-a54e-b6ade53c5b7a",
   "metadata": {},
   "outputs": [],
   "source": []
  },
  {
   "cell_type": "code",
   "execution_count": 309,
   "id": "9bf9c8cf-1c4b-4094-9b6e-23108ed734c3",
   "metadata": {},
   "outputs": [
    {
     "data": {
      "text/html": [
       "<div>\n",
       "<style scoped>\n",
       "    .dataframe tbody tr th:only-of-type {\n",
       "        vertical-align: middle;\n",
       "    }\n",
       "\n",
       "    .dataframe tbody tr th {\n",
       "        vertical-align: top;\n",
       "    }\n",
       "\n",
       "    .dataframe thead th {\n",
       "        text-align: right;\n",
       "    }\n",
       "</style>\n",
       "<table border=\"1\" class=\"dataframe\">\n",
       "  <thead>\n",
       "    <tr style=\"text-align: right;\">\n",
       "      <th></th>\n",
       "      <th>employee</th>\n",
       "      <th>department</th>\n",
       "      <th>Year</th>\n",
       "      <th>country</th>\n",
       "      <th>salary</th>\n",
       "      <th>manager</th>\n",
       "      <th>prog_lang</th>\n",
       "    </tr>\n",
       "  </thead>\n",
       "  <tbody>\n",
       "    <tr>\n",
       "      <th>0</th>\n",
       "      <td>Marie</td>\n",
       "      <td>Web Development</td>\n",
       "      <td>2008</td>\n",
       "      <td>Germany</td>\n",
       "      <td>17500</td>\n",
       "      <td>Abraham</td>\n",
       "      <td>HTML</td>\n",
       "    </tr>\n",
       "    <tr>\n",
       "      <th>1</th>\n",
       "      <td>Marie</td>\n",
       "      <td>Web Development</td>\n",
       "      <td>2008</td>\n",
       "      <td>Germany</td>\n",
       "      <td>17500</td>\n",
       "      <td>Abraham</td>\n",
       "      <td>CSS</td>\n",
       "    </tr>\n",
       "    <tr>\n",
       "      <th>2</th>\n",
       "      <td>Nicole</td>\n",
       "      <td>Cyber Security</td>\n",
       "      <td>2002</td>\n",
       "      <td>Canada</td>\n",
       "      <td>22000</td>\n",
       "      <td>Joseph</td>\n",
       "      <td>C++</td>\n",
       "    </tr>\n",
       "    <tr>\n",
       "      <th>3</th>\n",
       "      <td>Nicole</td>\n",
       "      <td>Cyber Security</td>\n",
       "      <td>2002</td>\n",
       "      <td>Canada</td>\n",
       "      <td>22000</td>\n",
       "      <td>Joseph</td>\n",
       "      <td>SQL</td>\n",
       "    </tr>\n",
       "    <tr>\n",
       "      <th>4</th>\n",
       "      <td>Julia</td>\n",
       "      <td>Data Science</td>\n",
       "      <td>2005</td>\n",
       "      <td>USA</td>\n",
       "      <td>20000</td>\n",
       "      <td>Kayra</td>\n",
       "      <td>PYTHON</td>\n",
       "    </tr>\n",
       "    <tr>\n",
       "      <th>5</th>\n",
       "      <td>Julia</td>\n",
       "      <td>Data Science</td>\n",
       "      <td>2005</td>\n",
       "      <td>USA</td>\n",
       "      <td>20000</td>\n",
       "      <td>Kayra</td>\n",
       "      <td>R</td>\n",
       "    </tr>\n",
       "    <tr>\n",
       "      <th>6</th>\n",
       "      <td>Adam</td>\n",
       "      <td>Data Science</td>\n",
       "      <td>2011</td>\n",
       "      <td>England</td>\n",
       "      <td>16000</td>\n",
       "      <td>Kayra</td>\n",
       "      <td>PYTHON</td>\n",
       "    </tr>\n",
       "    <tr>\n",
       "      <th>7</th>\n",
       "      <td>Adam</td>\n",
       "      <td>Data Science</td>\n",
       "      <td>2011</td>\n",
       "      <td>England</td>\n",
       "      <td>16000</td>\n",
       "      <td>Kayra</td>\n",
       "      <td>R</td>\n",
       "    </tr>\n",
       "  </tbody>\n",
       "</table>\n",
       "</div>"
      ],
      "text/plain": [
       "  employee       department  Year  country salary  manager prog_lang\n",
       "0    Marie  Web Development  2008  Germany  17500  Abraham      HTML\n",
       "1    Marie  Web Development  2008  Germany  17500  Abraham       CSS\n",
       "2   Nicole   Cyber Security  2002   Canada  22000   Joseph       C++\n",
       "3   Nicole   Cyber Security  2002   Canada  22000   Joseph       SQL\n",
       "4    Julia     Data Science  2005      USA  20000    Kayra    PYTHON\n",
       "5    Julia     Data Science  2005      USA  20000    Kayra         R\n",
       "6     Adam     Data Science  2011  England  16000    Kayra    PYTHON\n",
       "7     Adam     Data Science  2011  England  16000    Kayra         R"
      ]
     },
     "execution_count": 309,
     "metadata": {},
     "output_type": "execute_result"
    }
   ],
   "source": [
    "pd.merge(df5, df6)"
   ]
  },
  {
   "cell_type": "code",
   "execution_count": null,
   "id": "831a040c-c9fa-4f26-b778-054acaef6982",
   "metadata": {},
   "outputs": [],
   "source": []
  },
  {
   "cell_type": "code",
   "execution_count": null,
   "id": "e4468b45-d133-4555-b271-199be721da17",
   "metadata": {},
   "outputs": [],
   "source": []
  },
  {
   "cell_type": "markdown",
   "id": "5749e622-911a-4735-b1d6-a16f10156651",
   "metadata": {},
   "source": [
    "## Pandas Dataframe’lerini Birleştirme: Merge() Fonksiyonu 3"
   ]
  },
  {
   "cell_type": "code",
   "execution_count": 319,
   "id": "89093daa-bb47-4fef-b030-12505cc0feec",
   "metadata": {},
   "outputs": [
    {
     "data": {
      "text/html": [
       "<div>\n",
       "<style scoped>\n",
       "    .dataframe tbody tr th:only-of-type {\n",
       "        vertical-align: middle;\n",
       "    }\n",
       "\n",
       "    .dataframe tbody tr th {\n",
       "        vertical-align: top;\n",
       "    }\n",
       "\n",
       "    .dataframe thead th {\n",
       "        text-align: right;\n",
       "    }\n",
       "</style>\n",
       "<table border=\"1\" class=\"dataframe\">\n",
       "  <thead>\n",
       "    <tr style=\"text-align: right;\">\n",
       "      <th></th>\n",
       "      <th>employee</th>\n",
       "      <th>department</th>\n",
       "      <th>Year</th>\n",
       "      <th>country</th>\n",
       "      <th>salary</th>\n",
       "    </tr>\n",
       "  </thead>\n",
       "  <tbody>\n",
       "    <tr>\n",
       "      <th>0</th>\n",
       "      <td>Julia</td>\n",
       "      <td>Data Science</td>\n",
       "      <td>2005</td>\n",
       "      <td>USA</td>\n",
       "      <td>20000</td>\n",
       "    </tr>\n",
       "    <tr>\n",
       "      <th>1</th>\n",
       "      <td>Marie</td>\n",
       "      <td>Web Development</td>\n",
       "      <td>2008</td>\n",
       "      <td>Germany</td>\n",
       "      <td>17500</td>\n",
       "    </tr>\n",
       "    <tr>\n",
       "      <th>2</th>\n",
       "      <td>Adam</td>\n",
       "      <td>Data Science</td>\n",
       "      <td>2011</td>\n",
       "      <td>England</td>\n",
       "      <td>16000</td>\n",
       "    </tr>\n",
       "    <tr>\n",
       "      <th>3</th>\n",
       "      <td>Nicole</td>\n",
       "      <td>Cyber Security</td>\n",
       "      <td>2002</td>\n",
       "      <td>Canada</td>\n",
       "      <td>22000</td>\n",
       "    </tr>\n",
       "  </tbody>\n",
       "</table>\n",
       "</div>"
      ],
      "text/plain": [
       "  employee       department  Year  country salary\n",
       "0    Julia     Data Science  2005      USA  20000\n",
       "1    Marie  Web Development  2008  Germany  17500\n",
       "2     Adam     Data Science  2011  England  16000\n",
       "3   Nicole   Cyber Security  2002   Canada  22000"
      ]
     },
     "execution_count": 319,
     "metadata": {},
     "output_type": "execute_result"
    }
   ],
   "source": [
    "df1 = pd.DataFrame({'employee': ['Julia', 'Marie', 'Adam', 'Nicole'],\n",
    "                     'department': ['Data Science', 'Web Development', 'Data Science', 'Cyber Security'],\n",
    "                     'Year': ['2005', '2008', '2011', '2002']})\n",
    "   \n",
    "df2 = pd.DataFrame({'employee': ['Nicole', 'Adam', 'Julia', 'Marie'],\n",
    "                          'country': ['Canada', 'England', 'USA', 'Germany'],\n",
    "                          'salary': ['22000', '16000', '20000', '17500']})  \n",
    "\n",
    "df3 = pd.merge(df1, df2)\n",
    "df3"
   ]
  },
  {
   "cell_type": "code",
   "execution_count": 322,
   "id": "1842506f-b6c5-4f76-a316-c8fda38691a9",
   "metadata": {},
   "outputs": [],
   "source": [
    "df4 =pd.DataFrame({'employee': ['Julia', 'Alex', 'Adam', 'Kayra'],\n",
    "                     'department': ['Data Science', 'Web Development', 'Data Science', 'Cyber Security'],\n",
    "                     'university': ['harvard', 'hamburg', 'oxford', 'metu']})"
   ]
  },
  {
   "cell_type": "code",
   "execution_count": null,
   "id": "88c21ba1-f6d7-4bbb-bf1f-6685bcd1e16b",
   "metadata": {},
   "outputs": [],
   "source": []
  },
  {
   "cell_type": "code",
   "execution_count": 328,
   "id": "cbb2b187-4c58-4d94-97e2-59e567417c5e",
   "metadata": {},
   "outputs": [
    {
     "data": {
      "text/html": [
       "<div>\n",
       "<style scoped>\n",
       "    .dataframe tbody tr th:only-of-type {\n",
       "        vertical-align: middle;\n",
       "    }\n",
       "\n",
       "    .dataframe tbody tr th {\n",
       "        vertical-align: top;\n",
       "    }\n",
       "\n",
       "    .dataframe thead th {\n",
       "        text-align: right;\n",
       "    }\n",
       "</style>\n",
       "<table border=\"1\" class=\"dataframe\">\n",
       "  <thead>\n",
       "    <tr style=\"text-align: right;\">\n",
       "      <th></th>\n",
       "      <th>employee</th>\n",
       "      <th>department</th>\n",
       "      <th>Year</th>\n",
       "      <th>country</th>\n",
       "      <th>salary</th>\n",
       "    </tr>\n",
       "  </thead>\n",
       "  <tbody>\n",
       "    <tr>\n",
       "      <th>0</th>\n",
       "      <td>Julia</td>\n",
       "      <td>Data Science</td>\n",
       "      <td>2005</td>\n",
       "      <td>USA</td>\n",
       "      <td>20000</td>\n",
       "    </tr>\n",
       "    <tr>\n",
       "      <th>1</th>\n",
       "      <td>Marie</td>\n",
       "      <td>Web Development</td>\n",
       "      <td>2008</td>\n",
       "      <td>Germany</td>\n",
       "      <td>17500</td>\n",
       "    </tr>\n",
       "    <tr>\n",
       "      <th>2</th>\n",
       "      <td>Adam</td>\n",
       "      <td>Data Science</td>\n",
       "      <td>2011</td>\n",
       "      <td>England</td>\n",
       "      <td>16000</td>\n",
       "    </tr>\n",
       "    <tr>\n",
       "      <th>3</th>\n",
       "      <td>Nicole</td>\n",
       "      <td>Cyber Security</td>\n",
       "      <td>2002</td>\n",
       "      <td>Canada</td>\n",
       "      <td>22000</td>\n",
       "    </tr>\n",
       "  </tbody>\n",
       "</table>\n",
       "</div>"
      ],
      "text/plain": [
       "  employee       department  Year  country salary\n",
       "0    Julia     Data Science  2005      USA  20000\n",
       "1    Marie  Web Development  2008  Germany  17500\n",
       "2     Adam     Data Science  2011  England  16000\n",
       "3   Nicole   Cyber Security  2002   Canada  22000"
      ]
     },
     "execution_count": 328,
     "metadata": {},
     "output_type": "execute_result"
    }
   ],
   "source": [
    "df3"
   ]
  },
  {
   "cell_type": "code",
   "execution_count": 330,
   "id": "02ebeca0-c011-40fd-8b50-e31d594af6f0",
   "metadata": {},
   "outputs": [
    {
     "data": {
      "text/html": [
       "<div>\n",
       "<style scoped>\n",
       "    .dataframe tbody tr th:only-of-type {\n",
       "        vertical-align: middle;\n",
       "    }\n",
       "\n",
       "    .dataframe tbody tr th {\n",
       "        vertical-align: top;\n",
       "    }\n",
       "\n",
       "    .dataframe thead th {\n",
       "        text-align: right;\n",
       "    }\n",
       "</style>\n",
       "<table border=\"1\" class=\"dataframe\">\n",
       "  <thead>\n",
       "    <tr style=\"text-align: right;\">\n",
       "      <th></th>\n",
       "      <th>employee</th>\n",
       "      <th>department</th>\n",
       "      <th>university</th>\n",
       "    </tr>\n",
       "  </thead>\n",
       "  <tbody>\n",
       "    <tr>\n",
       "      <th>0</th>\n",
       "      <td>Julia</td>\n",
       "      <td>Data Science</td>\n",
       "      <td>harvard</td>\n",
       "    </tr>\n",
       "    <tr>\n",
       "      <th>1</th>\n",
       "      <td>Alex</td>\n",
       "      <td>Web Development</td>\n",
       "      <td>hamburg</td>\n",
       "    </tr>\n",
       "    <tr>\n",
       "      <th>2</th>\n",
       "      <td>Adam</td>\n",
       "      <td>Data Science</td>\n",
       "      <td>oxford</td>\n",
       "    </tr>\n",
       "    <tr>\n",
       "      <th>3</th>\n",
       "      <td>Kayra</td>\n",
       "      <td>Cyber Security</td>\n",
       "      <td>metu</td>\n",
       "    </tr>\n",
       "  </tbody>\n",
       "</table>\n",
       "</div>"
      ],
      "text/plain": [
       "  employee       department university\n",
       "0    Julia     Data Science    harvard\n",
       "1     Alex  Web Development    hamburg\n",
       "2     Adam     Data Science     oxford\n",
       "3    Kayra   Cyber Security       metu"
      ]
     },
     "execution_count": 330,
     "metadata": {},
     "output_type": "execute_result"
    }
   ],
   "source": [
    "df4"
   ]
  },
  {
   "cell_type": "code",
   "execution_count": null,
   "id": "2347cb9b-d9ed-4ee0-ab81-8e569c8e0b72",
   "metadata": {},
   "outputs": [],
   "source": []
  },
  {
   "cell_type": "code",
   "execution_count": 332,
   "id": "62587be7-432d-4675-b7cd-ebfa7a3d00c9",
   "metadata": {},
   "outputs": [
    {
     "data": {
      "text/html": [
       "<div>\n",
       "<style scoped>\n",
       "    .dataframe tbody tr th:only-of-type {\n",
       "        vertical-align: middle;\n",
       "    }\n",
       "\n",
       "    .dataframe tbody tr th {\n",
       "        vertical-align: top;\n",
       "    }\n",
       "\n",
       "    .dataframe thead th {\n",
       "        text-align: right;\n",
       "    }\n",
       "</style>\n",
       "<table border=\"1\" class=\"dataframe\">\n",
       "  <thead>\n",
       "    <tr style=\"text-align: right;\">\n",
       "      <th></th>\n",
       "      <th>employee</th>\n",
       "      <th>department</th>\n",
       "      <th>Year</th>\n",
       "      <th>country</th>\n",
       "      <th>salary</th>\n",
       "      <th>university</th>\n",
       "    </tr>\n",
       "  </thead>\n",
       "  <tbody>\n",
       "    <tr>\n",
       "      <th>0</th>\n",
       "      <td>Julia</td>\n",
       "      <td>Data Science</td>\n",
       "      <td>2005</td>\n",
       "      <td>USA</td>\n",
       "      <td>20000</td>\n",
       "      <td>harvard</td>\n",
       "    </tr>\n",
       "    <tr>\n",
       "      <th>1</th>\n",
       "      <td>Adam</td>\n",
       "      <td>Data Science</td>\n",
       "      <td>2011</td>\n",
       "      <td>England</td>\n",
       "      <td>16000</td>\n",
       "      <td>oxford</td>\n",
       "    </tr>\n",
       "  </tbody>\n",
       "</table>\n",
       "</div>"
      ],
      "text/plain": [
       "  employee    department  Year  country salary university\n",
       "0    Julia  Data Science  2005      USA  20000    harvard\n",
       "1     Adam  Data Science  2011  England  16000     oxford"
      ]
     },
     "execution_count": 332,
     "metadata": {},
     "output_type": "execute_result"
    }
   ],
   "source": [
    "pd.merge(df3, df4, on=[\"employee\",\"department\"])"
   ]
  },
  {
   "cell_type": "code",
   "execution_count": 351,
   "id": "f28500b0-c238-4638-97a8-5bcb67166ff8",
   "metadata": {},
   "outputs": [
    {
     "data": {
      "text/html": [
       "<div>\n",
       "<style scoped>\n",
       "    .dataframe tbody tr th:only-of-type {\n",
       "        vertical-align: middle;\n",
       "    }\n",
       "\n",
       "    .dataframe tbody tr th {\n",
       "        vertical-align: top;\n",
       "    }\n",
       "\n",
       "    .dataframe thead th {\n",
       "        text-align: right;\n",
       "    }\n",
       "</style>\n",
       "<table border=\"1\" class=\"dataframe\">\n",
       "  <thead>\n",
       "    <tr style=\"text-align: right;\">\n",
       "      <th></th>\n",
       "      <th>employee</th>\n",
       "      <th>department</th>\n",
       "      <th>university</th>\n",
       "      <th>Year</th>\n",
       "      <th>country</th>\n",
       "      <th>salary</th>\n",
       "    </tr>\n",
       "  </thead>\n",
       "  <tbody>\n",
       "    <tr>\n",
       "      <th>0</th>\n",
       "      <td>Adam</td>\n",
       "      <td>Data Science</td>\n",
       "      <td>oxford</td>\n",
       "      <td>2011</td>\n",
       "      <td>England</td>\n",
       "      <td>16000</td>\n",
       "    </tr>\n",
       "    <tr>\n",
       "      <th>1</th>\n",
       "      <td>Alex</td>\n",
       "      <td>Web Development</td>\n",
       "      <td>hamburg</td>\n",
       "      <td>NaN</td>\n",
       "      <td>NaN</td>\n",
       "      <td>NaN</td>\n",
       "    </tr>\n",
       "    <tr>\n",
       "      <th>2</th>\n",
       "      <td>Julia</td>\n",
       "      <td>Data Science</td>\n",
       "      <td>harvard</td>\n",
       "      <td>2005</td>\n",
       "      <td>USA</td>\n",
       "      <td>20000</td>\n",
       "    </tr>\n",
       "    <tr>\n",
       "      <th>3</th>\n",
       "      <td>Kayra</td>\n",
       "      <td>Cyber Security</td>\n",
       "      <td>metu</td>\n",
       "      <td>NaN</td>\n",
       "      <td>NaN</td>\n",
       "      <td>NaN</td>\n",
       "    </tr>\n",
       "    <tr>\n",
       "      <th>4</th>\n",
       "      <td>Marie</td>\n",
       "      <td>Web Development</td>\n",
       "      <td>NaN</td>\n",
       "      <td>2008</td>\n",
       "      <td>Germany</td>\n",
       "      <td>17500</td>\n",
       "    </tr>\n",
       "    <tr>\n",
       "      <th>5</th>\n",
       "      <td>Nicole</td>\n",
       "      <td>Cyber Security</td>\n",
       "      <td>NaN</td>\n",
       "      <td>2002</td>\n",
       "      <td>Canada</td>\n",
       "      <td>22000</td>\n",
       "    </tr>\n",
       "  </tbody>\n",
       "</table>\n",
       "</div>"
      ],
      "text/plain": [
       "  employee       department university  Year  country salary\n",
       "0     Adam     Data Science     oxford  2011  England  16000\n",
       "1     Alex  Web Development    hamburg   NaN      NaN    NaN\n",
       "2    Julia     Data Science    harvard  2005      USA  20000\n",
       "3    Kayra   Cyber Security       metu   NaN      NaN    NaN\n",
       "4    Marie  Web Development        NaN  2008  Germany  17500\n",
       "5   Nicole   Cyber Security        NaN  2002   Canada  22000"
      ]
     },
     "execution_count": 351,
     "metadata": {},
     "output_type": "execute_result"
    }
   ],
   "source": [
    "pd.merge(df4, df3, on=[\"employee\",\"department\"], how=\"outer\")"
   ]
  },
  {
   "cell_type": "code",
   "execution_count": null,
   "id": "0c78aabb-2072-4e5d-b611-490b09f25b02",
   "metadata": {},
   "outputs": [],
   "source": []
  },
  {
   "cell_type": "code",
   "execution_count": null,
   "id": "8517f9ce-2e2b-4709-a66e-93fb693df144",
   "metadata": {},
   "outputs": [],
   "source": []
  },
  {
   "cell_type": "code",
   "execution_count": 363,
   "id": "497d3361-6b80-4c8e-b671-b06eaa4a1e88",
   "metadata": {},
   "outputs": [
    {
     "data": {
      "text/html": [
       "<div>\n",
       "<style scoped>\n",
       "    .dataframe tbody tr th:only-of-type {\n",
       "        vertical-align: middle;\n",
       "    }\n",
       "\n",
       "    .dataframe tbody tr th {\n",
       "        vertical-align: top;\n",
       "    }\n",
       "\n",
       "    .dataframe thead th {\n",
       "        text-align: right;\n",
       "    }\n",
       "</style>\n",
       "<table border=\"1\" class=\"dataframe\">\n",
       "  <thead>\n",
       "    <tr style=\"text-align: right;\">\n",
       "      <th></th>\n",
       "      <th>employee</th>\n",
       "      <th>department</th>\n",
       "      <th>Year</th>\n",
       "      <th>country</th>\n",
       "      <th>salary</th>\n",
       "    </tr>\n",
       "  </thead>\n",
       "  <tbody>\n",
       "    <tr>\n",
       "      <th>0</th>\n",
       "      <td>Julia</td>\n",
       "      <td>Data Science</td>\n",
       "      <td>2005</td>\n",
       "      <td>USA</td>\n",
       "      <td>20000</td>\n",
       "    </tr>\n",
       "    <tr>\n",
       "      <th>1</th>\n",
       "      <td>Marie</td>\n",
       "      <td>Web Development</td>\n",
       "      <td>2008</td>\n",
       "      <td>Germany</td>\n",
       "      <td>17500</td>\n",
       "    </tr>\n",
       "    <tr>\n",
       "      <th>2</th>\n",
       "      <td>Adam</td>\n",
       "      <td>Data Science</td>\n",
       "      <td>2011</td>\n",
       "      <td>England</td>\n",
       "      <td>16000</td>\n",
       "    </tr>\n",
       "    <tr>\n",
       "      <th>3</th>\n",
       "      <td>Nicole</td>\n",
       "      <td>Cyber Security</td>\n",
       "      <td>2002</td>\n",
       "      <td>Canada</td>\n",
       "      <td>22000</td>\n",
       "    </tr>\n",
       "  </tbody>\n",
       "</table>\n",
       "</div>"
      ],
      "text/plain": [
       "  employee       department  Year  country salary\n",
       "0    Julia     Data Science  2005      USA  20000\n",
       "1    Marie  Web Development  2008  Germany  17500\n",
       "2     Adam     Data Science  2011  England  16000\n",
       "3   Nicole   Cyber Security  2002   Canada  22000"
      ]
     },
     "execution_count": 363,
     "metadata": {},
     "output_type": "execute_result"
    }
   ],
   "source": [
    "df3"
   ]
  },
  {
   "cell_type": "code",
   "execution_count": 366,
   "id": "fb1de8f1-6c71-4e0e-b35c-35e92dd76900",
   "metadata": {},
   "outputs": [
    {
     "data": {
      "text/html": [
       "<div>\n",
       "<style scoped>\n",
       "    .dataframe tbody tr th:only-of-type {\n",
       "        vertical-align: middle;\n",
       "    }\n",
       "\n",
       "    .dataframe tbody tr th {\n",
       "        vertical-align: top;\n",
       "    }\n",
       "\n",
       "    .dataframe thead th {\n",
       "        text-align: right;\n",
       "    }\n",
       "</style>\n",
       "<table border=\"1\" class=\"dataframe\">\n",
       "  <thead>\n",
       "    <tr style=\"text-align: right;\">\n",
       "      <th></th>\n",
       "      <th>employee</th>\n",
       "      <th>department</th>\n",
       "      <th>university</th>\n",
       "    </tr>\n",
       "  </thead>\n",
       "  <tbody>\n",
       "    <tr>\n",
       "      <th>0</th>\n",
       "      <td>Julia</td>\n",
       "      <td>Data Science</td>\n",
       "      <td>harvard</td>\n",
       "    </tr>\n",
       "    <tr>\n",
       "      <th>1</th>\n",
       "      <td>Alex</td>\n",
       "      <td>Web Development</td>\n",
       "      <td>hamburg</td>\n",
       "    </tr>\n",
       "    <tr>\n",
       "      <th>2</th>\n",
       "      <td>Adam</td>\n",
       "      <td>Data Science</td>\n",
       "      <td>oxford</td>\n",
       "    </tr>\n",
       "    <tr>\n",
       "      <th>3</th>\n",
       "      <td>Kayra</td>\n",
       "      <td>Cyber Security</td>\n",
       "      <td>metu</td>\n",
       "    </tr>\n",
       "  </tbody>\n",
       "</table>\n",
       "</div>"
      ],
      "text/plain": [
       "  employee       department university\n",
       "0    Julia     Data Science    harvard\n",
       "1     Alex  Web Development    hamburg\n",
       "2     Adam     Data Science     oxford\n",
       "3    Kayra   Cyber Security       metu"
      ]
     },
     "execution_count": 366,
     "metadata": {},
     "output_type": "execute_result"
    }
   ],
   "source": [
    "df4"
   ]
  },
  {
   "cell_type": "code",
   "execution_count": 359,
   "id": "1bfed6c5-1866-46e1-b172-333f64663385",
   "metadata": {},
   "outputs": [
    {
     "data": {
      "text/html": [
       "<div>\n",
       "<style scoped>\n",
       "    .dataframe tbody tr th:only-of-type {\n",
       "        vertical-align: middle;\n",
       "    }\n",
       "\n",
       "    .dataframe tbody tr th {\n",
       "        vertical-align: top;\n",
       "    }\n",
       "\n",
       "    .dataframe thead th {\n",
       "        text-align: right;\n",
       "    }\n",
       "</style>\n",
       "<table border=\"1\" class=\"dataframe\">\n",
       "  <thead>\n",
       "    <tr style=\"text-align: right;\">\n",
       "      <th></th>\n",
       "      <th>employee</th>\n",
       "      <th>department</th>\n",
       "      <th>Year</th>\n",
       "      <th>country</th>\n",
       "      <th>salary</th>\n",
       "      <th>university</th>\n",
       "    </tr>\n",
       "  </thead>\n",
       "  <tbody>\n",
       "    <tr>\n",
       "      <th>0</th>\n",
       "      <td>Julia</td>\n",
       "      <td>Data Science</td>\n",
       "      <td>2005</td>\n",
       "      <td>USA</td>\n",
       "      <td>20000</td>\n",
       "      <td>harvard</td>\n",
       "    </tr>\n",
       "    <tr>\n",
       "      <th>1</th>\n",
       "      <td>Marie</td>\n",
       "      <td>Web Development</td>\n",
       "      <td>2008</td>\n",
       "      <td>Germany</td>\n",
       "      <td>17500</td>\n",
       "      <td>NaN</td>\n",
       "    </tr>\n",
       "    <tr>\n",
       "      <th>2</th>\n",
       "      <td>Adam</td>\n",
       "      <td>Data Science</td>\n",
       "      <td>2011</td>\n",
       "      <td>England</td>\n",
       "      <td>16000</td>\n",
       "      <td>oxford</td>\n",
       "    </tr>\n",
       "    <tr>\n",
       "      <th>3</th>\n",
       "      <td>Nicole</td>\n",
       "      <td>Cyber Security</td>\n",
       "      <td>2002</td>\n",
       "      <td>Canada</td>\n",
       "      <td>22000</td>\n",
       "      <td>NaN</td>\n",
       "    </tr>\n",
       "  </tbody>\n",
       "</table>\n",
       "</div>"
      ],
      "text/plain": [
       "  employee       department  Year  country salary university\n",
       "0    Julia     Data Science  2005      USA  20000    harvard\n",
       "1    Marie  Web Development  2008  Germany  17500        NaN\n",
       "2     Adam     Data Science  2011  England  16000     oxford\n",
       "3   Nicole   Cyber Security  2002   Canada  22000        NaN"
      ]
     },
     "execution_count": 359,
     "metadata": {},
     "output_type": "execute_result"
    }
   ],
   "source": [
    "pd.merge(df3, df4, on = [\"employee\", \"department\"], how = \"left\") # how=\"left\" pr. ile sütun altındaki değerleri, pd.merge() parantezi içerisinde sol tarafta kalan df3 ü baza alarak sıraladı ve birleştirdi."
   ]
  },
  {
   "cell_type": "code",
   "execution_count": 368,
   "id": "85a02dba-8cab-4168-a691-105cff711a81",
   "metadata": {},
   "outputs": [
    {
     "data": {
      "text/html": [
       "<div>\n",
       "<style scoped>\n",
       "    .dataframe tbody tr th:only-of-type {\n",
       "        vertical-align: middle;\n",
       "    }\n",
       "\n",
       "    .dataframe tbody tr th {\n",
       "        vertical-align: top;\n",
       "    }\n",
       "\n",
       "    .dataframe thead th {\n",
       "        text-align: right;\n",
       "    }\n",
       "</style>\n",
       "<table border=\"1\" class=\"dataframe\">\n",
       "  <thead>\n",
       "    <tr style=\"text-align: right;\">\n",
       "      <th></th>\n",
       "      <th>employee</th>\n",
       "      <th>department</th>\n",
       "      <th>Year</th>\n",
       "      <th>country</th>\n",
       "      <th>salary</th>\n",
       "      <th>university</th>\n",
       "    </tr>\n",
       "  </thead>\n",
       "  <tbody>\n",
       "    <tr>\n",
       "      <th>0</th>\n",
       "      <td>Julia</td>\n",
       "      <td>Data Science</td>\n",
       "      <td>2005</td>\n",
       "      <td>USA</td>\n",
       "      <td>20000</td>\n",
       "      <td>harvard</td>\n",
       "    </tr>\n",
       "    <tr>\n",
       "      <th>1</th>\n",
       "      <td>Alex</td>\n",
       "      <td>Web Development</td>\n",
       "      <td>NaN</td>\n",
       "      <td>NaN</td>\n",
       "      <td>NaN</td>\n",
       "      <td>hamburg</td>\n",
       "    </tr>\n",
       "    <tr>\n",
       "      <th>2</th>\n",
       "      <td>Adam</td>\n",
       "      <td>Data Science</td>\n",
       "      <td>2011</td>\n",
       "      <td>England</td>\n",
       "      <td>16000</td>\n",
       "      <td>oxford</td>\n",
       "    </tr>\n",
       "    <tr>\n",
       "      <th>3</th>\n",
       "      <td>Kayra</td>\n",
       "      <td>Cyber Security</td>\n",
       "      <td>NaN</td>\n",
       "      <td>NaN</td>\n",
       "      <td>NaN</td>\n",
       "      <td>metu</td>\n",
       "    </tr>\n",
       "  </tbody>\n",
       "</table>\n",
       "</div>"
      ],
      "text/plain": [
       "  employee       department  Year  country salary university\n",
       "0    Julia     Data Science  2005      USA  20000    harvard\n",
       "1     Alex  Web Development   NaN      NaN    NaN    hamburg\n",
       "2     Adam     Data Science  2011  England  16000     oxford\n",
       "3    Kayra   Cyber Security   NaN      NaN    NaN       metu"
      ]
     },
     "execution_count": 368,
     "metadata": {},
     "output_type": "execute_result"
    }
   ],
   "source": [
    "pd.merge(df3, df4, on = [\"employee\", \"department\"], how = \"right\") # how=\"right\" pr. ile sütun altındaki değerleri, pd.merge() parantezi içerisinde sol tarafta kalan df4 ü baza alarak sıraladı ve birleştirdi."
   ]
  },
  {
   "cell_type": "code",
   "execution_count": null,
   "id": "72f97226-b8b9-489a-a12d-6a566791df65",
   "metadata": {},
   "outputs": [],
   "source": []
  },
  {
   "cell_type": "code",
   "execution_count": null,
   "id": "7ff51382-23f9-4093-83d5-1599c3d86b76",
   "metadata": {},
   "outputs": [],
   "source": []
  },
  {
   "cell_type": "markdown",
   "id": "2518839e-8fdd-43b4-9b45-a7b08a9b95d1",
   "metadata": {},
   "source": [
    "## Pandas Dataframe’lerini Birleştirme: Merge() Fonksiyonu 4"
   ]
  },
  {
   "cell_type": "code",
   "execution_count": null,
   "id": "1c5415a7-8cd3-4a85-a10a-4584065d02b8",
   "metadata": {},
   "outputs": [],
   "source": []
  },
  {
   "cell_type": "code",
   "execution_count": 377,
   "id": "1dcad052-93f7-4732-a218-981e3699678a",
   "metadata": {},
   "outputs": [
    {
     "data": {
      "text/html": [
       "<div>\n",
       "<style scoped>\n",
       "    .dataframe tbody tr th:only-of-type {\n",
       "        vertical-align: middle;\n",
       "    }\n",
       "\n",
       "    .dataframe tbody tr th {\n",
       "        vertical-align: top;\n",
       "    }\n",
       "\n",
       "    .dataframe thead th {\n",
       "        text-align: right;\n",
       "    }\n",
       "</style>\n",
       "<table border=\"1\" class=\"dataframe\">\n",
       "  <thead>\n",
       "    <tr style=\"text-align: right;\">\n",
       "      <th></th>\n",
       "      <th>employee</th>\n",
       "      <th>department</th>\n",
       "      <th>Year</th>\n",
       "      <th>country</th>\n",
       "      <th>salary</th>\n",
       "    </tr>\n",
       "  </thead>\n",
       "  <tbody>\n",
       "    <tr>\n",
       "      <th>0</th>\n",
       "      <td>Julia</td>\n",
       "      <td>Data Science</td>\n",
       "      <td>2005</td>\n",
       "      <td>USA</td>\n",
       "      <td>20000</td>\n",
       "    </tr>\n",
       "    <tr>\n",
       "      <th>1</th>\n",
       "      <td>Marie</td>\n",
       "      <td>Web Development</td>\n",
       "      <td>2008</td>\n",
       "      <td>Germany</td>\n",
       "      <td>17500</td>\n",
       "    </tr>\n",
       "    <tr>\n",
       "      <th>2</th>\n",
       "      <td>Adam</td>\n",
       "      <td>Data Science</td>\n",
       "      <td>2011</td>\n",
       "      <td>England</td>\n",
       "      <td>16000</td>\n",
       "    </tr>\n",
       "    <tr>\n",
       "      <th>3</th>\n",
       "      <td>Nicole</td>\n",
       "      <td>Cyber Security</td>\n",
       "      <td>2002</td>\n",
       "      <td>Canada</td>\n",
       "      <td>22000</td>\n",
       "    </tr>\n",
       "  </tbody>\n",
       "</table>\n",
       "</div>"
      ],
      "text/plain": [
       "  employee       department  Year  country salary\n",
       "0    Julia     Data Science  2005      USA  20000\n",
       "1    Marie  Web Development  2008  Germany  17500\n",
       "2     Adam     Data Science  2011  England  16000\n",
       "3   Nicole   Cyber Security  2002   Canada  22000"
      ]
     },
     "execution_count": 377,
     "metadata": {},
     "output_type": "execute_result"
    }
   ],
   "source": [
    "df1 = pd.DataFrame({'employee': ['Julia', 'Marie', 'Adam', 'Nicole'],\n",
    "                     'department': ['Data Science', 'Web Development', 'Data Science', 'Cyber Security'],\n",
    "                     'Year': ['2005', '2008', '2011', '2002']})\n",
    "   \n",
    "df2 = pd.DataFrame({'employee': ['Nicole', 'Adam', 'Julia', 'Marie'],\n",
    "                          'country': ['Canada', 'England', 'USA', 'Germany'],\n",
    "                          'salary': ['22000', '16000', '20000', '17500']})  \n",
    "\n",
    "df3 = pd.merge(df1, df2)\n",
    "df3"
   ]
  },
  {
   "cell_type": "code",
   "execution_count": 379,
   "id": "23bec77f-d737-4c82-9c04-874f2ca5a065",
   "metadata": {},
   "outputs": [],
   "source": [
    "df6 = pd.DataFrame({'employee': ['Alex', 'Sergio', 'Orhan', 'Fabian'],\n",
    "                     'department': ['Data Science', 'Web Development', 'Data Science', 'Cyber Security'],\n",
    "                     'Year': ['2005', '2009', '2010', '2002'],\n",
    "                     'country': ['Sweden', 'Poland', 'Turkey', 'France'],\n",
    "                     'salary': ['21000', '18000', '19500', '22500'],\n",
    "                     'experience' : [\"5\", \"9\",\"3\", \"2\"]})"
   ]
  },
  {
   "cell_type": "code",
   "execution_count": 382,
   "id": "3b28d3a7-54fa-466b-816b-f67df92cfdda",
   "metadata": {},
   "outputs": [
    {
     "data": {
      "text/html": [
       "<div>\n",
       "<style scoped>\n",
       "    .dataframe tbody tr th:only-of-type {\n",
       "        vertical-align: middle;\n",
       "    }\n",
       "\n",
       "    .dataframe tbody tr th {\n",
       "        vertical-align: top;\n",
       "    }\n",
       "\n",
       "    .dataframe thead th {\n",
       "        text-align: right;\n",
       "    }\n",
       "</style>\n",
       "<table border=\"1\" class=\"dataframe\">\n",
       "  <thead>\n",
       "    <tr style=\"text-align: right;\">\n",
       "      <th></th>\n",
       "      <th>employee</th>\n",
       "      <th>department</th>\n",
       "      <th>Year</th>\n",
       "      <th>country</th>\n",
       "      <th>salary</th>\n",
       "      <th>experience</th>\n",
       "    </tr>\n",
       "  </thead>\n",
       "  <tbody>\n",
       "    <tr>\n",
       "      <th>0</th>\n",
       "      <td>Alex</td>\n",
       "      <td>Data Science</td>\n",
       "      <td>2005</td>\n",
       "      <td>Sweden</td>\n",
       "      <td>21000</td>\n",
       "      <td>5</td>\n",
       "    </tr>\n",
       "    <tr>\n",
       "      <th>1</th>\n",
       "      <td>Sergio</td>\n",
       "      <td>Web Development</td>\n",
       "      <td>2009</td>\n",
       "      <td>Poland</td>\n",
       "      <td>18000</td>\n",
       "      <td>9</td>\n",
       "    </tr>\n",
       "    <tr>\n",
       "      <th>2</th>\n",
       "      <td>Orhan</td>\n",
       "      <td>Data Science</td>\n",
       "      <td>2010</td>\n",
       "      <td>Turkey</td>\n",
       "      <td>19500</td>\n",
       "      <td>3</td>\n",
       "    </tr>\n",
       "    <tr>\n",
       "      <th>3</th>\n",
       "      <td>Fabian</td>\n",
       "      <td>Cyber Security</td>\n",
       "      <td>2002</td>\n",
       "      <td>France</td>\n",
       "      <td>22500</td>\n",
       "      <td>2</td>\n",
       "    </tr>\n",
       "  </tbody>\n",
       "</table>\n",
       "</div>"
      ],
      "text/plain": [
       "  employee       department  Year country salary experience\n",
       "0     Alex     Data Science  2005  Sweden  21000          5\n",
       "1   Sergio  Web Development  2009  Poland  18000          9\n",
       "2    Orhan     Data Science  2010  Turkey  19500          3\n",
       "3   Fabian   Cyber Security  2002  France  22500          2"
      ]
     },
     "execution_count": 382,
     "metadata": {},
     "output_type": "execute_result"
    }
   ],
   "source": [
    "df6"
   ]
  },
  {
   "cell_type": "code",
   "execution_count": null,
   "id": "7f03976e-67cf-4976-a4a6-c32e3eee1291",
   "metadata": {},
   "outputs": [],
   "source": []
  },
  {
   "cell_type": "code",
   "execution_count": 386,
   "id": "fe6a55e8-d9a7-411e-8d8e-2b307a7d1e29",
   "metadata": {},
   "outputs": [
    {
     "data": {
      "text/html": [
       "<div>\n",
       "<style scoped>\n",
       "    .dataframe tbody tr th:only-of-type {\n",
       "        vertical-align: middle;\n",
       "    }\n",
       "\n",
       "    .dataframe tbody tr th {\n",
       "        vertical-align: top;\n",
       "    }\n",
       "\n",
       "    .dataframe thead th {\n",
       "        text-align: right;\n",
       "    }\n",
       "</style>\n",
       "<table border=\"1\" class=\"dataframe\">\n",
       "  <thead>\n",
       "    <tr style=\"text-align: right;\">\n",
       "      <th></th>\n",
       "      <th>employee_x</th>\n",
       "      <th>department</th>\n",
       "      <th>Year</th>\n",
       "      <th>country_x</th>\n",
       "      <th>salary_x</th>\n",
       "      <th>manager</th>\n",
       "      <th>employee_y</th>\n",
       "      <th>country_y</th>\n",
       "      <th>salary_y</th>\n",
       "      <th>experience</th>\n",
       "    </tr>\n",
       "  </thead>\n",
       "  <tbody>\n",
       "    <tr>\n",
       "      <th>0</th>\n",
       "      <td>Nicole</td>\n",
       "      <td>Cyber Security</td>\n",
       "      <td>2002</td>\n",
       "      <td>Canada</td>\n",
       "      <td>22000</td>\n",
       "      <td>Joseph</td>\n",
       "      <td>Fabian</td>\n",
       "      <td>France</td>\n",
       "      <td>22500</td>\n",
       "      <td>2</td>\n",
       "    </tr>\n",
       "    <tr>\n",
       "      <th>1</th>\n",
       "      <td>Julia</td>\n",
       "      <td>Data Science</td>\n",
       "      <td>2005</td>\n",
       "      <td>USA</td>\n",
       "      <td>20000</td>\n",
       "      <td>Kayra</td>\n",
       "      <td>Alex</td>\n",
       "      <td>Sweden</td>\n",
       "      <td>21000</td>\n",
       "      <td>5</td>\n",
       "    </tr>\n",
       "  </tbody>\n",
       "</table>\n",
       "</div>"
      ],
      "text/plain": [
       "  employee_x      department  Year country_x salary_x manager employee_y  \\\n",
       "0     Nicole  Cyber Security  2002    Canada    22000  Joseph     Fabian   \n",
       "1      Julia    Data Science  2005       USA    20000   Kayra       Alex   \n",
       "\n",
       "  country_y salary_y experience  \n",
       "0    France    22500          2  \n",
       "1    Sweden    21000          5  "
      ]
     },
     "execution_count": 386,
     "metadata": {},
     "output_type": "execute_result"
    }
   ],
   "source": [
    "pd.merge(df5, df6, on=[\"department\",\"Year\"])"
   ]
  },
  {
   "cell_type": "code",
   "execution_count": null,
   "id": "05b8825a-6833-42fd-bbbe-cf9914122c87",
   "metadata": {},
   "outputs": [],
   "source": [
    "    "
   ]
  },
  {
   "cell_type": "code",
   "execution_count": null,
   "id": "ad9c1f88-8a36-4f65-82b7-60f2888f0244",
   "metadata": {},
   "outputs": [],
   "source": []
  },
  {
   "cell_type": "markdown",
   "id": "dc321402-2e2f-4beb-821d-f49bf4c2cd49",
   "metadata": {},
   "source": [
    "## Pandas Dataframe’lerini Birleştirme: Merge() Fonksiyonu 5"
   ]
  },
  {
   "cell_type": "code",
   "execution_count": 13,
   "id": "54f4a2a7-0368-4410-b3a4-8d20e6987c73",
   "metadata": {},
   "outputs": [],
   "source": [
    "df1 = pd.DataFrame({'employee': ['Julia', 'Marie', 'Adam', 'Nicole'],\n",
    "                     'department': ['Data Science', 'Web Development', 'Data Science', 'Cyber Security'],\n",
    "                     'Year': ['2005', '2008', '2011', '2002']})\n",
    "   \n",
    "df2 = pd.DataFrame({'employee': ['Nicole', 'Adam', 'Julia', 'Marie'],\n",
    "                          'country': ['Canada', 'England', 'USA', 'Germany'],\n",
    "                          'salary': ['22000', '16000', '20000', '17500']})  \n",
    "\n",
    "df3 = pd.merge(df1, df2)"
   ]
  },
  {
   "cell_type": "code",
   "execution_count": 15,
   "id": "b4f5e1ea-16ea-434e-a636-a8df7aa6185c",
   "metadata": {},
   "outputs": [
    {
     "data": {
      "text/html": [
       "<div>\n",
       "<style scoped>\n",
       "    .dataframe tbody tr th:only-of-type {\n",
       "        vertical-align: middle;\n",
       "    }\n",
       "\n",
       "    .dataframe tbody tr th {\n",
       "        vertical-align: top;\n",
       "    }\n",
       "\n",
       "    .dataframe thead th {\n",
       "        text-align: right;\n",
       "    }\n",
       "</style>\n",
       "<table border=\"1\" class=\"dataframe\">\n",
       "  <thead>\n",
       "    <tr style=\"text-align: right;\">\n",
       "      <th></th>\n",
       "      <th>employee</th>\n",
       "      <th>department</th>\n",
       "      <th>Year</th>\n",
       "      <th>country</th>\n",
       "      <th>salary</th>\n",
       "    </tr>\n",
       "  </thead>\n",
       "  <tbody>\n",
       "    <tr>\n",
       "      <th>0</th>\n",
       "      <td>Julia</td>\n",
       "      <td>Data Science</td>\n",
       "      <td>2005</td>\n",
       "      <td>USA</td>\n",
       "      <td>20000</td>\n",
       "    </tr>\n",
       "    <tr>\n",
       "      <th>1</th>\n",
       "      <td>Marie</td>\n",
       "      <td>Web Development</td>\n",
       "      <td>2008</td>\n",
       "      <td>Germany</td>\n",
       "      <td>17500</td>\n",
       "    </tr>\n",
       "    <tr>\n",
       "      <th>2</th>\n",
       "      <td>Adam</td>\n",
       "      <td>Data Science</td>\n",
       "      <td>2011</td>\n",
       "      <td>England</td>\n",
       "      <td>16000</td>\n",
       "    </tr>\n",
       "    <tr>\n",
       "      <th>3</th>\n",
       "      <td>Nicole</td>\n",
       "      <td>Cyber Security</td>\n",
       "      <td>2002</td>\n",
       "      <td>Canada</td>\n",
       "      <td>22000</td>\n",
       "    </tr>\n",
       "  </tbody>\n",
       "</table>\n",
       "</div>"
      ],
      "text/plain": [
       "  employee       department  Year  country salary\n",
       "0    Julia     Data Science  2005      USA  20000\n",
       "1    Marie  Web Development  2008  Germany  17500\n",
       "2     Adam     Data Science  2011  England  16000\n",
       "3   Nicole   Cyber Security  2002   Canada  22000"
      ]
     },
     "execution_count": 15,
     "metadata": {},
     "output_type": "execute_result"
    }
   ],
   "source": [
    "df3"
   ]
  },
  {
   "cell_type": "code",
   "execution_count": null,
   "id": "f17a0598-c1bc-4fd4-ada0-4982061b7a3e",
   "metadata": {},
   "outputs": [],
   "source": []
  },
  {
   "cell_type": "code",
   "execution_count": null,
   "id": "a46a53af-f1ff-46bb-af2a-7ceea1844a85",
   "metadata": {},
   "outputs": [],
   "source": []
  },
  {
   "cell_type": "code",
   "execution_count": 11,
   "id": "1d6904f9-92f9-480d-a59b-4a7e03925f62",
   "metadata": {},
   "outputs": [],
   "source": [
    "df5 = pd.DataFrame({'member': ['George', 'Marie', 'Nicole', 'Donald'],\n",
    "                     'family_member': ['4', '5', '1', '3']})"
   ]
  },
  {
   "cell_type": "code",
   "execution_count": 17,
   "id": "33078c4e-0918-4d68-ac2f-22607ab49978",
   "metadata": {},
   "outputs": [
    {
     "data": {
      "text/html": [
       "<div>\n",
       "<style scoped>\n",
       "    .dataframe tbody tr th:only-of-type {\n",
       "        vertical-align: middle;\n",
       "    }\n",
       "\n",
       "    .dataframe tbody tr th {\n",
       "        vertical-align: top;\n",
       "    }\n",
       "\n",
       "    .dataframe thead th {\n",
       "        text-align: right;\n",
       "    }\n",
       "</style>\n",
       "<table border=\"1\" class=\"dataframe\">\n",
       "  <thead>\n",
       "    <tr style=\"text-align: right;\">\n",
       "      <th></th>\n",
       "      <th>member</th>\n",
       "      <th>family_member</th>\n",
       "    </tr>\n",
       "  </thead>\n",
       "  <tbody>\n",
       "    <tr>\n",
       "      <th>0</th>\n",
       "      <td>George</td>\n",
       "      <td>4</td>\n",
       "    </tr>\n",
       "    <tr>\n",
       "      <th>1</th>\n",
       "      <td>Marie</td>\n",
       "      <td>5</td>\n",
       "    </tr>\n",
       "    <tr>\n",
       "      <th>2</th>\n",
       "      <td>Nicole</td>\n",
       "      <td>1</td>\n",
       "    </tr>\n",
       "    <tr>\n",
       "      <th>3</th>\n",
       "      <td>Donald</td>\n",
       "      <td>3</td>\n",
       "    </tr>\n",
       "  </tbody>\n",
       "</table>\n",
       "</div>"
      ],
      "text/plain": [
       "   member family_member\n",
       "0  George             4\n",
       "1   Marie             5\n",
       "2  Nicole             1\n",
       "3  Donald             3"
      ]
     },
     "execution_count": 17,
     "metadata": {},
     "output_type": "execute_result"
    }
   ],
   "source": [
    "df5"
   ]
  },
  {
   "cell_type": "code",
   "execution_count": null,
   "id": "8b846cac-639c-4fd7-893a-f9fe0263ee87",
   "metadata": {},
   "outputs": [],
   "source": []
  },
  {
   "cell_type": "code",
   "execution_count": 21,
   "id": "40aaa37d-76a7-4599-9816-dee58fbc5d86",
   "metadata": {},
   "outputs": [
    {
     "data": {
      "text/html": [
       "<div>\n",
       "<style scoped>\n",
       "    .dataframe tbody tr th:only-of-type {\n",
       "        vertical-align: middle;\n",
       "    }\n",
       "\n",
       "    .dataframe tbody tr th {\n",
       "        vertical-align: top;\n",
       "    }\n",
       "\n",
       "    .dataframe thead th {\n",
       "        text-align: right;\n",
       "    }\n",
       "</style>\n",
       "<table border=\"1\" class=\"dataframe\">\n",
       "  <thead>\n",
       "    <tr style=\"text-align: right;\">\n",
       "      <th></th>\n",
       "      <th>employee</th>\n",
       "      <th>department</th>\n",
       "      <th>Year</th>\n",
       "      <th>country</th>\n",
       "      <th>salary</th>\n",
       "      <th>member</th>\n",
       "      <th>family_member</th>\n",
       "    </tr>\n",
       "  </thead>\n",
       "  <tbody>\n",
       "    <tr>\n",
       "      <th>0</th>\n",
       "      <td>Marie</td>\n",
       "      <td>Web Development</td>\n",
       "      <td>2008</td>\n",
       "      <td>Germany</td>\n",
       "      <td>17500</td>\n",
       "      <td>Marie</td>\n",
       "      <td>5</td>\n",
       "    </tr>\n",
       "    <tr>\n",
       "      <th>1</th>\n",
       "      <td>Nicole</td>\n",
       "      <td>Cyber Security</td>\n",
       "      <td>2002</td>\n",
       "      <td>Canada</td>\n",
       "      <td>22000</td>\n",
       "      <td>Nicole</td>\n",
       "      <td>1</td>\n",
       "    </tr>\n",
       "  </tbody>\n",
       "</table>\n",
       "</div>"
      ],
      "text/plain": [
       "  employee       department  Year  country salary  member family_member\n",
       "0    Marie  Web Development  2008  Germany  17500   Marie             5\n",
       "1   Nicole   Cyber Security  2002   Canada  22000  Nicole             1"
      ]
     },
     "execution_count": 21,
     "metadata": {},
     "output_type": "execute_result"
    }
   ],
   "source": [
    "pd.merge(df3, df5, left_on = \"employee\", right_on = \"member\") # df3 ve df5 içerisinde yer alan ortak değerlerin yer aldığı sütunları,her iki df için ayrı ayrı olmak üzere parametreler ile belirtmiş olduk."
   ]
  },
  {
   "cell_type": "code",
   "execution_count": null,
   "id": "fac1b50d-5c1e-4a4a-aa1a-36210176321b",
   "metadata": {},
   "outputs": [],
   "source": []
  },
  {
   "cell_type": "code",
   "execution_count": 29,
   "id": "8f6edee0-47ba-4711-b899-528d439a2bd9",
   "metadata": {},
   "outputs": [
    {
     "data": {
      "text/html": [
       "<div>\n",
       "<style scoped>\n",
       "    .dataframe tbody tr th:only-of-type {\n",
       "        vertical-align: middle;\n",
       "    }\n",
       "\n",
       "    .dataframe tbody tr th {\n",
       "        vertical-align: top;\n",
       "    }\n",
       "\n",
       "    .dataframe thead th {\n",
       "        text-align: right;\n",
       "    }\n",
       "</style>\n",
       "<table border=\"1\" class=\"dataframe\">\n",
       "  <thead>\n",
       "    <tr style=\"text-align: right;\">\n",
       "      <th></th>\n",
       "      <th>employee</th>\n",
       "      <th>department</th>\n",
       "      <th>Year</th>\n",
       "      <th>country</th>\n",
       "      <th>salary</th>\n",
       "      <th>member</th>\n",
       "      <th>family_member</th>\n",
       "    </tr>\n",
       "  </thead>\n",
       "  <tbody>\n",
       "    <tr>\n",
       "      <th>0</th>\n",
       "      <td>Adam</td>\n",
       "      <td>Data Science</td>\n",
       "      <td>2011</td>\n",
       "      <td>England</td>\n",
       "      <td>16000</td>\n",
       "      <td>NaN</td>\n",
       "      <td>NaN</td>\n",
       "    </tr>\n",
       "    <tr>\n",
       "      <th>1</th>\n",
       "      <td>NaN</td>\n",
       "      <td>NaN</td>\n",
       "      <td>NaN</td>\n",
       "      <td>NaN</td>\n",
       "      <td>NaN</td>\n",
       "      <td>Donald</td>\n",
       "      <td>3</td>\n",
       "    </tr>\n",
       "    <tr>\n",
       "      <th>2</th>\n",
       "      <td>NaN</td>\n",
       "      <td>NaN</td>\n",
       "      <td>NaN</td>\n",
       "      <td>NaN</td>\n",
       "      <td>NaN</td>\n",
       "      <td>George</td>\n",
       "      <td>4</td>\n",
       "    </tr>\n",
       "    <tr>\n",
       "      <th>3</th>\n",
       "      <td>Julia</td>\n",
       "      <td>Data Science</td>\n",
       "      <td>2005</td>\n",
       "      <td>USA</td>\n",
       "      <td>20000</td>\n",
       "      <td>NaN</td>\n",
       "      <td>NaN</td>\n",
       "    </tr>\n",
       "    <tr>\n",
       "      <th>4</th>\n",
       "      <td>Marie</td>\n",
       "      <td>Web Development</td>\n",
       "      <td>2008</td>\n",
       "      <td>Germany</td>\n",
       "      <td>17500</td>\n",
       "      <td>Marie</td>\n",
       "      <td>5</td>\n",
       "    </tr>\n",
       "    <tr>\n",
       "      <th>5</th>\n",
       "      <td>Nicole</td>\n",
       "      <td>Cyber Security</td>\n",
       "      <td>2002</td>\n",
       "      <td>Canada</td>\n",
       "      <td>22000</td>\n",
       "      <td>Nicole</td>\n",
       "      <td>1</td>\n",
       "    </tr>\n",
       "  </tbody>\n",
       "</table>\n",
       "</div>"
      ],
      "text/plain": [
       "  employee       department  Year  country salary  member family_member\n",
       "0     Adam     Data Science  2011  England  16000     NaN           NaN\n",
       "1      NaN              NaN   NaN      NaN    NaN  Donald             3\n",
       "2      NaN              NaN   NaN      NaN    NaN  George             4\n",
       "3    Julia     Data Science  2005      USA  20000     NaN           NaN\n",
       "4    Marie  Web Development  2008  Germany  17500   Marie             5\n",
       "5   Nicole   Cyber Security  2002   Canada  22000  Nicole             1"
      ]
     },
     "execution_count": 29,
     "metadata": {},
     "output_type": "execute_result"
    }
   ],
   "source": [
    "pd.merge(df3, df5, left_on = \"employee\", right_on = \"member\", how =\"outer\") # Yukarıdaki kod blokundan farklı olarak how=\"outer\" yazarak her iki df için birleşimini alarak merge işlemini yapmış olduk."
   ]
  },
  {
   "cell_type": "code",
   "execution_count": null,
   "id": "90f0e76f-12cc-49f3-8089-45b1811b28ee",
   "metadata": {},
   "outputs": [],
   "source": []
  },
  {
   "cell_type": "code",
   "execution_count": null,
   "id": "e6872687-8f2d-4a1f-89ed-620226d140aa",
   "metadata": {},
   "outputs": [],
   "source": []
  },
  {
   "cell_type": "code",
   "execution_count": 32,
   "id": "0ca77ef6-5c8c-40a0-98c2-580889afe6b4",
   "metadata": {},
   "outputs": [
    {
     "data": {
      "text/html": [
       "<div>\n",
       "<style scoped>\n",
       "    .dataframe tbody tr th:only-of-type {\n",
       "        vertical-align: middle;\n",
       "    }\n",
       "\n",
       "    .dataframe tbody tr th {\n",
       "        vertical-align: top;\n",
       "    }\n",
       "\n",
       "    .dataframe thead th {\n",
       "        text-align: right;\n",
       "    }\n",
       "</style>\n",
       "<table border=\"1\" class=\"dataframe\">\n",
       "  <thead>\n",
       "    <tr style=\"text-align: right;\">\n",
       "      <th></th>\n",
       "      <th>employee</th>\n",
       "      <th>department</th>\n",
       "      <th>Year</th>\n",
       "      <th>country</th>\n",
       "      <th>salary</th>\n",
       "      <th>member</th>\n",
       "      <th>family_member</th>\n",
       "    </tr>\n",
       "  </thead>\n",
       "  <tbody>\n",
       "    <tr>\n",
       "      <th>0</th>\n",
       "      <td>Julia</td>\n",
       "      <td>Data Science</td>\n",
       "      <td>2005</td>\n",
       "      <td>USA</td>\n",
       "      <td>20000</td>\n",
       "      <td>NaN</td>\n",
       "      <td>NaN</td>\n",
       "    </tr>\n",
       "    <tr>\n",
       "      <th>1</th>\n",
       "      <td>Marie</td>\n",
       "      <td>Web Development</td>\n",
       "      <td>2008</td>\n",
       "      <td>Germany</td>\n",
       "      <td>17500</td>\n",
       "      <td>Marie</td>\n",
       "      <td>5</td>\n",
       "    </tr>\n",
       "    <tr>\n",
       "      <th>2</th>\n",
       "      <td>Adam</td>\n",
       "      <td>Data Science</td>\n",
       "      <td>2011</td>\n",
       "      <td>England</td>\n",
       "      <td>16000</td>\n",
       "      <td>NaN</td>\n",
       "      <td>NaN</td>\n",
       "    </tr>\n",
       "    <tr>\n",
       "      <th>3</th>\n",
       "      <td>Nicole</td>\n",
       "      <td>Cyber Security</td>\n",
       "      <td>2002</td>\n",
       "      <td>Canada</td>\n",
       "      <td>22000</td>\n",
       "      <td>Nicole</td>\n",
       "      <td>1</td>\n",
       "    </tr>\n",
       "  </tbody>\n",
       "</table>\n",
       "</div>"
      ],
      "text/plain": [
       "  employee       department  Year  country salary  member family_member\n",
       "0    Julia     Data Science  2005      USA  20000     NaN           NaN\n",
       "1    Marie  Web Development  2008  Germany  17500   Marie             5\n",
       "2     Adam     Data Science  2011  England  16000     NaN           NaN\n",
       "3   Nicole   Cyber Security  2002   Canada  22000  Nicole             1"
      ]
     },
     "execution_count": 32,
     "metadata": {},
     "output_type": "execute_result"
    }
   ],
   "source": [
    "pd.merge(df3, df5, left_on = \"employee\", right_on = \"member\", how = \"left\")"
   ]
  },
  {
   "cell_type": "code",
   "execution_count": null,
   "id": "32d51311-7367-4f94-85ad-dd31234d6da7",
   "metadata": {},
   "outputs": [],
   "source": []
  },
  {
   "cell_type": "code",
   "execution_count": 34,
   "id": "e2226262-f039-4915-852e-5b1e018d0a70",
   "metadata": {},
   "outputs": [
    {
     "data": {
      "text/html": [
       "<div>\n",
       "<style scoped>\n",
       "    .dataframe tbody tr th:only-of-type {\n",
       "        vertical-align: middle;\n",
       "    }\n",
       "\n",
       "    .dataframe tbody tr th {\n",
       "        vertical-align: top;\n",
       "    }\n",
       "\n",
       "    .dataframe thead th {\n",
       "        text-align: right;\n",
       "    }\n",
       "</style>\n",
       "<table border=\"1\" class=\"dataframe\">\n",
       "  <thead>\n",
       "    <tr style=\"text-align: right;\">\n",
       "      <th></th>\n",
       "      <th>employee</th>\n",
       "      <th>department</th>\n",
       "      <th>Year</th>\n",
       "      <th>country</th>\n",
       "      <th>salary</th>\n",
       "      <th>member</th>\n",
       "      <th>family_member</th>\n",
       "    </tr>\n",
       "  </thead>\n",
       "  <tbody>\n",
       "    <tr>\n",
       "      <th>0</th>\n",
       "      <td>NaN</td>\n",
       "      <td>NaN</td>\n",
       "      <td>NaN</td>\n",
       "      <td>NaN</td>\n",
       "      <td>NaN</td>\n",
       "      <td>George</td>\n",
       "      <td>4</td>\n",
       "    </tr>\n",
       "    <tr>\n",
       "      <th>1</th>\n",
       "      <td>Marie</td>\n",
       "      <td>Web Development</td>\n",
       "      <td>2008</td>\n",
       "      <td>Germany</td>\n",
       "      <td>17500</td>\n",
       "      <td>Marie</td>\n",
       "      <td>5</td>\n",
       "    </tr>\n",
       "    <tr>\n",
       "      <th>2</th>\n",
       "      <td>Nicole</td>\n",
       "      <td>Cyber Security</td>\n",
       "      <td>2002</td>\n",
       "      <td>Canada</td>\n",
       "      <td>22000</td>\n",
       "      <td>Nicole</td>\n",
       "      <td>1</td>\n",
       "    </tr>\n",
       "    <tr>\n",
       "      <th>3</th>\n",
       "      <td>NaN</td>\n",
       "      <td>NaN</td>\n",
       "      <td>NaN</td>\n",
       "      <td>NaN</td>\n",
       "      <td>NaN</td>\n",
       "      <td>Donald</td>\n",
       "      <td>3</td>\n",
       "    </tr>\n",
       "  </tbody>\n",
       "</table>\n",
       "</div>"
      ],
      "text/plain": [
       "  employee       department  Year  country salary  member family_member\n",
       "0      NaN              NaN   NaN      NaN    NaN  George             4\n",
       "1    Marie  Web Development  2008  Germany  17500   Marie             5\n",
       "2   Nicole   Cyber Security  2002   Canada  22000  Nicole             1\n",
       "3      NaN              NaN   NaN      NaN    NaN  Donald             3"
      ]
     },
     "execution_count": 34,
     "metadata": {},
     "output_type": "execute_result"
    }
   ],
   "source": [
    "pd.merge(df3, df5, left_on = \"employee\", right_on = \"member\", how = \"right\")"
   ]
  },
  {
   "cell_type": "code",
   "execution_count": null,
   "id": "b73c4f9c-4fce-42e7-8d7e-61572689a41e",
   "metadata": {},
   "outputs": [],
   "source": []
  },
  {
   "cell_type": "code",
   "execution_count": null,
   "id": "f36920d8-7c5c-4791-adba-1c01270000d8",
   "metadata": {},
   "outputs": [],
   "source": []
  },
  {
   "cell_type": "markdown",
   "id": "b05b120c-fb6d-448f-9df2-e1b6cfeb7de5",
   "metadata": {},
   "source": [
    "## Pandas Dataframe’lerini Birleştirme: Join() Fonksiyonu "
   ]
  },
  {
   "cell_type": "markdown",
   "id": "0832deaa-406b-42dd-99f2-b5ee0d646412",
   "metadata": {},
   "source": [
    "### Tanım:\n",
    "\n",
    "    **join()** fonksiyonu,DataFrame içerisinde yer alan ortak indeksler üzerinden DF yapılarında birleştirme işlemi yapmamızı sağlayan fonksiyondur.\n",
    "    join() ile yapılacak DataFrame birleştirme işlemlerinde örtüşen ortak sütunlar olmamalıdır.Aksi halde hata alırız."
   ]
  },
  {
   "cell_type": "code",
   "execution_count": 67,
   "id": "6f33beb1-e92b-4d9b-b42e-7deee776a87e",
   "metadata": {},
   "outputs": [],
   "source": [
    "import numpy as np\n",
    "import pandas as pd"
   ]
  },
  {
   "cell_type": "code",
   "execution_count": 54,
   "id": "3c829885-e988-4c84-9155-1feb21d62d17",
   "metadata": {},
   "outputs": [],
   "source": [
    "df1 = pd.DataFrame({\"X\":[\"X0\",\"X1\",\"X2\"],\n",
    "                    \"Y\":[\"Y0\",\"Y1\",\"Y2\"]},\n",
    "                   index=\"A0 A1 A2\".split()\n",
    "                   )"
   ]
  },
  {
   "cell_type": "code",
   "execution_count": 56,
   "id": "48859892-c1bb-4751-9fa5-4eeb19d67104",
   "metadata": {},
   "outputs": [
    {
     "data": {
      "text/html": [
       "<div>\n",
       "<style scoped>\n",
       "    .dataframe tbody tr th:only-of-type {\n",
       "        vertical-align: middle;\n",
       "    }\n",
       "\n",
       "    .dataframe tbody tr th {\n",
       "        vertical-align: top;\n",
       "    }\n",
       "\n",
       "    .dataframe thead th {\n",
       "        text-align: right;\n",
       "    }\n",
       "</style>\n",
       "<table border=\"1\" class=\"dataframe\">\n",
       "  <thead>\n",
       "    <tr style=\"text-align: right;\">\n",
       "      <th></th>\n",
       "      <th>X</th>\n",
       "      <th>Y</th>\n",
       "    </tr>\n",
       "  </thead>\n",
       "  <tbody>\n",
       "    <tr>\n",
       "      <th>A0</th>\n",
       "      <td>X0</td>\n",
       "      <td>Y0</td>\n",
       "    </tr>\n",
       "    <tr>\n",
       "      <th>A1</th>\n",
       "      <td>X1</td>\n",
       "      <td>Y1</td>\n",
       "    </tr>\n",
       "    <tr>\n",
       "      <th>A2</th>\n",
       "      <td>X2</td>\n",
       "      <td>Y2</td>\n",
       "    </tr>\n",
       "  </tbody>\n",
       "</table>\n",
       "</div>"
      ],
      "text/plain": [
       "     X   Y\n",
       "A0  X0  Y0\n",
       "A1  X1  Y1\n",
       "A2  X2  Y2"
      ]
     },
     "execution_count": 56,
     "metadata": {},
     "output_type": "execute_result"
    }
   ],
   "source": [
    "df1"
   ]
  },
  {
   "cell_type": "code",
   "execution_count": null,
   "id": "e8026e30-03e9-4305-bbbe-323cbb8b4e21",
   "metadata": {},
   "outputs": [],
   "source": []
  },
  {
   "cell_type": "code",
   "execution_count": 62,
   "id": "a0d3950b-cd6f-4991-8ba6-755e412eb435",
   "metadata": {},
   "outputs": [],
   "source": [
    "df2 = pd.DataFrame({\"Z\":[\"Z0\",\"Z2\",\"Z3\"],\n",
    "                    \"T\":[\"T0\",\"T2\",\"T3\"]},\n",
    "                    index=\"A0 A2 A3\".split()\n",
    "                  )"
   ]
  },
  {
   "cell_type": "code",
   "execution_count": 64,
   "id": "4e2c2468-cafd-4c79-847d-d2d423ea5c8b",
   "metadata": {},
   "outputs": [
    {
     "data": {
      "text/html": [
       "<div>\n",
       "<style scoped>\n",
       "    .dataframe tbody tr th:only-of-type {\n",
       "        vertical-align: middle;\n",
       "    }\n",
       "\n",
       "    .dataframe tbody tr th {\n",
       "        vertical-align: top;\n",
       "    }\n",
       "\n",
       "    .dataframe thead th {\n",
       "        text-align: right;\n",
       "    }\n",
       "</style>\n",
       "<table border=\"1\" class=\"dataframe\">\n",
       "  <thead>\n",
       "    <tr style=\"text-align: right;\">\n",
       "      <th></th>\n",
       "      <th>Z</th>\n",
       "      <th>T</th>\n",
       "    </tr>\n",
       "  </thead>\n",
       "  <tbody>\n",
       "    <tr>\n",
       "      <th>A0</th>\n",
       "      <td>Z0</td>\n",
       "      <td>T0</td>\n",
       "    </tr>\n",
       "    <tr>\n",
       "      <th>A2</th>\n",
       "      <td>Z2</td>\n",
       "      <td>T2</td>\n",
       "    </tr>\n",
       "    <tr>\n",
       "      <th>A3</th>\n",
       "      <td>Z3</td>\n",
       "      <td>T3</td>\n",
       "    </tr>\n",
       "  </tbody>\n",
       "</table>\n",
       "</div>"
      ],
      "text/plain": [
       "     Z   T\n",
       "A0  Z0  T0\n",
       "A2  Z2  T2\n",
       "A3  Z3  T3"
      ]
     },
     "execution_count": 64,
     "metadata": {},
     "output_type": "execute_result"
    }
   ],
   "source": [
    "df2"
   ]
  },
  {
   "cell_type": "code",
   "execution_count": null,
   "id": "631ad863-18ac-4b3e-85a2-c86948af3e37",
   "metadata": {},
   "outputs": [],
   "source": []
  },
  {
   "cell_type": "code",
   "execution_count": 75,
   "id": "0d1c6ebd-0a6a-475e-909d-9750a4af6628",
   "metadata": {},
   "outputs": [
    {
     "data": {
      "text/html": [
       "<div>\n",
       "<style scoped>\n",
       "    .dataframe tbody tr th:only-of-type {\n",
       "        vertical-align: middle;\n",
       "    }\n",
       "\n",
       "    .dataframe tbody tr th {\n",
       "        vertical-align: top;\n",
       "    }\n",
       "\n",
       "    .dataframe thead th {\n",
       "        text-align: right;\n",
       "    }\n",
       "</style>\n",
       "<table border=\"1\" class=\"dataframe\">\n",
       "  <thead>\n",
       "    <tr style=\"text-align: right;\">\n",
       "      <th></th>\n",
       "      <th>X</th>\n",
       "      <th>Y</th>\n",
       "      <th>Z</th>\n",
       "      <th>T</th>\n",
       "    </tr>\n",
       "  </thead>\n",
       "  <tbody>\n",
       "    <tr>\n",
       "      <th>A0</th>\n",
       "      <td>X0</td>\n",
       "      <td>Y0</td>\n",
       "      <td>Z0</td>\n",
       "      <td>T0</td>\n",
       "    </tr>\n",
       "    <tr>\n",
       "      <th>A1</th>\n",
       "      <td>X1</td>\n",
       "      <td>Y1</td>\n",
       "      <td>NaN</td>\n",
       "      <td>NaN</td>\n",
       "    </tr>\n",
       "    <tr>\n",
       "      <th>A2</th>\n",
       "      <td>X2</td>\n",
       "      <td>Y2</td>\n",
       "      <td>Z2</td>\n",
       "      <td>T2</td>\n",
       "    </tr>\n",
       "  </tbody>\n",
       "</table>\n",
       "</div>"
      ],
      "text/plain": [
       "     X   Y    Z    T\n",
       "A0  X0  Y0   Z0   T0\n",
       "A1  X1  Y1  NaN  NaN\n",
       "A2  X2  Y2   Z2   T2"
      ]
     },
     "execution_count": 75,
     "metadata": {},
     "output_type": "execute_result"
    }
   ],
   "source": [
    "df1.join(df2) # df1'i baz alarak join() fonks. ile, her iki DF yapsıında da yer alan sütunların olduğu bir birleştirme işlemi yapmış olduk."
   ]
  },
  {
   "cell_type": "code",
   "execution_count": null,
   "id": "7d7585bb-be52-4831-bc99-5b027c90f481",
   "metadata": {},
   "outputs": [],
   "source": []
  },
  {
   "cell_type": "markdown",
   "id": "a1a98f65-1bfd-4fdc-b6db-4aa89f10094b",
   "metadata": {},
   "source": [
    "### NOT:\n",
    "\n",
    "    join() fonksiyonu parametresi olan ve öntanımlı değeri join() içerisinde how=\"left\" olan parametre değerini how = \"inner\" şeklinde yeniden tanımlayarak DF ler arasında yer alan ortak indeksler üzerinden sadece kesişimlerini alarak bir birleştirme işlemi yapmış olduk."
   ]
  },
  {
   "cell_type": "code",
   "execution_count": 77,
   "id": "28826a0f-a8d6-463f-8454-ce7d488938cc",
   "metadata": {},
   "outputs": [
    {
     "data": {
      "text/html": [
       "<div>\n",
       "<style scoped>\n",
       "    .dataframe tbody tr th:only-of-type {\n",
       "        vertical-align: middle;\n",
       "    }\n",
       "\n",
       "    .dataframe tbody tr th {\n",
       "        vertical-align: top;\n",
       "    }\n",
       "\n",
       "    .dataframe thead th {\n",
       "        text-align: right;\n",
       "    }\n",
       "</style>\n",
       "<table border=\"1\" class=\"dataframe\">\n",
       "  <thead>\n",
       "    <tr style=\"text-align: right;\">\n",
       "      <th></th>\n",
       "      <th>X</th>\n",
       "      <th>Y</th>\n",
       "      <th>Z</th>\n",
       "      <th>T</th>\n",
       "    </tr>\n",
       "  </thead>\n",
       "  <tbody>\n",
       "    <tr>\n",
       "      <th>A0</th>\n",
       "      <td>X0</td>\n",
       "      <td>Y0</td>\n",
       "      <td>Z0</td>\n",
       "      <td>T0</td>\n",
       "    </tr>\n",
       "    <tr>\n",
       "      <th>A2</th>\n",
       "      <td>X2</td>\n",
       "      <td>Y2</td>\n",
       "      <td>Z2</td>\n",
       "      <td>T2</td>\n",
       "    </tr>\n",
       "  </tbody>\n",
       "</table>\n",
       "</div>"
      ],
      "text/plain": [
       "     X   Y   Z   T\n",
       "A0  X0  Y0  Z0  T0\n",
       "A2  X2  Y2  Z2  T2"
      ]
     },
     "execution_count": 77,
     "metadata": {},
     "output_type": "execute_result"
    }
   ],
   "source": [
    "df1.join(df2, how = \"inner\") "
   ]
  },
  {
   "cell_type": "code",
   "execution_count": null,
   "id": "2d2e8d9f-822f-4c12-8f3a-5a48a4e4b1a2",
   "metadata": {},
   "outputs": [],
   "source": []
  },
  {
   "cell_type": "code",
   "execution_count": 81,
   "id": "52266428-f718-46f2-8a8e-3c0f643d540c",
   "metadata": {},
   "outputs": [
    {
     "data": {
      "text/html": [
       "<div>\n",
       "<style scoped>\n",
       "    .dataframe tbody tr th:only-of-type {\n",
       "        vertical-align: middle;\n",
       "    }\n",
       "\n",
       "    .dataframe tbody tr th {\n",
       "        vertical-align: top;\n",
       "    }\n",
       "\n",
       "    .dataframe thead th {\n",
       "        text-align: right;\n",
       "    }\n",
       "</style>\n",
       "<table border=\"1\" class=\"dataframe\">\n",
       "  <thead>\n",
       "    <tr style=\"text-align: right;\">\n",
       "      <th></th>\n",
       "      <th>X</th>\n",
       "      <th>Y</th>\n",
       "      <th>Z</th>\n",
       "      <th>T</th>\n",
       "    </tr>\n",
       "  </thead>\n",
       "  <tbody>\n",
       "    <tr>\n",
       "      <th>A0</th>\n",
       "      <td>X0</td>\n",
       "      <td>Y0</td>\n",
       "      <td>Z0</td>\n",
       "      <td>T0</td>\n",
       "    </tr>\n",
       "    <tr>\n",
       "      <th>A1</th>\n",
       "      <td>X1</td>\n",
       "      <td>Y1</td>\n",
       "      <td>NaN</td>\n",
       "      <td>NaN</td>\n",
       "    </tr>\n",
       "    <tr>\n",
       "      <th>A2</th>\n",
       "      <td>X2</td>\n",
       "      <td>Y2</td>\n",
       "      <td>Z2</td>\n",
       "      <td>T2</td>\n",
       "    </tr>\n",
       "    <tr>\n",
       "      <th>A3</th>\n",
       "      <td>NaN</td>\n",
       "      <td>NaN</td>\n",
       "      <td>Z3</td>\n",
       "      <td>T3</td>\n",
       "    </tr>\n",
       "  </tbody>\n",
       "</table>\n",
       "</div>"
      ],
      "text/plain": [
       "      X    Y    Z    T\n",
       "A0   X0   Y0   Z0   T0\n",
       "A1   X1   Y1  NaN  NaN\n",
       "A2   X2   Y2   Z2   T2\n",
       "A3  NaN  NaN   Z3   T3"
      ]
     },
     "execution_count": 81,
     "metadata": {},
     "output_type": "execute_result"
    }
   ],
   "source": [
    "df1.join(df2, how = \"outer\") # df1 ve df2 arasında birleşim kümelerini alarak bir birleştirme işlemi yapmış olduk.Ortak indeksler üzerinde yer alan değerler birleşmiş oldu.\n",
    "                             # Ancak DF içerisinde ortak olmayan indeksler üzerinde yer alan değerlerin karşılığı olmadığı için, otomatik olarak buralara NaN değer eklenerek sonuç almış olduk. "
   ]
  },
  {
   "cell_type": "code",
   "execution_count": null,
   "id": "2fde309d-b443-4ee4-916b-b893a3cb5a31",
   "metadata": {},
   "outputs": [],
   "source": []
  },
  {
   "cell_type": "code",
   "execution_count": null,
   "id": "806cf319-d1f4-4c28-99c4-a6b520c01495",
   "metadata": {},
   "outputs": [],
   "source": []
  },
  {
   "cell_type": "code",
   "execution_count": 84,
   "id": "5fe6326f-8b4b-4623-a0f1-79564f870a7f",
   "metadata": {},
   "outputs": [],
   "source": [
    "df3 = pd.DataFrame({'key': ['X0', 'X2', 'X3', 'X4', 'X5', 'X6'],\n",
    "                   'Y': ['Y0', 'Y2', 'Y3', 'Y4', 'Y5', 'Y6']})\n",
    "\n",
    "df4 = pd.DataFrame({'key': ['X0', 'X2', 'X3'],\n",
    "                      'Z': ['Z0', 'Z2', 'Z3']})"
   ]
  },
  {
   "cell_type": "code",
   "execution_count": null,
   "id": "f857d4fb-9e0b-4c53-988b-d38aa673c6f8",
   "metadata": {},
   "outputs": [],
   "source": []
  },
  {
   "cell_type": "code",
   "execution_count": 88,
   "id": "318eaa6b-1950-43ba-90f8-70f6f714925e",
   "metadata": {
    "scrolled": true
   },
   "outputs": [
    {
     "ename": "ValueError",
     "evalue": "columns overlap but no suffix specified: Index(['key'], dtype='object')",
     "output_type": "error",
     "traceback": [
      "\u001b[1;31m---------------------------------------------------------------------------\u001b[0m",
      "\u001b[1;31mValueError\u001b[0m                                Traceback (most recent call last)",
      "Cell \u001b[1;32mIn[88], line 1\u001b[0m\n\u001b[1;32m----> 1\u001b[0m df3\u001b[38;5;241m.\u001b[39mjoin(df4)\n",
      "File \u001b[1;32m~\\AppData\\Roaming\\Python\\Python312\\site-packages\\pandas\\core\\frame.py:10757\u001b[0m, in \u001b[0;36mDataFrame.join\u001b[1;34m(self, other, on, how, lsuffix, rsuffix, sort, validate)\u001b[0m\n\u001b[0;32m  10747\u001b[0m     \u001b[38;5;28;01mif\u001b[39;00m how \u001b[38;5;241m==\u001b[39m \u001b[38;5;124m\"\u001b[39m\u001b[38;5;124mcross\u001b[39m\u001b[38;5;124m\"\u001b[39m:\n\u001b[0;32m  10748\u001b[0m         \u001b[38;5;28;01mreturn\u001b[39;00m merge(\n\u001b[0;32m  10749\u001b[0m             \u001b[38;5;28mself\u001b[39m,\n\u001b[0;32m  10750\u001b[0m             other,\n\u001b[1;32m   (...)\u001b[0m\n\u001b[0;32m  10755\u001b[0m             validate\u001b[38;5;241m=\u001b[39mvalidate,\n\u001b[0;32m  10756\u001b[0m         )\n\u001b[1;32m> 10757\u001b[0m     \u001b[38;5;28;01mreturn\u001b[39;00m merge(\n\u001b[0;32m  10758\u001b[0m         \u001b[38;5;28mself\u001b[39m,\n\u001b[0;32m  10759\u001b[0m         other,\n\u001b[0;32m  10760\u001b[0m         left_on\u001b[38;5;241m=\u001b[39mon,\n\u001b[0;32m  10761\u001b[0m         how\u001b[38;5;241m=\u001b[39mhow,\n\u001b[0;32m  10762\u001b[0m         left_index\u001b[38;5;241m=\u001b[39mon \u001b[38;5;129;01mis\u001b[39;00m \u001b[38;5;28;01mNone\u001b[39;00m,\n\u001b[0;32m  10763\u001b[0m         right_index\u001b[38;5;241m=\u001b[39m\u001b[38;5;28;01mTrue\u001b[39;00m,\n\u001b[0;32m  10764\u001b[0m         suffixes\u001b[38;5;241m=\u001b[39m(lsuffix, rsuffix),\n\u001b[0;32m  10765\u001b[0m         sort\u001b[38;5;241m=\u001b[39msort,\n\u001b[0;32m  10766\u001b[0m         validate\u001b[38;5;241m=\u001b[39mvalidate,\n\u001b[0;32m  10767\u001b[0m     )\n\u001b[0;32m  10768\u001b[0m \u001b[38;5;28;01melse\u001b[39;00m:\n\u001b[0;32m  10769\u001b[0m     \u001b[38;5;28;01mif\u001b[39;00m on \u001b[38;5;129;01mis\u001b[39;00m \u001b[38;5;129;01mnot\u001b[39;00m \u001b[38;5;28;01mNone\u001b[39;00m:\n",
      "File \u001b[1;32m~\\AppData\\Roaming\\Python\\Python312\\site-packages\\pandas\\core\\reshape\\merge.py:184\u001b[0m, in \u001b[0;36mmerge\u001b[1;34m(left, right, how, on, left_on, right_on, left_index, right_index, sort, suffixes, copy, indicator, validate)\u001b[0m\n\u001b[0;32m    169\u001b[0m \u001b[38;5;28;01melse\u001b[39;00m:\n\u001b[0;32m    170\u001b[0m     op \u001b[38;5;241m=\u001b[39m _MergeOperation(\n\u001b[0;32m    171\u001b[0m         left_df,\n\u001b[0;32m    172\u001b[0m         right_df,\n\u001b[1;32m   (...)\u001b[0m\n\u001b[0;32m    182\u001b[0m         validate\u001b[38;5;241m=\u001b[39mvalidate,\n\u001b[0;32m    183\u001b[0m     )\n\u001b[1;32m--> 184\u001b[0m     \u001b[38;5;28;01mreturn\u001b[39;00m op\u001b[38;5;241m.\u001b[39mget_result(copy\u001b[38;5;241m=\u001b[39mcopy)\n",
      "File \u001b[1;32m~\\AppData\\Roaming\\Python\\Python312\\site-packages\\pandas\\core\\reshape\\merge.py:888\u001b[0m, in \u001b[0;36m_MergeOperation.get_result\u001b[1;34m(self, copy)\u001b[0m\n\u001b[0;32m    884\u001b[0m     \u001b[38;5;28mself\u001b[39m\u001b[38;5;241m.\u001b[39mleft, \u001b[38;5;28mself\u001b[39m\u001b[38;5;241m.\u001b[39mright \u001b[38;5;241m=\u001b[39m \u001b[38;5;28mself\u001b[39m\u001b[38;5;241m.\u001b[39m_indicator_pre_merge(\u001b[38;5;28mself\u001b[39m\u001b[38;5;241m.\u001b[39mleft, \u001b[38;5;28mself\u001b[39m\u001b[38;5;241m.\u001b[39mright)\n\u001b[0;32m    886\u001b[0m join_index, left_indexer, right_indexer \u001b[38;5;241m=\u001b[39m \u001b[38;5;28mself\u001b[39m\u001b[38;5;241m.\u001b[39m_get_join_info()\n\u001b[1;32m--> 888\u001b[0m result \u001b[38;5;241m=\u001b[39m \u001b[38;5;28mself\u001b[39m\u001b[38;5;241m.\u001b[39m_reindex_and_concat(\n\u001b[0;32m    889\u001b[0m     join_index, left_indexer, right_indexer, copy\u001b[38;5;241m=\u001b[39mcopy\n\u001b[0;32m    890\u001b[0m )\n\u001b[0;32m    891\u001b[0m result \u001b[38;5;241m=\u001b[39m result\u001b[38;5;241m.\u001b[39m__finalize__(\u001b[38;5;28mself\u001b[39m, method\u001b[38;5;241m=\u001b[39m\u001b[38;5;28mself\u001b[39m\u001b[38;5;241m.\u001b[39m_merge_type)\n\u001b[0;32m    893\u001b[0m \u001b[38;5;28;01mif\u001b[39;00m \u001b[38;5;28mself\u001b[39m\u001b[38;5;241m.\u001b[39mindicator:\n",
      "File \u001b[1;32m~\\AppData\\Roaming\\Python\\Python312\\site-packages\\pandas\\core\\reshape\\merge.py:840\u001b[0m, in \u001b[0;36m_MergeOperation._reindex_and_concat\u001b[1;34m(self, join_index, left_indexer, right_indexer, copy)\u001b[0m\n\u001b[0;32m    837\u001b[0m left \u001b[38;5;241m=\u001b[39m \u001b[38;5;28mself\u001b[39m\u001b[38;5;241m.\u001b[39mleft[:]\n\u001b[0;32m    838\u001b[0m right \u001b[38;5;241m=\u001b[39m \u001b[38;5;28mself\u001b[39m\u001b[38;5;241m.\u001b[39mright[:]\n\u001b[1;32m--> 840\u001b[0m llabels, rlabels \u001b[38;5;241m=\u001b[39m _items_overlap_with_suffix(\n\u001b[0;32m    841\u001b[0m     \u001b[38;5;28mself\u001b[39m\u001b[38;5;241m.\u001b[39mleft\u001b[38;5;241m.\u001b[39m_info_axis, \u001b[38;5;28mself\u001b[39m\u001b[38;5;241m.\u001b[39mright\u001b[38;5;241m.\u001b[39m_info_axis, \u001b[38;5;28mself\u001b[39m\u001b[38;5;241m.\u001b[39msuffixes\n\u001b[0;32m    842\u001b[0m )\n\u001b[0;32m    844\u001b[0m \u001b[38;5;28;01mif\u001b[39;00m left_indexer \u001b[38;5;129;01mis\u001b[39;00m \u001b[38;5;129;01mnot\u001b[39;00m \u001b[38;5;28;01mNone\u001b[39;00m \u001b[38;5;129;01mand\u001b[39;00m \u001b[38;5;129;01mnot\u001b[39;00m is_range_indexer(left_indexer, \u001b[38;5;28mlen\u001b[39m(left)):\n\u001b[0;32m    845\u001b[0m     \u001b[38;5;66;03m# Pinning the index here (and in the right code just below) is not\u001b[39;00m\n\u001b[0;32m    846\u001b[0m     \u001b[38;5;66;03m#  necessary, but makes the `.take` more performant if we have e.g.\u001b[39;00m\n\u001b[0;32m    847\u001b[0m     \u001b[38;5;66;03m#  a MultiIndex for left.index.\u001b[39;00m\n\u001b[0;32m    848\u001b[0m     lmgr \u001b[38;5;241m=\u001b[39m left\u001b[38;5;241m.\u001b[39m_mgr\u001b[38;5;241m.\u001b[39mreindex_indexer(\n\u001b[0;32m    849\u001b[0m         join_index,\n\u001b[0;32m    850\u001b[0m         left_indexer,\n\u001b[1;32m   (...)\u001b[0m\n\u001b[0;32m    855\u001b[0m         use_na_proxy\u001b[38;5;241m=\u001b[39m\u001b[38;5;28;01mTrue\u001b[39;00m,\n\u001b[0;32m    856\u001b[0m     )\n",
      "File \u001b[1;32m~\\AppData\\Roaming\\Python\\Python312\\site-packages\\pandas\\core\\reshape\\merge.py:2721\u001b[0m, in \u001b[0;36m_items_overlap_with_suffix\u001b[1;34m(left, right, suffixes)\u001b[0m\n\u001b[0;32m   2718\u001b[0m lsuffix, rsuffix \u001b[38;5;241m=\u001b[39m suffixes\n\u001b[0;32m   2720\u001b[0m \u001b[38;5;28;01mif\u001b[39;00m \u001b[38;5;129;01mnot\u001b[39;00m lsuffix \u001b[38;5;129;01mand\u001b[39;00m \u001b[38;5;129;01mnot\u001b[39;00m rsuffix:\n\u001b[1;32m-> 2721\u001b[0m     \u001b[38;5;28;01mraise\u001b[39;00m \u001b[38;5;167;01mValueError\u001b[39;00m(\u001b[38;5;124mf\u001b[39m\u001b[38;5;124m\"\u001b[39m\u001b[38;5;124mcolumns overlap but no suffix specified: \u001b[39m\u001b[38;5;132;01m{\u001b[39;00mto_rename\u001b[38;5;132;01m}\u001b[39;00m\u001b[38;5;124m\"\u001b[39m)\n\u001b[0;32m   2723\u001b[0m \u001b[38;5;28;01mdef\u001b[39;00m \u001b[38;5;21mrenamer\u001b[39m(x, suffix: \u001b[38;5;28mstr\u001b[39m \u001b[38;5;241m|\u001b[39m \u001b[38;5;28;01mNone\u001b[39;00m):\n\u001b[0;32m   2724\u001b[0m \u001b[38;5;250m    \u001b[39m\u001b[38;5;124;03m\"\"\"\u001b[39;00m\n\u001b[0;32m   2725\u001b[0m \u001b[38;5;124;03m    Rename the left and right indices.\u001b[39;00m\n\u001b[0;32m   2726\u001b[0m \n\u001b[1;32m   (...)\u001b[0m\n\u001b[0;32m   2737\u001b[0m \u001b[38;5;124;03m    x : renamed column name\u001b[39;00m\n\u001b[0;32m   2738\u001b[0m \u001b[38;5;124;03m    \"\"\"\u001b[39;00m\n",
      "\u001b[1;31mValueError\u001b[0m: columns overlap but no suffix specified: Index(['key'], dtype='object')"
     ]
    }
   ],
   "source": [
    "df3.join(df4) # df3 ve df4'te yer alan ortak sütun(column) olduğu için hata aldık.\n",
    "              # Bu hatadan kurtulmak için join() fonks.parametrelerinde lsuffix=\"\" ve rsuffix=\"\" parametrelerini kullanarak ortak olan sütunun ismini değiştirerek birleştirme işlemini yapabiliriz."
   ]
  },
  {
   "cell_type": "code",
   "execution_count": null,
   "id": "be756804-07ec-4869-ae57-b45a73e173c8",
   "metadata": {},
   "outputs": [],
   "source": []
  },
  {
   "cell_type": "code",
   "execution_count": 108,
   "id": "d3ac9f40-1b3d-4c55-a041-cc0e9933b14f",
   "metadata": {},
   "outputs": [
    {
     "data": {
      "text/html": [
       "<div>\n",
       "<style scoped>\n",
       "    .dataframe tbody tr th:only-of-type {\n",
       "        vertical-align: middle;\n",
       "    }\n",
       "\n",
       "    .dataframe tbody tr th {\n",
       "        vertical-align: top;\n",
       "    }\n",
       "\n",
       "    .dataframe thead th {\n",
       "        text-align: right;\n",
       "    }\n",
       "</style>\n",
       "<table border=\"1\" class=\"dataframe\">\n",
       "  <thead>\n",
       "    <tr style=\"text-align: right;\">\n",
       "      <th></th>\n",
       "      <th>key_left</th>\n",
       "      <th>Y</th>\n",
       "      <th>key_right</th>\n",
       "      <th>Z</th>\n",
       "    </tr>\n",
       "  </thead>\n",
       "  <tbody>\n",
       "    <tr>\n",
       "      <th>0</th>\n",
       "      <td>X0</td>\n",
       "      <td>Y0</td>\n",
       "      <td>X0</td>\n",
       "      <td>Z0</td>\n",
       "    </tr>\n",
       "    <tr>\n",
       "      <th>1</th>\n",
       "      <td>X2</td>\n",
       "      <td>Y2</td>\n",
       "      <td>X2</td>\n",
       "      <td>Z2</td>\n",
       "    </tr>\n",
       "    <tr>\n",
       "      <th>2</th>\n",
       "      <td>X3</td>\n",
       "      <td>Y3</td>\n",
       "      <td>X3</td>\n",
       "      <td>Z3</td>\n",
       "    </tr>\n",
       "  </tbody>\n",
       "</table>\n",
       "</div>"
      ],
      "text/plain": [
       "  key_left   Y key_right   Z\n",
       "0       X0  Y0        X0  Z0\n",
       "1       X2  Y2        X2  Z2\n",
       "2       X3  Y3        X3  Z3"
      ]
     },
     "execution_count": 108,
     "metadata": {},
     "output_type": "execute_result"
    }
   ],
   "source": [
    "df3.join(df4, lsuffix=\"_left\", rsuffix = \"_right\",how = \"inner\") # Ortak olan sütunları, lsuffix ve rsuffix parametrelerini kullanarak yeniden tanımladık.\n",
    "                                                                 # Böylelikle ortak sütunları değiştirerek hata almadan birleştirme işlemini yapmış olduk."
   ]
  },
  {
   "cell_type": "code",
   "execution_count": null,
   "id": "fec03fd2-71e6-4095-a607-d5c00a363075",
   "metadata": {},
   "outputs": [],
   "source": []
  },
  {
   "cell_type": "code",
   "execution_count": null,
   "id": "c70c417b-b61d-48b5-8a6b-120391901bbc",
   "metadata": {},
   "outputs": [],
   "source": []
  },
  {
   "cell_type": "code",
   "execution_count": 118,
   "id": "27047117-a184-4757-a92a-7cc65409e9be",
   "metadata": {},
   "outputs": [
    {
     "data": {
      "text/html": [
       "<div>\n",
       "<style scoped>\n",
       "    .dataframe tbody tr th:only-of-type {\n",
       "        vertical-align: middle;\n",
       "    }\n",
       "\n",
       "    .dataframe tbody tr th {\n",
       "        vertical-align: top;\n",
       "    }\n",
       "\n",
       "    .dataframe thead th {\n",
       "        text-align: right;\n",
       "    }\n",
       "</style>\n",
       "<table border=\"1\" class=\"dataframe\">\n",
       "  <thead>\n",
       "    <tr style=\"text-align: right;\">\n",
       "      <th></th>\n",
       "      <th>Y</th>\n",
       "    </tr>\n",
       "    <tr>\n",
       "      <th>key</th>\n",
       "      <th></th>\n",
       "    </tr>\n",
       "  </thead>\n",
       "  <tbody>\n",
       "    <tr>\n",
       "      <th>X0</th>\n",
       "      <td>Y0</td>\n",
       "    </tr>\n",
       "    <tr>\n",
       "      <th>X2</th>\n",
       "      <td>Y2</td>\n",
       "    </tr>\n",
       "    <tr>\n",
       "      <th>X3</th>\n",
       "      <td>Y3</td>\n",
       "    </tr>\n",
       "    <tr>\n",
       "      <th>X4</th>\n",
       "      <td>Y4</td>\n",
       "    </tr>\n",
       "    <tr>\n",
       "      <th>X5</th>\n",
       "      <td>Y5</td>\n",
       "    </tr>\n",
       "    <tr>\n",
       "      <th>X6</th>\n",
       "      <td>Y6</td>\n",
       "    </tr>\n",
       "  </tbody>\n",
       "</table>\n",
       "</div>"
      ],
      "text/plain": [
       "      Y\n",
       "key    \n",
       "X0   Y0\n",
       "X2   Y2\n",
       "X3   Y3\n",
       "X4   Y4\n",
       "X5   Y5\n",
       "X6   Y6"
      ]
     },
     "execution_count": 118,
     "metadata": {},
     "output_type": "execute_result"
    }
   ],
   "source": [
    "df3.set_index(\"key\")"
   ]
  },
  {
   "cell_type": "code",
   "execution_count": 120,
   "id": "0af548eb-6052-4af5-8563-aa6f902d7cfc",
   "metadata": {},
   "outputs": [
    {
     "data": {
      "text/html": [
       "<div>\n",
       "<style scoped>\n",
       "    .dataframe tbody tr th:only-of-type {\n",
       "        vertical-align: middle;\n",
       "    }\n",
       "\n",
       "    .dataframe tbody tr th {\n",
       "        vertical-align: top;\n",
       "    }\n",
       "\n",
       "    .dataframe thead th {\n",
       "        text-align: right;\n",
       "    }\n",
       "</style>\n",
       "<table border=\"1\" class=\"dataframe\">\n",
       "  <thead>\n",
       "    <tr style=\"text-align: right;\">\n",
       "      <th></th>\n",
       "      <th>Y</th>\n",
       "    </tr>\n",
       "    <tr>\n",
       "      <th>key</th>\n",
       "      <th></th>\n",
       "    </tr>\n",
       "  </thead>\n",
       "  <tbody>\n",
       "    <tr>\n",
       "      <th>X0</th>\n",
       "      <td>Y0</td>\n",
       "    </tr>\n",
       "    <tr>\n",
       "      <th>X2</th>\n",
       "      <td>Y2</td>\n",
       "    </tr>\n",
       "    <tr>\n",
       "      <th>X3</th>\n",
       "      <td>Y3</td>\n",
       "    </tr>\n",
       "    <tr>\n",
       "      <th>X4</th>\n",
       "      <td>Y4</td>\n",
       "    </tr>\n",
       "    <tr>\n",
       "      <th>X5</th>\n",
       "      <td>Y5</td>\n",
       "    </tr>\n",
       "    <tr>\n",
       "      <th>X6</th>\n",
       "      <td>Y6</td>\n",
       "    </tr>\n",
       "  </tbody>\n",
       "</table>\n",
       "</div>"
      ],
      "text/plain": [
       "      Y\n",
       "key    \n",
       "X0   Y0\n",
       "X2   Y2\n",
       "X3   Y3\n",
       "X4   Y4\n",
       "X5   Y5\n",
       "X6   Y6"
      ]
     },
     "execution_count": 120,
     "metadata": {},
     "output_type": "execute_result"
    }
   ],
   "source": [
    "df3.set_index(\"key\")"
   ]
  },
  {
   "cell_type": "code",
   "execution_count": null,
   "id": "2a97778a-2b21-4614-993e-3ab808455561",
   "metadata": {},
   "outputs": [],
   "source": []
  },
  {
   "cell_type": "code",
   "execution_count": null,
   "id": "39bd57bf-7b1c-4276-89fa-1e809eca8cd1",
   "metadata": {},
   "outputs": [],
   "source": []
  },
  {
   "cell_type": "markdown",
   "id": "6dbe6c8a-14d2-4698-9e6e-9d121c02abcf",
   "metadata": {},
   "source": [
    "### NOT:\n",
    "\n",
    "    Her iki DataFrame içerisinde yer alan ortak sütun değeri olan key sütununu, join() fonksiyonu ile birleştirme işlemi yaparken hata almamamız adına her iki DataFrame için set_index() fonksiyonunu kullanarak DataFrame'lerin indeksi haline getirmiş olduk.Devamında how=\"inner\" parametresi ile bu iki DF içerisinde yer alan ortak satır değerleri üzerinden güzel bir şekilde birleştirme işlemi yapmış olduk."
   ]
  },
  {
   "cell_type": "code",
   "execution_count": 128,
   "id": "b5844829-36cf-4472-8c1b-36b4c42c7f6d",
   "metadata": {},
   "outputs": [
    {
     "data": {
      "text/html": [
       "<div>\n",
       "<style scoped>\n",
       "    .dataframe tbody tr th:only-of-type {\n",
       "        vertical-align: middle;\n",
       "    }\n",
       "\n",
       "    .dataframe tbody tr th {\n",
       "        vertical-align: top;\n",
       "    }\n",
       "\n",
       "    .dataframe thead th {\n",
       "        text-align: right;\n",
       "    }\n",
       "</style>\n",
       "<table border=\"1\" class=\"dataframe\">\n",
       "  <thead>\n",
       "    <tr style=\"text-align: right;\">\n",
       "      <th></th>\n",
       "      <th>Y</th>\n",
       "      <th>Z</th>\n",
       "    </tr>\n",
       "    <tr>\n",
       "      <th>key</th>\n",
       "      <th></th>\n",
       "      <th></th>\n",
       "    </tr>\n",
       "  </thead>\n",
       "  <tbody>\n",
       "    <tr>\n",
       "      <th>X0</th>\n",
       "      <td>Y0</td>\n",
       "      <td>Z0</td>\n",
       "    </tr>\n",
       "    <tr>\n",
       "      <th>X2</th>\n",
       "      <td>Y2</td>\n",
       "      <td>Z2</td>\n",
       "    </tr>\n",
       "    <tr>\n",
       "      <th>X3</th>\n",
       "      <td>Y3</td>\n",
       "      <td>Z3</td>\n",
       "    </tr>\n",
       "  </tbody>\n",
       "</table>\n",
       "</div>"
      ],
      "text/plain": [
       "      Y   Z\n",
       "key        \n",
       "X0   Y0  Z0\n",
       "X2   Y2  Z2\n",
       "X3   Y3  Z3"
      ]
     },
     "execution_count": 128,
     "metadata": {},
     "output_type": "execute_result"
    }
   ],
   "source": [
    "df3.set_index(\"key\").join(df4.set_index(\"key\"), how= \"inner\")"
   ]
  },
  {
   "cell_type": "code",
   "execution_count": null,
   "id": "b679ad90-7586-42a6-b312-cf60d9b9c584",
   "metadata": {},
   "outputs": [],
   "source": []
  },
  {
   "cell_type": "code",
   "execution_count": null,
   "id": "8cf30abe-f6b0-4b8b-9e1e-e442fb7a2a4b",
   "metadata": {},
   "outputs": [],
   "source": []
  },
  {
   "cell_type": "code",
   "execution_count": null,
   "id": "5c93dbdf-4f67-4bd6-98c5-dc1e225e7f8d",
   "metadata": {},
   "outputs": [],
   "source": []
  },
  {
   "cell_type": "code",
   "execution_count": null,
   "id": "c4ef9699-9d92-4070-92f6-cc1eede68fa7",
   "metadata": {},
   "outputs": [],
   "source": []
  }
 ],
 "metadata": {
  "kernelspec": {
   "display_name": "Python 3 (ipykernel)",
   "language": "python",
   "name": "python3"
  },
  "language_info": {
   "codemirror_mode": {
    "name": "ipython",
    "version": 3
   },
   "file_extension": ".py",
   "mimetype": "text/x-python",
   "name": "python",
   "nbconvert_exporter": "python",
   "pygments_lexer": "ipython3",
   "version": "3.12.7"
  }
 },
 "nbformat": 4,
 "nbformat_minor": 5
}
