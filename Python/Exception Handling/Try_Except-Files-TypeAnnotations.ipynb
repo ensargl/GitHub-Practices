{
 "cells": [
  {
   "cell_type": "markdown",
   "id": "df5ba829-514a-44f9-8e4b-4b87467f9e4a",
   "metadata": {},
   "source": [
    "## try - except"
   ]
  },
  {
   "cell_type": "code",
   "execution_count": 1,
   "id": "82f2590d-cd69-41cd-9b7d-70845b5911a9",
   "metadata": {},
   "outputs": [
    {
     "name": "stdin",
     "output_type": "stream",
     "text": [
      "Enter your age:  50\n"
     ]
    },
    {
     "name": "stdout",
     "output_type": "stream",
     "text": [
      "I'm 50 years old\n",
      "Finally executed\n"
     ]
    }
   ],
   "source": [
    "while True:\n",
    "    try:\n",
    "        age = input(\"Enter your age: \")\n",
    "        if age.isnumeric():\n",
    "            print(f\"I'm {age} years old\")\n",
    "            break\n",
    "        else:\n",
    "            print(\"Please enter your age in numerical characters\")\n",
    "    except Exception as e:\n",
    "        print(f\"An error occurred: {e}\")\n",
    "    finally:\n",
    "        print(\"Finally executed\")"
   ]
  },
  {
   "cell_type": "code",
   "execution_count": null,
   "id": "23645600-9c89-4bf0-89b8-517b02b5f705",
   "metadata": {},
   "outputs": [],
   "source": []
  },
  {
   "cell_type": "code",
   "execution_count": null,
   "id": "a3eb12bf-41fe-44e6-a160-01e962bd6219",
   "metadata": {},
   "outputs": [],
   "source": []
  },
  {
   "cell_type": "markdown",
   "id": "58e643e5-8dc3-4f08-83bf-af7679a39009",
   "metadata": {},
   "source": [
    "## Files"
   ]
  },
  {
   "cell_type": "code",
   "execution_count": 10,
   "id": "ed65c6e8-8da5-4478-af52-71e2c1e20ff3",
   "metadata": {},
   "outputs": [
    {
     "name": "stdout",
     "output_type": "stream",
     "text": [
      "Writing myfile.txt\n"
     ]
    }
   ],
   "source": [
    "# %%writefile komutu ile dosyo oluşturma işlemi:\n",
    "\n",
    "%%writefile myfile.txt\n",
    "test-1\n",
    "test-2\n",
    "test-3"
   ]
  },
  {
   "cell_type": "code",
   "execution_count": null,
   "id": "8f793935-d2a1-4015-9453-ae117f9882dd",
   "metadata": {},
   "outputs": [],
   "source": []
  },
  {
   "cell_type": "code",
   "execution_count": 13,
   "id": "9f35f1b7-a32b-4a60-95d6-87d566b168aa",
   "metadata": {},
   "outputs": [],
   "source": [
    "files = open(\"myfile.txt\") # Oluşturduğumuz myfile.txt dosyasını bir değişkene assign edip sonrasında open komutu ile açmış oluıyoruz."
   ]
  },
  {
   "cell_type": "code",
   "execution_count": 19,
   "id": "67109165-a427-44ba-9f69-7337007d9f0b",
   "metadata": {},
   "outputs": [
    {
     "data": {
      "text/plain": [
       "<_io.TextIOWrapper name='myfile.txt' mode='r' encoding='cp1254'>"
      ]
     },
     "execution_count": 19,
     "metadata": {},
     "output_type": "execute_result"
    }
   ],
   "source": [
    "files"
   ]
  },
  {
   "cell_type": "code",
   "execution_count": 22,
   "id": "cd0430b7-705a-4822-a3e9-64b0d2970d80",
   "metadata": {},
   "outputs": [
    {
     "data": {
      "text/plain": [
       "_io.TextIOWrapper"
      ]
     },
     "execution_count": 22,
     "metadata": {},
     "output_type": "execute_result"
    }
   ],
   "source": [
    "type(files) # myfile.txt dosyasını assign ettiğimiz değişkenin type'ına bakmış oluyoruz."
   ]
  },
  {
   "cell_type": "code",
   "execution_count": 27,
   "id": "4baac14c-ab0e-4bf9-9304-f8d9e74f9956",
   "metadata": {},
   "outputs": [
    {
     "data": {
      "text/plain": [
       "'test-1\\ntest-2\\ntest-3\\n'"
      ]
     },
     "execution_count": 27,
     "metadata": {},
     "output_type": "execute_result"
    }
   ],
   "source": [
    "files.read() # myfile.txt dosyasını assign ettiğimiz files variable'ını read() komutu ile okuyoruz."
   ]
  },
  {
   "cell_type": "code",
   "execution_count": 29,
   "id": "c679f199-dff9-4c40-a5ec-a5c3d57af0b8",
   "metadata": {},
   "outputs": [
    {
     "data": {
      "text/plain": [
       "''"
      ]
     },
     "execution_count": 29,
     "metadata": {},
     "output_type": "execute_result"
    }
   ],
   "source": [
    "files.read() # Tekrardan aynı değişkeni okumaya çalıştığımızda ilk okuma işleminde ifadeleri satır satır okudu.\n",
    "             # Ancak ikinci okuma işleminde dosya imleci ilk okumada sona gelmiş durumda kaldı.\n",
    "             # Ve tekrar okuma işlemi yapamadığı için tekrardan okuması adına ayrı bir işlem yapmamız gerekecektir.(Dosya imlecini başa alma)"
   ]
  },
  {
   "cell_type": "code",
   "execution_count": 32,
   "id": "710eb5ac-a325-445d-b398-34d9e8804ba2",
   "metadata": {},
   "outputs": [
    {
     "data": {
      "text/plain": [
       "0"
      ]
     },
     "execution_count": 32,
     "metadata": {},
     "output_type": "execute_result"
    }
   ],
   "source": [
    "files.seek(0) # Dosya imlecini başa taşır."
   ]
  },
  {
   "cell_type": "code",
   "execution_count": 34,
   "id": "c993f28b-c172-4605-b45b-e00bf7c4db60",
   "metadata": {},
   "outputs": [
    {
     "data": {
      "text/plain": [
       "'test-1\\ntest-2\\ntest-3\\n'"
      ]
     },
     "execution_count": 34,
     "metadata": {},
     "output_type": "execute_result"
    }
   ],
   "source": [
    "files.read()"
   ]
  },
  {
   "cell_type": "code",
   "execution_count": 47,
   "id": "acf51c09-489e-4e75-84b9-0d61256bf086",
   "metadata": {},
   "outputs": [],
   "source": [
    "files.close() # myfile.txt dosyasını assign ettiğimiz files variable'ını close() komutu ile kapatmış oluyoruz."
   ]
  },
  {
   "cell_type": "code",
   "execution_count": null,
   "id": "c892de54-0616-47a3-a13a-917ac8c5bd24",
   "metadata": {},
   "outputs": [],
   "source": []
  },
  {
   "cell_type": "code",
   "execution_count": null,
   "id": "3139649b-9aa0-4d3e-9f3b-f152df2e5709",
   "metadata": {},
   "outputs": [],
   "source": []
  },
  {
   "cell_type": "markdown",
   "id": "22b93ec4-4d43-4d0e-a75a-6ad2208bc410",
   "metadata": {},
   "source": [
    "**Not:**\n",
    "\n",
    "    Python'da seek() yöntemi dosyalarla çalışırken kullanılır ve dosya imlecini (cursor) belirli bir konuma taşır. files.seek(0) ifadesi, dosya imlecini dosyanın başlangıcına taşıyarak okuma ve yazma işlemlerinin baştan başlamasını sağlar.\n",
    "\n",
    "    Ancak yapılan bu işlemler fazlasıyla manuel olduğu için bu işlemler yerine aşağıdaki kod blokunda gösterildiği üzere \"with\" key-word'u tercih edilmektedir."
   ]
  },
  {
   "cell_type": "code",
   "execution_count": null,
   "id": "bac50c7e-271e-44f6-bee5-649b45adfe96",
   "metadata": {},
   "outputs": [],
   "source": []
  },
  {
   "cell_type": "code",
   "execution_count": null,
   "id": "8a402c22-2348-4684-a9cb-ac30aa6a0a7c",
   "metadata": {},
   "outputs": [],
   "source": []
  },
  {
   "cell_type": "markdown",
   "id": "3e817c98-bfae-4273-99d6-e7fba87e7672",
   "metadata": {},
   "source": [
    "### with open()"
   ]
  },
  {
   "cell_type": "code",
   "execution_count": 65,
   "id": "97de57da-b8be-4fe8-a967-f3640967a53e",
   "metadata": {},
   "outputs": [],
   "source": [
    "# with yapısı ile txt dosyası oluşturma ve içerisine yazma işlemi:\n",
    "\n",
    "with open(\"sample.txt\",mode=\"w\") as sample_file:\n",
    "    sample_file.write(\"test-1\\ntest-2\\ntest-3\")"
   ]
  },
  {
   "cell_type": "code",
   "execution_count": 67,
   "id": "edf1a122-2727-4732-b1c2-9c93090a2d4a",
   "metadata": {},
   "outputs": [],
   "source": [
    "# with yapısı ile oluşturulan dosyayı okuma işlemi:\n",
    "\n",
    "with open(\"sample.txt\", mode = \"r\") as sample_file:\n",
    "    my_content = sample_file.read()"
   ]
  },
  {
   "cell_type": "code",
   "execution_count": 69,
   "id": "823b690e-4fea-4456-a87d-83b637cd0ef5",
   "metadata": {},
   "outputs": [
    {
     "data": {
      "text/plain": [
       "'test-1\\ntest-2\\ntest-3'"
      ]
     },
     "execution_count": 69,
     "metadata": {},
     "output_type": "execute_result"
    }
   ],
   "source": [
    "my_content"
   ]
  },
  {
   "cell_type": "code",
   "execution_count": null,
   "id": "09a8a446-7d23-43a8-a00b-92efaf42085c",
   "metadata": {},
   "outputs": [],
   "source": []
  },
  {
   "cell_type": "markdown",
   "id": "ba7e0bfc-15e1-4308-bfe9-3bb0df2ed976",
   "metadata": {},
   "source": [
    "#  w -> write, r->read, a->append"
   ]
  },
  {
   "cell_type": "code",
   "execution_count": 96,
   "id": "2ededd29-83f6-4cd2-8435-e7b1b84968fd",
   "metadata": {},
   "outputs": [
    {
     "name": "stdout",
     "output_type": "stream",
     "text": [
      "Hello World\n",
      "Hello Aliens\n",
      "Hello Guys\n"
     ]
    }
   ],
   "source": [
    "with open(\"sample_csv\", mode = \"w\") as csv_file:\n",
    "    csv_file.write(\"Hello World\\nHello Aliens\")\n",
    "\n",
    "with open(\"sample_csv\", mode = \"r\") as csv_file:\n",
    "    csvFiles = csv_file.read()\n",
    "\n",
    "with open(\"sample_csv\", mode = \"a\") as csv_file:\n",
    "    csv_file.write(\"\\nHello Guys\")\n",
    "\n",
    "with open(\"sample_csv\", mode = \"r\") as csv_file:\n",
    "    csvFiles = csv_file.read()\n",
    "\n",
    "print(f\"{csvFiles}\")"
   ]
  },
  {
   "cell_type": "code",
   "execution_count": null,
   "id": "9d82a8ea-e606-464e-a49e-48d29efec6ab",
   "metadata": {},
   "outputs": [],
   "source": []
  },
  {
   "cell_type": "code",
   "execution_count": 57,
   "id": "d3843b5a-c38d-40a0-bfe6-2c847437bd4f",
   "metadata": {},
   "outputs": [
    {
     "name": "stdout",
     "output_type": "stream",
     "text": [
      "Merhaba Dünya!\n",
      "Merhaba Dünya!\n"
     ]
    }
   ],
   "source": [
    "# Bir dosya oluşturma ve yazma\n",
    "with open('ornek.txt', mode = 'w') as file:\n",
    "    file.write(\"Merhaba Dünya!\")\n",
    "\n",
    "# Dosyayı okuma\n",
    "with open('ornek.txt', 'r') as file:\n",
    "    print(file.read())  # Çıktı: Merhaba Dünya!\n",
    "    file.seek(0)        # Dosya imlecini başlangıca taşır\n",
    "    print(file.read())  # Çıktı: Merhaba Dünya! (Tekrar okur)"
   ]
  },
  {
   "cell_type": "code",
   "execution_count": null,
   "id": "7f127475-c7a6-4dc6-9178-b6ac76a84ada",
   "metadata": {},
   "outputs": [],
   "source": []
  },
  {
   "cell_type": "code",
   "execution_count": null,
   "id": "f8abc61a-51f0-47d3-b033-0652272cccfe",
   "metadata": {},
   "outputs": [],
   "source": []
  },
  {
   "cell_type": "markdown",
   "id": "cb09ed41-c5ad-420d-bcf6-eec996b477a8",
   "metadata": {},
   "source": [
    "## Type Annotations (Tip Açıklamaları)"
   ]
  },
  {
   "cell_type": "markdown",
   "id": "7ea705a0-94cb-4ab3-a6c1-a8cdd72f9209",
   "metadata": {},
   "source": [
    "**Tanım:** \n",
    "Type annotations, Python'da değişkenler, fonksiyon parametreleri ve dönüş türleri için veri tiplerini belirtmenizi sağlayan bir özelliktir. Type annotations, kodun okunabilirliğini artırır ve geliştirme sırasında potansiyel hataları tespit etmeye yardımcı olur."
   ]
  },
  {
   "cell_type": "code",
   "execution_count": 117,
   "id": "5368eec0-1aa5-4547-b691-dbc3e4b55ae1",
   "metadata": {},
   "outputs": [],
   "source": [
    "name : str = \"Mehmet\""
   ]
  },
  {
   "cell_type": "code",
   "execution_count": 119,
   "id": "9e2d5895-b986-4be0-b9ed-4955dbf6f087",
   "metadata": {},
   "outputs": [],
   "source": [
    "age : int = 24"
   ]
  },
  {
   "cell_type": "code",
   "execution_count": 122,
   "id": "09d1db12-6e19-4394-a85c-d0bebe372169",
   "metadata": {},
   "outputs": [],
   "source": [
    "is_student: bool = True"
   ]
  },
  {
   "cell_type": "code",
   "execution_count": null,
   "id": "aa433f12-cec6-4083-8fa1-54dc6ee12475",
   "metadata": {},
   "outputs": [],
   "source": []
  },
  {
   "cell_type": "code",
   "execution_count": 127,
   "id": "1c73ed42-be66-4ef8-8d16-67a32a80399e",
   "metadata": {},
   "outputs": [],
   "source": [
    "def add_numbers(x:int , y:int) -> int:\n",
    "    return x + y"
   ]
  },
  {
   "cell_type": "code",
   "execution_count": 139,
   "id": "6306384b-b8f3-41b0-83cd-8cef93b84735",
   "metadata": {},
   "outputs": [
    {
     "data": {
      "text/plain": [
       "4"
      ]
     },
     "execution_count": 139,
     "metadata": {},
     "output_type": "execute_result"
    }
   ],
   "source": [
    "add_numbers(1,3)"
   ]
  },
  {
   "cell_type": "code",
   "execution_count": null,
   "id": "420f43e3-8f03-4250-af82-c8ec09c07e7c",
   "metadata": {},
   "outputs": [],
   "source": []
  },
  {
   "cell_type": "code",
   "execution_count": 176,
   "id": "1494d91c-043e-40cb-8f88-ec418ef6dd62",
   "metadata": {},
   "outputs": [],
   "source": [
    "def process_value(value: int | str) -> str:\n",
    "    if isinstance(value,int):\n",
    "        return f\"This value have a integer type : {value} \"\n",
    "    else:\n",
    "        return f\"This value does not have a integer type -> {value}\""
   ]
  },
  {
   "cell_type": "code",
   "execution_count": 180,
   "id": "5b598c42-dfdf-4522-8ec3-a9b3babc9b3b",
   "metadata": {},
   "outputs": [
    {
     "data": {
      "text/plain": [
       "'This value have a integer type : 10 '"
      ]
     },
     "execution_count": 180,
     "metadata": {},
     "output_type": "execute_result"
    }
   ],
   "source": [
    "process_value(10)"
   ]
  },
  {
   "cell_type": "code",
   "execution_count": null,
   "id": "a3c845b2-269a-4e6b-80a8-8314d5bbe0e3",
   "metadata": {},
   "outputs": [],
   "source": []
  },
  {
   "cell_type": "code",
   "execution_count": 183,
   "id": "50c2a728-0c86-4617-8370-da72972f465b",
   "metadata": {},
   "outputs": [],
   "source": [
    "#python 3.9 and above\n",
    "from typing import List\n",
    "\n",
    "def sum_list(numbers: List[int]) -> int:\n",
    "    return sum(numbers)\n",
    "\n",
    "numbers = [1, 2, 3, 4]\n",
    "total = sum_list(numbers)"
   ]
  },
  {
   "cell_type": "code",
   "execution_count": null,
   "id": "c15c8bfd-6c6f-4294-86ce-292ac7b558ae",
   "metadata": {},
   "outputs": [],
   "source": []
  },
  {
   "cell_type": "code",
   "execution_count": null,
   "id": "25f935b0-186e-45fd-a845-a055792c4288",
   "metadata": {},
   "outputs": [],
   "source": []
  },
  {
   "cell_type": "code",
   "execution_count": null,
   "id": "5524f7c9-f575-46d6-8e32-27456a511038",
   "metadata": {},
   "outputs": [],
   "source": [
    "from typing import Union\n",
    "\n",
    "def categorize_BMI(bmi: Union[float, int]) -> str:\n",
    "    if bmi < 18.5:\n",
    "        return 'Underweight'\n",
    "    elif 18.5 <= bmi <= 24.9:\n",
    "        return 'Normal weight'\n",
    "    elif 24.9 < bmi <= 29.9:\n",
    "        return 'Overweight'\n",
    "    elif 29.9 < bmi <= 40:\n",
    "        return 'Obese'\n",
    "    else:\n",
    "        return 'Severely Obese'\n",
    "\n",
    "\n",
    "df['BMI_Group'] = df['BMI'].apply(categorize_BMI)"
   ]
  },
  {
   "cell_type": "code",
   "execution_count": null,
   "id": "771df9b6-6de2-485c-adbc-41dda936f8df",
   "metadata": {},
   "outputs": [],
   "source": []
  },
  {
   "cell_type": "code",
   "execution_count": null,
   "id": "5a338917-2a64-40e8-90a2-132562795d68",
   "metadata": {},
   "outputs": [],
   "source": []
  },
  {
   "cell_type": "code",
   "execution_count": null,
   "id": "efcd2883-1f3f-46a8-a853-383e5a7a867d",
   "metadata": {},
   "outputs": [],
   "source": []
  },
  {
   "cell_type": "code",
   "execution_count": null,
   "id": "cbfb35ec-7365-4c88-ad18-05136dea9031",
   "metadata": {},
   "outputs": [],
   "source": []
  }
 ],
 "metadata": {
  "kernelspec": {
   "display_name": "Python 3 (ipykernel)",
   "language": "python",
   "name": "python3"
  },
  "language_info": {
   "codemirror_mode": {
    "name": "ipython",
    "version": 3
   },
   "file_extension": ".py",
   "mimetype": "text/x-python",
   "name": "python",
   "nbconvert_exporter": "python",
   "pygments_lexer": "ipython3",
   "version": "3.12.7"
  }
 },
 "nbformat": 4,
 "nbformat_minor": 5
}
