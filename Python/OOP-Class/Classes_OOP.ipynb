{
 "cells": [
  {
   "cell_type": "markdown",
   "id": "7440ad45-05cd-4ef5-98d7-6ebda1d8eeb3",
   "metadata": {},
   "source": [
    "# Classes-OOP\n",
    "\n",
    "- Aynı amaca hizmet eden fonksiyonları ve değişkenleri gruplamak için kullanılan veri yapısı türüdür.\n",
    "  \n",
    "- class yapısı tanımlanırken isimlendirme büyük harfle başlamalıdır.Eğer class ismi birden fazla kelimeden oluşuyor ise kelimeler arasına herhangi bir işaret ya da boşluk karakteri kullanılmaz ve ikinci kelime de büyük harfle yazılır. -> (PascalCase)\n",
    "  \n",
    "- Sınıf içerisindeki fonksiyonlara **\"metot\"** denir.\n",
    "\n",
    "- Sınıf içerisinde bir fonksiyon tanımlıyorsak parantez içerisine \"self\" anahtar kelimesini yazmamız gerekir."
   ]
  },
  {
   "cell_type": "code",
   "execution_count": null,
   "id": "4056e55f-9700-40de-991c-605c4effc424",
   "metadata": {},
   "outputs": [],
   "source": [
    "# Parantez içerisine yazılan \"object\" ile oluşturduğumuz class yapısının bağlı olduğu üst sınıfı belirtmiş olduk.\n",
    "# Burada \"object\" yazımı opsiyoneldir.\n",
    "# Tanımladığımız sınıf yapısı farklı bir üst sınıfa bağlanmayacaksa object yazmasak da otomatik olarak bu yapıyı object sınıfına bağlayacaktır."
   ]
  },
  {
   "cell_type": "code",
   "execution_count": 57,
   "id": "a147e2de-6315-46f8-9fea-499986debc81",
   "metadata": {},
   "outputs": [],
   "source": [
    "class Animals(object): \n",
    "    pass"
   ]
  },
  {
   "cell_type": "code",
   "execution_count": null,
   "id": "ef3d4724-74ec-4da8-a3ef-da9e7d095863",
   "metadata": {},
   "outputs": [],
   "source": []
  },
  {
   "cell_type": "code",
   "execution_count": null,
   "id": "50f3b475-7254-4c7f-9c44-ceed105d166b",
   "metadata": {},
   "outputs": [],
   "source": []
  },
  {
   "cell_type": "code",
   "execution_count": 89,
   "id": "d2b69204-424c-4a3c-b2a2-7e0c73a86718",
   "metadata": {},
   "outputs": [],
   "source": [
    "class Animals:\n",
    "    name = \"Bird\"\n",
    "    name2 = \"Wolf\""
   ]
  },
  {
   "cell_type": "code",
   "execution_count": 97,
   "id": "8fa0dbc2-93f9-4bc6-b69e-23f304edcd4e",
   "metadata": {},
   "outputs": [
    {
     "name": "stdout",
     "output_type": "stream",
     "text": [
      "Bird\n",
      "Wolf\n"
     ]
    }
   ],
   "source": [
    "print(Animals.name)\n",
    "print(Animals.name2)\n"
   ]
  },
  {
   "cell_type": "markdown",
   "id": "6c64b4e5-9a33-4772-8b9e-870c82ec9d87",
   "metadata": {},
   "source": [
    "### __init__ Fonksiyonu ve self :"
   ]
  },
  {
   "cell_type": "code",
   "execution_count": 60,
   "id": "d5f33382-5583-4a72-aa03-01f511fb6662",
   "metadata": {},
   "outputs": [],
   "source": [
    "class Person():\n",
    "    # property (özellikler) : Python'da property'lerin yazımı opsiyoneldir.\n",
    "    pass\n",
    "\n",
    "    # initializer method ; constructor\n",
    "    def __init__(self,name,age,gender):\n",
    "        self.name = name\n",
    "        self.age = age\n",
    "        self.gender = gender\n",
    "        print(\"Personel information defined\")\n",
    "    # method\n",
    "    def test(self):\n",
    "        print(\"Test completed\")"
   ]
  },
  {
   "cell_type": "code",
   "execution_count": null,
   "id": "6e48ef38-a74a-4f71-8b5c-4733d07bab7e",
   "metadata": {},
   "outputs": [],
   "source": []
  },
  {
   "cell_type": "code",
   "execution_count": 48,
   "id": "1c6b7322-fc75-4a28-9d2d-1839b2efe18c",
   "metadata": {},
   "outputs": [
    {
     "name": "stdout",
     "output_type": "stream",
     "text": [
      "Personel information defined\n"
     ]
    }
   ],
   "source": [
    "person1 = Person(\"Mehmet\",25,\"Male\")"
   ]
  },
  {
   "cell_type": "code",
   "execution_count": 50,
   "id": "3f1877a0-912e-46b7-a80c-551c3c5846f5",
   "metadata": {},
   "outputs": [
    {
     "data": {
      "text/plain": [
       "'Mehmet'"
      ]
     },
     "execution_count": 50,
     "metadata": {},
     "output_type": "execute_result"
    }
   ],
   "source": [
    "person1.name"
   ]
  },
  {
   "cell_type": "code",
   "execution_count": 52,
   "id": "a5d6341f-626a-402c-bc53-852023731d4d",
   "metadata": {},
   "outputs": [
    {
     "data": {
      "text/plain": [
       "25"
      ]
     },
     "execution_count": 52,
     "metadata": {},
     "output_type": "execute_result"
    }
   ],
   "source": [
    "person1.age"
   ]
  },
  {
   "cell_type": "code",
   "execution_count": 58,
   "id": "2881b9af-418a-4391-8c0d-be8b86030456",
   "metadata": {},
   "outputs": [
    {
     "data": {
      "text/plain": [
       "'Male'"
      ]
     },
     "execution_count": 58,
     "metadata": {},
     "output_type": "execute_result"
    }
   ],
   "source": [
    "person1.gender"
   ]
  },
  {
   "cell_type": "code",
   "execution_count": null,
   "id": "70c35ab4-d95e-4c7a-81a9-ec1d33ea8f62",
   "metadata": {},
   "outputs": [],
   "source": []
  },
  {
   "cell_type": "code",
   "execution_count": null,
   "id": "9b59c839-3dfe-4a78-9201-41b3e3515f0c",
   "metadata": {},
   "outputs": [],
   "source": []
  },
  {
   "cell_type": "markdown",
   "id": "fe922dbd-87de-46c1-a8a0-d29f6f9c469e",
   "metadata": {},
   "source": [
    "### Sınıf Örnekleri"
   ]
  },
  {
   "cell_type": "code",
   "execution_count": 12,
   "id": "8260ea7f-2b86-44f8-9c39-05f72fce3c25",
   "metadata": {},
   "outputs": [],
   "source": [
    "class Dog():\n",
    "    year = 7\n",
    "\n",
    "    # constructer\n",
    "    def __init__(self,age):\n",
    "        self.age = age\n",
    "        self.dogHumanAge = age * self.year\n",
    "\n",
    "    # method\n",
    "    def humanAge(self):\n",
    "        return self.age * self.year # self.year yerine Dog.year da kullanılabilir.Ancak self.year yazılması tercih edilmektedir."
   ]
  },
  {
   "cell_type": "code",
   "execution_count": null,
   "id": "88589ba3-fdfa-4a96-a9c1-cc7faa77e3cf",
   "metadata": {},
   "outputs": [],
   "source": []
  },
  {
   "cell_type": "code",
   "execution_count": 93,
   "id": "555e2ed5-12ed-42e8-a709-78f207d7a6c8",
   "metadata": {},
   "outputs": [],
   "source": [
    "myDog = Dog(5)"
   ]
  },
  {
   "cell_type": "code",
   "execution_count": 85,
   "id": "3efa167a-909e-4cf5-8b6f-7f5199f2e864",
   "metadata": {},
   "outputs": [
    {
     "data": {
      "text/plain": [
       "5"
      ]
     },
     "execution_count": 85,
     "metadata": {},
     "output_type": "execute_result"
    }
   ],
   "source": [
    "myDog.age"
   ]
  },
  {
   "cell_type": "code",
   "execution_count": 97,
   "id": "8cd546fb-a5e0-4eed-9f9c-180b464d1c1a",
   "metadata": {},
   "outputs": [
    {
     "data": {
      "text/plain": [
       "35"
      ]
     },
     "execution_count": 97,
     "metadata": {},
     "output_type": "execute_result"
    }
   ],
   "source": [
    "myDog.humanAge()"
   ]
  },
  {
   "cell_type": "code",
   "execution_count": 6,
   "id": "bbe84768-897e-461c-a6c2-cf9228947fe3",
   "metadata": {},
   "outputs": [],
   "source": [
    "yourDog = Dog(7)"
   ]
  },
  {
   "cell_type": "code",
   "execution_count": 18,
   "id": "4570b9f6-1682-4a22-850b-781630aca267",
   "metadata": {},
   "outputs": [
    {
     "data": {
      "text/plain": [
       "49"
      ]
     },
     "execution_count": 18,
     "metadata": {},
     "output_type": "execute_result"
    }
   ],
   "source": [
    "yourDog.dogHumanAge"
   ]
  },
  {
   "cell_type": "code",
   "execution_count": null,
   "id": "5965c556-f00f-4402-b551-39b6ab0329d2",
   "metadata": {},
   "outputs": [],
   "source": []
  },
  {
   "cell_type": "code",
   "execution_count": null,
   "id": "25ac8d64-c910-4cbe-8a83-0785e37fbacb",
   "metadata": {},
   "outputs": [],
   "source": []
  },
  {
   "cell_type": "code",
   "execution_count": 22,
   "id": "144468cb-0273-4ad1-a0e9-d8687bf52dce",
   "metadata": {},
   "outputs": [],
   "source": [
    "class AnimalKingdom():\n",
    "    pass\n",
    "\n",
    "    def __init__(self,species,age,region):\n",
    "        self.species = species\n",
    "        self.age = age\n",
    "        self.region = region\n",
    "\n",
    "    def test(self):\n",
    "        print(\"Animal instanced\")"
   ]
  },
  {
   "cell_type": "code",
   "execution_count": null,
   "id": "b9a35ef9-2c78-4f2a-be0f-2ea5cf736097",
   "metadata": {},
   "outputs": [],
   "source": []
  },
  {
   "cell_type": "code",
   "execution_count": 26,
   "id": "12191d84-a7a8-4c5a-b5fd-2c01709d4474",
   "metadata": {},
   "outputs": [],
   "source": [
    "animal1 = AnimalKingdom(\"Cat\",3,\"Iran\")"
   ]
  },
  {
   "cell_type": "code",
   "execution_count": 38,
   "id": "7458f8ac-2e62-4c1f-829e-091243021a62",
   "metadata": {},
   "outputs": [
    {
     "data": {
      "text/plain": [
       "'Cat'"
      ]
     },
     "execution_count": 38,
     "metadata": {},
     "output_type": "execute_result"
    }
   ],
   "source": [
    "animal1.species"
   ]
  },
  {
   "cell_type": "code",
   "execution_count": 40,
   "id": "5b4e9ff3-06fe-4d83-8266-02ef7b8ad596",
   "metadata": {},
   "outputs": [
    {
     "data": {
      "text/plain": [
       "'Iran'"
      ]
     },
     "execution_count": 40,
     "metadata": {},
     "output_type": "execute_result"
    }
   ],
   "source": [
    "animal1.region"
   ]
  },
  {
   "cell_type": "code",
   "execution_count": 42,
   "id": "2adf161d-a4a8-430b-b0c9-428aececeed2",
   "metadata": {},
   "outputs": [
    {
     "data": {
      "text/plain": [
       "3"
      ]
     },
     "execution_count": 42,
     "metadata": {},
     "output_type": "execute_result"
    }
   ],
   "source": [
    "animal1.age"
   ]
  },
  {
   "cell_type": "code",
   "execution_count": 46,
   "id": "301291e1-10b8-4fc0-94fb-3bf679256a01",
   "metadata": {},
   "outputs": [
    {
     "name": "stdout",
     "output_type": "stream",
     "text": [
      "Animal instanced\n"
     ]
    }
   ],
   "source": [
    "animal1.test()"
   ]
  },
  {
   "cell_type": "code",
   "execution_count": null,
   "id": "4f217dcf-1889-4847-a8ec-3f590fd804e9",
   "metadata": {},
   "outputs": [],
   "source": []
  },
  {
   "cell_type": "code",
   "execution_count": 50,
   "id": "400598ee-4b26-4d91-8365-b1e6691262b3",
   "metadata": {},
   "outputs": [],
   "source": [
    "animal2 = AnimalKingdom(\"Dog\",5,\"UK\")"
   ]
  },
  {
   "cell_type": "code",
   "execution_count": 52,
   "id": "041900ba-7014-447c-a082-1928c77cb934",
   "metadata": {},
   "outputs": [
    {
     "data": {
      "text/plain": [
       "5"
      ]
     },
     "execution_count": 52,
     "metadata": {},
     "output_type": "execute_result"
    }
   ],
   "source": [
    "animal2.age"
   ]
  },
  {
   "cell_type": "code",
   "execution_count": 54,
   "id": "1d3550f4-603a-45e6-a83f-fb9c4db680a5",
   "metadata": {},
   "outputs": [
    {
     "data": {
      "text/plain": [
       "'UK'"
      ]
     },
     "execution_count": 54,
     "metadata": {},
     "output_type": "execute_result"
    }
   ],
   "source": [
    "animal2.region"
   ]
  },
  {
   "cell_type": "code",
   "execution_count": 56,
   "id": "193e9a79-3b0b-4e62-84dd-cf41267ca846",
   "metadata": {},
   "outputs": [
    {
     "data": {
      "text/plain": [
       "'Dog'"
      ]
     },
     "execution_count": 56,
     "metadata": {},
     "output_type": "execute_result"
    }
   ],
   "source": [
    "animal2.species"
   ]
  },
  {
   "cell_type": "markdown",
   "id": "eb4c9778-10ad-4c79-a6e6-5d8449decd9c",
   "metadata": {},
   "source": [
    "animal2.test()"
   ]
  },
  {
   "cell_type": "code",
   "execution_count": null,
   "id": "0e8ba240-dbb4-47a1-8c28-5d4e351d7883",
   "metadata": {},
   "outputs": [],
   "source": []
  },
  {
   "cell_type": "code",
   "execution_count": null,
   "id": "18e77703-4372-4e38-a471-c19db5aa2fbf",
   "metadata": {},
   "outputs": [],
   "source": []
  },
  {
   "cell_type": "markdown",
   "id": "12815a8e-37ed-4fba-8071-58d53f850506",
   "metadata": {},
   "source": [
    "# OOP Fundamentals (Object-Oriented Programming)"
   ]
  },
  {
   "attachments": {
    "8c1d2bbc-0c4d-4f91-ae01-d571d7275444.png": {
     "image/png": "[encoded data removed]"
    }
   },
   "cell_type": "markdown",
   "id": "7654c91d-a888-4c27-ae28-2a93d377c12d",
   "metadata": {},
   "source": [
    "![image.png](attachment:8c1d2bbc-0c4d-4f91-ae01-d571d7275444.png)"
   ]
  },
  {
   "cell_type": "code",
   "execution_count": null,
   "id": "454edbce-78cb-434b-84ff-7c5699a75df3",
   "metadata": {},
   "outputs": [],
   "source": []
  },
  {
   "cell_type": "markdown",
   "id": "97434211-6b7c-4ca1-99b5-070c6b11aefa",
   "metadata": {},
   "source": []
  },
  {
   "cell_type": "markdown",
   "id": "e6827f51-117c-446e-8e72-59568ad13528",
   "metadata": {},
   "source": [
    "## Inheritance (Kalıtım Almak)"
   ]
  },
  {
   "cell_type": "markdown",
   "id": "944f422c-080d-4e81-bb62-b2c891c3f2e9",
   "metadata": {},
   "source": [
    "### Tanım :\n",
    "    \n",
    "    Kalıtım, bir sınıfın (class) başka bir sınıftan özelliklerini (attributes) ve davranışlarını (methods) devralmasıdır. Bu, yeni sınıflar oluştururken kodun yeniden kullanılabilirliğini artırır ve daha organize bir yapı sağlar.\n",
    "\n",
    "    Base (Parent) Class:  Kalıtımın alındığı sınıftır. Temel sınıf, diğer sınıfların devraldığı sınıftır. Örneğin, Hayvan.\n",
    "\n",
    "    Derived (Child) Class: Kalıtım alan sınıftır. Türemiş sınıf, temel sınıfın özelliklerini ve yöntemlerini devralan sınıftır. Örneğin, Kedi, Köpek.\n",
    "\n",
    "    Kalıtım alınan sınıfta yer alan bir metodun Child Class yapısında yeniden tanımlanması ve oluşturulması olayına \"override\" (üzerine yazma) denir."
   ]
  },
  {
   "cell_type": "code",
   "execution_count": null,
   "id": "5a18aaf2-2031-40f1-bbc2-834acd1b2399",
   "metadata": {},
   "outputs": [],
   "source": []
  },
  {
   "cell_type": "code",
   "execution_count": null,
   "id": "256186fa-286a-4892-922a-453c9dca4f33",
   "metadata": {},
   "outputs": [],
   "source": []
  },
  {
   "cell_type": "code",
   "execution_count": 78,
   "id": "421807cf-64d2-4d50-9109-ca34d1f31557",
   "metadata": {},
   "outputs": [],
   "source": [
    "class Hayvan:\n",
    "    # constructer\n",
    "    def __init__(self, isim):\n",
    "        self.isim = isim\n",
    "    # method\n",
    "    def ses_cikar(self):\n",
    "        print(\"Hayvan sesi çıkarıyor\")"
   ]
  },
  {
   "cell_type": "code",
   "execution_count": 82,
   "id": "48f44811-36df-4e33-8acf-8d7315ae0a2a",
   "metadata": {},
   "outputs": [],
   "source": [
    "# Kedi sınıfı, Hayvan sınıfından türetilmiştir.\n",
    "class Kedi(Hayvan):\n",
    "    def ses_cikar(self):\n",
    "        print(\"Miyav\")\n",
    "\n",
    "# Köpek sınıfı, Hayvan sınıfından türetilmiştir.\n",
    "class Kopek(Hayvan):\n",
    "    def ses_cikar(self):\n",
    "        print(\"Hav\")"
   ]
  },
  {
   "cell_type": "code",
   "execution_count": 88,
   "id": "833a5838-da91-4774-8d67-2335ceaecbd5",
   "metadata": {},
   "outputs": [],
   "source": [
    "# Kedi ve Köpek sınıflarının örnekleri oluşturuluyor.\n",
    "kedi = Kedi(\"Minnoş\")\n",
    "kopek = Kopek(\"Karabaş\")"
   ]
  },
  {
   "cell_type": "code",
   "execution_count": 86,
   "id": "c38033d2-f011-40fa-9d43-a4973cf68b3d",
   "metadata": {},
   "outputs": [
    {
     "name": "stdout",
     "output_type": "stream",
     "text": [
      "Miyav\n"
     ]
    }
   ],
   "source": [
    "kedi.ses_cikar()"
   ]
  },
  {
   "cell_type": "code",
   "execution_count": 90,
   "id": "e9758df2-be92-436a-a4f5-3af1cd4c07e9",
   "metadata": {},
   "outputs": [
    {
     "name": "stdout",
     "output_type": "stream",
     "text": [
      "Hav\n"
     ]
    }
   ],
   "source": [
    "kopek.ses_cikar()"
   ]
  },
  {
   "cell_type": "code",
   "execution_count": null,
   "id": "a21e4e6c-051d-4b30-9a05-20635ece0682",
   "metadata": {},
   "outputs": [],
   "source": []
  },
  {
   "cell_type": "code",
   "execution_count": null,
   "id": "c409413c-8734-4aad-b230-ae720da7409e",
   "metadata": {},
   "outputs": [],
   "source": []
  },
  {
   "cell_type": "code",
   "execution_count": 94,
   "id": "8478bcf8-9f76-4fab-b32e-e9401e278613",
   "metadata": {},
   "outputs": [],
   "source": [
    "class Bird():\n",
    "\n",
    "    def __init__(self,species,region):\n",
    "        self.species = species\n",
    "        self.region = region\n",
    "\n",
    "    def make_sound(self):\n",
    "        print(\"Make a sound\")\n",
    "    "
   ]
  },
  {
   "cell_type": "code",
   "execution_count": 96,
   "id": "db52db11-16b6-40fe-abae-9f1c3a914abf",
   "metadata": {},
   "outputs": [],
   "source": [
    "class Pigeon(Bird):\n",
    "    def make_sound(self):\n",
    "        print(\"guuk\")\n",
    "\n",
    "class Sparrow(Bird):\n",
    "    def make_sound(self):\n",
    "        print(\"cikcik\")"
   ]
  },
  {
   "cell_type": "code",
   "execution_count": null,
   "id": "b2ba63ad-7c5b-4cd4-967c-ea5834dcdcf2",
   "metadata": {},
   "outputs": [],
   "source": []
  },
  {
   "cell_type": "code",
   "execution_count": null,
   "id": "6f21c0bc-be9c-4828-a3d5-938d7e5c4aa2",
   "metadata": {},
   "outputs": [],
   "source": []
  },
  {
   "cell_type": "code",
   "execution_count": 100,
   "id": "30c92cb0-75d2-4aca-a7ee-8fde176a831a",
   "metadata": {},
   "outputs": [],
   "source": [
    "kus1 = Sparrow(\"Serçe\",\"İç Anadolu\")"
   ]
  },
  {
   "cell_type": "code",
   "execution_count": 108,
   "id": "b5d04e24-eb1f-4925-9b96-537e2185645e",
   "metadata": {},
   "outputs": [
    {
     "name": "stdout",
     "output_type": "stream",
     "text": [
      "cikcik\n"
     ]
    }
   ],
   "source": [
    "kus1.make_sound()"
   ]
  },
  {
   "cell_type": "code",
   "execution_count": 110,
   "id": "d96bf1fc-bcde-4023-abee-eabb2bc7d03c",
   "metadata": {},
   "outputs": [
    {
     "data": {
      "text/plain": [
       "'Serçe'"
      ]
     },
     "execution_count": 110,
     "metadata": {},
     "output_type": "execute_result"
    }
   ],
   "source": [
    "kus1.species"
   ]
  },
  {
   "cell_type": "code",
   "execution_count": 112,
   "id": "ee1612e4-8f1c-43d6-bfba-40dee42cf64b",
   "metadata": {},
   "outputs": [
    {
     "data": {
      "text/plain": [
       "'İç Anadolu'"
      ]
     },
     "execution_count": 112,
     "metadata": {},
     "output_type": "execute_result"
    }
   ],
   "source": [
    "kus1.region"
   ]
  },
  {
   "cell_type": "code",
   "execution_count": null,
   "id": "846fde75-495a-48fb-a9df-87afc170a9ad",
   "metadata": {},
   "outputs": [],
   "source": []
  },
  {
   "cell_type": "code",
   "execution_count": 114,
   "id": "0223ce47-42c3-4677-bb2d-1dfaab6db626",
   "metadata": {},
   "outputs": [],
   "source": [
    "kus2 = Pigeon(\"Güvercin\",\"Marmara\")"
   ]
  },
  {
   "cell_type": "code",
   "execution_count": 120,
   "id": "2fc1d2b2-3221-4cda-8057-856067f9bc18",
   "metadata": {},
   "outputs": [
    {
     "name": "stdout",
     "output_type": "stream",
     "text": [
      "guuk\n"
     ]
    }
   ],
   "source": [
    "kus2.make_sound()"
   ]
  },
  {
   "cell_type": "code",
   "execution_count": 122,
   "id": "1f85d15d-bced-4fec-bcdc-b80b0ad604d2",
   "metadata": {},
   "outputs": [
    {
     "data": {
      "text/plain": [
       "'Marmara'"
      ]
     },
     "execution_count": 122,
     "metadata": {},
     "output_type": "execute_result"
    }
   ],
   "source": [
    "kus2.region"
   ]
  },
  {
   "cell_type": "code",
   "execution_count": 124,
   "id": "427f4578-600e-42bf-ba52-1848b91b8ff3",
   "metadata": {},
   "outputs": [
    {
     "data": {
      "text/plain": [
       "'Güvercin'"
      ]
     },
     "execution_count": 124,
     "metadata": {},
     "output_type": "execute_result"
    }
   ],
   "source": [
    "kus2.species"
   ]
  },
  {
   "cell_type": "code",
   "execution_count": null,
   "id": "d3850f66-495f-47c6-9f33-cdaca875d5d2",
   "metadata": {},
   "outputs": [],
   "source": []
  },
  {
   "cell_type": "code",
   "execution_count": null,
   "id": "3a8807e5-9d79-444c-bed8-1cca8b3d1337",
   "metadata": {},
   "outputs": [],
   "source": []
  },
  {
   "cell_type": "markdown",
   "id": "25a6aed1-f2e3-45dd-a96f-7e56779dcdb4",
   "metadata": {},
   "source": [
    "## Polymorphism (Çok Biçimlilik)"
   ]
  },
  {
   "cell_type": "markdown",
   "id": "fb2e1689-fbc1-41ad-92ac-2f6ede43ebe0",
   "metadata": {},
   "source": [
    "### Tanım:\n",
    "\n",
    "    Farklı sınıfların ortak bir arayüzü,veya temel sınıfı (Parent Class) paylaşarak kendi özel metotlarını uygulayabilme özelliğidir.Bir yöntemin farklı nesneler için farklı şekillerde çalışabilmesini sağlar.\n",
    "\n",
    "    Yani farklı class yapıları altında, aynı isimle tanımlanan metotların kendi class yapılarında tanımlandığı gibi, her birinin farklı sonuç vermesi durumudur.\n",
    "\n",
    "#### Temel Kavramlar\n",
    "\n",
    "    Arayüz (Interface) veya Temel Sınıf (Base Class): Farklı sınıfların ortak özelliklerini tanımlar.\n",
    "\n",
    "    Override (Yeniden Tanımlama): Türemiş sınıflar, temel sınıfta tanımlanan yöntemleri kendi ihtiyaçlarına göre yeniden tanımlar."
   ]
  },
  {
   "cell_type": "code",
   "execution_count": 133,
   "id": "1475b23f-f931-4fa7-805d-fb538080c890",
   "metadata": {},
   "outputs": [],
   "source": [
    "class Arac:\n",
    "    def hareket(self):\n",
    "        raise NotImplementedError(\"Bu metod alt sınıfta uygulanmalıdır\")\n",
    "\n",
    "class Araba(Arac):\n",
    "    def hareket(self):\n",
    "        return \"Araba yolda gidiyor\"\n",
    "\n",
    "class Bisiklet(Arac):\n",
    "    def hareket(self):\n",
    "        return \"Bisiklet pedallanıyor\"\n",
    "\n",
    "class Ucak(Arac):\n",
    "    def hareket(self):\n",
    "        return \"Uçak havalanıyor\"\n",
    "\n",
    "def arac_hareket(arac):\n",
    "    print(arac.hareket())"
   ]
  },
  {
   "cell_type": "code",
   "execution_count": 135,
   "id": "795fd2d1-9499-433c-a1a7-17bb4f023f0f",
   "metadata": {},
   "outputs": [],
   "source": [
    "# Araba, Bisiklet ve Uçak nesneleri oluşturma\n",
    "araba = Araba()\n",
    "bisiklet = Bisiklet()\n",
    "ucak = Ucak()"
   ]
  },
  {
   "cell_type": "code",
   "execution_count": 137,
   "id": "7d40dbaa-1756-42c3-b708-b1299c64b9cf",
   "metadata": {},
   "outputs": [
    {
     "name": "stdout",
     "output_type": "stream",
     "text": [
      "Araba yolda gidiyor\n",
      "Bisiklet pedallanıyor\n",
      "Uçak havalanıyor\n"
     ]
    }
   ],
   "source": [
    "# Hareket metotlarını test etme\n",
    "arac_hareket(araba)\n",
    "arac_hareket(bisiklet)\n",
    "arac_hareket(ucak)"
   ]
  },
  {
   "cell_type": "code",
   "execution_count": null,
   "id": "3def3c62-a0e8-4078-abfe-3d36bf452e67",
   "metadata": {},
   "outputs": [],
   "source": []
  },
  {
   "cell_type": "code",
   "execution_count": null,
   "id": "e5758e32-bf00-439c-9b90-0caeba1085fa",
   "metadata": {},
   "outputs": [],
   "source": []
  },
  {
   "cell_type": "markdown",
   "id": "d0c6ec0c-86c7-49b9-9f1f-8ccd7eb1b9e7",
   "metadata": {},
   "source": [
    "## Encapsulation (Kapsülleme)"
   ]
  },
  {
   "cell_type": "markdown",
   "id": "53e6eb33-b423-4b6d-9c36-332c581162d8",
   "metadata": {},
   "source": [
    "### **Tanım:**\n",
    "\n",
    "    Kapsülleme (Encapsulation), Nesne Yönelimli Programlama'da (OOP) bir nesnenin veri ve yöntemlerinin dış erişime kapatılması, yalnızca belirlenen yöntemler aracılığıyla erişilebilmesi anlamına gelir. Bu, nesnelerin veri bütünlüğünü korur ve kodun daha güvenli ve esnek olmasını sağlar.\n",
    "\n",
    "#### **Temel Kavramlar:**\n",
    "\n",
    "**Özel (Private) Veri:**\n",
    "    \n",
    "    Nesnenin iç verileri dışarıdan doğrudan erişilemez. Bunun yerine, veriye erişim ve değiştirme yalnızca sınıf içerisindeki yöntemler aracılığıyla sağlanır.\n",
    "\n",
    "**Genel (Public) Yöntemler:**\n",
    "    \n",
    "    Nesnenin verilerine erişim ve manipülasyon için dışarıdan kullanılabilecek yöntemler tanımlanır."
   ]
  },
  {
   "cell_type": "code",
   "execution_count": null,
   "id": "e90809a9-b6a6-4172-95ff-535578a1d495",
   "metadata": {},
   "outputs": [],
   "source": []
  },
  {
   "cell_type": "code",
   "execution_count": 151,
   "id": "db377100-8ce8-4112-aee4-12e3051b43ef",
   "metadata": {},
   "outputs": [],
   "source": [
    "class Araba:\n",
    "    def __init__(self, marka, model, yil):\n",
    "        self.__marka = marka  # Özel değişken (Private variable)\n",
    "        self.__model = model  # Özel değişken (Private variable)\n",
    "        self.__yil = yil      # Özel değişken (Private variable)\n",
    "    \n",
    "    # Genel (Public) yöntem: Marka bilgisine erişim sağlar\n",
    "    def get_marka(self):\n",
    "        return self.__marka\n",
    "    \n",
    "    # Genel (Public) yöntem: Model bilgisine erişim sağlar\n",
    "    def get_model(self):\n",
    "        return self.__model\n",
    "    \n",
    "    # Genel (Public) yöntem: Yıl bilgisine erişim sağlar\n",
    "    def get_yil(self):\n",
    "        return self.__yil\n",
    "    \n",
    "    # Genel (Public) yöntem: Yıl bilgisini günceller\n",
    "    def set_yil(self, yil):\n",
    "        if yil > 1886:  # İlk otomobilin üretim yılına göre basit bir kontrol\n",
    "            self.__yil = yil"
   ]
  },
  {
   "cell_type": "code",
   "execution_count": null,
   "id": "8daafde2-dffa-4383-9c1a-e0809b424806",
   "metadata": {},
   "outputs": [],
   "source": [
    "# Araba nesnesi oluşturma\n",
    "araba = Araba(\"Toyota\", \"Corolla\", 2020)\n",
    "\n",
    "# Özel verilere doğrudan erişim sağlanamaz\n",
    "# print(araba.__marka)  # Hata verir\n",
    "\n",
    "# Genel yöntemler aracılığıyla verilere erişim sağlanır\n",
    "print(araba.get_marka())  # Çıktı: Toyota\n",
    "print(araba.get_model())  # Çıktı: Corolla\n",
    "print(araba.get_yil())    # Çıktı: 2020\n",
    "\n",
    "# Yıl bilgisini güncelleme\n",
    "araba.set_yil(2022)\n",
    "print(araba.get_yil())    # Çıktı: 2022"
   ]
  },
  {
   "cell_type": "code",
   "execution_count": null,
   "id": "0acb3e47-dd8e-4632-aa7a-3c2ecd298166",
   "metadata": {},
   "outputs": [],
   "source": []
  },
  {
   "cell_type": "code",
   "execution_count": null,
   "id": "be8e070f-19d5-46f1-af36-43c5e982b95e",
   "metadata": {},
   "outputs": [],
   "source": []
  },
  {
   "cell_type": "markdown",
   "id": "275e738a-3d01-4586-b134-61a5c6e44c27",
   "metadata": {},
   "source": [
    "# Abstraction (Soyutlama)"
   ]
  },
  {
   "cell_type": "markdown",
   "id": "c84bddc0-9693-43da-afae-56384cad6bb8",
   "metadata": {},
   "source": [
    "#### **Tanım:**\n",
    "\n",
    "    Abstracion (Soyutlama) karmaşık sistemleri daha yönetilebilir hale getirmek için kullanılan OOP'nin 4 ana standardından biridir.Gereksiz detayları gizleyerek önemli bilgilerin öne çıkarılmasını sağlar.Soyutlama, kullanıcının nesnenin nasıl çalıştığını bilmeden sadece ne yaptığını anlamasına olanak tanır."
   ]
  },
  {
   "cell_type": "code",
   "execution_count": 18,
   "id": "da2a09bf-d03b-4e47-aad3-f79cf5b3e036",
   "metadata": {},
   "outputs": [],
   "source": [
    "from abc import ABC, abstractmethod"
   ]
  },
  {
   "cell_type": "code",
   "execution_count": 44,
   "id": "eea7cc2f-b510-4b2c-9f3f-7b3eb33ab72a",
   "metadata": {},
   "outputs": [],
   "source": [
    "class ModelApartment(ABC):\n",
    "    \n",
    "    @abstractmethod\n",
    "    def area(self):\n",
    "        pass\n",
    "    def price(self):\n",
    "        pass"
   ]
  },
  {
   "cell_type": "code",
   "execution_count": null,
   "id": "fa16c8cf-5871-4876-bcd4-82ebfdcbcd04",
   "metadata": {},
   "outputs": [],
   "source": []
  },
  {
   "cell_type": "code",
   "execution_count": 50,
   "id": "2d769a8a-d4bd-4d3a-bdc5-b726f902a43d",
   "metadata": {},
   "outputs": [],
   "source": [
    "class Apartment(ModelApartment):\n",
    "\n",
    "    def area(self,size):\n",
    "        self.size = size\n",
    "        \n",
    "    def price(self,price):\n",
    "        self.price = price"
   ]
  },
  {
   "cell_type": "code",
   "execution_count": null,
   "id": "1dcac1ad-41bc-49f2-bb97-ff8fd59a3f52",
   "metadata": {},
   "outputs": [],
   "source": []
  },
  {
   "cell_type": "code",
   "execution_count": 62,
   "id": "6d70de86-ad36-45cb-a930-fad94bc10321",
   "metadata": {},
   "outputs": [
    {
     "ename": "TypeError",
     "evalue": "Apartment() takes no arguments",
     "output_type": "error",
     "traceback": [
      "\u001b[1;31m---------------------------------------------------------------------------\u001b[0m",
      "\u001b[1;31mTypeError\u001b[0m                                 Traceback (most recent call last)",
      "Cell \u001b[1;32mIn[62], line 1\u001b[0m\n\u001b[1;32m----> 1\u001b[0m apartment1 \u001b[38;5;241m=\u001b[39m Apartment(\u001b[38;5;124m\"\u001b[39m\u001b[38;5;124m150 m2\u001b[39m\u001b[38;5;124m\"\u001b[39m,\u001b[38;5;241m500000\u001b[39m)\n",
      "\u001b[1;31mTypeError\u001b[0m: Apartment() takes no arguments"
     ]
    }
   ],
   "source": [
    "apartment1 = Apartment(\"150 m2\",500000)"
   ]
  },
  {
   "cell_type": "raw",
   "id": "e309db2e-3dfb-4a27-a03b-b3acb0e0caf7",
   "metadata": {},
   "source": [
    "- Bu hatanın sebebi, Apartment sınıfında bir constructor (yapıcı metot) tanımlanmamış olmasıdır. Python'da bir sınıfın bir yapıcı metodu yoksa, sınıf örneklenirken (Apartment(\"150 m2\", 500000)) doğrudan parametre alması mümkün değildir.\n",
    "\n",
    "- Yapılması gereken çözüm: Apartment sınıfına bir __init__ metodu ekleyerek, nesne oluştururken gerekli parametreleri almasını sağlamaktır."
   ]
  },
  {
   "cell_type": "code",
   "execution_count": null,
   "id": "00f8aa17-19f2-464f-86d2-6b4b91fef39d",
   "metadata": {},
   "outputs": [],
   "source": []
  },
  {
   "cell_type": "code",
   "execution_count": 65,
   "id": "2b5cee89-d147-4a80-bbe4-3f70b7336aa3",
   "metadata": {},
   "outputs": [],
   "source": [
    "class Apartment(ModelApartment):\n",
    "\n",
    "    def __init__(self,size,price):\n",
    "        self.size = size\n",
    "        self.price = price\n",
    "\n",
    "    def area(self,size):\n",
    "        self.size = size\n",
    "\n",
    "    def price(self,price):\n",
    "        self.price = price"
   ]
  },
  {
   "cell_type": "code",
   "execution_count": null,
   "id": "13116261-7be8-4753-b897-69273a84270a",
   "metadata": {},
   "outputs": [],
   "source": []
  },
  {
   "cell_type": "code",
   "execution_count": 69,
   "id": "2a325140-ecf2-46e1-8d34-e1cc288ba933",
   "metadata": {},
   "outputs": [],
   "source": [
    "apartment2 = Apartment(\"150 m2\",500000)"
   ]
  },
  {
   "cell_type": "markdown",
   "id": "0884abd6-caf7-4170-b365-2ca1cd49e576",
   "metadata": {},
   "source": [
    "apartment2.area(\"150 m2\")"
   ]
  },
  {
   "cell_type": "code",
   "execution_count": 87,
   "id": "d8ec0804-0d77-43e1-a17e-99ed55022577",
   "metadata": {},
   "outputs": [
    {
     "data": {
      "text/plain": [
       "500000"
      ]
     },
     "execution_count": 87,
     "metadata": {},
     "output_type": "execute_result"
    }
   ],
   "source": [
    "apartment2.price"
   ]
  },
  {
   "cell_type": "code",
   "execution_count": 89,
   "id": "72423448-9873-4513-9b29-79b710f76a75",
   "metadata": {},
   "outputs": [
    {
     "data": {
      "text/plain": [
       "'150 m2'"
      ]
     },
     "execution_count": 89,
     "metadata": {},
     "output_type": "execute_result"
    }
   ],
   "source": [
    "apartment2.size"
   ]
  },
  {
   "cell_type": "code",
   "execution_count": null,
   "id": "9aff0476-0d08-4122-bc68-36ed3c02e8bd",
   "metadata": {},
   "outputs": [],
   "source": []
  },
  {
   "cell_type": "code",
   "execution_count": null,
   "id": "32aca551-b2f7-4f02-8d11-83cd568bbea2",
   "metadata": {},
   "outputs": [],
   "source": []
  },
  {
   "cell_type": "markdown",
   "id": "78b65776-a24e-46b5-8967-b1cee3c641be",
   "metadata": {},
   "source": [
    "## Özel Methodlar"
   ]
  },
  {
   "cell_type": "code",
   "execution_count": 141,
   "id": "13ea1c76-6621-4f5c-aa8c-2bb460947350",
   "metadata": {},
   "outputs": [],
   "source": [
    "class Cars():\n",
    "    def __init__(self,brand,model,price):\n",
    "        self.brand = brand\n",
    "        self.model = model\n",
    "        self.price = price\n",
    "\n",
    "    def __str__(self):\n",
    "        return f\"{self.brand} {self.model} : {self.price} €\""
   ]
  },
  {
   "cell_type": "code",
   "execution_count": null,
   "id": "5b18aca3-9486-47a1-b83a-0c74c3eb226b",
   "metadata": {},
   "outputs": [],
   "source": []
  },
  {
   "cell_type": "code",
   "execution_count": 147,
   "id": "3bf430f9-1aa2-4117-ad4a-e3070f83c147",
   "metadata": {},
   "outputs": [
    {
     "data": {
      "text/plain": [
       "'AUDI'"
      ]
     },
     "execution_count": 147,
     "metadata": {},
     "output_type": "execute_result"
    }
   ],
   "source": [
    "car1.brand"
   ]
  },
  {
   "cell_type": "code",
   "execution_count": 149,
   "id": "0fb8b698-e853-4f7a-9e96-21510ec7ccf4",
   "metadata": {},
   "outputs": [
    {
     "data": {
      "text/plain": [
       "'A3'"
      ]
     },
     "execution_count": 149,
     "metadata": {},
     "output_type": "execute_result"
    }
   ],
   "source": [
    "car1.model"
   ]
  },
  {
   "cell_type": "code",
   "execution_count": 151,
   "id": "cd672989-78b7-4ef5-b25f-14df336f17a8",
   "metadata": {},
   "outputs": [
    {
     "data": {
      "text/plain": [
       "30000"
      ]
     },
     "execution_count": 151,
     "metadata": {},
     "output_type": "execute_result"
    }
   ],
   "source": [
    "car1.price"
   ]
  },
  {
   "cell_type": "code",
   "execution_count": null,
   "id": "4ca315ca-e0e0-4b84-acc0-d4597d9b04f9",
   "metadata": {},
   "outputs": [],
   "source": []
  },
  {
   "cell_type": "code",
   "execution_count": 143,
   "id": "6004d3bb-f483-45b0-b93e-7338f3dcefd1",
   "metadata": {},
   "outputs": [],
   "source": [
    "car1 = Cars(\"AUDI\",\"A3\",30000)"
   ]
  },
  {
   "cell_type": "code",
   "execution_count": 145,
   "id": "61d4aec9-6ab9-4f7e-8ad4-6fe058bb86e0",
   "metadata": {},
   "outputs": [
    {
     "name": "stdout",
     "output_type": "stream",
     "text": [
      "AUDI A3 : 30000 €\n"
     ]
    }
   ],
   "source": [
    "print(car1)"
   ]
  },
  {
   "cell_type": "code",
   "execution_count": null,
   "id": "3e2e2ee0-e2b4-4302-8733-f1bbcdd35f84",
   "metadata": {},
   "outputs": [],
   "source": []
  },
  {
   "cell_type": "code",
   "execution_count": null,
   "id": "e5d5f91d-f105-472b-b33e-7e36657a184a",
   "metadata": {},
   "outputs": [],
   "source": []
  },
  {
   "cell_type": "code",
   "execution_count": 156,
   "id": "e97074fd-fd03-43c5-8707-7ec2263f93a4",
   "metadata": {},
   "outputs": [],
   "source": [
    "car2 = Cars(\"Chery\",\"Tiggo 8 Pro Max\",50000)"
   ]
  },
  {
   "cell_type": "code",
   "execution_count": 158,
   "id": "ca353525-078f-4e3b-99f4-cddfbbea8e22",
   "metadata": {},
   "outputs": [
    {
     "data": {
      "text/plain": [
       "'Chery'"
      ]
     },
     "execution_count": 158,
     "metadata": {},
     "output_type": "execute_result"
    }
   ],
   "source": [
    "car2.brand"
   ]
  },
  {
   "cell_type": "code",
   "execution_count": 170,
   "id": "c8f06c66-ced4-4f03-9c92-2300fc2ce599",
   "metadata": {},
   "outputs": [
    {
     "data": {
      "text/plain": [
       "'Tiggo 8 Pro Max'"
      ]
     },
     "execution_count": 170,
     "metadata": {},
     "output_type": "execute_result"
    }
   ],
   "source": [
    "car2.model"
   ]
  },
  {
   "cell_type": "code",
   "execution_count": 172,
   "id": "ba21226d-fefd-41cf-bbf0-95d84a780e66",
   "metadata": {},
   "outputs": [
    {
     "data": {
      "text/plain": [
       "50000"
      ]
     },
     "execution_count": 172,
     "metadata": {},
     "output_type": "execute_result"
    }
   ],
   "source": [
    "car2.price"
   ]
  },
  {
   "cell_type": "code",
   "execution_count": 174,
   "id": "da4bbfb8-4a52-4f6b-acdb-20624b4cea89",
   "metadata": {},
   "outputs": [
    {
     "name": "stdout",
     "output_type": "stream",
     "text": [
      "Chery Tiggo 8 Pro Max : 50000 €\n"
     ]
    }
   ],
   "source": [
    "print(car2)"
   ]
  },
  {
   "cell_type": "code",
   "execution_count": null,
   "id": "36e5c6b8-eef1-4427-9069-55669aa36ff5",
   "metadata": {},
   "outputs": [],
   "source": []
  },
  {
   "cell_type": "code",
   "execution_count": null,
   "id": "33b4a6e3-27ad-49c8-b7e3-702f6dc9373d",
   "metadata": {},
   "outputs": [],
   "source": []
  },
  {
   "cell_type": "code",
   "execution_count": null,
   "id": "fae8e652-aa4a-4547-9067-3c1b46c72ddd",
   "metadata": {},
   "outputs": [],
   "source": []
  },
  {
   "cell_type": "code",
   "execution_count": null,
   "id": "3dfb39ff-a7d2-4873-ba44-5a509e9ea63a",
   "metadata": {},
   "outputs": [],
   "source": []
  }
 ],
 "metadata": {
  "kernelspec": {
   "display_name": "Python 3 (ipykernel)",
   "language": "python",
   "name": "python3"
  },
  "language_info": {
   "codemirror_mode": {
    "name": "ipython",
    "version": 3
   },
   "file_extension": ".py",
   "mimetype": "text/x-python",
   "name": "python",
   "nbconvert_exporter": "python",
   "pygments_lexer": "ipython3",
   "version": "3.12.7"
  }
 },
 "nbformat": 4,
 "nbformat_minor": 5
}
