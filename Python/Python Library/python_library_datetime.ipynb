{
 "cells": [
  {
   "cell_type": "markdown",
   "id": "ba4021d2-902c-48f7-8d9c-2e5ff525daf4",
   "metadata": {},
   "source": [
    "# datetime"
   ]
  },
  {
   "cell_type": "markdown",
   "id": "1c37d17b-0b3f-44cb-9327-e2dcdbf0bc76",
   "metadata": {},
   "source": [
    "Python'da datetime kütüphanesi **tarih ve saatlerle işlem yapmak için** güçlü araçlar sunar.datetime kütüphanesini kullanarak **tarih ve saatleri oluşturma,hesaplama,formatlama ve karşılaştırma** gibi birçok işlem yapılabilir."
   ]
  },
  {
   "cell_type": "markdown",
   "id": "bf2be8bf-71ef-4f54-8f8a-b8382c7804dc",
   "metadata": {},
   "source": [
    "### 1.datetime ve date Nesneleri Oluşturma:"
   ]
  },
  {
   "cell_type": "code",
   "execution_count": 181,
   "id": "23369a95-c1e2-4ff8-aeed-5b3c14a608c0",
   "metadata": {},
   "outputs": [
    {
     "name": "stdout",
     "output_type": "stream",
     "text": [
      "Bugünün tarihi ve saati : 2025-01-10 17:41:43.821152\n"
     ]
    }
   ],
   "source": [
    "from datetime import datetime, date\n",
    "simdi = datetime.now()\n",
    "print(f\"Bugünün tarihi ve saati : {simdi}\")"
   ]
  },
  {
   "cell_type": "code",
   "execution_count": 125,
   "id": "6d784ea4-d443-4d2d-9817-b4b968d4004c",
   "metadata": {},
   "outputs": [
    {
     "name": "stdout",
     "output_type": "stream",
     "text": [
      "Bugünün tarihi : 2025-01-10\n"
     ]
    }
   ],
   "source": [
    "bugun = date.today()\n",
    "print(f\"Bugünün tarihi : {bugun}\")"
   ]
  },
  {
   "cell_type": "code",
   "execution_count": 156,
   "id": "8e368403-ddad-4dea-9750-f14be5b75824",
   "metadata": {},
   "outputs": [
    {
     "name": "stdout",
     "output_type": "stream",
     "text": [
      "2025-12-30 17:00:00\n"
     ]
    }
   ],
   "source": [
    "belirli_tarih = datetime(2025, 12, 30, 17,00)\n",
    "print(belirli_tarih)"
   ]
  },
  {
   "cell_type": "code",
   "execution_count": null,
   "id": "998bd386-b787-4f74-a46e-4048f93a8998",
   "metadata": {},
   "outputs": [],
   "source": []
  },
  {
   "cell_type": "code",
   "execution_count": null,
   "id": "c7e31382-3ff8-4f54-9bae-424b0c2a311f",
   "metadata": {},
   "outputs": [],
   "source": []
  },
  {
   "cell_type": "markdown",
   "id": "1f04bc24-fec6-45d3-921b-4e823e689246",
   "metadata": {},
   "source": [
    "### 2. Tarih ve Saat Formatlama"
   ]
  },
  {
   "cell_type": "code",
   "execution_count": 158,
   "id": "733c5419-7452-418c-9cef-12b83a8c081b",
   "metadata": {},
   "outputs": [
    {
     "name": "stdout",
     "output_type": "stream",
     "text": [
      "Formatlı tarih ve saat: 2025-01-10 17:13:18\n"
     ]
    }
   ],
   "source": [
    "# Tarih ve saati belirli bir formatta yazdırma\n",
    "formatli_tarih = simdi.strftime(\"%Y-%m-%d %H:%M:%S\")\n",
    "print(\"Formatlı tarih ve saat:\", formatli_tarih)\n",
    "\n",
    "# Tarih ve saate göre formatlama kılavuzuna göz atın:\n",
    "# %Y: Yıl (dört basamaklı)\n",
    "# %m: Ay (iki basamaklı)\n",
    "# %d: Gün (iki basamaklı)\n",
    "# %H: Saat (24 saatlik format)\n",
    "# %M: Dakika\n",
    "# %S: Saniye"
   ]
  },
  {
   "cell_type": "code",
   "execution_count": null,
   "id": "4853c2b0-1396-4892-870c-bba4e6e76d3b",
   "metadata": {},
   "outputs": [],
   "source": []
  },
  {
   "cell_type": "code",
   "execution_count": null,
   "id": "708989e0-2bdb-4fe2-b6cd-fa02cdbb7019",
   "metadata": {},
   "outputs": [],
   "source": []
  },
  {
   "cell_type": "markdown",
   "id": "95d72095-01d2-4220-882a-fa94a7b43311",
   "metadata": {},
   "source": [
    "### 2.1 Tarih ve Saat Parse Etmek:"
   ]
  },
  {
   "cell_type": "markdown",
   "id": "38038c75-756e-4832-87be-156c4afb26c3",
   "metadata": {},
   "source": [
    "\"Parse etmek\" terimi, belirli bir veri formatını veya yapısını analiz etmek ve bu veriyi belirli bir düzene çevirmek anlamına gelir. Bilgisayar bilimi ve programlamada, parse işlemi genellikle metin veya veri dosyalarını okunabilir ve anlaşılır bir formata dönüştürmek için kullanılır. Parserlar, bu işlemi gerçekleştiren programlar veya fonksiyonlardır.\n",
    "\n",
    "Örneğin, bir tarihin belirli bir formatta olup olmadığını kontrol etmek ve bu tarihi yıl, ay, gün gibi bileşenlere ayırmak parse işlemine örnek verilebilir.\n",
    "\n",
    "Örnek Python kodunda datetime.strptime fonksiyonunu kullanarak, kullanıcı tarafından girilen bir tarihi parse edebiliriz. Bu fonksiyon, girdiyi analiz eder ve tarih bileşenlerine ayırır. İşte bir örnek:"
   ]
  },
  {
   "cell_type": "code",
   "execution_count": 172,
   "id": "f323192e-21a3-4522-97c8-25b5ae83bb88",
   "metadata": {},
   "outputs": [
    {
     "name": "stdout",
     "output_type": "stream",
     "text": [
      "Gün: 10, Ay: 1, Yıl: 2025\n"
     ]
    }
   ],
   "source": [
    "from datetime import datetime\n",
    "\n",
    "# Bir tarihi parse etme\n",
    "tarih = \"10/01/2025\"\n",
    "parsed_tarih = datetime.strptime(tarih, \"%d/%m/%Y\")\n",
    "\n",
    "# Parse edilen tarih bilgilerini yazdırma\n",
    "print(f\"Gün: {parsed_tarih.day}, Ay: {parsed_tarih.month}, Yıl: {parsed_tarih.year}\")"
   ]
  },
  {
   "cell_type": "code",
   "execution_count": null,
   "id": "d24521c6-01bf-465e-8dc4-cbfe58d31b05",
   "metadata": {},
   "outputs": [],
   "source": []
  },
  {
   "cell_type": "code",
   "execution_count": null,
   "id": "36e07834-7a7e-466f-9b93-5ea5aa5960a1",
   "metadata": {},
   "outputs": [],
   "source": []
  },
  {
   "cell_type": "markdown",
   "id": "a5ba8078-386b-4747-b290-59f834706c8c",
   "metadata": {},
   "source": [
    "### 3. Tarih ve Saat Hesaplamaları"
   ]
  },
  {
   "cell_type": "code",
   "execution_count": 160,
   "id": "b5515fc7-b722-419b-b7e1-528ab6a4c835",
   "metadata": {},
   "outputs": [
    {
     "name": "stdout",
     "output_type": "stream",
     "text": [
      "Tarih farkı: 353 gün\n",
      "10 gün sonrası: 2025-01-20 17:13:18.068186\n",
      "Saat farkı: 0 saat\n"
     ]
    }
   ],
   "source": [
    "from datetime import timedelta\n",
    "\n",
    "# İki tarih arasındaki farkı hesaplama\n",
    "fark = belirli_tarih - simdi\n",
    "print(\"Tarih farkı:\", fark.days, \"gün\")\n",
    "\n",
    "# Belirli bir tarih ve saat ekleme veya çıkarma\n",
    "yeni_tarih = simdi + timedelta(days=10)\n",
    "print(\"10 gün sonrası:\", yeni_tarih)\n",
    "\n",
    "# Saat farkı hesaplama\n",
    "saat_farki = belirli_tarih.hour - simdi.hour\n",
    "print(\"Saat farkı:\", saat_farki, \"saat\")\n"
   ]
  },
  {
   "cell_type": "code",
   "execution_count": null,
   "id": "fb99389b-0f8a-4f73-b809-f5cc7ff5a9dd",
   "metadata": {},
   "outputs": [],
   "source": []
  },
  {
   "cell_type": "code",
   "execution_count": null,
   "id": "c271e373-485e-4c66-a221-3314dd51cc7a",
   "metadata": {},
   "outputs": [],
   "source": []
  },
  {
   "cell_type": "markdown",
   "id": "5ab2baeb-4535-4149-8b92-f4b458e324c6",
   "metadata": {},
   "source": [
    "### 4. Tarih ve Saati Karşılaştırma"
   ]
  },
  {
   "cell_type": "code",
   "execution_count": 163,
   "id": "8eba904f-03f9-4551-8fdd-124325832945",
   "metadata": {},
   "outputs": [
    {
     "name": "stdout",
     "output_type": "stream",
     "text": [
      "Belirli tarih gelecekte.\n"
     ]
    }
   ],
   "source": [
    "# İki tarih ve saat karşılaştırma\n",
    "if belirli_tarih > simdi:\n",
    "    print(\"Belirli tarih gelecekte.\")\n",
    "else:\n",
    "    print(\"Belirli tarih geçmişte.\")"
   ]
  },
  {
   "cell_type": "code",
   "execution_count": null,
   "id": "196c2a83-117e-4c05-84ae-ba3c7d3f9515",
   "metadata": {},
   "outputs": [],
   "source": []
  },
  {
   "cell_type": "code",
   "execution_count": null,
   "id": "bd6b927e-7f4b-4a69-b080-2f38d908ce90",
   "metadata": {},
   "outputs": [],
   "source": []
  },
  {
   "cell_type": "code",
   "execution_count": null,
   "id": "53adcd81-8952-48cc-ab3b-2023fc069ec1",
   "metadata": {},
   "outputs": [],
   "source": []
  },
  {
   "cell_type": "code",
   "execution_count": null,
   "id": "3a47edbf-8fa9-4af4-b0c8-8f64531d9967",
   "metadata": {},
   "outputs": [],
   "source": []
  }
 ],
 "metadata": {
  "kernelspec": {
   "display_name": "Python 3 (ipykernel)",
   "language": "python",
   "name": "python3"
  },
  "language_info": {
   "codemirror_mode": {
    "name": "ipython",
    "version": 3
   },
   "file_extension": ".py",
   "mimetype": "text/x-python",
   "name": "python",
   "nbconvert_exporter": "python",
   "pygments_lexer": "ipython3",
   "version": "3.12.7"
  }
 },
 "nbformat": 4,
 "nbformat_minor": 5
}
