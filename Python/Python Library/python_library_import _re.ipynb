{
 "cells": [
  {
   "cell_type": "markdown",
   "id": "d4d7882f-78e8-40b6-88b6-cf66e1b6d375",
   "metadata": {},
   "source": [
    "# import re"
   ]
  },
  {
   "cell_type": "raw",
   "id": "978ba6e8-3ebf-4c81-b81b-a51cf7dd4ff0",
   "metadata": {},
   "source": [
    "Pythond'da re Kütüphanesi, düzenli ifadelerle(regular expressions) çalışmayı sağlayan bir modüldür.\n",
    "Düzenli ifadeler, metin içerisinde belirli desenleri(pattern),ifadeleri aramak, değiştirmek veya doğrulamak kullanılır.\n",
    "\n",
    "re modülü ile;\n",
    "- desen arama\n",
    "- metin parçalarını değiştirme\n",
    "- belirli bir metnin belirli bir deseni takip edip etmediği kontrol edilebilir."
   ]
  },
  {
   "cell_type": "code",
   "execution_count": null,
   "id": "ed072909-ade6-425b-afeb-12f6102ee629",
   "metadata": {},
   "outputs": [],
   "source": []
  },
  {
   "cell_type": "markdown",
   "id": "6c9d7af6-5660-44cc-ba0f-7a89db1e8465",
   "metadata": {},
   "source": [
    "### re Modülünün Ana Fonksiyonları"
   ]
  },
  {
   "cell_type": "markdown",
   "id": "2ff7b116-2d4c-46b6-8cf7-963ad8070555",
   "metadata": {},
   "source": [
    "### re.search"
   ]
  },
  {
   "cell_type": "markdown",
   "id": "37e6f038-5dbd-4ddf-bf49-ec238856baf1",
   "metadata": {},
   "source": [
    "Bir metin içinde belirli bir deseni arar. İlk eşleşmeyi bulur ve bir Match nesnesi döner.\n",
    "\n",
    "**Match Nesnesi Nedir?**\n",
    "\n",
    "re.search() veya benzeri bir fonksiyon, bir eşleşme bulursa bir Match nesnesi döndürür.\n",
    "Bu nesne, eşleşme hakkında bilgi içerir:\n",
    "- Hangi metin parçasının eşleştiği.\n",
    "- Bu eşleşmenin metindeki konumu (başlangıç ve bitiş).\n",
    "- Gerekirse eşleşmenin gruplandırılmış bölümleri.\n",
    "\n",
    "**group() Fonksiyonunun Görevi**\n",
    "\n",
    "group(), eşleşen metin parçasını döndürür.\n",
    "Yani, düzenli ifadeyle belirlenen desene tam olarak uyan kısmı alabilirsiniz."
   ]
  },
  {
   "cell_type": "code",
   "execution_count": 52,
   "id": "cbf198fe-bf9d-4ba2-a503-29635c7ad6ca",
   "metadata": {},
   "outputs": [
    {
     "name": "stdout",
     "output_type": "stream",
     "text": [
      "<re.Match object; span=(11, 13), match='11'>\n",
      "11\n"
     ]
    }
   ],
   "source": [
    "import re\n",
    "result_search = re.search(r'\\d+',\"Hello World11\")\n",
    "print(result_search)\n",
    "print(result_search.group())"
   ]
  },
  {
   "cell_type": "code",
   "execution_count": null,
   "id": "e0069cd0-1dd7-483c-8e36-eed3a0e78166",
   "metadata": {},
   "outputs": [],
   "source": []
  },
  {
   "cell_type": "code",
   "execution_count": null,
   "id": "ed97b3a1-c862-4a1b-9464-612a7ddbda1c",
   "metadata": {},
   "outputs": [],
   "source": []
  },
  {
   "cell_type": "markdown",
   "id": "261cb78a-b348-427d-99ef-cddadc943e2a",
   "metadata": {},
   "source": [
    "### re.match()\n",
    "\n",
    "**Metnin başlangıcında** belirli bir deseni arar. **Yalnızca baştan eşleşirse sonuç döner.**"
   ]
  },
  {
   "cell_type": "code",
   "execution_count": 54,
   "id": "d5d53220-7cd7-4c89-bb83-6357ca0b2ae9",
   "metadata": {},
   "outputs": [
    {
     "name": "stdout",
     "output_type": "stream",
     "text": [
      "<re.Match object; span=(0, 5), match='Hello'>\n",
      "Hello\n"
     ]
    }
   ],
   "source": [
    "import re\n",
    "result_match = re.match(r\"Hello\",\"Hello Python\")\n",
    "print(result_match)\n",
    "print(result_match.group())"
   ]
  },
  {
   "cell_type": "code",
   "execution_count": null,
   "id": "7cefe6ca-a784-4ee6-bebf-e377a30bf0fa",
   "metadata": {},
   "outputs": [],
   "source": []
  },
  {
   "cell_type": "code",
   "execution_count": null,
   "id": "0d3b1fcc-83b0-4a2f-b70b-47975a0d7464",
   "metadata": {},
   "outputs": [],
   "source": []
  },
  {
   "cell_type": "markdown",
   "id": "0a287d47-329c-4fb5-b04c-aa3ec8c55066",
   "metadata": {},
   "source": [
    "### re.findall()\n",
    "\n",
    "Metin içerisinde **desene uyan tüm eşleşmeleri bir liste olarak** döndürür."
   ]
  },
  {
   "cell_type": "code",
   "execution_count": 66,
   "id": "15d659a2-dc49-4482-8639-c20b7b9ae5b7",
   "metadata": {},
   "outputs": [
    {
     "name": "stdout",
     "output_type": "stream",
     "text": [
      "['06', '01', '2025']\n"
     ]
    }
   ],
   "source": [
    "import re\n",
    "result_findall = re.findall(r\"\\d+\",\"Bugünün tarihi: 06/01/2025\")\n",
    "print(result_findall)"
   ]
  },
  {
   "cell_type": "code",
   "execution_count": null,
   "id": "122ec579-1f81-4d42-b73f-6d43675f0a25",
   "metadata": {},
   "outputs": [],
   "source": []
  },
  {
   "cell_type": "code",
   "execution_count": null,
   "id": "20143f25-d0c8-4e66-9180-9ef94d30a146",
   "metadata": {},
   "outputs": [],
   "source": []
  },
  {
   "cell_type": "markdown",
   "id": "3085aa3a-0f2c-4bcf-b4b5-5a20c3d0fe79",
   "metadata": {},
   "source": [
    "### re.sub()\n",
    "\n",
    "Metin içerisinde desene uyan yerleri, **belirttiğimiz öğeyle değiştirir.**"
   ]
  },
  {
   "cell_type": "code",
   "execution_count": 73,
   "id": "bc4a5a5f-7a28-4b8d-ad63-c24c08d32901",
   "metadata": {},
   "outputs": [
    {
     "name": "stdout",
     "output_type": "stream",
     "text": [
      "Bugünün tarihi: .../.../...\n"
     ]
    }
   ],
   "source": [
    "import re\n",
    "result_sub = re.sub(r\"\\d+\",\"...\",\"Bugünün tarihi: 06/01/2025\")\n",
    "print(result_sub)"
   ]
  },
  {
   "cell_type": "code",
   "execution_count": null,
   "id": "045ce060-9bcb-4895-8d1e-8cf243672d79",
   "metadata": {},
   "outputs": [],
   "source": []
  },
  {
   "cell_type": "code",
   "execution_count": null,
   "id": "6f52b43d-cb2b-4b67-826f-64d027193a3f",
   "metadata": {},
   "outputs": [],
   "source": []
  },
  {
   "cell_type": "markdown",
   "id": "bf5f65ab-c651-4490-91fd-8717f24f5d09",
   "metadata": {},
   "source": [
    "### re.split()\n",
    "\n",
    "Bir desene göre **metni böler** ve sonuç olarak bölünmüş elemanlardan oluşan bir **liste döndürür.**"
   ]
  },
  {
   "cell_type": "code",
   "execution_count": 100,
   "id": "e4c2657e-199e-4565-b400-7fb1ce6f94b6",
   "metadata": {},
   "outputs": [
    {
     "name": "stdout",
     "output_type": "stream",
     "text": [
      "['Pyth', 'n, ', '', 'P anlayışıyla ', 'luşturulmuş bir pr', 'gramlama dilidir.']\n"
     ]
    }
   ],
   "source": [
    "import re\n",
    "result_split = re.split(r\"[oO]\",\"Python, OOP anlayışıyla oluşturulmuş bir programlama dilidir.\")\n",
    "print(result_split)"
   ]
  },
  {
   "cell_type": "code",
   "execution_count": null,
   "id": "a0eb333b-02f2-4446-af38-fa4b96c9702c",
   "metadata": {},
   "outputs": [],
   "source": []
  },
  {
   "cell_type": "code",
   "execution_count": null,
   "id": "39e8fa6a-52b4-4851-b786-4375265c0e34",
   "metadata": {},
   "outputs": [],
   "source": []
  },
  {
   "cell_type": "markdown",
   "id": "8f7a2f19-4fc3-4923-9b4c-60d85181c7f8",
   "metadata": {},
   "source": [
    "### Düzenli İfade Karakterleri:\n",
    "- \\d: Rakam (0-9)\n",
    "  \n",
    "- \\w: Harf, rakam veya alt çizgi (alfa-nümerik)\n",
    "\n",
    "- \\s: Boşluk (space, tab vb.)\n",
    "\n",
    "- .: Herhangi bir karakter\n",
    "\n",
    "- *: Önceki karakterin 0 veya daha fazla tekrarı\n",
    "  \n",
    "- +: Önceki karakterin 1 veya daha fazla tekrarı\n",
    "\n",
    "- ?: Önceki karakterin 0 veya 1 tekrarı\n",
    "\n",
    "- {n}: Önceki karakterin tam olarak n kere tekrarı\n",
    "\n",
    "- [abc]: Belirtilen karakterlerden biri\n",
    "\n",
    "- [^abc]: Belirtilmeyen karakterlerden biri"
   ]
  },
  {
   "cell_type": "code",
   "execution_count": null,
   "id": "fd53125e-6d33-481c-9c19-f5bde44e6046",
   "metadata": {},
   "outputs": [],
   "source": []
  },
  {
   "cell_type": "code",
   "execution_count": null,
   "id": "279c055c-b335-47f3-b37e-4195e75e2f84",
   "metadata": {},
   "outputs": [],
   "source": []
  },
  {
   "cell_type": "code",
   "execution_count": null,
   "id": "644d9bc8-5be3-45ae-af65-8133112eeff7",
   "metadata": {},
   "outputs": [],
   "source": []
  },
  {
   "cell_type": "code",
   "execution_count": null,
   "id": "d3ebfbcd-3bbe-44c0-82b7-74b59177a1ad",
   "metadata": {},
   "outputs": [],
   "source": []
  }
 ],
 "metadata": {
  "kernelspec": {
   "display_name": "Python 3 (ipykernel)",
   "language": "python",
   "name": "python3"
  },
  "language_info": {
   "codemirror_mode": {
    "name": "ipython",
    "version": 3
   },
   "file_extension": ".py",
   "mimetype": "text/x-python",
   "name": "python",
   "nbconvert_exporter": "python",
   "pygments_lexer": "ipython3",
   "version": "3.12.7"
  }
 },
 "nbformat": 4,
 "nbformat_minor": 5
}
