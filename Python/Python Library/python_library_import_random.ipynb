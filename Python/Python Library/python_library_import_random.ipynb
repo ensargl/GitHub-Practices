{
 "cells": [
  {
   "cell_type": "markdown",
   "metadata": {},
   "source": [
    "### random Modulü:\n",
    "\n",
    "- Eğer yazacağımız programda belirli bir aralıkta rastgele sayı üretimine ihtiyaç duyuluyorsa bunu random modulünü kullanarak yapacağız.\n",
    "- Bu modulü kullanmak için ilk önce modulü \"import random\" ile içe aktarmamız gerekecektir."
   ]
  },
  {
   "cell_type": "markdown",
   "metadata": {},
   "source": [
    "**random.random()**\n",
    "- random modulünün random() fonksiyonunu kullanarak 0.0 ile 1.0 arasında rastgele kayan bir sayı üretir\n",
    "- Fonksiyonu her seferinde yeniden çalıştırdığımız zaman,bize 0.0 ve 1.0 aralığında farklı sayılar üretir.\n",
    "- Fonksiyon,parantezi içerisine herhangi bir parametre almaz."
   ]
  },
  {
   "cell_type": "code",
   "execution_count": 19,
   "metadata": {},
   "outputs": [
    {
     "data": {
      "text/plain": [
       "0.632114232796303"
      ]
     },
     "execution_count": 19,
     "metadata": {},
     "output_type": "execute_result"
    }
   ],
   "source": [
    "import random\n",
    "\n",
    "random.random()"
   ]
  },
  {
   "cell_type": "markdown",
   "metadata": {},
   "source": [
    "**random.uniform()**\n",
    "- Belirli bir aralıkta kayan noktalı sayıları,bizim belirlediğimiz aralıkta oluşturan random fonksiyonudur.\n",
    "- Fonksiyon parametresi içerisine yazdığımız iki aralık arasında bize ondalıklı sayılar return eder."
   ]
  },
  {
   "cell_type": "code",
   "execution_count": 26,
   "metadata": {},
   "outputs": [
    {
     "data": {
      "text/plain": [
       "1.1197836629174793"
      ]
     },
     "execution_count": 26,
     "metadata": {},
     "output_type": "execute_result"
    }
   ],
   "source": [
    "random.uniform(1.1,2.2)"
   ]
  },
  {
   "cell_type": "code",
   "execution_count": 27,
   "metadata": {},
   "outputs": [
    {
     "data": {
      "text/plain": [
       "19.281456415411334"
      ]
     },
     "execution_count": 27,
     "metadata": {},
     "output_type": "execute_result"
    }
   ],
   "source": [
    "random.uniform(11,22)"
   ]
  },
  {
   "cell_type": "code",
   "execution_count": null,
   "metadata": {},
   "outputs": [],
   "source": []
  },
  {
   "cell_type": "markdown",
   "metadata": {},
   "source": [
    "**random.randint()**\n",
    "- random modulünün diğer bir fonksiyonu olan randint() ile parametre içerisine yazacağımız iki uç değer arasında bize tam sayı return eden fonksiyondur."
   ]
  },
  {
   "cell_type": "code",
   "execution_count": 23,
   "metadata": {},
   "outputs": [
    {
     "data": {
      "text/plain": [
       "332"
      ]
     },
     "execution_count": 23,
     "metadata": {},
     "output_type": "execute_result"
    }
   ],
   "source": [
    "random.randint(313,400)"
   ]
  },
  {
   "cell_type": "code",
   "execution_count": null,
   "metadata": {},
   "outputs": [],
   "source": []
  },
  {
   "cell_type": "markdown",
   "metadata": {},
   "source": [
    "**random.choice()**\n",
    "- random modulün choice() fonksiyonu ile bir liste içerisinden rastgele öğe seçip return eden fonksiyondur."
   ]
  },
  {
   "cell_type": "code",
   "execution_count": 32,
   "metadata": {},
   "outputs": [],
   "source": [
    "name_list = [\"Ali\",\"Mehmet\",\"Fatih\",\"Hasan\"]"
   ]
  },
  {
   "cell_type": "code",
   "execution_count": 40,
   "metadata": {},
   "outputs": [
    {
     "data": {
      "text/plain": [
       "'Ali'"
      ]
     },
     "execution_count": 40,
     "metadata": {},
     "output_type": "execute_result"
    }
   ],
   "source": [
    "random.choice(name_list)"
   ]
  },
  {
   "cell_type": "code",
   "execution_count": null,
   "metadata": {},
   "outputs": [],
   "source": []
  },
  {
   "cell_type": "code",
   "execution_count": 51,
   "metadata": {},
   "outputs": [],
   "source": [
    "number_list = [1,2,3,4,5,6,7,8,9,41,56,76,89,98,244,341,532,5645]"
   ]
  },
  {
   "cell_type": "code",
   "execution_count": 217,
   "metadata": {},
   "outputs": [
    {
     "data": {
      "text/plain": [
       "2"
      ]
     },
     "execution_count": 217,
     "metadata": {},
     "output_type": "execute_result"
    }
   ],
   "source": [
    "random.choice(number_list)"
   ]
  },
  {
   "cell_type": "code",
   "execution_count": null,
   "metadata": {},
   "outputs": [],
   "source": []
  },
  {
   "cell_type": "code",
   "execution_count": 81,
   "metadata": {},
   "outputs": [
    {
     "name": "stdout",
     "output_type": "stream",
     "text": [
      "<class 'str'>\n"
     ]
    }
   ],
   "source": [
    "character_list = \"characterlist\"\n",
    "\n",
    "result = type(character_list)\n",
    "\n",
    "print(result)"
   ]
  },
  {
   "cell_type": "code",
   "execution_count": 91,
   "metadata": {},
   "outputs": [
    {
     "data": {
      "text/plain": [
       "'e'"
      ]
     },
     "execution_count": 91,
     "metadata": {},
     "output_type": "execute_result"
    }
   ],
   "source": [
    "random.choice(character_list)"
   ]
  },
  {
   "cell_type": "code",
   "execution_count": null,
   "metadata": {},
   "outputs": [],
   "source": []
  },
  {
   "cell_type": "markdown",
   "metadata": {},
   "source": [
    "**range()**\n",
    "- range fonksiyonu ile parametre içerisine belirlediğimiz sayıya kadar direkt olarak ya da step li olarak sayı dizisi oluşturan fonksiyondur."
   ]
  },
  {
   "cell_type": "code",
   "execution_count": 25,
   "metadata": {},
   "outputs": [],
   "source": [
    "list_with_range = list(range(0,300,50))"
   ]
  },
  {
   "cell_type": "code",
   "execution_count": 26,
   "metadata": {},
   "outputs": [
    {
     "data": {
      "text/plain": [
       "[0, 50, 100, 150, 200, 250]"
      ]
     },
     "execution_count": 26,
     "metadata": {},
     "output_type": "execute_result"
    }
   ],
   "source": [
    "list_with_range"
   ]
  },
  {
   "cell_type": "code",
   "execution_count": null,
   "metadata": {},
   "outputs": [],
   "source": []
  },
  {
   "cell_type": "markdown",
   "metadata": {},
   "source": [
    "**random.shuffle()**\n",
    "- Bu modül ile bir liste içerisinde yer alan ifadelerin sıralamalarını değiştirip karışık hale getiren fonksiyondur.\n",
    "- random.shuffle() fonksiyonu bir listeye uygulandıktan sonra liste içerisindeki öğeler ilk önce sahip oldukları sıralama şeklini kaybedip karışık bir sıralamada sıralanırlar.\n",
    "- Bu işlem listelerde kalıcıdır.Çünkü listeler \"mutable\" ifadelerdir."
   ]
  },
  {
   "cell_type": "code",
   "execution_count": 96,
   "metadata": {},
   "outputs": [
    {
     "data": {
      "text/plain": [
       "[1, 2, 3, 4, 5, 6, 7, 8, 9, 41, 56, 76, 89, 98, 244, 341, 532, 5645]"
      ]
     },
     "execution_count": 96,
     "metadata": {},
     "output_type": "execute_result"
    }
   ],
   "source": [
    "number_list"
   ]
  },
  {
   "cell_type": "code",
   "execution_count": 103,
   "metadata": {},
   "outputs": [],
   "source": [
    "random.shuffle(number_list)"
   ]
  },
  {
   "cell_type": "code",
   "execution_count": 104,
   "metadata": {},
   "outputs": [
    {
     "data": {
      "text/plain": [
       "[532, 76, 2, 5, 244, 7, 3, 1, 6, 8, 98, 4, 5645, 341, 41, 9, 89, 56]"
      ]
     },
     "execution_count": 104,
     "metadata": {},
     "output_type": "execute_result"
    }
   ],
   "source": [
    "number_list"
   ]
  },
  {
   "cell_type": "code",
   "execution_count": null,
   "metadata": {},
   "outputs": [],
   "source": []
  },
  {
   "cell_type": "markdown",
   "metadata": {},
   "source": [
    "**random.randrange()**\n",
    "- Modülün bu fonksiyonu random.randint() ile aynı işlevi görür.Her ikisi de tam sayı üretir.\n",
    "- Ancak randrange() ile randint() arasında belirgin bir farklılık vardır:\n",
    "    - Bu farklılık randint() fonksiyonu parametresi içerisine sayı üretimi aralığı için için yazılan random.randint(min,max) değerleri için her iki değer aralığını ve her iki değeri de dahil ederek sayı üretir.\n",
    "    - Ancak random.randrange(min,max) parametresi içerisine yazılan değerler için sayı üretiminde min değer dahilken max değer dahil olmaz.Min değerden max değer e kadar sayı üretir."
   ]
  },
  {
   "cell_type": "code",
   "execution_count": 212,
   "metadata": {},
   "outputs": [
    {
     "data": {
      "text/plain": [
       "3"
      ]
     },
     "execution_count": 212,
     "metadata": {},
     "output_type": "execute_result"
    }
   ],
   "source": [
    "random.randint(0,5) # Burada üretilen sayılar 0,1,2,3,4 ve 5 olur."
   ]
  },
  {
   "cell_type": "code",
   "execution_count": 209,
   "metadata": {},
   "outputs": [
    {
     "data": {
      "text/plain": [
       "4"
      ]
     },
     "execution_count": 209,
     "metadata": {},
     "output_type": "execute_result"
    }
   ],
   "source": [
    "random.randrange(0,5) # Burada üretilen sayılar 0,1,2,3 ve 4 olur.5 sayısı üretilmez."
   ]
  },
  {
   "cell_type": "code",
   "execution_count": null,
   "metadata": {},
   "outputs": [],
   "source": []
  },
  {
   "cell_type": "markdown",
   "metadata": {},
   "source": [
    "**random.sample()**\n",
    "- **sample** kelimesi **numune** anlamına gelir.Anlaşılacağı üzere modulün bu fonksiyonu ile parametre içerisine yazılan ve **dizi niteliği taşıyan** veri tiplerinden **(list,dict,array)** **belirttiğimiz sayıca karışık bir şekilde** eleman seçip return eder."
   ]
  },
  {
   "cell_type": "code",
   "execution_count": null,
   "metadata": {},
   "outputs": [],
   "source": []
  },
  {
   "cell_type": "code",
   "execution_count": 213,
   "metadata": {},
   "outputs": [
    {
     "data": {
      "text/plain": [
       "[532, 76, 2, 5, 244, 7, 3, 1, 6, 8, 98, 4, 5645, 341, 41, 9, 89, 56]"
      ]
     },
     "execution_count": 213,
     "metadata": {},
     "output_type": "execute_result"
    }
   ],
   "source": [
    "number_list"
   ]
  },
  {
   "cell_type": "code",
   "execution_count": 216,
   "metadata": {},
   "outputs": [
    {
     "data": {
      "text/plain": [
       "[7, 244, 98, 1, 4]"
      ]
     },
     "execution_count": 216,
     "metadata": {},
     "output_type": "execute_result"
    }
   ],
   "source": [
    "random.sample(number_list,5) # Yani demek istiyoruz ki : number_list adlı variable ın içerisinden herhangi bir sıralama ya da kural olmadan 5 adet elamanı al ve return et."
   ]
  },
  {
   "cell_type": "code",
   "execution_count": null,
   "metadata": {},
   "outputs": [],
   "source": []
  },
  {
   "cell_type": "markdown",
   "metadata": {},
   "source": [
    "## Python'da Dizi Niteliği Taşıyan Veri Tipleri"
   ]
  },
  {
   "cell_type": "markdown",
   "metadata": {},
   "source": [
    "**list[]**\n",
    "\n",
    "**tuple()**\n",
    "\n",
    "**dictionary{}**\n",
    "\n",
    "**set**\n",
    "\n",
    "**array**"
   ]
  }
 ],
 "metadata": {
  "kernelspec": {
   "display_name": "Python 3",
   "language": "python",
   "name": "python3"
  },
  "language_info": {
   "codemirror_mode": {
    "name": "ipython",
    "version": 3
   },
   "file_extension": ".py",
   "mimetype": "text/x-python",
   "name": "python",
   "nbconvert_exporter": "python",
   "pygments_lexer": "ipython3",
   "version": "3.11.5"
  }
 },
 "nbformat": 4,
 "nbformat_minor": 2
}
