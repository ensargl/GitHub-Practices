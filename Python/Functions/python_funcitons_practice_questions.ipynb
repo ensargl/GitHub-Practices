{
 "cells": [
  {
   "cell_type": "markdown",
   "metadata": {},
   "source": [
    "### **Def**"
   ]
  },
  {
   "cell_type": "markdown",
   "metadata": {},
   "source": [
    "**Soru-1 :** İki sayının toplamını bulan bir fonksiyon tanımlayın ve 3 ile 5 değerlerini kullanarak sonucu hesaplayın."
   ]
  },
  {
   "cell_type": "code",
   "execution_count": null,
   "metadata": {},
   "outputs": [],
   "source": [
    "def numberTotal(x,y):\n",
    "    \"\"\"\n",
    "    Bu fonksiyon,girilen iki sayi değerinin toplamini return eder.\n",
    "    \n",
    "    \"\"\"\n",
    "    return x + y \n",
    "\n",
    "    print (f\"{x}+{y}\") # Neden silik görünüyor,öğren!\n",
    "    # Çünkü return değerinin altına print yazılmaz."
   ]
  },
  {
   "cell_type": "code",
   "execution_count": 10,
   "metadata": {},
   "outputs": [
    {
     "name": "stdout",
     "output_type": "stream",
     "text": [
      "8\n"
     ]
    }
   ],
   "source": [
    "print(numberTotal(3,5))"
   ]
  },
  {
   "cell_type": "code",
   "execution_count": null,
   "metadata": {},
   "outputs": [],
   "source": []
  },
  {
   "cell_type": "markdown",
   "metadata": {},
   "source": [
    "**Soru-2 :** Bir liste içindeki tüm sayıların karesini alarak yeni bir liste oluşturan bir fonksiyon tanımlayın. Örneğin, [1, 2, 3] girdiğinde [1, 4, 9] döndürmeli.\n"
   ]
  },
  {
   "cell_type": "code",
   "execution_count": 31,
   "metadata": {},
   "outputs": [
    {
     "data": {
      "text/plain": [
       "[3, 4, 5, 6, 7, 8, 9, 10]"
      ]
     },
     "execution_count": 31,
     "metadata": {},
     "output_type": "execute_result"
    }
   ],
   "source": [
    "list1 = list(range(3,11))\n",
    "list1"
   ]
  },
  {
   "cell_type": "code",
   "execution_count": 41,
   "metadata": {},
   "outputs": [
    {
     "name": "stdout",
     "output_type": "stream",
     "text": [
      "[9, 16, 25, 36, 49, 64, 81, 100]\n"
     ]
    }
   ],
   "source": [
    "def sayilarinKaresi(*sayilarListesi):\n",
    "    return [x ** 2 for x in sayilarListesi]\n"
   ]
  },
  {
   "cell_type": "code",
   "execution_count": 42,
   "metadata": {},
   "outputs": [
    {
     "name": "stdout",
     "output_type": "stream",
     "text": [
      "[9, 16, 25, 36, 49, 64, 81, 100]\n"
     ]
    }
   ],
   "source": [
    "print(sayilarinKaresi(*list1))"
   ]
  },
  {
   "cell_type": "code",
   "execution_count": null,
   "metadata": {},
   "outputs": [],
   "source": []
  },
  {
   "cell_type": "markdown",
   "metadata": {},
   "source": [
    "**Soru-3 :** *args ve **kwargs kullanarak iki listeyi birleştiren ve sonucunu bir dictionary olarak döndüren bir fonksiyon yazın."
   ]
  },
  {
   "cell_type": "code",
   "execution_count": 12,
   "metadata": {},
   "outputs": [],
   "source": [
    "def listCombine(list1,list2):\n",
    "    return dict(zip(list1,list2))\n",
    "    "
   ]
  },
  {
   "cell_type": "code",
   "execution_count": 4,
   "metadata": {},
   "outputs": [],
   "source": [
    "list_x = [\"name\",\"surname\",\"city\",\"country\"]\n",
    "list_y = [\"İbn-i\",\"Heysem\",\"Basra\",\"Iraq\"]"
   ]
  },
  {
   "cell_type": "code",
   "execution_count": 14,
   "metadata": {},
   "outputs": [
    {
     "name": "stdout",
     "output_type": "stream",
     "text": [
      "{'name': 'İbn-i', 'surname': 'Heysem', 'city': 'Basra', 'country': 'Iraq'}\n"
     ]
    }
   ],
   "source": [
    "result = listCombine(list_x,list_y)\n",
    "print(result)"
   ]
  },
  {
   "cell_type": "code",
   "execution_count": null,
   "metadata": {},
   "outputs": [],
   "source": []
  },
  {
   "cell_type": "code",
   "execution_count": 15,
   "metadata": {},
   "outputs": [
    {
     "name": "stdout",
     "output_type": "stream",
     "text": [
      "{'name': 'İbn-i', 'surname': 'Heysem', 'city': 'Basra', 'country': 'Iraq', 'profession': 'Scientist'}\n"
     ]
    }
   ],
   "source": [
    "def combine_lists(*args, **kwargs):\n",
    "    # args içindeki iki listeyi al\n",
    "    list1 = args[0]\n",
    "    list2 = args[1]\n",
    "    \n",
    "    # kwargs ile eklenmesi gereken ekstra anahtar-değer çiftleri\n",
    "    extra = kwargs\n",
    "    \n",
    "    # listeleri dictionary olarak birleştir\n",
    "    result = {k: v for k, v in zip(list1, list2)}\n",
    "    \n",
    "    # ek anahtar-değer çiftlerini dictionary'ye ekle\n",
    "    result.update(extra)\n",
    "    \n",
    "    return result\n",
    "\n",
    "list1 = [\"name\", \"surname\", \"city\", \"country\"]\n",
    "list2 = [\"İbn-i\", \"Heysem\", \"Basra\", \"Iraq\"]\n",
    "\n",
    "# Ek anahtar-değer çifti\n",
    "extra_data = {\"profession\": \"Scientist\"}\n",
    "\n",
    "result = combine_lists(list1, list2, **extra_data)\n",
    "print(result)\n"
   ]
  },
  {
   "cell_type": "code",
   "execution_count": null,
   "metadata": {},
   "outputs": [],
   "source": [
    "\n"
   ]
  },
  {
   "cell_type": "markdown",
   "metadata": {},
   "source": [
    "### update()\n",
    "\n",
    "**Tanım :**\n",
    "\n",
    "**update() metodu**,bir dictionary in başka bir dict in key-value değerleri ile,veya başka bir iterable'ın key-value değerleri ile güncellemek için kullanılır."
   ]
  },
  {
   "cell_type": "code",
   "execution_count": null,
   "metadata": {},
   "outputs": [],
   "source": []
  },
  {
   "cell_type": "code",
   "execution_count": 20,
   "metadata": {},
   "outputs": [],
   "source": [
    "dict1 = dict(name=\"Nicola\",surname=\"Tesla\",country=\"Austria\")"
   ]
  },
  {
   "cell_type": "code",
   "execution_count": null,
   "metadata": {},
   "outputs": [],
   "source": [
    "dict2 = {\"name\":\"Nicola\", \"surname\":\"Tesla\",\"country\":\"Serbia\"}"
   ]
  },
  {
   "cell_type": "code",
   "execution_count": 22,
   "metadata": {},
   "outputs": [],
   "source": [
    "dict1.update(dict2)"
   ]
  },
  {
   "cell_type": "code",
   "execution_count": 23,
   "metadata": {},
   "outputs": [
    {
     "data": {
      "text/plain": [
       "{'name': 'Nicola', 'surname': 'Tesla', 'country': 'Serbia'}"
      ]
     },
     "execution_count": 23,
     "metadata": {},
     "output_type": "execute_result"
    }
   ],
   "source": [
    "dict1"
   ]
  },
  {
   "cell_type": "code",
   "execution_count": null,
   "metadata": {},
   "outputs": [],
   "source": []
  },
  {
   "cell_type": "code",
   "execution_count": 39,
   "metadata": {},
   "outputs": [],
   "source": [
    "list_tesla = [(\"country\",\"USA\")]"
   ]
  },
  {
   "cell_type": "code",
   "execution_count": 40,
   "metadata": {},
   "outputs": [],
   "source": [
    "dict1.update(list_tesla)"
   ]
  },
  {
   "cell_type": "code",
   "execution_count": 41,
   "metadata": {},
   "outputs": [
    {
     "data": {
      "text/plain": [
       "{'name': 'Nicola', 'surname': 'Tesla', 'country': 'USA'}"
      ]
     },
     "execution_count": 41,
     "metadata": {},
     "output_type": "execute_result"
    }
   ],
   "source": [
    "dict1"
   ]
  },
  {
   "cell_type": "code",
   "execution_count": null,
   "metadata": {},
   "outputs": [],
   "source": []
  },
  {
   "cell_type": "code",
   "execution_count": null,
   "metadata": {},
   "outputs": [],
   "source": [
    "dict1 = {\"a\": 1, \"b\": 2}\n",
    "invalid_update = [(\"c\", 3, 4)]  # Üç eleman içeriyor, hataya neden olur\n",
    "dict1.update(invalid_update)\n"
   ]
  },
  {
   "cell_type": "code",
   "execution_count": null,
   "metadata": {},
   "outputs": [],
   "source": [
    "dict1 = {\"a\": 1, \"b\": 2}\n",
    "valid_update = [(\"c\", 3)]  # İki elemanlı çift\n",
    "dict1.update(valid_update)\n",
    "print(dict1)  # Çıktı: {'a': 1, 'b': 2, 'c': 3}\n"
   ]
  },
  {
   "cell_type": "code",
   "execution_count": null,
   "metadata": {},
   "outputs": [],
   "source": []
  },
  {
   "cell_type": "code",
   "execution_count": null,
   "metadata": {},
   "outputs": [],
   "source": []
  },
  {
   "cell_type": "markdown",
   "metadata": {},
   "source": [
    "**Soru-4 :** Bir liste içindeki sayıların ortalamasını alan bir fonksiyon yazın ve listenin içindeki sayıların toplamı n'den küçükse hata mesajı döndürsün (n fonksiyona argüman olarak verilmeli)."
   ]
  },
  {
   "cell_type": "code",
   "execution_count": null,
   "metadata": {},
   "outputs": [
    {
     "data": {
      "text/plain": [
       "10.0"
      ]
     },
     "execution_count": 58,
     "metadata": {},
     "output_type": "execute_result"
    }
   ],
   "source": [
    "# Benim Kod Ancak Biraz Hatalı :\n",
    "\n",
    "def avaregeOfNum(*x,n):\n",
    "    try:\n",
    "        result = sum(x) / len(x)\n",
    "        result > n\n",
    "        return result\n",
    "        \n",
    "    except Exception as error:\n",
    "        print(f\"{result} değeri {n} değerinden büyük olmali.\")\n",
    "\n",
    "avaregeOfNum(*range(1,20),n=50)"
   ]
  },
  {
   "cell_type": "markdown",
   "metadata": {},
   "source": [
    "**Yukarıdaki kodunuzda birkaç hata var:**\n",
    "\n",
    "1- sum([x]) ve len(x) ifadeleri hatalı. x zaten bir tuple olduğu için sum(x) ve len(x) kullanmalısınız.\n",
    "\n",
    "2- result > n ifadesi kendi başına bir anlam ifade etmez. Eğer bir koşul kontrol ediyorsanız, if deyimi ile yapmalısınız.\n",
    "\n",
    "3- print ifadesinin exception blokta olması gerektiği için result ifadesi bulunmuyor.\n",
    "\n",
    "4- Hata mesajını except blokunda düzenlemek gerekir."
   ]
  },
  {
   "cell_type": "code",
   "execution_count": null,
   "metadata": {},
   "outputs": [],
   "source": []
  },
  {
   "cell_type": "markdown",
   "metadata": {},
   "source": [
    "**İşte düzeltilmiş hali:**"
   ]
  },
  {
   "cell_type": "code",
   "execution_count": 59,
   "metadata": {},
   "outputs": [
    {
     "name": "stdout",
     "output_type": "stream",
     "text": [
      "25.0\n"
     ]
    }
   ],
   "source": [
    "# My Code AI Edited :\n",
    "\n",
    "def avaregeOfNum(*x, n):\n",
    "    try:\n",
    "        result = sum(x) / len(x)\n",
    "        if result > n:\n",
    "            return result\n",
    "        else:\n",
    "            print(f\"{result} değeri {n} değerinden büyük olmali.\")\n",
    "    except Exception as error:\n",
    "        print(f\"Hata oluştu: {error}\")\n",
    "\n",
    "print(avaregeOfNum(*range(1, 50), n=20))\n"
   ]
  },
  {
   "cell_type": "code",
   "execution_count": null,
   "metadata": {},
   "outputs": [],
   "source": []
  },
  {
   "cell_type": "code",
   "execution_count": null,
   "metadata": {},
   "outputs": [],
   "source": []
  },
  {
   "cell_type": "markdown",
   "metadata": {},
   "source": [
    "### **map()**"
   ]
  },
  {
   "cell_type": "markdown",
   "metadata": {},
   "source": [
    "**Soru-1 :** \n",
    "\n",
    "Bir liste içindeki tüm sayıları iki katına çıkararak yeni bir liste oluşturun. Örneğin, [1, 2, 3] -> [2, 4, 6]"
   ]
  },
  {
   "cell_type": "code",
   "execution_count": 61,
   "metadata": {},
   "outputs": [],
   "source": [
    "def elementUpdate(*lst):\n",
    "    update_list = []\n",
    "    for element in lst:\n",
    "        update_list.append(element*2)\n",
    "    return update_list"
   ]
  },
  {
   "cell_type": "code",
   "execution_count": 78,
   "metadata": {},
   "outputs": [
    {
     "data": {
      "text/plain": [
       "[0, 10, 20, 30, 40, 50, 60, 70, 80, 90]"
      ]
     },
     "execution_count": 78,
     "metadata": {},
     "output_type": "execute_result"
    }
   ],
   "source": [
    "elementUpdate(*range(0,50,5))"
   ]
  },
  {
   "cell_type": "code",
   "execution_count": 81,
   "metadata": {},
   "outputs": [
    {
     "data": {
      "text/plain": [
       "[[0], [10], [20], [30], [40], [50], [60], [70], [80], [90]]"
      ]
     },
     "execution_count": 81,
     "metadata": {},
     "output_type": "execute_result"
    }
   ],
   "source": [
    "list(map(elementUpdate,range(0,50,5)))"
   ]
  },
  {
   "cell_type": "code",
   "execution_count": null,
   "metadata": {},
   "outputs": [],
   "source": []
  },
  {
   "cell_type": "markdown",
   "metadata": {},
   "source": [
    "**Soru-2 :** \n",
    "\n",
    "map() kullanarak bir liste içindeki her kelimenin ilk harfini büyük harf yapın. Örneğin, [\"python\", \"map\"] -> [\"Python\", \"Map\"]."
   ]
  },
  {
   "cell_type": "code",
   "execution_count": null,
   "metadata": {},
   "outputs": [
    {
     "ename": "AttributeError",
     "evalue": "'tuple' object has no attribute 'upper'",
     "output_type": "error",
     "traceback": [
      "\u001b[1;31m---------------------------------------------------------------------------\u001b[0m",
      "\u001b[1;31mAttributeError\u001b[0m                            Traceback (most recent call last)",
      "Cell \u001b[1;32mIn[84], line 1\u001b[0m\n\u001b[1;32m----> 1\u001b[0m \u001b[38;5;28;43mlist\u001b[39;49m\u001b[43m(\u001b[49m\u001b[38;5;28;43mmap\u001b[39;49m\u001b[43m(\u001b[49m\u001b[38;5;28;43;01mlambda\u001b[39;49;00m\u001b[43m \u001b[49m\u001b[38;5;241;43m*\u001b[39;49m\u001b[43mx\u001b[49m\u001b[43m \u001b[49m\u001b[43m:\u001b[49m\u001b[43m \u001b[49m\u001b[43mx\u001b[49m\u001b[38;5;241;43m.\u001b[39;49m\u001b[43mupper\u001b[49m\u001b[43m(\u001b[49m\u001b[43m)\u001b[49m\u001b[43m,\u001b[49m\u001b[43m[\u001b[49m\u001b[38;5;124;43m\"\u001b[39;49m\u001b[38;5;124;43mhi\u001b[39;49m\u001b[38;5;124;43m\"\u001b[39;49m\u001b[43m,\u001b[49m\u001b[38;5;124;43m\"\u001b[39;49m\u001b[38;5;124;43mtoday\u001b[39;49m\u001b[38;5;124;43m\"\u001b[39;49m\u001b[43m,\u001b[49m\u001b[38;5;124;43m\"\u001b[39;49m\u001b[38;5;124;43mis\u001b[39;49m\u001b[38;5;124;43m\"\u001b[39;49m\u001b[43m,\u001b[49m\u001b[38;5;124;43m\"\u001b[39;49m\u001b[38;5;124;43mnice\u001b[39;49m\u001b[38;5;124;43m\"\u001b[39;49m\u001b[43m,\u001b[49m\u001b[38;5;124;43m\"\u001b[39;49m\u001b[38;5;124;43mday\u001b[39;49m\u001b[38;5;124;43m\"\u001b[39;49m\u001b[43m]\u001b[49m\u001b[43m)\u001b[49m\u001b[43m)\u001b[49m\n",
      "Cell \u001b[1;32mIn[84], line 1\u001b[0m, in \u001b[0;36m<lambda>\u001b[1;34m(*x)\u001b[0m\n\u001b[1;32m----> 1\u001b[0m \u001b[38;5;28mlist\u001b[39m(\u001b[38;5;28mmap\u001b[39m(\u001b[38;5;28;01mlambda\u001b[39;00m \u001b[38;5;241m*\u001b[39mx : \u001b[43mx\u001b[49m\u001b[38;5;241;43m.\u001b[39;49m\u001b[43mupper\u001b[49m(),[\u001b[38;5;124m\"\u001b[39m\u001b[38;5;124mhi\u001b[39m\u001b[38;5;124m\"\u001b[39m,\u001b[38;5;124m\"\u001b[39m\u001b[38;5;124mtoday\u001b[39m\u001b[38;5;124m\"\u001b[39m,\u001b[38;5;124m\"\u001b[39m\u001b[38;5;124mis\u001b[39m\u001b[38;5;124m\"\u001b[39m,\u001b[38;5;124m\"\u001b[39m\u001b[38;5;124mnice\u001b[39m\u001b[38;5;124m\"\u001b[39m,\u001b[38;5;124m\"\u001b[39m\u001b[38;5;124mday\u001b[39m\u001b[38;5;124m\"\u001b[39m]))\n",
      "\u001b[1;31mAttributeError\u001b[0m: 'tuple' object has no attribute 'upper'"
     ]
    }
   ],
   "source": [
    "# Benim Kod Ancak Hatalı :\n",
    "list(map(lambda *x : x.upper(),[\"hi\",\"today\",\"is\",\"nice\",\"day\"]))\n"
   ]
  },
  {
   "cell_type": "markdown",
   "metadata": {},
   "source": [
    "**Hata şu :**\n",
    "\n",
    " *x ile lambda fonksiyonu tanımlamak, tüm argümanları tek bir tuple olarak alır. Ancak burada tek bir string ile çalışıyorsunuz. Ayrıca, x bir tuple olduğu için .upper() metoduna doğrudan erişemez. Bunun yerine, map fonksiyonunda her bir elemanı lambda fonksiyonuyla tek tek işleyin."
   ]
  },
  {
   "cell_type": "markdown",
   "metadata": {},
   "source": [
    "**İşte düzeltilmiş hali :**"
   ]
  },
  {
   "cell_type": "code",
   "execution_count": 85,
   "metadata": {},
   "outputs": [
    {
     "data": {
      "text/plain": [
       "['Hi', 'Today', 'Is', 'Nice', 'Day']"
      ]
     },
     "execution_count": 85,
     "metadata": {},
     "output_type": "execute_result"
    }
   ],
   "source": [
    "list(map(lambda x: x.title(), [\"hi\", \"today\", \"is\", \"nice\", \"day\"]))\n"
   ]
  },
  {
   "cell_type": "code",
   "execution_count": null,
   "metadata": {},
   "outputs": [],
   "source": []
  },
  {
   "cell_type": "code",
   "execution_count": 94,
   "metadata": {},
   "outputs": [
    {
     "data": {
      "text/plain": [
       "'\\n[i*j for i in x for j in y],[1,2,3],[4,5,6]\\n\\n'"
      ]
     },
     "execution_count": 94,
     "metadata": {},
     "output_type": "execute_result"
    }
   ],
   "source": [
    "# DİPNOT :\n",
    "\n",
    "\"\"\" \n",
    "for i in [1,2,3]:\n",
    "    for j in [4,5,6]:\n",
    "        print(i*j)\n",
    "\"\"\"\n",
    "\n",
    "\n",
    "\"\"\"\n",
    "[i*j for i in x for j in y],[1,2,3],[4,5,6]\n",
    "\n",
    "\"\"\"\n",
    "\n",
    "# Yukarıdaki nested for loop un list comprehension ile gösterimi aşağıdaki şekildeki gibidir."
   ]
  },
  {
   "cell_type": "code",
   "execution_count": null,
   "metadata": {},
   "outputs": [],
   "source": []
  },
  {
   "cell_type": "markdown",
   "metadata": {},
   "source": [
    "**Soru-3 :** \n",
    "\n",
    "İki listenin ([1, 2, 3] ve [4, 5, 6]) çarpımını map kullanarak hesaplayın."
   ]
  },
  {
   "cell_type": "code",
   "execution_count": 109,
   "metadata": {},
   "outputs": [
    {
     "data": {
      "text/plain": [
       "[4, 10, 18]"
      ]
     },
     "execution_count": 109,
     "metadata": {},
     "output_type": "execute_result"
    }
   ],
   "source": [
    "list(map(lambda x,y:x*y,[1,2,3],[4,5,6]))"
   ]
  },
  {
   "cell_type": "code",
   "execution_count": null,
   "metadata": {},
   "outputs": [],
   "source": []
  },
  {
   "cell_type": "markdown",
   "metadata": {},
   "source": [
    "**Soru-4 :** \n",
    "\n",
    "Bir liste içindeki sayılar pozitifse karesini, negatifse mutlak değerini döndüren bir fonksiyon tanımlayın ve bu fonksiyonu map kullanarak bir listedeki tüm elemanlara uygulayın."
   ]
  },
  {
   "cell_type": "code",
   "execution_count": 1,
   "metadata": {},
   "outputs": [],
   "source": [
    "def function_number(*liste):\n",
    "    \"\"\"Bu fonksiyon,içerisine argüman olarak girilen bir sayi listesinin içerisindeki pozitif sayilarin karesini;negatif sayilarin ise mutlak değerini döndürür. \"\"\"\n",
    "    for element in liste:\n",
    "        if element >0: return element **2\n",
    "        elif element <0: return element * -1\n",
    "        else:\n",
    "            return element"
   ]
  },
  {
   "cell_type": "code",
   "execution_count": null,
   "metadata": {},
   "outputs": [
    {
     "ename": "TypeError",
     "evalue": "'int' object is not iterable",
     "output_type": "error",
     "traceback": [
      "\u001b[1;31m---------------------------------------------------------------------------\u001b[0m",
      "\u001b[1;31mTypeError\u001b[0m                                 Traceback (most recent call last)",
      "Cell \u001b[1;32mIn[6], line 1\u001b[0m\n\u001b[1;32m----> 1\u001b[0m \u001b[38;5;28mlist\u001b[39m(\u001b[38;5;28;43mmap\u001b[39;49m\u001b[43m(\u001b[49m\u001b[43mfunction_number\u001b[49m\u001b[43m,\u001b[49m\u001b[38;5;241;43m*\u001b[39;49m\u001b[38;5;28;43mrange\u001b[39;49m\u001b[43m(\u001b[49m\u001b[38;5;241;43m-\u001b[39;49m\u001b[38;5;241;43m5\u001b[39;49m\u001b[43m,\u001b[49m\u001b[38;5;241;43m10\u001b[39;49m\u001b[43m)\u001b[49m\u001b[43m)\u001b[49m)\n",
      "\u001b[1;31mTypeError\u001b[0m: 'int' object is not iterable"
     ]
    }
   ],
   "source": [
    "list(map(function_number,*range(-5,10))) "
   ]
  },
  {
   "cell_type": "markdown",
   "metadata": {},
   "source": [
    "**Hata Mesajı Açıklaması** \n",
    "\n",
    "Yukaridaki * range(-5,10) şeklindeki kod yazimi hatalidir.Bu ifade (*) nesne içerisindeki her argümanı ayri ayri geçirmemizi sağlar.Ancak map fonksiyonu içerisine ; fonks.ve iterable olmak üzere iki adet argüman yazilabilir."
   ]
  },
  {
   "cell_type": "code",
   "execution_count": null,
   "metadata": {},
   "outputs": [],
   "source": []
  },
  {
   "cell_type": "markdown",
   "metadata": {},
   "source": [
    "**İfadenin düzeltilmiş şekli aşağıdaki gibidir:**"
   ]
  },
  {
   "cell_type": "code",
   "execution_count": 7,
   "metadata": {},
   "outputs": [
    {
     "data": {
      "text/plain": [
       "[5, 4, 3, 2, 1, 0, 1, 4, 9, 16, 25, 36, 49, 64, 81]"
      ]
     },
     "execution_count": 7,
     "metadata": {},
     "output_type": "execute_result"
    }
   ],
   "source": [
    "list(map(function_number,range(-5,10)))"
   ]
  },
  {
   "cell_type": "code",
   "execution_count": null,
   "metadata": {},
   "outputs": [],
   "source": []
  },
  {
   "cell_type": "markdown",
   "metadata": {},
   "source": [
    "### **- lambda ()**"
   ]
  },
  {
   "cell_type": "markdown",
   "metadata": {},
   "source": [
    "**Soru-1:**\n",
    "\n",
    " İki sayıyı toplayan basit bir lambda ifadesi yazın ve 4 ile 6 değerleri için sonucu hesaplayın."
   ]
  },
  {
   "cell_type": "code",
   "execution_count": 12,
   "metadata": {},
   "outputs": [
    {
     "data": {
      "text/plain": [
       "10"
      ]
     },
     "execution_count": 12,
     "metadata": {},
     "output_type": "execute_result"
    }
   ],
   "source": [
    "(lambda x,y:x+y)(4,6)"
   ]
  },
  {
   "cell_type": "code",
   "execution_count": null,
   "metadata": {},
   "outputs": [],
   "source": []
  },
  {
   "cell_type": "markdown",
   "metadata": {},
   "source": [
    "**Soru-2:**\n",
    "\n",
    "Bir liste içindeki her elemanın karesini döndüren bir lambda fonksiyonu oluşturun. Örneğin, [1, 2, 3] girdiğinde [1, 4, 9] döndürmeli."
   ]
  },
  {
   "cell_type": "code",
   "execution_count": 25,
   "metadata": {},
   "outputs": [
    {
     "data": {
      "text/plain": [
       "[1, 4, 9]"
      ]
     },
     "execution_count": 25,
     "metadata": {},
     "output_type": "execute_result"
    }
   ],
   "source": [
    "(lambda lst:[element ** 2 for element in lst])([1,2,3])"
   ]
  },
  {
   "cell_type": "markdown",
   "metadata": {},
   "source": [
    "**Soru-2.1:**\n",
    "\n",
    "Bir tuple içindeki her elemanın karesini döndüren bir lambda fonksiyonu oluşturun. Örneğin, [1, 2, 3] girdiğinde [1, 4, 9] döndürmeli."
   ]
  },
  {
   "cell_type": "code",
   "execution_count": 27,
   "metadata": {},
   "outputs": [
    {
     "data": {
      "text/plain": [
       "[1, 4, 9]"
      ]
     },
     "execution_count": 27,
     "metadata": {},
     "output_type": "execute_result"
    }
   ],
   "source": [
    "(lambda *lst:[element ** 2 for element in lst])(1,2,3) "
   ]
  },
  {
   "cell_type": "markdown",
   "metadata": {},
   "source": [
    "**Bu iki kod arasındaki fark**, fonksiyonun aldığı argümanların nasıl işlendiğiyle ilgilidir:\n",
    "\n",
    "**(lambda lst:[element ** 2 for element in lst])([1,2,3]):**\n",
    "\n",
    "Burada lst argümanı, **tek bir liste olarak** alınır.\n",
    "\n",
    "[1, 2, 3] listesi lst parametresi olarak geçer.\n",
    "\n",
    "Sonuç: [1, 4, 9]\n",
    "\n",
    "\n",
    "***(lambda lst:[element ** 2 for element in lst])(1,2,3):**\n",
    "\n",
    "Burada *lst argümanı, çoklu argümanları **tek bir tuple içinde toplar.**\n",
    "\n",
    "1, 2, 3 argümanları lst tuple'ında elemanlar olarak toplanır.\n",
    "\n",
    "Sonuç: [1, 4, 9]\n",
    "\n",
    "\"\"\"\n",
    "\n",
    "**Temel fark:**\n",
    "\n",
    "İlk fonksiyonda tek bir liste argümanı var.\n",
    "\n",
    "İkinci fonksiyonda çoklu argümanlar var, bu argümanlar bir tuple olarak toplanır.\n",
    "\n",
    "Çıktıları aynı olsa da, parametrelerin alınış şekli farklı.\n",
    "\n",
    "\n",
    "\"\"\""
   ]
  },
  {
   "cell_type": "code",
   "execution_count": null,
   "metadata": {},
   "outputs": [],
   "source": []
  },
  {
   "cell_type": "markdown",
   "metadata": {},
   "source": [
    "**Soru-3:**\n",
    "\n",
    "Bir liste içindeki pozitif sayıların toplamını hesaplayan lambda ifadesi yazın."
   ]
  },
  {
   "cell_type": "code",
   "execution_count": 42,
   "metadata": {},
   "outputs": [],
   "source": [
    "sumPositive = (lambda *ls: sum(element for element in ls if element > 0))"
   ]
  },
  {
   "cell_type": "code",
   "execution_count": 57,
   "metadata": {},
   "outputs": [
    {
     "data": {
      "text/plain": [
       "45"
      ]
     },
     "execution_count": 57,
     "metadata": {},
     "output_type": "execute_result"
    }
   ],
   "source": [
    "result = sum(filter(lambda x: x>0,range(-5,10)))\n",
    "result"
   ]
  },
  {
   "cell_type": "code",
   "execution_count": null,
   "metadata": {},
   "outputs": [],
   "source": []
  },
  {
   "cell_type": "markdown",
   "metadata": {},
   "source": [
    "**Soru-4:**\n",
    "\n",
    " Aynı anda bir sayının karesini, küpünü ve kendisini bir tuple olarak döndüren bir lambda ifadesi yazın. Örneğin, 3 için (9, 27, 3) döndürmeli."
   ]
  },
  {
   "cell_type": "code",
   "execution_count": 91,
   "metadata": {},
   "outputs": [
    {
     "data": {
      "text/plain": [
       "(25, 125, 5)"
      ]
     },
     "execution_count": 91,
     "metadata": {},
     "output_type": "execute_result"
    }
   ],
   "source": [
    "(lambda x :(x**2,x**3,x))(5)"
   ]
  },
  {
   "cell_type": "markdown",
   "metadata": {},
   "source": [
    "### **args**"
   ]
  },
  {
   "cell_type": "markdown",
   "metadata": {},
   "source": [
    "**Soru-1:**\n",
    "\n",
    "Herhangi sayıda sayıyı toplayan bir *args fonksiyonu yazın."
   ]
  },
  {
   "cell_type": "code",
   "execution_count": 99,
   "metadata": {},
   "outputs": [],
   "source": [
    "def total_num(*nums):\n",
    "    return sum(nums)"
   ]
  },
  {
   "cell_type": "code",
   "execution_count": 114,
   "metadata": {},
   "outputs": [
    {
     "data": {
      "text/plain": [
       "5050"
      ]
     },
     "execution_count": 114,
     "metadata": {},
     "output_type": "execute_result"
    }
   ],
   "source": [
    "total_num(*range(1,101))"
   ]
  },
  {
   "cell_type": "code",
   "execution_count": null,
   "metadata": {},
   "outputs": [],
   "source": []
  },
  {
   "cell_type": "markdown",
   "metadata": {},
   "source": [
    "**Soru-2:**\n",
    "\n",
    " Bir *args fonksiyonu yazın ve içine girilen sayıların karesini liste halinde döndürsün."
   ]
  },
  {
   "cell_type": "code",
   "execution_count": 145,
   "metadata": {},
   "outputs": [],
   "source": [
    "def sayinin_karesi(*sayilar):\n",
    "    return [pow(n,2) for n in sayilar]"
   ]
  },
  {
   "cell_type": "code",
   "execution_count": 146,
   "metadata": {},
   "outputs": [
    {
     "data": {
      "text/plain": [
       "[1, 4, 9, 16, 25, 36, 49, 64, 81]"
      ]
     },
     "execution_count": 146,
     "metadata": {},
     "output_type": "execute_result"
    }
   ],
   "source": [
    "sayinin_karesi(*range(1,10))"
   ]
  },
  {
   "cell_type": "markdown",
   "metadata": {},
   "source": [
    "**Soru-3:**\n",
    "\n",
    "Girilen tüm sayıların ortalamasını bulan bir *args fonksiyonu yazın ve sonucu iki ondalık basamağa yuvarlayın."
   ]
  },
  {
   "cell_type": "code",
   "execution_count": 154,
   "metadata": {},
   "outputs": [],
   "source": [
    "def average_nums(*nums):\n",
    "    return sum(nums) / len(nums)"
   ]
  },
  {
   "cell_type": "code",
   "execution_count": 163,
   "metadata": {},
   "outputs": [
    {
     "data": {
      "text/plain": [
       "50.0"
      ]
     },
     "execution_count": 163,
     "metadata": {},
     "output_type": "execute_result"
    }
   ],
   "source": [
    "average_nums(*range(1,100))"
   ]
  },
  {
   "cell_type": "markdown",
   "metadata": {},
   "source": [
    "**Soru-4:**\n",
    "\n",
    "Bir *args fonksiyonu yazın ve her sayıyı x kadar artırarak liste halinde döndürsün (x, fonksiyona ayrı bir argüman olarak verilmeli).\n"
   ]
  },
  {
   "cell_type": "code",
   "execution_count": 5,
   "metadata": {},
   "outputs": [],
   "source": [
    "import random"
   ]
  },
  {
   "cell_type": "code",
   "execution_count": 2,
   "metadata": {},
   "outputs": [],
   "source": [
    "def different_function(*nums):\n",
    "    for element in nums:\n",
    "        return (element + random.randint(1,10))"
   ]
  },
  {
   "cell_type": "code",
   "execution_count": 6,
   "metadata": {},
   "outputs": [
    {
     "data": {
      "text/plain": [
       "16"
      ]
     },
     "execution_count": 6,
     "metadata": {},
     "output_type": "execute_result"
    }
   ],
   "source": [
    "different_function(*[random.randint(1,10)])"
   ]
  },
  {
   "cell_type": "markdown",
   "metadata": {},
   "source": [
    "### ****kwargs**"
   ]
  },
  {
   "cell_type": "code",
   "execution_count": null,
   "metadata": {},
   "outputs": [],
   "source": []
  },
  {
   "cell_type": "markdown",
   "metadata": {},
   "source": [
    "### **get()**\n",
    "\n",
    "- get() fonksiyonu dict.lerde kullanilan bir metottur.\n",
    "\n",
    "- get() metodu,parantezi içerisine yazılacak olan key e karşılık gelen value u return eder.\n",
    "\n",
    "- Eğer yazılan key dict içerisinde yer almıyorsa,varsıyalan bir değer döndürmez.Ancak hata da vermez."
   ]
  },
  {
   "cell_type": "code",
   "execution_count": 11,
   "metadata": {},
   "outputs": [],
   "source": [
    "person_info_1 = dict(name = \"Şeref\", surname = \"Yazicioğlu\", city = \"Ankara\", age = 26)"
   ]
  },
  {
   "cell_type": "code",
   "execution_count": 256,
   "metadata": {},
   "outputs": [
    {
     "data": {
      "text/plain": [
       "'Yazicioğlu'"
      ]
     },
     "execution_count": 256,
     "metadata": {},
     "output_type": "execute_result"
    }
   ],
   "source": [
    "person_info_1.get(\"surname\")"
   ]
  },
  {
   "cell_type": "code",
   "execution_count": null,
   "metadata": {},
   "outputs": [],
   "source": []
  },
  {
   "cell_type": "markdown",
   "metadata": {},
   "source": [
    "**Soru-1:**\n",
    "\n",
    "Bir **kwargs fonksiyonu yazın ve isim, yaş gibi bilgileri alarak bir cümle olarak yazdırsın."
   ]
  },
  {
   "cell_type": "code",
   "execution_count": 19,
   "metadata": {},
   "outputs": [],
   "source": [
    "def info_print(**kwargs):\n",
    "    name = kwargs.get(\"name\")\n",
    "    surname = kwargs.get(\"surname\")\n",
    "    city = kwargs.get(\"city\")\n",
    "    age = kwargs.get(\"age\")\n",
    "    \n",
    "    print(f\"Merhaba Benim ismim {name} soyismim {surname} {city} şehrinde yaşiyorum ve {age} yaşindayim\")"
   ]
  },
  {
   "cell_type": "code",
   "execution_count": 17,
   "metadata": {},
   "outputs": [
    {
     "name": "stdout",
     "output_type": "stream",
     "text": [
      "Merhaba Benim ismim Şeref soyismim Yazicioğlu Ankara şehrinde yaşiyorum ve 26 yaşindayim\n"
     ]
    }
   ],
   "source": [
    "info_print(**person_info_1)"
   ]
  },
  {
   "cell_type": "code",
   "execution_count": null,
   "metadata": {},
   "outputs": [],
   "source": []
  },
  {
   "cell_type": "markdown",
   "metadata": {},
   "source": [
    "**Soru-2:**\n",
    "\n",
    "Bir **kwargs fonksiyonu yazın ve verilen her anahtar-değer çiftini \"anahtar: değer\" formatında yazdırın."
   ]
  },
  {
   "cell_type": "code",
   "execution_count": 22,
   "metadata": {},
   "outputs": [],
   "source": [
    "def kwargs(**dict):\n",
    "    for key,value in dict.items():\n",
    "        print(f\"{key} : {value}\")"
   ]
  },
  {
   "cell_type": "code",
   "execution_count": 24,
   "metadata": {},
   "outputs": [
    {
     "name": "stdout",
     "output_type": "stream",
     "text": [
      "name : Şeref\n",
      "surname : Yazicioğlu\n",
      "city : Ankara\n",
      "age : 26\n"
     ]
    }
   ],
   "source": [
    "kwargs(**person_info_1)"
   ]
  },
  {
   "cell_type": "markdown",
   "metadata": {},
   "source": [
    "**Soru-3:**\n",
    "\n",
    "İçine girilen anahtar-değer çiftlerinden sadece değerleri string olanları bir liste olarak döndüren bir **kwargs fonksiyonu yazın."
   ]
  },
  {
   "cell_type": "code",
   "execution_count": 56,
   "metadata": {},
   "outputs": [],
   "source": [
    "def values_checks(**kwargs):\n",
    "    empty_list = []\n",
    "    for key,value in kwargs.items():\n",
    "        if isinstance(value,str): empty_list.append(value)\n",
    "        else:pass\n",
    "    return empty_list"
   ]
  },
  {
   "cell_type": "code",
   "execution_count": 50,
   "metadata": {},
   "outputs": [],
   "source": [
    "dict_info = {\"name\" : \"ensar\",\"surname\" : \"gul\" , \"country\":\"turkey\" , \"postcode\": 46300}"
   ]
  },
  {
   "cell_type": "code",
   "execution_count": 58,
   "metadata": {},
   "outputs": [
    {
     "data": {
      "text/plain": [
       "['ensar', 'gul', 'turkey']"
      ]
     },
     "execution_count": 58,
     "metadata": {},
     "output_type": "execute_result"
    }
   ],
   "source": [
    "values_checks(**dict_info)"
   ]
  },
  {
   "cell_type": "markdown",
   "metadata": {},
   "source": [
    "**Soru-4:**\n",
    "\n",
    "İçine string ve int tipinde anahtar-değer çiftleri alan bir **kwargs fonksiyonu yazın ve sadece int değerleri x kadar arttırarak döndürsün (x, fonksiyona ayrıca verilmeli)."
   ]
  },
  {
   "cell_type": "code",
   "execution_count": 74,
   "metadata": {},
   "outputs": [],
   "source": [
    "def dict_checks(x,**kwargs):\n",
    "    empty_dict = {}\n",
    "    for key,value in kwargs.items():\n",
    "        if isinstance(value,int): empty_dict[key] = value + x\n",
    "        else: empty_dict[key] = value\n",
    "    return empty_dict"
   ]
  },
  {
   "cell_type": "code",
   "execution_count": 76,
   "metadata": {},
   "outputs": [],
   "source": [
    "dict_x1 = dict(number_one = 1,number_two = 2 ,number_three = 3, number_four = 4)"
   ]
  },
  {
   "cell_type": "code",
   "execution_count": 79,
   "metadata": {},
   "outputs": [
    {
     "data": {
      "text/plain": [
       "{'number_one': 101, 'number_two': 102, 'number_three': 103, 'number_four': 104}"
      ]
     },
     "execution_count": 79,
     "metadata": {},
     "output_type": "execute_result"
    }
   ],
   "source": [
    "dict_checks(100,**dict_x1)"
   ]
  },
  {
   "cell_type": "code",
   "execution_count": null,
   "metadata": {},
   "outputs": [],
   "source": []
  },
  {
   "cell_type": "code",
   "execution_count": null,
   "metadata": {},
   "outputs": [],
   "source": [
    "def dict_deger_arttirma(x,**kwargs):\n",
    "    dict_x = {}\n",
    "    for k,v in kwargs.items():\n",
    "        if isinstance(v,int):\n",
    "            dict_x[k] =  v + x\n",
    "        else:\n",
    "            dict_x[k] = v\n",
    "    return dict_x\n"
   ]
  },
  {
   "cell_type": "markdown",
   "metadata": {},
   "source": [
    "### **enumerate**"
   ]
  },
  {
   "cell_type": "markdown",
   "metadata": {},
   "source": [
    "**Soru-1:**\n",
    "\n",
    "Bir liste içindeki elemanları ve indekslerini enumerate ile yazdırın. Örneğin, [\"a\", \"b\", \"c\"]."
   ]
  },
  {
   "cell_type": "code",
   "execution_count": 158,
   "metadata": {},
   "outputs": [
    {
     "name": "stdout",
     "output_type": "stream",
     "text": [
      "1 a\n",
      "2 b\n",
      "3 c\n",
      "4 d\n",
      "5 e\n",
      "6 f\n"
     ]
    }
   ],
   "source": [
    "for xi,elx in enumerate([\"a\",\"b\",\"c\",\"d\",\"e\",\"f\"],1):\n",
    "    print(xi,elx)"
   ]
  },
  {
   "cell_type": "markdown",
   "metadata": {},
   "source": [
    "**Soru-2:**\n",
    "\n",
    "enumerate kullanarak bir liste içindeki her elemanı bir dictionary’ye indeksleri ile beraber ekleyin."
   ]
  },
  {
   "cell_type": "code",
   "execution_count": 159,
   "metadata": {},
   "outputs": [],
   "source": [
    "number_list = list(range(99,1000,100))\n",
    "dict1 = {}"
   ]
  },
  {
   "cell_type": "code",
   "execution_count": 160,
   "metadata": {},
   "outputs": [
    {
     "name": "stdout",
     "output_type": "stream",
     "text": [
      "{0: 99, 1: 199, 2: 299, 3: 399, 4: 499, 5: 599, 6: 699, 7: 799, 8: 899, 9: 999}\n"
     ]
    }
   ],
   "source": [
    "for key,value in enumerate(number_list):\n",
    "    dict1[key] = value # Dictionary e eleman ekleme kısmına dikkat et... \n",
    "\n",
    "print(dict1)"
   ]
  },
  {
   "cell_type": "code",
   "execution_count": null,
   "metadata": {},
   "outputs": [],
   "source": []
  },
  {
   "cell_type": "markdown",
   "metadata": {},
   "source": [
    "**Soru-3:**\n",
    "\n",
    "enumerate kullanarak bir listede bulunan çift sayıların indekslerini liste olarak döndüren bir fonksiyon yazın."
   ]
  },
  {
   "cell_type": "code",
   "execution_count": 161,
   "metadata": {},
   "outputs": [
    {
     "data": {
      "text/plain": [
       "[60, 63, 66, 69, 72, 75, 78, 81, 84, 87, 90, 93, 96, 99]"
      ]
     },
     "execution_count": 161,
     "metadata": {},
     "output_type": "execute_result"
    }
   ],
   "source": [
    "mix_number_list = list(range(60,100,3))\n",
    "mix_number_list"
   ]
  },
  {
   "cell_type": "code",
   "execution_count": 162,
   "metadata": {},
   "outputs": [
    {
     "name": "stdout",
     "output_type": "stream",
     "text": [
      "[1, 3, 5, 7, 9, 11, 13]\n"
     ]
    }
   ],
   "source": [
    "index_list = []\n",
    "\n",
    "for ix,xi in enumerate(mix_number_list,1):\n",
    "    if xi % 2 == 0:\n",
    "        index_list.append(ix)\n",
    "print(f\"{index_list}\")"
   ]
  },
  {
   "cell_type": "code",
   "execution_count": null,
   "metadata": {},
   "outputs": [],
   "source": []
  },
  {
   "cell_type": "markdown",
   "metadata": {},
   "source": [
    "**Soru-4:**\n",
    "\n",
    "Bir metindeki her kelimenin sırasını (indeksini) ve uzunluğunu tuple olarak döndüren bir enumerate kullanımı yapın.\n"
   ]
  },
  {
   "cell_type": "code",
   "execution_count": 163,
   "metadata": {},
   "outputs": [],
   "source": [
    "kelime_listesi = [\"elma\", \"armut\", \"muz\", \"çilek\", \"kiraz\", \"portakal\", \"limon\", \"kavun\", \"karpuz\", \"üzüm\"]\n"
   ]
  },
  {
   "cell_type": "code",
   "execution_count": 164,
   "metadata": {},
   "outputs": [
    {
     "name": "stdout",
     "output_type": "stream",
     "text": [
      "Index Count = 0 and Lenght Of Word = 4\n",
      "Index Count = 1 and Lenght Of Word = 5\n",
      "Index Count = 2 and Lenght Of Word = 3\n",
      "Index Count = 3 and Lenght Of Word = 5\n",
      "Index Count = 4 and Lenght Of Word = 5\n",
      "Index Count = 5 and Lenght Of Word = 8\n",
      "Index Count = 6 and Lenght Of Word = 5\n",
      "Index Count = 7 and Lenght Of Word = 5\n",
      "Index Count = 8 and Lenght Of Word = 6\n",
      "Index Count = 9 and Lenght Of Word = 4\n"
     ]
    }
   ],
   "source": [
    "for ix,ex in enumerate(kelime_listesi):\n",
    "    print(f\"Index Count = {ix} and Lenght Of Word = {len(ex)}\")"
   ]
  },
  {
   "cell_type": "code",
   "execution_count": null,
   "metadata": {},
   "outputs": [],
   "source": []
  },
  {
   "cell_type": "markdown",
   "metadata": {},
   "source": [
    "### **zip**"
   ]
  },
  {
   "cell_type": "markdown",
   "metadata": {},
   "source": [
    "**Soru-1:**\n",
    "\n",
    "İki listeyi birleştirip zip kullanarak bir liste oluşturun. Örneğin, [1, 2] ve [3, 4] -> [(1, 3), (2, 4)]."
   ]
  },
  {
   "cell_type": "code",
   "execution_count": 103,
   "metadata": {},
   "outputs": [
    {
     "data": {
      "text/plain": [
       "zip"
      ]
     },
     "execution_count": 103,
     "metadata": {},
     "output_type": "execute_result"
    }
   ],
   "source": [
    "hayvanlar = [\"Kedi\", \"Köpek\", \"Kuş\", \"Balık\", \"Tavşan\"]\n",
    "sesler = [\"Miyav\", \"Hav hav\", \"Cik cik\", \"Glup glup\", \"Pıt pıt\"]\n",
    "\n",
    "zip"
   ]
  },
  {
   "cell_type": "code",
   "execution_count": 107,
   "metadata": {},
   "outputs": [
    {
     "name": "stdout",
     "output_type": "stream",
     "text": [
      "(('Kedi', 'Miyav'), ('Köpek', 'Hav hav'), ('Kuş', 'Cik cik'), ('Balık', 'Glup glup'), ('Tavşan', 'Pıt pıt'))\n"
     ]
    }
   ],
   "source": [
    "tuple_collection = tuple(zip(hayvanlar,sesler))\n",
    "\n",
    "print(tuple_collection)"
   ]
  },
  {
   "cell_type": "markdown",
   "metadata": {},
   "source": [
    "**Soru-2:**\n",
    "\n",
    "\n",
    "Üç listeyi ([1, 2], [3, 4], [5, 6]) birleştirip zip ile tuple listesi haline getirin."
   ]
  },
  {
   "cell_type": "code",
   "execution_count": 113,
   "metadata": {},
   "outputs": [],
   "source": [
    "list_1 = list([1,2])\n",
    "list_2 = list([3,4])\n",
    "list_3 = list([5,6])"
   ]
  },
  {
   "cell_type": "code",
   "execution_count": 115,
   "metadata": {},
   "outputs": [
    {
     "name": "stdout",
     "output_type": "stream",
     "text": [
      "((1, 3, 5), (2, 4, 6))\n"
     ]
    }
   ],
   "source": [
    "zipper_list = tuple(zip(list_1,list_2,list_3))\n",
    "\n",
    "print(zipper_list)"
   ]
  },
  {
   "cell_type": "markdown",
   "metadata": {},
   "source": [
    "**Not:**\n",
    "\n",
    "Her bir tuple, list_1, list_2 ve list_3 listelerinin aynı indeksindeki elemanları içerir.\n",
    "\n",
    "Eğer zipper_list'in *tek bir tuple içerisinde tüm değerleri içermesini bekliyorsanız,* **chain fonksiyonunu** kullanabilirsiniz:"
   ]
  },
  {
   "cell_type": "code",
   "execution_count": null,
   "metadata": {},
   "outputs": [
    {
     "data": {
      "text/plain": [
       "'\\n\\nfrom itertools import chain\\n\\nlist_1 = [1, 2, 3]\\nlist_2 = [4, 5, 6]\\nlist_3 = [7, 8, 9]\\n\\nzipper_list = tuple(chain(list_1, list_2, list_3))\\n\\nprint(zipper_list)\\n\\n'"
      ]
     },
     "execution_count": 123,
     "metadata": {},
     "output_type": "execute_result"
    }
   ],
   "source": [
    "# itertools modülü kullanımı için bir örnek :\n",
    "\n",
    "\"\"\"\n",
    "\n",
    "from itertools import chain\n",
    "\n",
    "list_1 = [1, 2, 3]\n",
    "list_2 = [4, 5, 6]\n",
    "list_3 = [7, 8, 9]\n",
    "\n",
    "zipper_list = tuple(chain(list_1, list_2, list_3))\n",
    "\n",
    "print(zipper_list)\n",
    "\n",
    "\"\"\"\n"
   ]
  },
  {
   "cell_type": "code",
   "execution_count": null,
   "metadata": {},
   "outputs": [
    {
     "name": "stdout",
     "output_type": "stream",
     "text": [
      "(1, 2, 3, 4, 5, 6)\n"
     ]
    }
   ],
   "source": [
    "import itertools # Chain fonks.için adım-1: ya da bu formatta da direkt olarak modülün fonksiyonunu import edebiliriz. -> from itertools import chain\n",
    "\n",
    "list_1 = list([1,2])\n",
    "list_2 = list([3,4])\n",
    "list_3 = list([5,6])\n",
    "\n",
    "zipper_list = tuple(chain(list_1,list_2,list_3))\n",
    "\n",
    "print(zipper_list)\n"
   ]
  },
  {
   "cell_type": "markdown",
   "metadata": {},
   "source": [
    "**Soru-3:**\n",
    "\n",
    "İki listeyi ([\"a\", \"b\", \"c\"] ve [1, 2, 3]) zip ile birleştirip bir dictionary oluşturun."
   ]
  },
  {
   "cell_type": "code",
   "execution_count": 125,
   "metadata": {},
   "outputs": [],
   "source": [
    "list_letters = [\"a\", \"b\", \"c\"]\n",
    "list_numbers = [1, 2, 3]\n",
    "\n",
    "zipper_nl = dict(zip(list_numbers,list_letters))"
   ]
  },
  {
   "cell_type": "code",
   "execution_count": 126,
   "metadata": {},
   "outputs": [
    {
     "data": {
      "text/plain": [
       "{1: 'a', 2: 'b', 3: 'c'}"
      ]
     },
     "execution_count": 126,
     "metadata": {},
     "output_type": "execute_result"
    }
   ],
   "source": [
    "zipper_nl"
   ]
  },
  {
   "cell_type": "markdown",
   "metadata": {},
   "source": [
    "**Soru-4:**\n",
    "\n",
    "Bir listenin elemanlarını zip ve enumerate kullanarak hem indeksini hem de kendisini döndüren bir fonksiyon yazın."
   ]
  },
  {
   "cell_type": "code",
   "execution_count": null,
   "metadata": {},
   "outputs": [],
   "source": []
  },
  {
   "cell_type": "code",
   "execution_count": 153,
   "metadata": {},
   "outputs": [],
   "source": [
    "ulkeler = [\"Türkiye\", \"Japonya\", \"Almanya\", \"Brezilya\", \"Kanada\"]\n",
    "baskentler = [\"Ankara\", \"Tokyo\", \"Berlin\", \"Brasília\", \"Ottawa\"]"
   ]
  },
  {
   "cell_type": "code",
   "execution_count": 151,
   "metadata": {},
   "outputs": [],
   "source": [
    "def index_zip_list(lst):\n",
    "    result = list(zip(range(len(lst)),lst))\n",
    "    return result"
   ]
  },
  {
   "cell_type": "code",
   "execution_count": 154,
   "metadata": {},
   "outputs": [
    {
     "data": {
      "text/plain": [
       "[(0, 'Türkiye'),\n",
       " (1, 'Japonya'),\n",
       " (2, 'Almanya'),\n",
       " (3, 'Brezilya'),\n",
       " (4, 'Kanada')]"
      ]
     },
     "execution_count": 154,
     "metadata": {},
     "output_type": "execute_result"
    }
   ],
   "source": [
    "index_zip_list(ulkeler)"
   ]
  },
  {
   "cell_type": "code",
   "execution_count": null,
   "metadata": {},
   "outputs": [],
   "source": []
  }
 ],
 "metadata": {
  "kernelspec": {
   "display_name": "Python 3",
   "language": "python",
   "name": "python3"
  },
  "language_info": {
   "codemirror_mode": {
    "name": "ipython",
    "version": 3
   },
   "file_extension": ".py",
   "mimetype": "text/x-python",
   "name": "python",
   "nbconvert_exporter": "python",
   "pygments_lexer": "ipython3",
   "version": "3.11.5"
  }
 },
 "nbformat": 4,
 "nbformat_minor": 2
}
