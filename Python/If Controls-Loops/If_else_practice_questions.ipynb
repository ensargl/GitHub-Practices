{
 "cells": [
  {
   "cell_type": "markdown",
   "id": "38a54384-6c84-4eb5-96fd-f92fd31a8f70",
   "metadata": {},
   "source": [
    "# Python if-else practice questions:"
   ]
  },
  {
   "cell_type": "markdown",
   "id": "a68d89e2-550f-4173-b9df-c2ee6602ff97",
   "metadata": {},
   "source": [
    "1. **Asal Sayı Kontrolü**\n",
    "\n",
    "       Kullanıcıdan bir sayı alın ve bu sayının asal olup olmadığını kontrol edin.\n",
    "       (Asal sayılar, sadece 1 ve kendisine bölünebilen pozitif tam sayılardır.)"
   ]
  },
  {
   "cell_type": "code",
   "execution_count": null,
   "id": "6dfd77ca-96e0-4de2-b33e-4be3a6ec63f2",
   "metadata": {},
   "outputs": [],
   "source": []
  },
  {
   "cell_type": "code",
   "execution_count": null,
   "id": "197c4e1a-b804-4093-ba69-d4e2a321e5a3",
   "metadata": {},
   "outputs": [],
   "source": []
  },
  {
   "cell_type": "code",
   "execution_count": null,
   "id": "ddc538e4-04cf-4873-ba7d-2a08f5f05f8e",
   "metadata": {},
   "outputs": [],
   "source": []
  },
  {
   "cell_type": "code",
   "execution_count": null,
   "id": "b9cc1cb1-935f-4579-b631-fc7cfceb77e1",
   "metadata": {},
   "outputs": [],
   "source": []
  },
  {
   "cell_type": "markdown",
   "id": "7cb798ba-f5ad-401e-8d29-0c8925037d1a",
   "metadata": {},
   "source": [
    "2. **Yılın Artık Yıl Olup Olmadığını Kontrol Etme**\n",
    "\n",
    "       Kullanıcıdan bir yıl alın ve bu yılın artık yıl olup olmadığını belirleyin.\n",
    "       (Artık yıl kuralları: Yıl 4’e tam bölünüyorsa artık yıl olabilir ancak 100’e bölünüyorsa artık yıl olmak için ayrıca 400’e de bölünmelidir.)"
   ]
  },
  {
   "cell_type": "code",
   "execution_count": null,
   "id": "07957f12-57f9-4062-8f5a-b99796350507",
   "metadata": {},
   "outputs": [],
   "source": []
  },
  {
   "cell_type": "code",
   "execution_count": null,
   "id": "d0ff0476-4082-4976-ab5f-4d4887a998a0",
   "metadata": {},
   "outputs": [],
   "source": []
  },
  {
   "cell_type": "code",
   "execution_count": null,
   "id": "7948316e-0938-4e9e-ad39-0deadc083059",
   "metadata": {},
   "outputs": [],
   "source": []
  },
  {
   "cell_type": "code",
   "execution_count": null,
   "id": "55d239d4-d727-4499-86f5-bbed65fbda31",
   "metadata": {},
   "outputs": [],
   "source": []
  },
  {
   "cell_type": "markdown",
   "id": "1d475d0e-d819-4b26-8082-55fb4a9e72e1",
   "metadata": {},
   "source": [
    "3. **Üç Sayı ile En Büyük ve En Küçük Bulma**\n",
    "\n",
    "       Kullanıcıdan üç farklı sayı alın ve bu sayılar arasındaki en büyük ve en küçük sayıyı bulun.Eğer sayılar eşitse bunu da belirtin."
   ]
  },
  {
   "cell_type": "code",
   "execution_count": null,
   "id": "ccbb71cd-d715-490b-a27d-e0a87b409e92",
   "metadata": {},
   "outputs": [],
   "source": []
  },
  {
   "cell_type": "code",
   "execution_count": null,
   "id": "bdd72417-a458-468d-8a0f-3e3b42715cdd",
   "metadata": {},
   "outputs": [],
   "source": []
  },
  {
   "cell_type": "code",
   "execution_count": null,
   "id": "6e98c6a5-8802-42f7-8b83-9b4fef2b1618",
   "metadata": {},
   "outputs": [],
   "source": []
  },
  {
   "cell_type": "code",
   "execution_count": null,
   "id": "d4a35191-876f-4847-afb8-a561c025d90d",
   "metadata": {},
   "outputs": [],
   "source": []
  },
  {
   "cell_type": "markdown",
   "id": "260e9abe-a733-4fc9-8ba6-cc4212d07a07",
   "metadata": {},
   "source": [
    "4. **Basamak Sayısı Kontrolü**\n",
    "    \n",
    "        Kullanıcıdan bir sayı alın ve bu sayının kaç basamaklı olduğunu kontrol edin.Negatif sayılar için de doğru sonucu hesaplayın."
   ]
  },
  {
   "cell_type": "code",
   "execution_count": null,
   "id": "a9b8b6ed-dc97-4dde-8f63-ec3982f07f40",
   "metadata": {},
   "outputs": [],
   "source": []
  },
  {
   "cell_type": "code",
   "execution_count": null,
   "id": "920ac486-8228-46f6-a56f-0cb566225dfa",
   "metadata": {},
   "outputs": [],
   "source": []
  },
  {
   "cell_type": "code",
   "execution_count": null,
   "id": "de25ebee-0ab0-469a-a27b-b8f74d98e7df",
   "metadata": {},
   "outputs": [],
   "source": []
  },
  {
   "cell_type": "code",
   "execution_count": null,
   "id": "de4b865e-eae3-48a1-9177-2559a1ce42a4",
   "metadata": {},
   "outputs": [],
   "source": []
  },
  {
   "cell_type": "markdown",
   "id": "213f1140-be13-43fe-ad14-542f1ca70e28",
   "metadata": {},
   "source": [
    "\"5. **Şifre Güçlülüğü Kontrolü**\n",
    "\n",
    "    Kullanıcıdan bir şifre alıp şunları kontrol edin:\n",
    "    - Şifre en az 8 karakter uzunluğunda mı?\n",
    "    - Büyük harf, küçük harf, rakam ve özel karakter içeriyor mu?\n",
    "    Sonuç olarak şifrenin güçlü, orta ya da zayıf olduğunu yazdırın."
   ]
  },
  {
   "cell_type": "code",
   "execution_count": null,
   "id": "12623318-2ae0-4eb3-b3bc-da5a64bf2001",
   "metadata": {},
   "outputs": [],
   "source": []
  },
  {
   "cell_type": "code",
   "execution_count": null,
   "id": "fc38d7a9-dda5-4e1e-81a8-40636ac5bf25",
   "metadata": {},
   "outputs": [],
   "source": []
  },
  {
   "cell_type": "code",
   "execution_count": null,
   "id": "154a63b8-5423-493e-ab4f-0b93c3a85a79",
   "metadata": {},
   "outputs": [],
   "source": []
  },
  {
   "cell_type": "code",
   "execution_count": null,
   "id": "83c0ba80-8129-423f-aa96-775766da7c50",
   "metadata": {},
   "outputs": [],
   "source": []
  },
  {
   "cell_type": "markdown",
   "id": "b99e4fdb-4b56-4e10-9978-7ad26246254b",
   "metadata": {},
   "source": [
    "6. **Üç Sayı ile Üçgen Türü Belirleme**\n",
    "\n",
    "       Kullanıcıdan üç kenar uzunluğu alın. Eğer bu kenarlar bir üçgen oluşturuyorsa, üçgenin türünü belirleyin:\n",
    "        - Eşkenar\n",
    "        - İkizkenar\n",
    "        - Çeşitkenar\n",
    "        Üçgen oluşmuyorsa uygun bir mesaj verin."
   ]
  },
  {
   "cell_type": "code",
   "execution_count": null,
   "id": "9aa16ac6-3ead-4ce5-ba02-3dbbf87e516c",
   "metadata": {},
   "outputs": [],
   "source": []
  },
  {
   "cell_type": "code",
   "execution_count": null,
   "id": "d48393af-7107-4ee7-b0f0-ecdc72a0103c",
   "metadata": {},
   "outputs": [],
   "source": []
  },
  {
   "cell_type": "code",
   "execution_count": null,
   "id": "62fdadf5-8cfd-420d-bd05-528e6f18e1be",
   "metadata": {},
   "outputs": [],
   "source": []
  },
  {
   "cell_type": "code",
   "execution_count": null,
   "id": "1816e7e1-978a-4729-8d28-6b4e75877aa2",
   "metadata": {},
   "outputs": [],
   "source": []
  },
  {
   "cell_type": "markdown",
   "id": "508ba8f8-811d-4bda-b588-3bd4d54dcbb6",
   "metadata": {},
   "source": [
    "7. **Sayının Fibonacci Serisinde Olup Olmadığını Kontrol Etme**\n",
    "\n",
    "        Kullanıcıdan bir sayı alın ve bu sayının Fibonacci serisinde yer alıp almadığını kontrol edin.\n",
    "        Fibonacci serisi: 0, 1, 1, 2, 3, 5, 8, 13..."
   ]
  },
  {
   "cell_type": "code",
   "execution_count": null,
   "id": "eec1fd45-3c70-40aa-bfc2-1acc9c007abc",
   "metadata": {},
   "outputs": [],
   "source": []
  },
  {
   "cell_type": "code",
   "execution_count": null,
   "id": "b3637907-e539-46b0-baac-f384a862715a",
   "metadata": {},
   "outputs": [],
   "source": []
  },
  {
   "cell_type": "code",
   "execution_count": null,
   "id": "e961fede-7291-45b0-98be-30a474e2f868",
   "metadata": {},
   "outputs": [],
   "source": []
  },
  {
   "cell_type": "code",
   "execution_count": null,
   "id": "761a8a57-6268-4023-9c5d-bd36390460a1",
   "metadata": {},
   "outputs": [],
   "source": []
  },
  {
   "cell_type": "markdown",
   "id": "4dd89aa1-fa73-4f5d-8893-fbd04d79ebc4",
   "metadata": {},
   "source": [
    "8. **Tarih Formatı Doğrulama**\n",
    "\n",
    "       Kullanıcıdan bir tarih alın (gg/aa/yyyy formatında). Tarihin doğru bir formatta olup olmadığını ve geçerli bir tarih olup olmadığını kontrol edin."
   ]
  },
  {
   "cell_type": "code",
   "execution_count": null,
   "id": "990c94c2-2342-4fa0-a39b-36ffe5647cc4",
   "metadata": {},
   "outputs": [],
   "source": []
  },
  {
   "cell_type": "code",
   "execution_count": null,
   "id": "1bff3dc5-5e2b-4dfc-a9b3-64126c22cd70",
   "metadata": {},
   "outputs": [],
   "source": []
  },
  {
   "cell_type": "code",
   "execution_count": null,
   "id": "7572e1af-b0e1-4c34-8d6d-245d22055cd7",
   "metadata": {},
   "outputs": [],
   "source": []
  },
  {
   "cell_type": "code",
   "execution_count": null,
   "id": "a97be6d0-e3a1-4509-ae83-07e70b401f3d",
   "metadata": {},
   "outputs": [],
   "source": []
  },
  {
   "cell_type": "markdown",
   "id": "f17eaf61-788c-4a07-817a-668531b147ca",
   "metadata": {},
   "source": [
    "9. **İdeal Kilo Hesaplama**\n",
    "    \n",
    "        Kullanıcıdan boy (cm), kilo (kg) ve cinsiyet bilgilerini alın. Verilere göre ideal kiloyu hesaplayın:\n",
    "        - Erkek: `50 + 2.3 * (boy-152)/2.54`\n",
    "        - Kadın: `45.5 + 2.3 * (boy-152)/2.54`\n",
    "        Kullanıcının mevcut kilosunun ideal kilodan ne kadar farklı olduğunu yazdırın."
   ]
  },
  {
   "cell_type": "code",
   "execution_count": null,
   "id": "709d1d23-fe3b-4abd-86a1-89556244116f",
   "metadata": {},
   "outputs": [],
   "source": []
  },
  {
   "cell_type": "code",
   "execution_count": null,
   "id": "1a4ea29f-bcce-4b3c-a47e-140aa7bed641",
   "metadata": {},
   "outputs": [],
   "source": []
  },
  {
   "cell_type": "code",
   "execution_count": null,
   "id": "2929c39f-5277-4737-85a8-87f040f06077",
   "metadata": {},
   "outputs": [],
   "source": []
  },
  {
   "cell_type": "code",
   "execution_count": null,
   "id": "5b80cbd7-73ea-449d-9a74-f21b67a3aa92",
   "metadata": {},
   "outputs": [],
   "source": []
  },
  {
   "cell_type": "markdown",
   "id": "5fcb5f3d-7ce2-4a69-bb0f-70b87d3aebe4",
   "metadata": {},
   "source": [
    "10. **Kullanıcıdan İki Zaman Bilgisi Alın**\n",
    "\n",
    "        Kullanıcıdan başlangıç ve bitiş zamanını (hh:mm formatında) alın. Bu zamanlar arasındaki farkı hesaplayın.Eğer başlangıç zamanı, bitiş zamanından büyükse, zamanı ertesi güne taşımayı düşünerek hesap yapın."
   ]
  },
  {
   "cell_type": "code",
   "execution_count": null,
   "id": "257e9894-9e1c-49f0-baf2-27746b671411",
   "metadata": {},
   "outputs": [],
   "source": []
  },
  {
   "cell_type": "code",
   "execution_count": null,
   "id": "26ee38e8-3a94-444b-833f-22c6db6cb9a7",
   "metadata": {},
   "outputs": [],
   "source": []
  },
  {
   "cell_type": "code",
   "execution_count": null,
   "id": "6f185980-0f04-4294-80ba-dfffa88cbb8b",
   "metadata": {},
   "outputs": [],
   "source": []
  },
  {
   "cell_type": "code",
   "execution_count": null,
   "id": "a4be295d-1aa2-4422-b8e8-663004ce1a88",
   "metadata": {},
   "outputs": [],
   "source": []
  }
 ],
 "metadata": {
  "kernelspec": {
   "display_name": "Python 3 (ipykernel)",
   "language": "python",
   "name": "python3"
  },
  "language_info": {
   "codemirror_mode": {
    "name": "ipython",
    "version": 3
   },
   "file_extension": ".py",
   "mimetype": "text/x-python",
   "name": "python",
   "nbconvert_exporter": "python",
   "pygments_lexer": "ipython3",
   "version": "3.12.7"
  }
 },
 "nbformat": 4,
 "nbformat_minor": 5
}
