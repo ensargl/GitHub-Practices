{
 "cells": [
  {
   "cell_type": "code",
   "execution_count": null,
   "metadata": {},
   "outputs": [],
   "source": [
    "# Status kodunu kullanicidan aliniz, \n",
    "# eger status code  \n",
    "# 200 ise Basarili \n",
    "# 400 ise bad Request\n",
    "# 500 ise Server Error\n",
    "# yazdiran programi yazin\n"
   ]
  },
  {
   "cell_type": "code",
   "execution_count": 1,
   "metadata": {},
   "outputs": [
    {
     "ename": "ValueError",
     "evalue": "invalid literal for int() with base 10: 'two'",
     "output_type": "error",
     "traceback": [
      "\u001b[1;31m---------------------------------------------------------------------------\u001b[0m",
      "\u001b[1;31mValueError\u001b[0m                                Traceback (most recent call last)",
      "Cell \u001b[1;32mIn[1], line 1\u001b[0m\n\u001b[1;32m----> 1\u001b[0m status_code \u001b[38;5;241m=\u001b[39m \u001b[38;5;28;43mint\u001b[39;49m\u001b[43m(\u001b[49m\u001b[38;5;28;43minput\u001b[39;49m\u001b[43m(\u001b[49m\u001b[38;5;124;43m\"\u001b[39;49m\u001b[38;5;124;43mInput the status code.\u001b[39;49m\u001b[38;5;124;43m\"\u001b[39;49m\u001b[43m)\u001b[49m\u001b[43m)\u001b[49m\n\u001b[0;32m      3\u001b[0m \u001b[38;5;28;01mif\u001b[39;00m status_code \u001b[38;5;241m==\u001b[39m \u001b[38;5;241m200\u001b[39m:\n\u001b[0;32m      4\u001b[0m     \u001b[38;5;28mprint\u001b[39m(\u001b[38;5;124m\"\u001b[39m\u001b[38;5;124mSuccessful\u001b[39m\u001b[38;5;124m\"\u001b[39m)\n",
      "\u001b[1;31mValueError\u001b[0m: invalid literal for int() with base 10: 'two'"
     ]
    }
   ],
   "source": [
    "status_code = int(input(\"Input the status code.\"))\n",
    "\n",
    "if status_code == 200:\n",
    "    print(\"Successful\")\n",
    "elif status_code == 400:\n",
    "    print(\"Bad Request\")\n",
    "elif status_code == 500:\n",
    "    print(\"Server Error\")\n",
    "else:\n",
    "    print(\"Oh no! Something went wrong...\")"
   ]
  },
  {
   "cell_type": "markdown",
   "metadata": {},
   "source": [
    "- Not : Yukarıda ilk yazdığımız kod bloku için istenilen ifadeyi kullanıcıdan alırken,kullanıcının ifadeyi numerik karakterle mi yoksa alfabetik karakterle mi girdiğini kontrol edecek kod satırını yazmamıştık.Ancak aşağıdaki kod blokunda bu hatayı if altında if yani \"nested if\" yapısını kullanarak,ifadenin ilk önce numerik bir değer olup olmadığını isnumeric() metodu ile kontrol edip;eğer numerik ise ifadenin diğer kod satırlarını nested if kullanarak yeniden düzenledik ve hatayı giderdik."
   ]
  },
  {
   "cell_type": "code",
   "execution_count": 9,
   "metadata": {},
   "outputs": [
    {
     "name": "stdout",
     "output_type": "stream",
     "text": [
      "Bad Request\n"
     ]
    }
   ],
   "source": [
    "status_code = input(\"Input the status code.\")\n",
    "\n",
    "if status_code.isnumeric():\n",
    "\n",
    "    status_code = int(status_code)\n",
    "    if status_code == 200:\n",
    "        print(\"Successful\")\n",
    "    elif status_code == 400:\n",
    "        print(\"Bad Request\")\n",
    "    elif status_code == 500:\n",
    "        print(\"Server Error\")\n",
    "    else:\n",
    "        print(\"Oh no! Something went wrong...\")\n",
    "\n",
    "else:\n",
    "    print(\"Please input a correct status code\")"
   ]
  },
  {
   "cell_type": "code",
   "execution_count": null,
   "metadata": {},
   "outputs": [],
   "source": []
  },
  {
   "cell_type": "code",
   "execution_count": null,
   "metadata": {},
   "outputs": [],
   "source": []
  },
  {
   "cell_type": "code",
   "execution_count": null,
   "metadata": {},
   "outputs": [],
   "source": [
    "# kullanicidan bir sayi alin, \n",
    "# bu sayi 3 e bolunebiliyorsa 'Tech'\n",
    "# 5 e bolunebiliyorsa 'pro',\n",
    "# hem 5 e hem de 3 e bolunebiliyorsa 'techpro' yazdirin\n",
    "# sayi bu sartlarin hicbirisini saglamiyorsa sayinin kendisini yazdiran python kodunu yazin"
   ]
  },
  {
   "cell_type": "code",
   "execution_count": 2,
   "metadata": {},
   "outputs": [
    {
     "name": "stdout",
     "output_type": "stream",
     "text": [
      "Techpro\n"
     ]
    }
   ],
   "source": [
    "user_input = int(input(\"Input a number\"))\n",
    "\n",
    "if (user_input % 15) == 0:\n",
    "    print(\"Techpro\")\n",
    "elif (user_input % 3) == 0:\n",
    "    print(\"Tech\")\n",
    "elif (user_input % 5) == 0:\n",
    "    print(\"pro\")\n",
    "else:\n",
    "    print(user_input)"
   ]
  },
  {
   "cell_type": "code",
   "execution_count": 10,
   "metadata": {},
   "outputs": [
    {
     "ename": "ValueError",
     "evalue": "invalid literal for int() with base 10: 'on'",
     "output_type": "error",
     "traceback": [
      "\u001b[1;31m---------------------------------------------------------------------------\u001b[0m",
      "\u001b[1;31mValueError\u001b[0m                                Traceback (most recent call last)",
      "Cell \u001b[1;32mIn[10], line 1\u001b[0m\n\u001b[1;32m----> 1\u001b[0m user_input \u001b[38;5;241m=\u001b[39m \u001b[38;5;28;43mint\u001b[39;49m\u001b[43m(\u001b[49m\u001b[38;5;28;43minput\u001b[39;49m\u001b[43m(\u001b[49m\u001b[38;5;124;43m\"\u001b[39;49m\u001b[38;5;124;43mInput a number\u001b[39;49m\u001b[38;5;124;43m\"\u001b[39;49m\u001b[43m)\u001b[49m\u001b[43m)\u001b[49m\n\u001b[0;32m      3\u001b[0m \u001b[38;5;28;01mif\u001b[39;00m (user_input \u001b[38;5;241m%\u001b[39m \u001b[38;5;241m15\u001b[39m) \u001b[38;5;241m==\u001b[39m \u001b[38;5;241m0\u001b[39m:\n\u001b[0;32m      4\u001b[0m     \u001b[38;5;28mprint\u001b[39m(\u001b[38;5;124m\"\u001b[39m\u001b[38;5;124mTechpro\u001b[39m\u001b[38;5;124m\"\u001b[39m)\n",
      "\u001b[1;31mValueError\u001b[0m: invalid literal for int() with base 10: 'on'"
     ]
    }
   ],
   "source": [
    "user_input = int(input(\"Input a number\"))\n",
    "\n",
    "if (user_input % 15) == 0:\n",
    "    print(\"Techpro\")\n",
    "elif (user_input % 3) == 0:\n",
    "    print(\"Tech\")\n",
    "elif (user_input % 5) == 0:\n",
    "    print(\"pro\")\n",
    "else:\n",
    "    print(user_input)"
   ]
  },
  {
   "cell_type": "markdown",
   "metadata": {},
   "source": [
    "- Not 2 : Yukarıda ilk yazdığımız kod bloku için istenilen ifadeyi kullanıcıdan alırken,kullanıcının ifadeyi numerik karakterle mi yoksa alfabetik karakterle mi girdiğini kontrol edecek kod satırını yazmamıştık.Ancak aşağıdaki kod blokunda bu hatayı if altında if yani \"nested if\" yapısını kullanarak,ifadenin ilk önce numerik bir değer olup olmadığını isnumeric() metodu ile kontrol edip;eğer numerik ise ifadenin diğer kod satırlarını nested if kullanarak yeniden düzenledik ve hatayı giderdik."
   ]
  },
  {
   "cell_type": "code",
   "execution_count": 14,
   "metadata": {},
   "outputs": [
    {
     "name": "stdout",
     "output_type": "stream",
     "text": [
      "pro\n"
     ]
    }
   ],
   "source": [
    "user_input = input(\"Input a number\")\n",
    "if user_input.isnumeric():\n",
    "\n",
    "    user_input = int(user_input)\n",
    "    if (user_input % 15) == 0:\n",
    "        print(\"Techpro\")\n",
    "    elif (user_input % 3) == 0:\n",
    "        print(\"Tech\")\n",
    "    elif (user_input % 5) == 0:\n",
    "        print(\"pro\")\n",
    "    else:\n",
    "        print(user_input)  \n",
    "else:\n",
    "    print(\"Please enter the number you want to check, correctly and in numerical format.\")"
   ]
  },
  {
   "cell_type": "code",
   "execution_count": null,
   "metadata": {},
   "outputs": [],
   "source": []
  },
  {
   "cell_type": "code",
   "execution_count": null,
   "metadata": {},
   "outputs": [],
   "source": []
  },
  {
   "cell_type": "code",
   "execution_count": null,
   "metadata": {},
   "outputs": [],
   "source": [
    "# Soru: Bir restoran, müşterilerine sipariş verdikleri yemeklerin toplam tutarına\n",
    "# göre servis ücreti uygulamaktadır. Toplam sipariş tutarına göre servis ücreti şu şekildedir:\n",
    "# Eğer sipariş tutarı 200 TL ve üzerindeyse, servis ücreti yoktur.\n",
    "# Eğer sipariş tutarı 100 TL ile 199 TL arasındaysa, %5 servis ücreti uygulanır.\n",
    "# Eğer sipariş tutarı 50 TL ile 99 TL arasındaysa, %10 servis ücreti uygulanır.\n",
    "# Eğer sipariş tutarı 50 TL'nin altındaysa, %15 servis ücreti uygulanır.\n",
    "# Sipariş tutarını input olarak alan ve uygulanacak servis ücretini hesaplayarak ödenecek \n",
    "#toplam tutarı ekrana yazdıran bir program yazın.\n"
   ]
  },
  {
   "cell_type": "code",
   "execution_count": 15,
   "metadata": {},
   "outputs": [
    {
     "ename": "ValueError",
     "evalue": "could not convert string to float: 'ee'",
     "output_type": "error",
     "traceback": [
      "\u001b[1;31m---------------------------------------------------------------------------\u001b[0m",
      "\u001b[1;31mValueError\u001b[0m                                Traceback (most recent call last)",
      "Cell \u001b[1;32mIn[15], line 1\u001b[0m\n\u001b[1;32m----> 1\u001b[0m total_order_amount \u001b[38;5;241m=\u001b[39m \u001b[38;5;28;43mfloat\u001b[39;49m\u001b[43m(\u001b[49m\u001b[38;5;28;43minput\u001b[39;49m\u001b[43m(\u001b[49m\u001b[38;5;124;43m\"\u001b[39;49m\u001b[38;5;124;43mPlease enter the total order amount\u001b[39;49m\u001b[38;5;124;43m\"\u001b[39;49m\u001b[43m)\u001b[49m\u001b[43m)\u001b[49m\n\u001b[0;32m      3\u001b[0m service_fee \u001b[38;5;241m=\u001b[39m \u001b[38;5;241m0.05\u001b[39m\n\u001b[0;32m      4\u001b[0m service_fee_2 \u001b[38;5;241m=\u001b[39m \u001b[38;5;241m0.1\u001b[39m\n",
      "\u001b[1;31mValueError\u001b[0m: could not convert string to float: 'ee'"
     ]
    }
   ],
   "source": [
    "total_order_amount = float(input(\"Please enter the total order amount\"))\n",
    "\n",
    "service_fee = 0.05\n",
    "service_fee_2 = 0.1\n",
    "service_fee_3 = 0.15\n",
    "\n",
    "if (total_order_amount >= 200):\n",
    "    print(f\"The total amount you need to pay, including the service fee (Exempt from), is {total_order_amount} ₺.\")\n",
    "elif (100 <= total_order_amount):\n",
    "    print(f\"The total amount you need to pay, including the service fee, is {(total_order_amount * service_fee) + (total_order_amount)} TL\")\n",
    "elif (50 <= total_order_amount):\n",
    "    print(f\"The total amount you need to pay, including the service fee, is {(total_order_amount * service_fee_2) + (total_order_amount)} TL\")\n",
    "elif (0 <= total_order_amount):\n",
    "    print(f\"The total amount you need to pay, including the service fee, is {(total_order_amount * service_fee_3) + (total_order_amount)} TL\")\n",
    "else:\n",
    "    print(\"Please input a correct price.\")\n"
   ]
  },
  {
   "cell_type": "code",
   "execution_count": null,
   "metadata": {},
   "outputs": [],
   "source": []
  },
  {
   "cell_type": "code",
   "execution_count": null,
   "metadata": {},
   "outputs": [],
   "source": []
  },
  {
   "cell_type": "code",
   "execution_count": 17,
   "metadata": {},
   "outputs": [
    {
     "name": "stdout",
     "output_type": "stream",
     "text": [
      "The total amount you need to pay, including the service fee, is 88.0 TL\n"
     ]
    }
   ],
   "source": [
    "total_order_amount = input(\"Please enter the total order amount\")\n",
    "\n",
    "service_fee = 0.05\n",
    "service_fee_2 = 0.1\n",
    "service_fee_3 = 0.15\n",
    "if total_order_amount.isnumeric():\n",
    "\n",
    "    total_order_amount = float(total_order_amount)\n",
    "    if (total_order_amount >= 200):\n",
    "        print(f\"The total amount you need to pay, including the service fee (Exempt from), is {total_order_amount} ₺.\")\n",
    "    elif (100 <= total_order_amount):\n",
    "        print(f\"The total amount you need to pay, including the service fee, is {(total_order_amount * service_fee) + (total_order_amount)} TL\")\n",
    "    elif (50 <= total_order_amount):\n",
    "        print(f\"The total amount you need to pay, including the service fee, is {(total_order_amount * service_fee_2) + (total_order_amount)} TL\")\n",
    "    elif (0 <= total_order_amount):\n",
    "        print(f\"The total amount you need to pay, including the service fee, is {(total_order_amount * service_fee_3) + (total_order_amount)} TL\")\n",
    "    else:\n",
    "        print(\"Please input a correct price.\")\n",
    "else:\n",
    "    print(\"Please enter the price you want to verify, correctly and in numerical format.\")"
   ]
  },
  {
   "cell_type": "markdown",
   "metadata": {},
   "source": [
    "- Not 3 : Yukarıda ilk yazdığımız kod bloku için istenilen ifadeyi kullanıcıdan alırken,kullanıcının ifadeyi numerik karakterle mi yoksa alfabetik karakterle mi girdiğini kontrol edecek kod satırını yazmamıştık.Ancak aşağıdaki kod blokunda bu hatayı if altında if yani \"nested if\" yapısını kullanarak,ifadenin ilk önce numerik bir değer olup olmadığını isnumeric() metodu ile kontrol edip;eğer numerik ise ifadenin diğer kod satırlarını nested if kullanarak yeniden düzenledik ve hatayı giderdik."
   ]
  },
  {
   "cell_type": "code",
   "execution_count": null,
   "metadata": {},
   "outputs": [],
   "source": []
  },
  {
   "cell_type": "code",
   "execution_count": null,
   "metadata": {},
   "outputs": [],
   "source": []
  },
  {
   "cell_type": "code",
   "execution_count": null,
   "metadata": {},
   "outputs": [],
   "source": [
    "# ## TR \n",
    "# Size iki sayı ve aşağıdaki operatörlerden biri verilecektir; \n",
    "# 'add' (topla), 'subtract' (çıkar), 'multiply' (çarp), 'divide' (böl). \n",
    "# Verilen operasyona bağlı olarak sayılar arasında uygun işlemi gerçekleştiren bir fonksiyon yazın. \n",
    "# Örneğin, eğer size 5, 7 ve 'multiply' (çarp) verilirse, 5 * 7 işlemini yapmanız ve sonucu (35) ekrana\n",
    "# yazdırmanız gerekir. Eğer kullanıcı operatörü yanlış girerse,\n",
    "# şu mesajı yazdırın: 'Lütfen operatörlerden birini seçin (add, subtract, divide, multiply)'.\n"
   ]
  },
  {
   "cell_type": "code",
   "execution_count": 18,
   "metadata": {},
   "outputs": [
    {
     "ename": "ValueError",
     "evalue": "invalid literal for int() with base 10: 's'",
     "output_type": "error",
     "traceback": [
      "\u001b[1;31m---------------------------------------------------------------------------\u001b[0m",
      "\u001b[1;31mValueError\u001b[0m                                Traceback (most recent call last)",
      "Cell \u001b[1;32mIn[18], line 1\u001b[0m\n\u001b[1;32m----> 1\u001b[0m numeral_1 \u001b[38;5;241m=\u001b[39m \u001b[38;5;28;43mint\u001b[39;49m\u001b[43m(\u001b[49m\u001b[38;5;28;43minput\u001b[39;49m\u001b[43m(\u001b[49m\u001b[38;5;124;43m\"\u001b[39;49m\u001b[38;5;124;43mPlease enter the first number\u001b[39;49m\u001b[38;5;124;43m\"\u001b[39;49m\u001b[43m)\u001b[49m\u001b[43m)\u001b[49m\n\u001b[0;32m      3\u001b[0m numeral_2 \u001b[38;5;241m=\u001b[39m \u001b[38;5;28mint\u001b[39m(\u001b[38;5;28minput\u001b[39m(\u001b[38;5;124m\"\u001b[39m\u001b[38;5;124mPlease enter the second number\u001b[39m\u001b[38;5;124m\"\u001b[39m))\n\u001b[0;32m      5\u001b[0m operator \u001b[38;5;241m=\u001b[39m \u001b[38;5;28minput\u001b[39m(\u001b[38;5;124m\"\u001b[39m\u001b[38;5;124mPlease enter the operator(add (+), subtract (-), multiply (*), divide (/) )\u001b[39m\u001b[38;5;124m\"\u001b[39m)\n",
      "\u001b[1;31mValueError\u001b[0m: invalid literal for int() with base 10: 's'"
     ]
    }
   ],
   "source": [
    "numeral_1 = int(input(\"Please enter the first number\"))\n",
    "\n",
    "numeral_2 = int(input(\"Please enter the second number\"))\n",
    "\n",
    "operator = input(\"Please enter the operator(add (+), subtract (-), multiply (*), divide (/) )\")\n",
    "\n",
    "if operator == \"add\":\n",
    "    print(f\"{numeral_1 + numeral_2}\")\n",
    "elif operator == \"subtract\":\n",
    "    print(f\"{numeral_1 - numeral_2}\")\n",
    "elif operator == \"multiply\":\n",
    "    print(f\"{numeral_1 * numeral_2}\")\n",
    "elif operator == \"divide\":\n",
    "    if (numeral_2) == 0:\n",
    "        print(\"You cannot divide a number by zero.\")\n",
    "    else:\n",
    "        print(numeral_1  / numeral_2 )\n",
    "else:\n",
    "    print(\"Please select one of the operators.\")"
   ]
  },
  {
   "cell_type": "code",
   "execution_count": null,
   "metadata": {},
   "outputs": [],
   "source": []
  },
  {
   "cell_type": "code",
   "execution_count": null,
   "metadata": {},
   "outputs": [],
   "source": []
  },
  {
   "cell_type": "code",
   "execution_count": 25,
   "metadata": {},
   "outputs": [
    {
     "name": "stdout",
     "output_type": "stream",
     "text": [
      "Please input the numbers for calculation, accurately and using only numbers.\n"
     ]
    }
   ],
   "source": [
    "numeral_1 = input(\"Please enter the first number\")\n",
    "numeral_2 = input(\"Please enter the second number\")\n",
    "operator = input(\"Please enter the operator(add (+), subtract (-), multiply (*), divide (/) )\")\n",
    "\n",
    "if numeral_1.isnumeric() and numeral_2.isnumeric():\n",
    "\n",
    "    if operator == \"add\":\n",
    "        print(f\"{numeral_1 + numeral_2}\")\n",
    "    elif operator == \"subtract\":\n",
    "        print(f\"{numeral_1 - numeral_2}\")\n",
    "    elif operator == \"multiply\":\n",
    "        print(f\"{numeral_1 * numeral_2}\")\n",
    "    elif operator == \"divide\":\n",
    "        if (numeral_2) == 0:\n",
    "            print(\"You cannot divide a number by zero.\")\n",
    "        else:\n",
    "            print(numeral_1  / numeral_2 )\n",
    "    else:\n",
    "        print(\"Please select one of the operators.\")\n",
    "else:\n",
    "    print(\"Please input the numbers for calculation, accurately and using only numbers.\")"
   ]
  },
  {
   "cell_type": "code",
   "execution_count": null,
   "metadata": {},
   "outputs": [],
   "source": []
  },
  {
   "cell_type": "code",
   "execution_count": null,
   "metadata": {},
   "outputs": [],
   "source": []
  },
  {
   "cell_type": "code",
   "execution_count": 41,
   "metadata": {},
   "outputs": [
    {
     "name": "stdout",
     "output_type": "stream",
     "text": [
      "Please input the numbers for calculation, accurately and using only numbers.\n"
     ]
    }
   ],
   "source": [
    "numeral_1 = input(\"Please enter the first number\")\n",
    "numeral_2 = input(\"Please enter the second number\")\n",
    "operator = input(\"Please enter the operator(add (+), subtract (-), multiply (*), divide (/) )\")\n",
    "\n",
    "if numeral_1.isnumeric() and numeral_2.isnumeric():\n",
    "\n",
    "    numeral_1 = int(numeral_1)\n",
    "    numeral_2 =int (numeral_2)\n",
    "\n",
    "    if operator == \"add\":\n",
    "        result = numeral_1 + numeral_2\n",
    "    elif operator == \"subtract\":\n",
    "        result = numeral_1 - numeral_2\n",
    "    elif operator == \"multiply\":\n",
    "        result = numeral_1 * numeral_2\n",
    "    elif operator == \"divide\":\n",
    "        if (numeral_2) == 0:\n",
    "            result =\"You cannot divide a number by zero.\"\n",
    "        else:\n",
    "            result = numeral_1  / numeral_2\n",
    "    else:\n",
    "        result = \"Please select one of the operators.\"\n",
    "else:\n",
    "    result = \"Please input the numbers for calculation, accurately and using only numbers.\"\n",
    "\n",
    "print(result)"
   ]
  },
  {
   "cell_type": "code",
   "execution_count": null,
   "metadata": {},
   "outputs": [],
   "source": []
  }
 ],
 "metadata": {
  "kernelspec": {
   "display_name": "Python 3",
   "language": "python",
   "name": "python3"
  },
  "language_info": {
   "codemirror_mode": {
    "name": "ipython",
    "version": 3
   },
   "file_extension": ".py",
   "mimetype": "text/x-python",
   "name": "python",
   "nbconvert_exporter": "python",
   "pygments_lexer": "ipython3",
   "version": "3.11.5"
  }
 },
 "nbformat": 4,
 "nbformat_minor": 2
}
