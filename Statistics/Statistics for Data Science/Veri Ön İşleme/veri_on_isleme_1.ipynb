{
 "cells": [
  {
   "cell_type": "markdown",
   "id": "1b61b7da-d627-412a-8741-b3e099d7cb9b",
   "metadata": {},
   "source": [
    "# Aykırı Gözlem Analizi"
   ]
  },
  {
   "cell_type": "markdown",
   "id": "914a3ec8-5356-457c-83d3-57ab39e80a52",
   "metadata": {},
   "source": [
    "## Aykırı Değerleri Yakalamak"
   ]
  },
  {
   "cell_type": "code",
   "execution_count": 3,
   "id": "f07b370d-9349-4dce-af24-3f3adf9bea34",
   "metadata": {},
   "outputs": [],
   "source": [
    "import numpy as np\n",
    "import pandas as pd\n",
    "import seaborn as sns\n",
    "import matplotlib.pyplot as plt"
   ]
  },
  {
   "cell_type": "code",
   "execution_count": null,
   "id": "5da83e80-c2e8-4216-aa8c-246586fedf88",
   "metadata": {},
   "outputs": [],
   "source": []
  },
  {
   "cell_type": "code",
   "execution_count": 4,
   "id": "aa7c92a4-8d1b-4bf6-a5b0-798a166577f2",
   "metadata": {},
   "outputs": [
    {
     "data": {
      "text/plain": [
       "['anagrams',\n",
       " 'anscombe',\n",
       " 'attention',\n",
       " 'brain_networks',\n",
       " 'car_crashes',\n",
       " 'diamonds',\n",
       " 'dots',\n",
       " 'dowjones',\n",
       " 'exercise',\n",
       " 'flights',\n",
       " 'fmri',\n",
       " 'geyser',\n",
       " 'glue',\n",
       " 'healthexp',\n",
       " 'iris',\n",
       " 'mpg',\n",
       " 'penguins',\n",
       " 'planets',\n",
       " 'seaice',\n",
       " 'taxis',\n",
       " 'tips',\n",
       " 'titanic']"
      ]
     },
     "execution_count": 4,
     "metadata": {},
     "output_type": "execute_result"
    }
   ],
   "source": [
    "sns.get_dataset_names()"
   ]
  },
  {
   "cell_type": "code",
   "execution_count": 5,
   "id": "15a05c54-e832-4212-a2c1-ee0715fc6fe0",
   "metadata": {},
   "outputs": [],
   "source": [
    "df_diamonds = sns.load_dataset(\"diamonds\")"
   ]
  },
  {
   "cell_type": "code",
   "execution_count": 6,
   "id": "8dc4f272-cb62-4586-ab6f-bcb85ba9dbb1",
   "metadata": {},
   "outputs": [],
   "source": [
    "df = df_diamonds.copy()"
   ]
  },
  {
   "cell_type": "code",
   "execution_count": null,
   "id": "2e2c0c75-6f39-4525-852d-b14033be8457",
   "metadata": {},
   "outputs": [],
   "source": []
  },
  {
   "cell_type": "code",
   "execution_count": 7,
   "id": "68bba887-3bf1-4221-9373-8096517d2dab",
   "metadata": {},
   "outputs": [],
   "source": [
    "import researchpy as rp"
   ]
  },
  {
   "cell_type": "code",
   "execution_count": 8,
   "id": "cd5e7c33-c681-4e85-91e3-4fcf47d3e476",
   "metadata": {},
   "outputs": [
    {
     "name": "stdout",
     "output_type": "stream",
     "text": [
      "<class 'pandas.core.frame.DataFrame'>\n",
      "RangeIndex: 53940 entries, 0 to 53939\n",
      "Data columns (total 10 columns):\n",
      " #   Column   Non-Null Count  Dtype   \n",
      "---  ------   --------------  -----   \n",
      " 0   carat    53940 non-null  float64 \n",
      " 1   cut      53940 non-null  category\n",
      " 2   color    53940 non-null  category\n",
      " 3   clarity  53940 non-null  category\n",
      " 4   depth    53940 non-null  float64 \n",
      " 5   table    53940 non-null  float64 \n",
      " 6   price    53940 non-null  int64   \n",
      " 7   x        53940 non-null  float64 \n",
      " 8   y        53940 non-null  float64 \n",
      " 9   z        53940 non-null  float64 \n",
      "dtypes: category(3), float64(6), int64(1)\n",
      "memory usage: 3.0 MB\n"
     ]
    }
   ],
   "source": [
    "df_diamonds.info()"
   ]
  },
  {
   "cell_type": "code",
   "execution_count": 9,
   "id": "8ff21edc-d656-465c-817a-c12be676f3d4",
   "metadata": {
    "scrolled": true
   },
   "outputs": [
    {
     "name": "stdout",
     "output_type": "stream",
     "text": [
      "\n",
      "\n"
     ]
    },
    {
     "name": "stderr",
     "output_type": "stream",
     "text": [
      "C:\\Users\\ASUS ROG STRIX\\AppData\\Roaming\\Python\\Python312\\site-packages\\researchpy\\summary.py:102: FutureWarning: Setting an item of incompatible dtype is deprecated and will raise an error in a future version of pandas. Value 'carat' has dtype incompatible with float64, please explicitly cast to a compatible dtype first.\n",
      "  table_a.iloc[0,0] = ix\n",
      "C:\\Users\\ASUS ROG STRIX\\AppData\\Roaming\\Python\\Python312\\site-packages\\researchpy\\summary.py:102: FutureWarning: Setting an item of incompatible dtype is deprecated and will raise an error in a future version of pandas. Value 'depth' has dtype incompatible with float64, please explicitly cast to a compatible dtype first.\n",
      "  table_a.iloc[0,0] = ix\n",
      "C:\\Users\\ASUS ROG STRIX\\AppData\\Roaming\\Python\\Python312\\site-packages\\researchpy\\summary.py:102: FutureWarning: Setting an item of incompatible dtype is deprecated and will raise an error in a future version of pandas. Value 'table' has dtype incompatible with float64, please explicitly cast to a compatible dtype first.\n",
      "  table_a.iloc[0,0] = ix\n",
      "C:\\Users\\ASUS ROG STRIX\\AppData\\Roaming\\Python\\Python312\\site-packages\\researchpy\\summary.py:102: FutureWarning: Setting an item of incompatible dtype is deprecated and will raise an error in a future version of pandas. Value 'price' has dtype incompatible with float64, please explicitly cast to a compatible dtype first.\n",
      "  table_a.iloc[0,0] = ix\n",
      "C:\\Users\\ASUS ROG STRIX\\AppData\\Roaming\\Python\\Python312\\site-packages\\researchpy\\summary.py:102: FutureWarning: Setting an item of incompatible dtype is deprecated and will raise an error in a future version of pandas. Value 'x' has dtype incompatible with float64, please explicitly cast to a compatible dtype first.\n",
      "  table_a.iloc[0,0] = ix\n",
      "C:\\Users\\ASUS ROG STRIX\\AppData\\Roaming\\Python\\Python312\\site-packages\\researchpy\\summary.py:102: FutureWarning: Setting an item of incompatible dtype is deprecated and will raise an error in a future version of pandas. Value 'y' has dtype incompatible with float64, please explicitly cast to a compatible dtype first.\n",
      "  table_a.iloc[0,0] = ix\n",
      "C:\\Users\\ASUS ROG STRIX\\AppData\\Roaming\\Python\\Python312\\site-packages\\researchpy\\summary.py:102: FutureWarning: Setting an item of incompatible dtype is deprecated and will raise an error in a future version of pandas. Value 'z' has dtype incompatible with float64, please explicitly cast to a compatible dtype first.\n",
      "  table_a.iloc[0,0] = ix\n"
     ]
    },
    {
     "data": {
      "text/html": [
       "<div>\n",
       "<style scoped>\n",
       "    .dataframe tbody tr th:only-of-type {\n",
       "        vertical-align: middle;\n",
       "    }\n",
       "\n",
       "    .dataframe tbody tr th {\n",
       "        vertical-align: top;\n",
       "    }\n",
       "\n",
       "    .dataframe thead th {\n",
       "        text-align: right;\n",
       "    }\n",
       "</style>\n",
       "<table border=\"1\" class=\"dataframe\">\n",
       "  <thead>\n",
       "    <tr style=\"text-align: right;\">\n",
       "      <th></th>\n",
       "      <th>Variable</th>\n",
       "      <th>N</th>\n",
       "      <th>Mean</th>\n",
       "      <th>SD</th>\n",
       "      <th>SE</th>\n",
       "      <th>95% Conf.</th>\n",
       "      <th>Interval</th>\n",
       "    </tr>\n",
       "  </thead>\n",
       "  <tbody>\n",
       "    <tr>\n",
       "      <th>0</th>\n",
       "      <td>carat</td>\n",
       "      <td>53940.0</td>\n",
       "      <td>0.7979</td>\n",
       "      <td>0.4740</td>\n",
       "      <td>0.0020</td>\n",
       "      <td>0.7939</td>\n",
       "      <td>0.8019</td>\n",
       "    </tr>\n",
       "    <tr>\n",
       "      <th>1</th>\n",
       "      <td>depth</td>\n",
       "      <td>53940.0</td>\n",
       "      <td>61.7494</td>\n",
       "      <td>1.4326</td>\n",
       "      <td>0.0062</td>\n",
       "      <td>61.7373</td>\n",
       "      <td>61.7615</td>\n",
       "    </tr>\n",
       "    <tr>\n",
       "      <th>2</th>\n",
       "      <td>table</td>\n",
       "      <td>53940.0</td>\n",
       "      <td>57.4572</td>\n",
       "      <td>2.2345</td>\n",
       "      <td>0.0096</td>\n",
       "      <td>57.4383</td>\n",
       "      <td>57.4760</td>\n",
       "    </tr>\n",
       "    <tr>\n",
       "      <th>3</th>\n",
       "      <td>price</td>\n",
       "      <td>53940.0</td>\n",
       "      <td>3932.7997</td>\n",
       "      <td>3989.4397</td>\n",
       "      <td>17.1774</td>\n",
       "      <td>3899.1320</td>\n",
       "      <td>3966.4675</td>\n",
       "    </tr>\n",
       "    <tr>\n",
       "      <th>4</th>\n",
       "      <td>x</td>\n",
       "      <td>53940.0</td>\n",
       "      <td>5.7312</td>\n",
       "      <td>1.1218</td>\n",
       "      <td>0.0048</td>\n",
       "      <td>5.7217</td>\n",
       "      <td>5.7406</td>\n",
       "    </tr>\n",
       "    <tr>\n",
       "      <th>5</th>\n",
       "      <td>y</td>\n",
       "      <td>53940.0</td>\n",
       "      <td>5.7345</td>\n",
       "      <td>1.1421</td>\n",
       "      <td>0.0049</td>\n",
       "      <td>5.7249</td>\n",
       "      <td>5.7442</td>\n",
       "    </tr>\n",
       "    <tr>\n",
       "      <th>6</th>\n",
       "      <td>z</td>\n",
       "      <td>53940.0</td>\n",
       "      <td>3.5387</td>\n",
       "      <td>0.7057</td>\n",
       "      <td>0.0030</td>\n",
       "      <td>3.5328</td>\n",
       "      <td>3.5447</td>\n",
       "    </tr>\n",
       "  </tbody>\n",
       "</table>\n",
       "</div>"
      ],
      "text/plain": [
       "  Variable        N       Mean         SD       SE  95% Conf.   Interval\n",
       "0    carat  53940.0     0.7979     0.4740   0.0020     0.7939     0.8019\n",
       "1    depth  53940.0    61.7494     1.4326   0.0062    61.7373    61.7615\n",
       "2    table  53940.0    57.4572     2.2345   0.0096    57.4383    57.4760\n",
       "3    price  53940.0  3932.7997  3989.4397  17.1774  3899.1320  3966.4675\n",
       "4        x  53940.0     5.7312     1.1218   0.0048     5.7217     5.7406\n",
       "5        y  53940.0     5.7345     1.1421   0.0049     5.7249     5.7442\n",
       "6        z  53940.0     3.5387     0.7057   0.0030     3.5328     3.5447"
      ]
     },
     "execution_count": 9,
     "metadata": {},
     "output_type": "execute_result"
    }
   ],
   "source": [
    "rp.summary_cont(df_diamonds.select_dtypes(include=\"number\"))"
   ]
  },
  {
   "cell_type": "code",
   "execution_count": null,
   "id": "3be1eafb-70c9-4e78-9e64-8060732d16f6",
   "metadata": {},
   "outputs": [],
   "source": []
  },
  {
   "cell_type": "code",
   "execution_count": 10,
   "id": "26dfb68b-69d6-45ea-80d2-422b65ea687e",
   "metadata": {
    "scrolled": true
   },
   "outputs": [
    {
     "data": {
      "text/html": [
       "<div>\n",
       "<style scoped>\n",
       "    .dataframe tbody tr th:only-of-type {\n",
       "        vertical-align: middle;\n",
       "    }\n",
       "\n",
       "    .dataframe tbody tr th {\n",
       "        vertical-align: top;\n",
       "    }\n",
       "\n",
       "    .dataframe thead th {\n",
       "        text-align: right;\n",
       "    }\n",
       "</style>\n",
       "<table border=\"1\" class=\"dataframe\">\n",
       "  <thead>\n",
       "    <tr style=\"text-align: right;\">\n",
       "      <th></th>\n",
       "      <th>Variable</th>\n",
       "      <th>Outcome</th>\n",
       "      <th>Count</th>\n",
       "      <th>Percent</th>\n",
       "    </tr>\n",
       "  </thead>\n",
       "  <tbody>\n",
       "    <tr>\n",
       "      <th>0</th>\n",
       "      <td>cut</td>\n",
       "      <td>Ideal</td>\n",
       "      <td>21551</td>\n",
       "      <td>39.95</td>\n",
       "    </tr>\n",
       "    <tr>\n",
       "      <th>1</th>\n",
       "      <td></td>\n",
       "      <td>Premium</td>\n",
       "      <td>13791</td>\n",
       "      <td>25.57</td>\n",
       "    </tr>\n",
       "    <tr>\n",
       "      <th>2</th>\n",
       "      <td></td>\n",
       "      <td>Very Good</td>\n",
       "      <td>12082</td>\n",
       "      <td>22.40</td>\n",
       "    </tr>\n",
       "    <tr>\n",
       "      <th>3</th>\n",
       "      <td></td>\n",
       "      <td>Good</td>\n",
       "      <td>4906</td>\n",
       "      <td>9.10</td>\n",
       "    </tr>\n",
       "    <tr>\n",
       "      <th>4</th>\n",
       "      <td></td>\n",
       "      <td>Fair</td>\n",
       "      <td>1610</td>\n",
       "      <td>2.98</td>\n",
       "    </tr>\n",
       "    <tr>\n",
       "      <th>5</th>\n",
       "      <td>color</td>\n",
       "      <td>G</td>\n",
       "      <td>11292</td>\n",
       "      <td>20.93</td>\n",
       "    </tr>\n",
       "    <tr>\n",
       "      <th>6</th>\n",
       "      <td></td>\n",
       "      <td>E</td>\n",
       "      <td>9797</td>\n",
       "      <td>18.16</td>\n",
       "    </tr>\n",
       "    <tr>\n",
       "      <th>7</th>\n",
       "      <td></td>\n",
       "      <td>F</td>\n",
       "      <td>9542</td>\n",
       "      <td>17.69</td>\n",
       "    </tr>\n",
       "    <tr>\n",
       "      <th>8</th>\n",
       "      <td></td>\n",
       "      <td>H</td>\n",
       "      <td>8304</td>\n",
       "      <td>15.39</td>\n",
       "    </tr>\n",
       "    <tr>\n",
       "      <th>9</th>\n",
       "      <td></td>\n",
       "      <td>D</td>\n",
       "      <td>6775</td>\n",
       "      <td>12.56</td>\n",
       "    </tr>\n",
       "    <tr>\n",
       "      <th>10</th>\n",
       "      <td></td>\n",
       "      <td>I</td>\n",
       "      <td>5422</td>\n",
       "      <td>10.05</td>\n",
       "    </tr>\n",
       "    <tr>\n",
       "      <th>11</th>\n",
       "      <td></td>\n",
       "      <td>J</td>\n",
       "      <td>2808</td>\n",
       "      <td>5.21</td>\n",
       "    </tr>\n",
       "    <tr>\n",
       "      <th>12</th>\n",
       "      <td>clarity</td>\n",
       "      <td>SI1</td>\n",
       "      <td>13065</td>\n",
       "      <td>24.22</td>\n",
       "    </tr>\n",
       "    <tr>\n",
       "      <th>13</th>\n",
       "      <td></td>\n",
       "      <td>VS2</td>\n",
       "      <td>12258</td>\n",
       "      <td>22.73</td>\n",
       "    </tr>\n",
       "    <tr>\n",
       "      <th>14</th>\n",
       "      <td></td>\n",
       "      <td>SI2</td>\n",
       "      <td>9194</td>\n",
       "      <td>17.04</td>\n",
       "    </tr>\n",
       "    <tr>\n",
       "      <th>15</th>\n",
       "      <td></td>\n",
       "      <td>VS1</td>\n",
       "      <td>8171</td>\n",
       "      <td>15.15</td>\n",
       "    </tr>\n",
       "    <tr>\n",
       "      <th>16</th>\n",
       "      <td></td>\n",
       "      <td>VVS2</td>\n",
       "      <td>5066</td>\n",
       "      <td>9.39</td>\n",
       "    </tr>\n",
       "    <tr>\n",
       "      <th>17</th>\n",
       "      <td></td>\n",
       "      <td>VVS1</td>\n",
       "      <td>3655</td>\n",
       "      <td>6.78</td>\n",
       "    </tr>\n",
       "    <tr>\n",
       "      <th>18</th>\n",
       "      <td></td>\n",
       "      <td>IF</td>\n",
       "      <td>1790</td>\n",
       "      <td>3.32</td>\n",
       "    </tr>\n",
       "    <tr>\n",
       "      <th>19</th>\n",
       "      <td></td>\n",
       "      <td>I1</td>\n",
       "      <td>741</td>\n",
       "      <td>1.37</td>\n",
       "    </tr>\n",
       "  </tbody>\n",
       "</table>\n",
       "</div>"
      ],
      "text/plain": [
       "   Variable    Outcome  Count  Percent\n",
       "0       cut      Ideal  21551    39.95\n",
       "1              Premium  13791    25.57\n",
       "2            Very Good  12082    22.40\n",
       "3                 Good   4906     9.10\n",
       "4                 Fair   1610     2.98\n",
       "5     color          G  11292    20.93\n",
       "6                    E   9797    18.16\n",
       "7                    F   9542    17.69\n",
       "8                    H   8304    15.39\n",
       "9                    D   6775    12.56\n",
       "10                   I   5422    10.05\n",
       "11                   J   2808     5.21\n",
       "12  clarity        SI1  13065    24.22\n",
       "13                 VS2  12258    22.73\n",
       "14                 SI2   9194    17.04\n",
       "15                 VS1   8171    15.15\n",
       "16                VVS2   5066     9.39\n",
       "17                VVS1   3655     6.78\n",
       "18                  IF   1790     3.32\n",
       "19                  I1    741     1.37"
      ]
     },
     "execution_count": 10,
     "metadata": {},
     "output_type": "execute_result"
    }
   ],
   "source": [
    "rp.summary_cat(df_diamonds.select_dtypes(exclude = \"number\"))"
   ]
  },
  {
   "cell_type": "code",
   "execution_count": null,
   "id": "ec764f58-3b7a-42fb-803a-c8ec11ae7884",
   "metadata": {},
   "outputs": [],
   "source": []
  },
  {
   "cell_type": "code",
   "execution_count": 11,
   "id": "bfae1359-a5f2-48a2-a92d-15d5d79b3c3d",
   "metadata": {
    "scrolled": true
   },
   "outputs": [
    {
     "data": {
      "text/html": [
       "<div>\n",
       "<style scoped>\n",
       "    .dataframe tbody tr th:only-of-type {\n",
       "        vertical-align: middle;\n",
       "    }\n",
       "\n",
       "    .dataframe tbody tr th {\n",
       "        vertical-align: top;\n",
       "    }\n",
       "\n",
       "    .dataframe thead th {\n",
       "        text-align: right;\n",
       "    }\n",
       "</style>\n",
       "<table border=\"1\" class=\"dataframe\">\n",
       "  <thead>\n",
       "    <tr style=\"text-align: right;\">\n",
       "      <th></th>\n",
       "      <th>carat</th>\n",
       "      <th>price</th>\n",
       "    </tr>\n",
       "  </thead>\n",
       "  <tbody>\n",
       "    <tr>\n",
       "      <th>carat</th>\n",
       "      <td>1.000000</td>\n",
       "      <td>0.921591</td>\n",
       "    </tr>\n",
       "    <tr>\n",
       "      <th>price</th>\n",
       "      <td>0.921591</td>\n",
       "      <td>1.000000</td>\n",
       "    </tr>\n",
       "  </tbody>\n",
       "</table>\n",
       "</div>"
      ],
      "text/plain": [
       "          carat     price\n",
       "carat  1.000000  0.921591\n",
       "price  0.921591  1.000000"
      ]
     },
     "execution_count": 11,
     "metadata": {},
     "output_type": "execute_result"
    }
   ],
   "source": [
    "df_diamonds[[\"carat\",\"price\"]].corr()"
   ]
  },
  {
   "cell_type": "code",
   "execution_count": 12,
   "id": "38485047-5c54-4b1f-9035-bf5f9580ff3d",
   "metadata": {
    "scrolled": true
   },
   "outputs": [
    {
     "data": {
      "text/html": [
       "<div>\n",
       "<style scoped>\n",
       "    .dataframe tbody tr th:only-of-type {\n",
       "        vertical-align: middle;\n",
       "    }\n",
       "\n",
       "    .dataframe tbody tr th {\n",
       "        vertical-align: top;\n",
       "    }\n",
       "\n",
       "    .dataframe thead th {\n",
       "        text-align: right;\n",
       "    }\n",
       "</style>\n",
       "<table border=\"1\" class=\"dataframe\">\n",
       "  <thead>\n",
       "    <tr style=\"text-align: right;\">\n",
       "      <th></th>\n",
       "      <th>carat</th>\n",
       "      <th>price</th>\n",
       "    </tr>\n",
       "  </thead>\n",
       "  <tbody>\n",
       "    <tr>\n",
       "      <th>carat</th>\n",
       "      <td>0.224687</td>\n",
       "      <td>1.742765e+03</td>\n",
       "    </tr>\n",
       "    <tr>\n",
       "      <th>price</th>\n",
       "      <td>1742.765364</td>\n",
       "      <td>1.591563e+07</td>\n",
       "    </tr>\n",
       "  </tbody>\n",
       "</table>\n",
       "</div>"
      ],
      "text/plain": [
       "             carat         price\n",
       "carat     0.224687  1.742765e+03\n",
       "price  1742.765364  1.591563e+07"
      ]
     },
     "execution_count": 12,
     "metadata": {},
     "output_type": "execute_result"
    }
   ],
   "source": [
    "df_diamonds[[\"carat\",\"price\"]].cov()"
   ]
  },
  {
   "cell_type": "code",
   "execution_count": null,
   "id": "cf838b9f-5ff9-4876-b152-674c6b7c46d3",
   "metadata": {},
   "outputs": [],
   "source": []
  },
  {
   "cell_type": "code",
   "execution_count": null,
   "id": "12cdd4dd-e860-43f8-95ba-2f2fa4f24cea",
   "metadata": {},
   "outputs": [],
   "source": []
  },
  {
   "cell_type": "code",
   "execution_count": 13,
   "id": "fefa43da-5ff2-491f-86a1-336a43744d62",
   "metadata": {
    "scrolled": true
   },
   "outputs": [
    {
     "data": {
      "text/html": [
       "<div>\n",
       "<style scoped>\n",
       "    .dataframe tbody tr th:only-of-type {\n",
       "        vertical-align: middle;\n",
       "    }\n",
       "\n",
       "    .dataframe tbody tr th {\n",
       "        vertical-align: top;\n",
       "    }\n",
       "\n",
       "    .dataframe thead th {\n",
       "        text-align: right;\n",
       "    }\n",
       "</style>\n",
       "<table border=\"1\" class=\"dataframe\">\n",
       "  <thead>\n",
       "    <tr style=\"text-align: right;\">\n",
       "      <th></th>\n",
       "      <th>carat</th>\n",
       "      <th>depth</th>\n",
       "      <th>table</th>\n",
       "      <th>price</th>\n",
       "      <th>x</th>\n",
       "      <th>y</th>\n",
       "      <th>z</th>\n",
       "    </tr>\n",
       "  </thead>\n",
       "  <tbody>\n",
       "    <tr>\n",
       "      <th>0</th>\n",
       "      <td>0.23</td>\n",
       "      <td>61.5</td>\n",
       "      <td>55.0</td>\n",
       "      <td>326</td>\n",
       "      <td>3.95</td>\n",
       "      <td>3.98</td>\n",
       "      <td>2.43</td>\n",
       "    </tr>\n",
       "    <tr>\n",
       "      <th>1</th>\n",
       "      <td>0.21</td>\n",
       "      <td>59.8</td>\n",
       "      <td>61.0</td>\n",
       "      <td>326</td>\n",
       "      <td>3.89</td>\n",
       "      <td>3.84</td>\n",
       "      <td>2.31</td>\n",
       "    </tr>\n",
       "    <tr>\n",
       "      <th>2</th>\n",
       "      <td>0.23</td>\n",
       "      <td>56.9</td>\n",
       "      <td>65.0</td>\n",
       "      <td>327</td>\n",
       "      <td>4.05</td>\n",
       "      <td>4.07</td>\n",
       "      <td>2.31</td>\n",
       "    </tr>\n",
       "    <tr>\n",
       "      <th>3</th>\n",
       "      <td>0.29</td>\n",
       "      <td>62.4</td>\n",
       "      <td>58.0</td>\n",
       "      <td>334</td>\n",
       "      <td>4.20</td>\n",
       "      <td>4.23</td>\n",
       "      <td>2.63</td>\n",
       "    </tr>\n",
       "    <tr>\n",
       "      <th>4</th>\n",
       "      <td>0.31</td>\n",
       "      <td>63.3</td>\n",
       "      <td>58.0</td>\n",
       "      <td>335</td>\n",
       "      <td>4.34</td>\n",
       "      <td>4.35</td>\n",
       "      <td>2.75</td>\n",
       "    </tr>\n",
       "  </tbody>\n",
       "</table>\n",
       "</div>"
      ],
      "text/plain": [
       "   carat  depth  table  price     x     y     z\n",
       "0   0.23   61.5   55.0    326  3.95  3.98  2.43\n",
       "1   0.21   59.8   61.0    326  3.89  3.84  2.31\n",
       "2   0.23   56.9   65.0    327  4.05  4.07  2.31\n",
       "3   0.29   62.4   58.0    334  4.20  4.23  2.63\n",
       "4   0.31   63.3   58.0    335  4.34  4.35  2.75"
      ]
     },
     "execution_count": 13,
     "metadata": {},
     "output_type": "execute_result"
    }
   ],
   "source": [
    "df = df.select_dtypes(include =[\"float64\",\"int64\"])\n",
    "df = df.dropna()\n",
    "df.head()"
   ]
  },
  {
   "cell_type": "code",
   "execution_count": null,
   "id": "a2ee4996-9e45-4e4f-ae9b-111fcab25c4e",
   "metadata": {},
   "outputs": [],
   "source": []
  },
  {
   "cell_type": "code",
   "execution_count": 14,
   "id": "20bf6e95-a292-4a24-9361-0bfee31aba09",
   "metadata": {},
   "outputs": [],
   "source": [
    "df_table = df.table"
   ]
  },
  {
   "cell_type": "code",
   "execution_count": 15,
   "id": "31fd559b-b7c9-4bc9-be31-b358a979b6c5",
   "metadata": {},
   "outputs": [
    {
     "data": {
      "text/plain": [
       "0    55.0\n",
       "1    61.0\n",
       "2    65.0\n",
       "3    58.0\n",
       "4    58.0\n",
       "Name: table, dtype: float64"
      ]
     },
     "execution_count": 15,
     "metadata": {},
     "output_type": "execute_result"
    }
   ],
   "source": [
    "df_table.head()"
   ]
  },
  {
   "cell_type": "code",
   "execution_count": 16,
   "id": "aa88ce2d-6bc4-4029-9013-92fd57828f89",
   "metadata": {},
   "outputs": [
    {
     "data": {
      "image/png": "[encoded data removed]",
      "text/plain": [
       "<Figure size 640x480 with 1 Axes>"
      ]
     },
     "metadata": {},
     "output_type": "display_data"
    }
   ],
   "source": [
    "sns.boxplot(x = df_table)\n",
    "plt.show()"
   ]
  },
  {
   "cell_type": "code",
   "execution_count": null,
   "id": "897486bd-5c2b-4ba7-99f8-72761741dd2c",
   "metadata": {},
   "outputs": [],
   "source": []
  },
  {
   "cell_type": "code",
   "execution_count": 17,
   "id": "4b86267a-afd6-414f-b312-9981b7bc05ea",
   "metadata": {},
   "outputs": [],
   "source": [
    "Q1 = df.table.quantile(0.25)\n",
    "Q3 = df.table.quantile(0.75)\n",
    "IQR = Q3 - Q1"
   ]
  },
  {
   "cell_type": "code",
   "execution_count": null,
   "id": "c697ddcd-6fb9-4885-b306-86d942fb267e",
   "metadata": {},
   "outputs": [],
   "source": []
  },
  {
   "cell_type": "code",
   "execution_count": 18,
   "id": "cf798436-2af6-41c6-bf10-ecb5912586ea",
   "metadata": {},
   "outputs": [
    {
     "data": {
      "text/plain": [
       "56.0"
      ]
     },
     "execution_count": 18,
     "metadata": {},
     "output_type": "execute_result"
    }
   ],
   "source": [
    "Q1"
   ]
  },
  {
   "cell_type": "code",
   "execution_count": 19,
   "id": "5a639855-f586-4157-ba21-16b9a6955dba",
   "metadata": {},
   "outputs": [
    {
     "data": {
      "text/plain": [
       "59.0"
      ]
     },
     "execution_count": 19,
     "metadata": {},
     "output_type": "execute_result"
    }
   ],
   "source": [
    "Q3"
   ]
  },
  {
   "cell_type": "code",
   "execution_count": 20,
   "id": "d6c817a1-962f-41ca-993c-29a3e5439798",
   "metadata": {},
   "outputs": [
    {
     "data": {
      "text/plain": [
       "3.0"
      ]
     },
     "execution_count": 20,
     "metadata": {},
     "output_type": "execute_result"
    }
   ],
   "source": [
    "IQR"
   ]
  },
  {
   "cell_type": "code",
   "execution_count": null,
   "id": "fd2e500b-9759-4267-b698-52cd9a7b2c7f",
   "metadata": {},
   "outputs": [],
   "source": []
  },
  {
   "cell_type": "code",
   "execution_count": 21,
   "id": "12a84824-0733-46a3-b5b8-44dce3e946cd",
   "metadata": {},
   "outputs": [],
   "source": [
    "alt_sinir = Q1 - (1.5*IQR)\n",
    "ust_sinir = Q3 + (1.5*IQR)"
   ]
  },
  {
   "cell_type": "code",
   "execution_count": 22,
   "id": "e26b8297-e5d8-4412-9b1b-f19b83e580ca",
   "metadata": {},
   "outputs": [
    {
     "name": "stdout",
     "output_type": "stream",
     "text": [
      "Alt Sınır : 51.5\n",
      "Üst Sınır : 63.5\n"
     ]
    }
   ],
   "source": [
    "print(\"Alt Sınır :\",alt_sinir)\n",
    "print(\"Üst Sınır :\",ust_sinir)"
   ]
  },
  {
   "cell_type": "code",
   "execution_count": null,
   "id": "5b7a7481-3c26-4119-b998-96b8e6427c31",
   "metadata": {},
   "outputs": [],
   "source": []
  },
  {
   "cell_type": "code",
   "execution_count": 23,
   "id": "39b4c382-046e-468b-b232-c94087639630",
   "metadata": {},
   "outputs": [
    {
     "data": {
      "text/plain": [
       "0        False\n",
       "1        False\n",
       "2         True\n",
       "3        False\n",
       "4        False\n",
       "         ...  \n",
       "53935    False\n",
       "53936    False\n",
       "53937    False\n",
       "53938    False\n",
       "53939    False\n",
       "Name: table, Length: 53940, dtype: bool"
      ]
     },
     "execution_count": 23,
     "metadata": {},
     "output_type": "execute_result"
    }
   ],
   "source": [
    "(df_table < alt_sinir) | (df_table > ust_sinir)"
   ]
  },
  {
   "cell_type": "code",
   "execution_count": null,
   "id": "73942f1e-ec6a-4a13-ae59-d6900c380313",
   "metadata": {},
   "outputs": [],
   "source": []
  },
  {
   "cell_type": "code",
   "execution_count": 24,
   "id": "27dee920-bafc-4584-bd8a-0af39f9c8012",
   "metadata": {},
   "outputs": [],
   "source": [
    "aykiri_alt = (df_table < alt_sinir)"
   ]
  },
  {
   "cell_type": "code",
   "execution_count": 25,
   "id": "611c7690-2caa-4edb-a60c-f67efde8537f",
   "metadata": {},
   "outputs": [],
   "source": [
    "aykiri_ust = (df_table > ust_sinir)"
   ]
  },
  {
   "cell_type": "code",
   "execution_count": 26,
   "id": "cd4a5a05-9be3-4308-8ea5-4b1c2c1b12fb",
   "metadata": {},
   "outputs": [],
   "source": [
    "aykiri_altust = (df_table < alt_sinir) | (df_table > ust_sinir)"
   ]
  },
  {
   "cell_type": "code",
   "execution_count": null,
   "id": "c4c61e4d-4531-439f-936f-07e7bbb9de77",
   "metadata": {},
   "outputs": [],
   "source": []
  },
  {
   "cell_type": "code",
   "execution_count": 27,
   "id": "f7ea0d63-37c6-4562-95f5-ba5ad9fd9c34",
   "metadata": {},
   "outputs": [
    {
     "data": {
      "text/plain": [
       "605"
      ]
     },
     "execution_count": 27,
     "metadata": {},
     "output_type": "execute_result"
    }
   ],
   "source": [
    "df_table[aykiri_alt].count() + df_table[aykiri_ust].count()"
   ]
  },
  {
   "cell_type": "code",
   "execution_count": 28,
   "id": "b5b8fc41-b6de-42da-bb92-691d522c523b",
   "metadata": {},
   "outputs": [
    {
     "data": {
      "text/plain": [
       "605"
      ]
     },
     "execution_count": 28,
     "metadata": {},
     "output_type": "execute_result"
    }
   ],
   "source": [
    "df_table[aykiri_altust].count()"
   ]
  },
  {
   "cell_type": "code",
   "execution_count": 29,
   "id": "70b0372f-bf51-40a5-850a-37a31bfd63a2",
   "metadata": {},
   "outputs": [
    {
     "data": {
      "text/plain": [
       "Index([    2,    91,   145,   219,   227,   239,   296,   314,   356,   359,\n",
       "       ...\n",
       "       53226, 53503, 53542, 53577, 53660, 53695, 53697, 53756, 53757, 53785],\n",
       "      dtype='int64', length=605)"
      ]
     },
     "execution_count": 29,
     "metadata": {},
     "output_type": "execute_result"
    }
   ],
   "source": [
    "df_table[aykiri_altust].index"
   ]
  },
  {
   "cell_type": "code",
   "execution_count": null,
   "id": "391b3f26-00f0-4d8b-85fe-a5e5dc9433fc",
   "metadata": {},
   "outputs": [],
   "source": []
  },
  {
   "cell_type": "code",
   "execution_count": null,
   "id": "d753904b-aacb-49bd-934b-811e5f3bd05d",
   "metadata": {},
   "outputs": [],
   "source": []
  },
  {
   "cell_type": "code",
   "execution_count": 30,
   "id": "4ff38657-e3f6-4b3e-a1ee-26a1c6e98f72",
   "metadata": {},
   "outputs": [],
   "source": [
    "df_price = df.price"
   ]
  },
  {
   "cell_type": "code",
   "execution_count": 31,
   "id": "c5304ed4-ecf9-4ee9-82ad-2e13b50d24a5",
   "metadata": {},
   "outputs": [
    {
     "data": {
      "text/plain": [
       "0         326\n",
       "1         326\n",
       "2         327\n",
       "3         334\n",
       "4         335\n",
       "         ... \n",
       "53935    2757\n",
       "53936    2757\n",
       "53937    2757\n",
       "53938    2757\n",
       "53939    2757\n",
       "Name: price, Length: 53940, dtype: int64"
      ]
     },
     "execution_count": 31,
     "metadata": {},
     "output_type": "execute_result"
    }
   ],
   "source": [
    "df_price"
   ]
  },
  {
   "cell_type": "code",
   "execution_count": 32,
   "id": "695b9c6c-25b9-476c-8505-633977c10483",
   "metadata": {},
   "outputs": [],
   "source": [
    "q1 = df.price.quantile(0.25)\n",
    "q3 = df.price.quantile(0.75)"
   ]
  },
  {
   "cell_type": "code",
   "execution_count": 33,
   "id": "48cb2d08-b058-4055-a64e-0dcd85408e36",
   "metadata": {},
   "outputs": [
    {
     "data": {
      "text/plain": [
       "950.0"
      ]
     },
     "execution_count": 33,
     "metadata": {},
     "output_type": "execute_result"
    }
   ],
   "source": [
    "q1"
   ]
  },
  {
   "cell_type": "code",
   "execution_count": 34,
   "id": "7d0e1781-fd4b-4a6d-b375-f0d36f407ed9",
   "metadata": {},
   "outputs": [
    {
     "data": {
      "text/plain": [
       "4374.25"
      ]
     },
     "execution_count": 34,
     "metadata": {},
     "output_type": "execute_result"
    }
   ],
   "source": [
    "IQR_price = q3 - q1\n",
    "IQR_price"
   ]
  },
  {
   "cell_type": "code",
   "execution_count": null,
   "id": "eab3e0df-9814-49bf-b533-744e61b9b298",
   "metadata": {},
   "outputs": [],
   "source": []
  },
  {
   "cell_type": "code",
   "execution_count": 35,
   "id": "6067526b-7891-4bc4-8936-f78f60b25d28",
   "metadata": {},
   "outputs": [
    {
     "data": {
      "text/plain": [
       "18447.0"
      ]
     },
     "execution_count": 35,
     "metadata": {},
     "output_type": "execute_result"
    }
   ],
   "source": [
    "ust_esik = q3 + (3*IQR_price)\n",
    "ust_esik"
   ]
  },
  {
   "cell_type": "code",
   "execution_count": 36,
   "id": "a86bddee-9f59-47dd-8cbb-38e02720ac98",
   "metadata": {},
   "outputs": [
    {
     "data": {
      "text/plain": [
       "18823"
      ]
     },
     "execution_count": 36,
     "metadata": {},
     "output_type": "execute_result"
    }
   ],
   "source": [
    "df_price.max()"
   ]
  },
  {
   "cell_type": "code",
   "execution_count": 37,
   "id": "5dd3eba5-fde0-4c75-8df5-da78ee0c939a",
   "metadata": {},
   "outputs": [
    {
     "data": {
      "text/plain": [
       "27600    18458\n",
       "27601    18462\n",
       "27602    18462\n",
       "27603    18468\n",
       "27604    18470\n",
       "         ...  \n",
       "27745    18803\n",
       "27746    18804\n",
       "27747    18806\n",
       "27748    18818\n",
       "27749    18823\n",
       "Name: price, Length: 120, dtype: int64"
      ]
     },
     "execution_count": 37,
     "metadata": {},
     "output_type": "execute_result"
    }
   ],
   "source": [
    "df_price[df_price > ust_esik]"
   ]
  },
  {
   "cell_type": "code",
   "execution_count": null,
   "id": "03e4200c-55f5-417b-ba28-25b0ae6c34aa",
   "metadata": {},
   "outputs": [],
   "source": []
  },
  {
   "cell_type": "code",
   "execution_count": null,
   "id": "fe47f15d-cccb-4eac-9bd6-9de4453f6126",
   "metadata": {},
   "outputs": [],
   "source": []
  },
  {
   "cell_type": "markdown",
   "id": "3fe31fca-074d-418b-93dc-b11e13d9e311",
   "metadata": {},
   "source": [
    "## Aykırı Değer Problemini Çözme"
   ]
  },
  {
   "cell_type": "code",
   "execution_count": 39,
   "id": "68c8a1d5-191d-4409-bd51-47433d8c9041",
   "metadata": {},
   "outputs": [
    {
     "data": {
      "text/plain": [
       "2        65.0\n",
       "91       69.0\n",
       "145      64.0\n",
       "219      64.0\n",
       "227      67.0\n",
       "         ... \n",
       "53695    65.0\n",
       "53697    65.0\n",
       "53756    64.0\n",
       "53757    64.0\n",
       "53785    65.0\n",
       "Name: table, Length: 605, dtype: float64"
      ]
     },
     "execution_count": 39,
     "metadata": {},
     "output_type": "execute_result"
    }
   ],
   "source": [
    "df_table[aykiri_altust]"
   ]
  },
  {
   "cell_type": "code",
   "execution_count": null,
   "id": "2a49e9ea-3f4b-4209-9e16-6d43e50b8b7e",
   "metadata": {},
   "outputs": [],
   "source": []
  },
  {
   "cell_type": "markdown",
   "id": "58c5c132-42c6-4f51-aff7-322e216bd194",
   "metadata": {},
   "source": [
    "### Aykırı Değerleri Silme"
   ]
  },
  {
   "cell_type": "code",
   "execution_count": 41,
   "id": "54d86223-c494-4c55-9fcf-95ef1a8ed121",
   "metadata": {},
   "outputs": [
    {
     "data": {
      "text/plain": [
       "pandas.core.series.Series"
      ]
     },
     "execution_count": 41,
     "metadata": {},
     "output_type": "execute_result"
    }
   ],
   "source": [
    "type(df_table)"
   ]
  },
  {
   "cell_type": "code",
   "execution_count": 42,
   "id": "934cc60b-0874-44a9-b457-970b91872fb0",
   "metadata": {},
   "outputs": [],
   "source": [
    "df_table = pd.DataFrame(df_table)"
   ]
  },
  {
   "cell_type": "code",
   "execution_count": 43,
   "id": "42420087-69b5-4b28-8547-b77f19d48efb",
   "metadata": {},
   "outputs": [
    {
     "data": {
      "text/html": [
       "<div>\n",
       "<style scoped>\n",
       "    .dataframe tbody tr th:only-of-type {\n",
       "        vertical-align: middle;\n",
       "    }\n",
       "\n",
       "    .dataframe tbody tr th {\n",
       "        vertical-align: top;\n",
       "    }\n",
       "\n",
       "    .dataframe thead th {\n",
       "        text-align: right;\n",
       "    }\n",
       "</style>\n",
       "<table border=\"1\" class=\"dataframe\">\n",
       "  <thead>\n",
       "    <tr style=\"text-align: right;\">\n",
       "      <th></th>\n",
       "      <th>table</th>\n",
       "    </tr>\n",
       "  </thead>\n",
       "  <tbody>\n",
       "    <tr>\n",
       "      <th>0</th>\n",
       "      <td>55.0</td>\n",
       "    </tr>\n",
       "    <tr>\n",
       "      <th>1</th>\n",
       "      <td>61.0</td>\n",
       "    </tr>\n",
       "    <tr>\n",
       "      <th>2</th>\n",
       "      <td>65.0</td>\n",
       "    </tr>\n",
       "    <tr>\n",
       "      <th>3</th>\n",
       "      <td>58.0</td>\n",
       "    </tr>\n",
       "    <tr>\n",
       "      <th>4</th>\n",
       "      <td>58.0</td>\n",
       "    </tr>\n",
       "  </tbody>\n",
       "</table>\n",
       "</div>"
      ],
      "text/plain": [
       "   table\n",
       "0   55.0\n",
       "1   61.0\n",
       "2   65.0\n",
       "3   58.0\n",
       "4   58.0"
      ]
     },
     "execution_count": 43,
     "metadata": {},
     "output_type": "execute_result"
    }
   ],
   "source": [
    "df_table.head()"
   ]
  },
  {
   "cell_type": "code",
   "execution_count": 44,
   "id": "9d5f46e2-0ad0-4274-bc77-bf00472f400c",
   "metadata": {},
   "outputs": [
    {
     "data": {
      "text/plain": [
       "table    53940\n",
       "dtype: int64"
      ]
     },
     "execution_count": 44,
     "metadata": {},
     "output_type": "execute_result"
    }
   ],
   "source": [
    "df_table.count()"
   ]
  },
  {
   "cell_type": "code",
   "execution_count": 45,
   "id": "8152b75e-1de8-418c-8108-8083ff7d8fdf",
   "metadata": {},
   "outputs": [
    {
     "data": {
      "text/plain": [
       "table    605\n",
       "dtype: int64"
      ]
     },
     "execution_count": 45,
     "metadata": {},
     "output_type": "execute_result"
    }
   ],
   "source": [
    "df_table[aykiri_alt].count() + df_table[aykiri_ust].count()"
   ]
  },
  {
   "cell_type": "code",
   "execution_count": null,
   "id": "3f3be287-a31e-4f22-ab06-0b65dd689519",
   "metadata": {},
   "outputs": [],
   "source": []
  },
  {
   "cell_type": "code",
   "execution_count": null,
   "id": "e065f399-8aec-4d2d-9205-8c89a5c7c180",
   "metadata": {},
   "outputs": [],
   "source": []
  },
  {
   "cell_type": "code",
   "execution_count": 46,
   "id": "11d2e3c1-ea10-4398-a928-557542921732",
   "metadata": {},
   "outputs": [],
   "source": [
    "clean_df = df_table[~ ((df_table < alt_sinir) | (df_table > ust_sinir)).any(axis=1)]"
   ]
  },
  {
   "cell_type": "code",
   "execution_count": 47,
   "id": "52e620a9-8245-41ba-9be4-c3c06099b561",
   "metadata": {},
   "outputs": [
    {
     "data": {
      "text/plain": [
       "(53335, 1)"
      ]
     },
     "execution_count": 47,
     "metadata": {},
     "output_type": "execute_result"
    }
   ],
   "source": [
    "clean_df.shape"
   ]
  },
  {
   "cell_type": "code",
   "execution_count": null,
   "id": "a3323dc0-9233-4c8d-b2a6-84b462cfe283",
   "metadata": {},
   "outputs": [],
   "source": []
  },
  {
   "cell_type": "code",
   "execution_count": null,
   "id": "3974face-2ead-4dca-95ba-edb6e00a57ba",
   "metadata": {},
   "outputs": [],
   "source": []
  },
  {
   "cell_type": "markdown",
   "id": "3fe842da-045f-4330-b247-71098945429b",
   "metadata": {},
   "source": [
    "### Aykırı Değerleri Ortalama ile Değiştirme"
   ]
  },
  {
   "cell_type": "code",
   "execution_count": 49,
   "id": "96caee84-f333-4c64-89db-15700d180684",
   "metadata": {},
   "outputs": [
    {
     "data": {
      "text/html": [
       "<div>\n",
       "<style scoped>\n",
       "    .dataframe tbody tr th:only-of-type {\n",
       "        vertical-align: middle;\n",
       "    }\n",
       "\n",
       "    .dataframe tbody tr th {\n",
       "        vertical-align: top;\n",
       "    }\n",
       "\n",
       "    .dataframe thead th {\n",
       "        text-align: right;\n",
       "    }\n",
       "</style>\n",
       "<table border=\"1\" class=\"dataframe\">\n",
       "  <thead>\n",
       "    <tr style=\"text-align: right;\">\n",
       "      <th></th>\n",
       "      <th>carat</th>\n",
       "      <th>depth</th>\n",
       "      <th>table</th>\n",
       "      <th>price</th>\n",
       "      <th>x</th>\n",
       "      <th>y</th>\n",
       "      <th>z</th>\n",
       "    </tr>\n",
       "  </thead>\n",
       "  <tbody>\n",
       "    <tr>\n",
       "      <th>0</th>\n",
       "      <td>0.23</td>\n",
       "      <td>61.5</td>\n",
       "      <td>55.0</td>\n",
       "      <td>326</td>\n",
       "      <td>3.95</td>\n",
       "      <td>3.98</td>\n",
       "      <td>2.43</td>\n",
       "    </tr>\n",
       "    <tr>\n",
       "      <th>1</th>\n",
       "      <td>0.21</td>\n",
       "      <td>59.8</td>\n",
       "      <td>61.0</td>\n",
       "      <td>326</td>\n",
       "      <td>3.89</td>\n",
       "      <td>3.84</td>\n",
       "      <td>2.31</td>\n",
       "    </tr>\n",
       "    <tr>\n",
       "      <th>2</th>\n",
       "      <td>0.23</td>\n",
       "      <td>56.9</td>\n",
       "      <td>65.0</td>\n",
       "      <td>327</td>\n",
       "      <td>4.05</td>\n",
       "      <td>4.07</td>\n",
       "      <td>2.31</td>\n",
       "    </tr>\n",
       "    <tr>\n",
       "      <th>3</th>\n",
       "      <td>0.29</td>\n",
       "      <td>62.4</td>\n",
       "      <td>58.0</td>\n",
       "      <td>334</td>\n",
       "      <td>4.20</td>\n",
       "      <td>4.23</td>\n",
       "      <td>2.63</td>\n",
       "    </tr>\n",
       "    <tr>\n",
       "      <th>4</th>\n",
       "      <td>0.31</td>\n",
       "      <td>63.3</td>\n",
       "      <td>58.0</td>\n",
       "      <td>335</td>\n",
       "      <td>4.34</td>\n",
       "      <td>4.35</td>\n",
       "      <td>2.75</td>\n",
       "    </tr>\n",
       "  </tbody>\n",
       "</table>\n",
       "</div>"
      ],
      "text/plain": [
       "   carat  depth  table  price     x     y     z\n",
       "0   0.23   61.5   55.0    326  3.95  3.98  2.43\n",
       "1   0.21   59.8   61.0    326  3.89  3.84  2.31\n",
       "2   0.23   56.9   65.0    327  4.05  4.07  2.31\n",
       "3   0.29   62.4   58.0    334  4.20  4.23  2.63\n",
       "4   0.31   63.3   58.0    335  4.34  4.35  2.75"
      ]
     },
     "execution_count": 49,
     "metadata": {},
     "output_type": "execute_result"
    }
   ],
   "source": [
    "df.head()"
   ]
  },
  {
   "cell_type": "code",
   "execution_count": 165,
   "id": "6ca86ece-4c7b-41e6-ac97-a81c7ed7ee2a",
   "metadata": {},
   "outputs": [],
   "source": [
    "df_table = df[\"table\"]"
   ]
  },
  {
   "cell_type": "code",
   "execution_count": 167,
   "id": "de5db6d5-3750-4845-87f2-d46a4f77d8b6",
   "metadata": {},
   "outputs": [
    {
     "data": {
      "text/plain": [
       "0        55.0\n",
       "1        61.0\n",
       "2        65.0\n",
       "3        58.0\n",
       "4        58.0\n",
       "         ... \n",
       "53935    57.0\n",
       "53936    55.0\n",
       "53937    60.0\n",
       "53938    58.0\n",
       "53939    55.0\n",
       "Name: table, Length: 53940, dtype: float64"
      ]
     },
     "execution_count": 167,
     "metadata": {},
     "output_type": "execute_result"
    }
   ],
   "source": [
    "df_table"
   ]
  },
  {
   "cell_type": "code",
   "execution_count": 169,
   "id": "ce41d254-4832-4b91-94f5-9e29735706cb",
   "metadata": {},
   "outputs": [
    {
     "data": {
      "text/plain": [
       "57.45718390804598"
      ]
     },
     "execution_count": 169,
     "metadata": {},
     "output_type": "execute_result"
    }
   ],
   "source": [
    "df_table.mean()"
   ]
  },
  {
   "cell_type": "code",
   "execution_count": 173,
   "id": "c32e6636-22ac-4c9b-82a9-bea73886f997",
   "metadata": {},
   "outputs": [
    {
     "name": "stderr",
     "output_type": "stream",
     "text": [
      "C:\\Users\\ASUS ROG STRIX\\AppData\\Local\\Temp\\ipykernel_16512\\618813667.py:1: SettingWithCopyWarning: \n",
      "A value is trying to be set on a copy of a slice from a DataFrame\n",
      "\n",
      "See the caveats in the documentation: https://pandas.pydata.org/pandas-docs/stable/user_guide/indexing.html#returning-a-view-versus-a-copy\n",
      "  df_table[aykiri_altust] = df_table.mean()\n"
     ]
    }
   ],
   "source": [
    "df_table[aykiri_altust] = df_table.mean()"
   ]
  },
  {
   "cell_type": "code",
   "execution_count": 177,
   "id": "39bb968d-52fb-4090-8a71-95d02958c01e",
   "metadata": {},
   "outputs": [
    {
     "data": {
      "text/plain": [
       "2        57.457184\n",
       "91       57.457184\n",
       "145      57.457184\n",
       "219      57.457184\n",
       "227      57.457184\n",
       "           ...    \n",
       "53695    57.457184\n",
       "53697    57.457184\n",
       "53756    57.457184\n",
       "53757    57.457184\n",
       "53785    57.457184\n",
       "Name: table, Length: 605, dtype: float64"
      ]
     },
     "execution_count": 177,
     "metadata": {},
     "output_type": "execute_result"
    }
   ],
   "source": [
    "df_table[aykiri_altust]"
   ]
  },
  {
   "cell_type": "code",
   "execution_count": null,
   "id": "6bf6039c-96e4-4a82-86b3-915d92a6523f",
   "metadata": {},
   "outputs": [],
   "source": []
  },
  {
   "cell_type": "code",
   "execution_count": null,
   "id": "82af9e39-0943-4188-8b50-211545ab88f4",
   "metadata": {},
   "outputs": [],
   "source": []
  },
  {
   "cell_type": "markdown",
   "id": "fbbd150d-adf2-4736-bc04-223edf62fa25",
   "metadata": {},
   "source": [
    "### Baskılama Yöntemi"
   ]
  },
  {
   "cell_type": "code",
   "execution_count": 213,
   "id": "1905a045-dd90-4de6-a720-ccb2951e9683",
   "metadata": {},
   "outputs": [
    {
     "data": {
      "text/plain": [
       "51.5"
      ]
     },
     "execution_count": 213,
     "metadata": {},
     "output_type": "execute_result"
    }
   ],
   "source": [
    "alt_sinir"
   ]
  },
  {
   "cell_type": "code",
   "execution_count": 215,
   "id": "172ce829-8cb8-423c-a7a1-09c2f9c8ef5b",
   "metadata": {},
   "outputs": [
    {
     "data": {
      "text/plain": [
       "63.5"
      ]
     },
     "execution_count": 215,
     "metadata": {},
     "output_type": "execute_result"
    }
   ],
   "source": [
    "ust_sinir"
   ]
  },
  {
   "cell_type": "code",
   "execution_count": null,
   "id": "3e5cc66e-3184-458c-84c1-22d739d1f270",
   "metadata": {},
   "outputs": [],
   "source": []
  },
  {
   "cell_type": "code",
   "execution_count": 204,
   "id": "2e1614cd-d5c2-4818-a740-7806d6f2c06c",
   "metadata": {},
   "outputs": [],
   "source": [
    "df_table[aykiri_alt] = alt_sinir"
   ]
  },
  {
   "cell_type": "code",
   "execution_count": 206,
   "id": "74922cdc-54b4-4104-9597-2edcb76f6e3c",
   "metadata": {},
   "outputs": [],
   "source": [
    "df_table[aykiri_ust] = ust_sinir"
   ]
  },
  {
   "cell_type": "code",
   "execution_count": null,
   "id": "2581feab-29da-488e-98de-7928562e9c3d",
   "metadata": {},
   "outputs": [],
   "source": []
  },
  {
   "cell_type": "code",
   "execution_count": 211,
   "id": "2a35d7ca-97bc-44a4-9bc9-63311a2d0394",
   "metadata": {},
   "outputs": [
    {
     "data": {
      "text/plain": [
       "1515     51.5\n",
       "3238     51.5\n",
       "3979     51.5\n",
       "4150     51.5\n",
       "5979     51.5\n",
       "7418     51.5\n",
       "8853     51.5\n",
       "11368    51.5\n",
       "22701    51.5\n",
       "25179    51.5\n",
       "26387    51.5\n",
       "33586    51.5\n",
       "35633    51.5\n",
       "45798    51.5\n",
       "46040    51.5\n",
       "47630    51.5\n",
       "Name: table, dtype: object"
      ]
     },
     "execution_count": 211,
     "metadata": {},
     "output_type": "execute_result"
    }
   ],
   "source": [
    "df_table[aykiri_alt]"
   ]
  },
  {
   "cell_type": "code",
   "execution_count": 217,
   "id": "cdc1e843-4752-4979-aca0-9bd950d296f2",
   "metadata": {},
   "outputs": [
    {
     "data": {
      "text/plain": [
       "2        63.5\n",
       "91       63.5\n",
       "145      63.5\n",
       "219      63.5\n",
       "227      63.5\n",
       "         ... \n",
       "53695    63.5\n",
       "53697    63.5\n",
       "53756    63.5\n",
       "53757    63.5\n",
       "53785    63.5\n",
       "Name: table, Length: 589, dtype: object"
      ]
     },
     "execution_count": 217,
     "metadata": {},
     "output_type": "execute_result"
    }
   ],
   "source": [
    "df_table[aykiri_ust]"
   ]
  },
  {
   "cell_type": "code",
   "execution_count": null,
   "id": "0daaa384-de15-4c31-add5-2972097bc350",
   "metadata": {},
   "outputs": [],
   "source": []
  },
  {
   "cell_type": "code",
   "execution_count": null,
   "id": "8136e43d-6a88-4eb5-85a6-0e4d28dfd680",
   "metadata": {},
   "outputs": [],
   "source": []
  },
  {
   "cell_type": "code",
   "execution_count": null,
   "id": "4e73e720-f67e-40e8-b839-5e991494f57f",
   "metadata": {},
   "outputs": [],
   "source": []
  },
  {
   "cell_type": "code",
   "execution_count": null,
   "id": "801eed36-0c3f-4cbd-8ce9-ed1799822512",
   "metadata": {},
   "outputs": [],
   "source": []
  }
 ],
 "metadata": {
  "kernelspec": {
   "display_name": "Python 3 (ipykernel)",
   "language": "python",
   "name": "python3"
  },
  "language_info": {
   "codemirror_mode": {
    "name": "ipython",
    "version": 3
   },
   "file_extension": ".py",
   "mimetype": "text/x-python",
   "name": "python",
   "nbconvert_exporter": "python",
   "pygments_lexer": "ipython3",
   "version": "3.12.7"
  }
 },
 "nbformat": 4,
 "nbformat_minor": 5
}
