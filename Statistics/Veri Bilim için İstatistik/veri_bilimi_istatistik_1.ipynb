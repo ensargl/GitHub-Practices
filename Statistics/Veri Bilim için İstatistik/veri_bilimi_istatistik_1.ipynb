{
 "cells": [
  {
   "cell_type": "markdown",
   "id": "fb3f8f91-d426-4e94-95cb-71e4b4948604",
   "metadata": {},
   "source": [
    "# Veri Bilimi için İstatistik"
   ]
  },
  {
   "cell_type": "markdown",
   "id": "507d6a35-179f-440a-a126-96c6137ec34e",
   "metadata": {},
   "source": [
    "# Örnek Teorisi"
   ]
  },
  {
   "cell_type": "raw",
   "id": "041426bd-69b3-4c62-913d-06a445b57124",
   "metadata": {},
   "source": [
    "Merkezi Limit Teoremi, istatistik dünyasının en büyülü prensiplerinden biridir. Basitçe ifade etmek gerekirse, birçok bağımsız rastgele değişkenin toplamı veya ortalaması, yeterince büyük bir örneklem boyutunda, normal dağılıma yaklaşır. Yani, orijinal verilerin dağılımı nasıl olursa olsun, yeterince veri toplarsan sonuçlar bir çan eğrisi oluşturur!\n",
    "\n",
    "Bir metaforla açıklayalım: Bir arkadaş grubunla farklı restoranlara gidip aynı yemeği denediğini düşün. Her restoranın lezzeti, porsiyon büyüklüğü, sunumu farklı olabilir. Tek bir restoranda deneyimlediğin tat büyük ölçüde değişebilir. Ancak yeterince restoran gezdiğinde, genel bir ortalama deneyimin olur ve bu deneyim aşırı uçlardan arınmış, daha tutarlı bir değerlendirme sunar.\n",
    "\n",
    "\n",
    "\n",
    "Daha somut bir örnek verelim:\n",
    "\n",
    "Atıyorum bir zar: Tek bir zar atışında 1'den 6'ya kadar eşit olasılıkla bir sayı gelir. Bu oldukça rastgeledir.\n",
    "\n",
    "1000 kez zar attığında: Her bir sayı yaklaşık olarak 166-167 kez gelecektir. Sonuçların dağılımı daha dengeli ve öngörülebilir hale gelir.\n",
    "\n",
    "İşte bu, Merkezi Limit Teoremi'nin sihridir. Büyük sayıların yasası ile birlikte, rastgeleliğin kaosundan düzen çıkarır.\n",
    "\n",
    "\n",
    "\n",
    "Peki bu ne işimize yarar?\n",
    "\n",
    "Anketler ve seçim tahminleri: Küçük bir seçmen grubunun tercihlerini alarak genel nüfusun eğilimlerini tahmin edebiliriz.\n",
    "\n",
    "Kalite kontrolü: Üretimde rastgele numuneler alarak tüm partinin kalitesi hakkında çıkarım yapabiliriz.\n",
    "\n",
    "Finansal analiz: Günlük hisse senedi getirilerinin toplam dağılımını incelerken risk ve getiri tahminleri yapabiliriz.\n",
    "\n",
    "Belki de \"Eğer verilerim normal dağılıma uymuyorsa ne olacak?\" diye soruyorsun. İşte Merkezi Limit Teoremi'nin gücü burada yatıyor: Verilerin orijinal dağılımı ne olursa olsun, örneklem büyüklüğü arttıkça ortalamaların dağılımı normal dağılıma yaklaşır."
   ]
  },
  {
   "cell_type": "code",
   "execution_count": null,
   "id": "ed2f0d0b-7548-4193-9617-048b874fcbed",
   "metadata": {},
   "outputs": [],
   "source": []
  },
  {
   "cell_type": "code",
   "execution_count": 7,
   "id": "fdaa5b50-f025-48a6-acad-de2890a31af7",
   "metadata": {},
   "outputs": [],
   "source": [
    "import numpy as np"
   ]
  },
  {
   "cell_type": "code",
   "execution_count": 37,
   "id": "761b84e9-cbe0-4036-afdf-d867fd87618d",
   "metadata": {},
   "outputs": [],
   "source": [
    "populasyon = np.random.randint(0,80,10000)"
   ]
  },
  {
   "cell_type": "code",
   "execution_count": 39,
   "id": "8a6bf7ab-ea42-4f15-9cbe-d97296262b10",
   "metadata": {},
   "outputs": [
    {
     "data": {
      "text/plain": [
       "array([67,  0,  4,  1, 38, 62, 75, 64, 46, 12])"
      ]
     },
     "execution_count": 39,
     "metadata": {},
     "output_type": "execute_result"
    }
   ],
   "source": [
    "populasyon[0:10]"
   ]
  },
  {
   "cell_type": "code",
   "execution_count": null,
   "id": "2e30d010-028b-4ada-842d-1e5b4e051747",
   "metadata": {},
   "outputs": [],
   "source": []
  },
  {
   "cell_type": "code",
   "execution_count": 42,
   "id": "8f3dc71a-c2ae-4c79-bda4-c6c9bf47f544",
   "metadata": {},
   "outputs": [],
   "source": [
    "# Örneklem Çekimi:"
   ]
  },
  {
   "cell_type": "code",
   "execution_count": 260,
   "id": "a70bb353-b69f-4609-ab3c-e9b918f0b8cf",
   "metadata": {},
   "outputs": [
    {
     "name": "stdout",
     "output_type": "stream",
     "text": [
      "[55 78  0 71 74 60 13 51 50 13]\n",
      "42.18\n",
      "39.412\n"
     ]
    }
   ],
   "source": [
    "orneklem = np.random.choice(a = populasyon, size = 100) # Örneklem içerisinde yer alan elemanların her birine gözlem birimi denir.\n",
    "print(orneklem[:10])\n",
    "print(orneklem.mean())\n",
    "print(populasyon.mean())"
   ]
  },
  {
   "cell_type": "markdown",
   "id": "5c7d619a-c18f-4ed9-a289-41afbbf0db4d",
   "metadata": {},
   "source": [
    "Görüldüğü üzere, popülasyon üzerinden alınan örneklemlerde gözlem birimlerinin adedi popülasyona ne kadar yakınsa, o derecede popülasyonu yansıtır.\n",
    "\n",
    "Örneklem boyutunun popülasyonu temsil etmedeki önemi gerçekten de çok büyük. Örneklem sayısı popülasyona yaklaştıkça, elde ettiğimiz veriler popülasyonun gerçek özelliklerini daha doğru yansıtır. Bu, istatistiğin temel prensiplerinden biridir ve genel olarak doğru bir değerlendirmedir.\n",
    "\n",
    "Ancak, Merkezi Limit Teoremi bu konuyu bir adım öteye taşıyor. Örneklem boyutunu artırdığımızda, sadece popülasyonu daha iyi temsil etmekle kalmayız; aynı zamanda örneklem ortalamalarının dağılımı da normal dağılıma yaklaşır. İşin büyüleyici yanı, popülasyonun orijinal dağılımının ne olduğuna bakılmaksızın bu normalleşmenin gerçekleşmesidir.\n",
    "\n",
    "Bunu daha anlaşılır kılmak için bir düşünce deneyi yapalım:\n",
    "\n",
    "Farklı Şekillerde Dağılan Popülasyonlar: Diyelim ki bir popülasyonumuz sağa çarpık bir dağılıma sahip, bir diğeri iki tepelikli bir dağılım ve bir başkası uniform bir dağılım olsun.\n",
    "\n",
    "Örneklem Ortalamaları: Her bir popülasyondan aynı büyüklükte birçok örneklem alıp, bu örneklemlerin ortalamalarını hesaplayalım.\n",
    "\n",
    "Sonuç: Örneklem büyüklüğü yeterince büyükse, bu ortalamaların dağılımı her seferinde normal dağılıma yaklaşacaktır."
   ]
  },
  {
   "cell_type": "code",
   "execution_count": null,
   "id": "3fdaae41-08e3-47df-bc53-23b7cee57ebe",
   "metadata": {},
   "outputs": [],
   "source": []
  },
  {
   "cell_type": "code",
   "execution_count": null,
   "id": "d9efa0c3-9d17-470d-a9c9-d287f77a569c",
   "metadata": {},
   "outputs": [],
   "source": []
  },
  {
   "cell_type": "code",
   "execution_count": 241,
   "id": "71d769e3-8e9c-463e-aaf3-54d5d28f8244",
   "metadata": {},
   "outputs": [],
   "source": [
    "# Örneklem Dağılımı:"
   ]
  },
  {
   "cell_type": "code",
   "execution_count": 262,
   "id": "94a971f2-ffa6-4dca-848e-46d77dfa7e04",
   "metadata": {},
   "outputs": [
    {
     "data": {
      "text/plain": [
       "39.32899999999999"
      ]
     },
     "execution_count": 262,
     "metadata": {},
     "output_type": "execute_result"
    }
   ],
   "source": [
    "orneklem1 = np.random.choice(a = populasyon, size = 100)\n",
    "orneklem2 = np.random.choice(a = populasyon, size = 100)\n",
    "orneklem3 = np.random.choice(a = populasyon, size = 100)\n",
    "orneklem4 = np.random.choice(a = populasyon, size = 100)\n",
    "orneklem5 = np.random.choice(a = populasyon, size = 100)\n",
    "orneklem6 = np.random.choice(a = populasyon, size = 100)\n",
    "orneklem7 = np.random.choice(a = populasyon, size = 100)\n",
    "orneklem8 = np.random.choice(a = populasyon, size = 100)\n",
    "orneklem9 = np.random.choice(a = populasyon, size = 100)\n",
    "orneklem10 = np.random.choice(a = populasyon, size = 100)\n",
    "\n",
    "(orneklem1.mean() + orneklem2.mean() + orneklem3.mean() + orneklem4.mean() + orneklem5.mean() +\n",
    " orneklem6.mean() + orneklem7.mean() + orneklem8.mean() + orneklem9.mean() + orneklem10.mean()) / 10"
   ]
  },
  {
   "cell_type": "code",
   "execution_count": null,
   "id": "5db43412-1379-4de8-8648-359d86a6f711",
   "metadata": {},
   "outputs": [],
   "source": []
  },
  {
   "cell_type": "code",
   "execution_count": null,
   "id": "2de2f754-5f8d-436b-be1e-7ab7ea1393df",
   "metadata": {},
   "outputs": [],
   "source": []
  },
  {
   "cell_type": "code",
   "execution_count": null,
   "id": "5b03c22c-5409-4475-822b-9fdc9d4c0095",
   "metadata": {},
   "outputs": [],
   "source": []
  },
  {
   "cell_type": "code",
   "execution_count": null,
   "id": "0e0b3c23-dba4-4495-b34c-15189a7848b6",
   "metadata": {},
   "outputs": [],
   "source": []
  },
  {
   "cell_type": "code",
   "execution_count": null,
   "id": "9c3bd82b-285e-46fe-8de3-627673128882",
   "metadata": {},
   "outputs": [],
   "source": []
  },
  {
   "cell_type": "code",
   "execution_count": null,
   "id": "3524d734-53d9-4d8f-8b66-761546482692",
   "metadata": {},
   "outputs": [],
   "source": []
  },
  {
   "cell_type": "code",
   "execution_count": null,
   "id": "d592d5b3-6ee9-4281-840c-859968fe9c74",
   "metadata": {},
   "outputs": [],
   "source": []
  },
  {
   "cell_type": "code",
   "execution_count": null,
   "id": "7ec3688b-7da3-426e-a8fc-c7d94e530171",
   "metadata": {},
   "outputs": [],
   "source": []
  },
  {
   "cell_type": "code",
   "execution_count": null,
   "id": "5a3d4412-7251-4b9d-bdd0-cce8dafc7339",
   "metadata": {},
   "outputs": [],
   "source": []
  },
  {
   "cell_type": "code",
   "execution_count": null,
   "id": "7dd0224b-1dc9-4e49-ad3a-dc67dd52dff8",
   "metadata": {},
   "outputs": [],
   "source": []
  },
  {
   "cell_type": "code",
   "execution_count": null,
   "id": "d3d2a60f-4382-49de-b6d1-fac0a42f268d",
   "metadata": {},
   "outputs": [],
   "source": []
  },
  {
   "cell_type": "code",
   "execution_count": null,
   "id": "72d3eb83-f642-4f8e-b744-bf4c2a0c63b7",
   "metadata": {},
   "outputs": [],
   "source": []
  },
  {
   "cell_type": "code",
   "execution_count": null,
   "id": "6ff7c799-f03d-488c-9619-3aae996bccc1",
   "metadata": {},
   "outputs": [],
   "source": []
  },
  {
   "cell_type": "code",
   "execution_count": null,
   "id": "814e1c00-1c71-44c1-8f96-c5da5849ec73",
   "metadata": {},
   "outputs": [],
   "source": []
  },
  {
   "cell_type": "code",
   "execution_count": null,
   "id": "f7386987-1617-40e4-87ba-9a8100410a2a",
   "metadata": {},
   "outputs": [],
   "source": []
  },
  {
   "cell_type": "code",
   "execution_count": null,
   "id": "5f89a313-5959-48b2-a0e2-b597b0a58682",
   "metadata": {},
   "outputs": [],
   "source": []
  },
  {
   "cell_type": "code",
   "execution_count": null,
   "id": "bff31088-3caf-4ed4-bc80-431d603304b6",
   "metadata": {},
   "outputs": [],
   "source": []
  },
  {
   "cell_type": "code",
   "execution_count": null,
   "id": "7d74092c-67ed-4796-beaf-c2805fd883ab",
   "metadata": {},
   "outputs": [],
   "source": []
  },
  {
   "cell_type": "code",
   "execution_count": null,
   "id": "28ed5a7c-510c-4374-b898-2e466f4ac0cf",
   "metadata": {},
   "outputs": [],
   "source": []
  },
  {
   "cell_type": "code",
   "execution_count": null,
   "id": "5e7bc9e7-0088-41c8-bf4c-1b987a02bd86",
   "metadata": {},
   "outputs": [],
   "source": []
  },
  {
   "cell_type": "code",
   "execution_count": null,
   "id": "8c5f5651-3cf3-45e3-94da-4258a87a586d",
   "metadata": {},
   "outputs": [],
   "source": []
  },
  {
   "cell_type": "code",
   "execution_count": null,
   "id": "4d3a086f-4337-406b-b973-d3faaedd60ba",
   "metadata": {},
   "outputs": [],
   "source": []
  },
  {
   "cell_type": "code",
   "execution_count": null,
   "id": "b1956344-6c55-47e4-948e-a8d51714729d",
   "metadata": {},
   "outputs": [],
   "source": []
  },
  {
   "cell_type": "code",
   "execution_count": null,
   "id": "7bbbb0fc-3817-42db-9968-a3eab375b5bc",
   "metadata": {},
   "outputs": [],
   "source": []
  },
  {
   "cell_type": "code",
   "execution_count": null,
   "id": "d53e0a6e-4762-4d4b-b180-7e973812e978",
   "metadata": {},
   "outputs": [],
   "source": []
  },
  {
   "cell_type": "code",
   "execution_count": null,
   "id": "8c723ca8-d8cc-4e15-8b4c-155548dc5af2",
   "metadata": {},
   "outputs": [],
   "source": []
  }
 ],
 "metadata": {
  "kernelspec": {
   "display_name": "Python 3 (ipykernel)",
   "language": "python",
   "name": "python3"
  },
  "language_info": {
   "codemirror_mode": {
    "name": "ipython",
    "version": 3
   },
   "file_extension": ".py",
   "mimetype": "text/x-python",
   "name": "python",
   "nbconvert_exporter": "python",
   "pygments_lexer": "ipython3",
   "version": "3.12.7"
  }
 },
 "nbformat": 4,
 "nbformat_minor": 5
}
